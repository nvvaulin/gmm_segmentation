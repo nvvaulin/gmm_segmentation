{
 "cells": [
  {
   "cell_type": "code",
   "execution_count": 1,
   "metadata": {
    "collapsed": false
   },
   "outputs": [
    {
     "name": "stderr",
     "output_type": "stream",
     "text": [
      "Using cuDNN version 5105 on context None\n",
      "Mapped name None to device cuda: GeForce GT 740M (0000:01:00.0)\n"
     ]
    }
   ],
   "source": [
    "import theano\n",
    "from theano import gradient,function\n",
    "import numpy as np\n",
    "import theano.tensor as T\n",
    "from sklearn import mixture\n",
    "from gmm_op import GMMOp,calc_log_prob_gauss_vector"
   ]
  },
  {
   "cell_type": "markdown",
   "metadata": {},
   "source": [
    "# Tests"
   ]
  },
  {
   "cell_type": "code",
   "execution_count": 2,
   "metadata": {
    "collapsed": true
   },
   "outputs": [],
   "source": [
    "\n",
    "def gen_mixture(ns,dim,sigm=.3):\n",
    "    ns = np.array(ns)\n",
    "    means = []\n",
    "    covs = []\n",
    "    weights = ns.astype(np.float32)/ns.sum()\n",
    "    res = np.zeros((int(sum(ns)),dim),dtype=np.float32)\n",
    "    i = 0\n",
    "    for n in ns:\n",
    "        covs.append(sigm*(np.random.rand(dim)+1.))\n",
    "        means.append(10*(np.random.rand(dim)))\n",
    "        res[i:i+n] = np.random.randn(n,dim)*covs[-1][None,:]+means[-1][None,:]\n",
    "        covs[-1] = np.std(res[i:i+n],0)**2\n",
    "        means[-1] = np.mean(res[i:i+n],0)\n",
    "        i=i+n\n",
    "    return res,np.array(means),np.array(covs),weights"
   ]
  },
  {
   "cell_type": "code",
   "execution_count": 3,
   "metadata": {
    "collapsed": false
   },
   "outputs": [
    {
     "name": "stdout",
     "output_type": "stream",
     "text": [
      "test calc_log_prob_gauss_vector\n",
      "|loglikelihood_pred-loglikelihood_true|/|loglikelihood_true|:\n",
      "mean: 1.47698129864e-06\n",
      "max: 1.71692864846e-06\n"
     ]
    }
   ],
   "source": [
    "def test_calc_log_prob_gauss_vector(gm_num=2,ndim=10):\n",
    "    print 'test calc_log_prob_gauss_vector'\n",
    "    gmm = mixture.GaussianMixture(covariance_type='diag',\n",
    "                                   n_components=gm_num,\n",
    "                                   max_iter=2000,\n",
    "                                   warm_start=False)\n",
    "    Y,m,c,w = T.fmatrix(),T.fmatrix(),T.fmatrix(),T.fvector()\n",
    "    f = function([Y,m,c,w],calc_log_prob_gauss_vector(Y,m,c,w),allow_input_downcast=True)\n",
    "    print '|loglikelihood_pred-loglikelihood_true|/|loglikelihood_true|:'\n",
    "    res = []\n",
    "    for i in range(10):\n",
    "        data,_,_,_=gen_mixture(np.random.randint(100,1000,gm_num),ndim)\n",
    "        gmm.fit(data)\n",
    "        p = f(data,gmm.means_,gmm.covariances_,gmm.weights_)\n",
    "        p1 = gmm.score_samples(data)\n",
    "        res.append(np.linalg.norm(p1-p)/np.linalg.norm(p1))\n",
    "    res = np.array(res)\n",
    "    print 'mean:',res.mean()\n",
    "    print 'max:',res.max()\n",
    "            \n",
    "test_calc_log_prob_gauss_vector()"
   ]
  },
  {
   "cell_type": "code",
   "execution_count": 4,
   "metadata": {
    "collapsed": false
   },
   "outputs": [
    {
     "name": "stdout",
     "output_type": "stream",
     "text": [
      "test d(calc_log_prob_gauss_vector)/d(m,c,w) = 0 for 1 component\n",
      "|dm|/|m|,|dc|/|c|:\n",
      "mean: [ 0.00078738  0.01692911]\n",
      "max: [ 0.00191541  0.04728827]\n"
     ]
    }
   ],
   "source": [
    "def test_max_likelihood(verbose=True,ndim=10,sigm=0.1):  \n",
    "    print 'test d(calc_log_prob_gauss_vector)/d(m,c,w) = 0 for 1 component'\n",
    "    Y,m,c = T.fmatrix(),T.fmatrix(),T.fmatrix()\n",
    "    lag = T.sum(calc_log_prob_gauss_vector(Y,m,c))\n",
    "    jac = T.grad(lag,[m,c])\n",
    "    f = function([Y,m,c],jac+[lag],allow_input_downcast=True)\n",
    "    print '|dm|/|m|,|dc|/|c|:'\n",
    "    res = []\n",
    "    for i in range(10):\n",
    "        data,m,c,w = gen_mixture([100],ndim,sigm=sigm)\n",
    "        d = f(data,m,c)\n",
    "        n = [np.linalg.norm(d[0])/np.linalg.norm(m),\\\n",
    "            np.linalg.norm(d[1])/np.linalg.norm(c)]\n",
    "        res.append(n)\n",
    "    res = np.array(res)\n",
    "    print 'mean:',res.mean(0)\n",
    "    print 'max:',res.max(0)\n",
    "    \n",
    "test_max_likelihood(ndim=2)"
   ]
  },
  {
   "cell_type": "code",
   "execution_count": 5,
   "metadata": {
    "collapsed": false
   },
   "outputs": [
    {
     "name": "stdout",
     "output_type": "stream",
     "text": [
      "test d_lagrangian / d(mcwl) = 0\n",
      "|dm|/|m|,|dc|/|c|,|dw|/|w|:\n",
      "mean: [ 0.02143326  0.49187019  0.06646995  0.        ]\n",
      "max: [ 0.02143326  0.49187019  0.06646995  0.        ]\n"
     ]
    }
   ],
   "source": [
    "def test_lagrangian(gm_num=2,ndim=10,sigm=0.3):    \n",
    "    print 'test d_lagrangian / d(mcwl) = 0'\n",
    "    Y,m,c,w,l = T.fmatrix(),T.fmatrix(),T.fmatrix(),T.fvector(),T.fscalar()\n",
    "    lag = GMMOp.build_lagrangian(Y,m,c,w,l)\n",
    "    jac = T.grad(lag,[m,c,w,l])\n",
    "    f = function([Y,m,c,w,l],jac+[lag],allow_input_downcast=True)\n",
    "    print '|dm|/|m|,|dc|/|c|,|dw|/|w|:'\n",
    "    res = []\n",
    "    for i in range(10):\n",
    "        data,m,c,w = gen_mixture(np.random.randint(100,1000,gm_num),ndim,sigm=sigm)\n",
    "        l = np.float32(len(data))\n",
    "        d = f(data,m,c,w,l)\n",
    "        n = [np.linalg.norm(d[0])/np.linalg.norm(m),\\\n",
    "            np.linalg.norm(d[1])/np.linalg.norm(c),\\\n",
    "            np.linalg.norm(d[1])/np.linalg.norm(w),\\\n",
    "            float(d[-2])]\n",
    "        res.append(n)\n",
    "        break\n",
    "    res = np.array(res)\n",
    "    print 'mean:',res.mean(0)\n",
    "    print 'max:',res.max(0)\n",
    "test_lagrangian(gm_num=2,ndim=10,sigm=0.1)"
   ]
  },
  {
   "cell_type": "code",
   "execution_count": 6,
   "metadata": {
    "collapsed": false
   },
   "outputs": [
    {
     "name": "stdout",
     "output_type": "stream",
     "text": [
      "test build_linear_system (solution=true_solution) for 1 component\n",
      "|dm|/|m|,|dc|/|c|:\n",
      "mean: [  6.33881461e-06   1.53918478e-07]\n",
      "max: [  1.24029597e-05   2.25462702e-07]\n"
     ]
    }
   ],
   "source": [
    "def test_build_lin_system(ndim=10,sigm=0.1):    \n",
    "    print 'test build_linear_system (solution=true_solution) for 1 component'\n",
    "    Y = T.fvector()\n",
    "    m = T.mean(Y.reshape((-1,ndim)),axis=0).flatten()\n",
    "    c = T.std(Y.reshape((-1,ndim)),axis=0).flatten()**2\n",
    "    w = T.ones(1)\n",
    "    l = T.reshape(Y.shape[0]//ndim,(1,))\n",
    "    mcwl = T.concatenate((m,c,w,l))    \n",
    "    N,M = GMMOp(1,ndim).build_linear_system(Y,mcwl)\n",
    "    dmcwl = function([Y],gradient.jacobian(mcwl,[Y])+[N,M])\n",
    "    print '|dm|/|m|,|dc|/|c|:'\n",
    "    rres = []\n",
    "    for i in range(10):\n",
    "        data,_,_,_=gen_mixture([1000],ndim,sigm=sigm)\n",
    "        res = dmcwl(data.flatten().astype(np.float32))\n",
    "        sol = np.linalg.solve(res[2],res[1])\n",
    "        n = [(np.linalg.norm(sol[:ndim]-res[0][:ndim])/np.linalg.norm(res[0][ndim])),\\\n",
    "            (np.linalg.norm(sol[ndim:2*ndim]-res[0][ndim:2*ndim])/np.linalg.norm(res[0][ndim:2*ndim]))]\n",
    "        rres.append(n)\n",
    "    rres = np.array(rres)\n",
    "    print 'mean:',rres.mean(0)\n",
    "    print 'max:',rres.max(0)\n",
    "test_build_lin_system(ndim=2)"
   ]
  },
  {
   "cell_type": "code",
   "execution_count": 7,
   "metadata": {
    "collapsed": false
   },
   "outputs": [
    {
     "name": "stdout",
     "output_type": "stream",
     "text": [
      "test solve_linear_system (solution=true_solution)\n",
      "|MX-N|/|N|:\n",
      "mean: 6.13701605898e-15\n",
      "max: 2.42491727137e-14\n",
      "test solve_linear_system (solution=true_solution)\n",
      "|MX-N|/|N|:\n",
      "mean: 1.25172743456e-16\n",
      "max: 1.61621995936e-16\n",
      "test solve_linear_system (solution=true_solution)\n",
      "|MX-N|/|N|:\n",
      "mean: 3.57353042104e-16\n",
      "max: 7.55003776977e-16\n"
     ]
    }
   ],
   "source": [
    "def test_solve_linear_system(gm_num = 2,ndim=10,sigm=0.01):    \n",
    "    print 'test solve_linear_system (solution=true_solution)'\n",
    "    Y = T.fmatrix()\n",
    "    m = T.fmatrix()\n",
    "    c = T.fmatrix()\n",
    "    w = T.fvector()\n",
    "    l = T.reshape(Y.shape[0]//ndim,(1,))\n",
    "    mcwl = T.concatenate((m.flatten(),c.flatten(),w,l)) \n",
    "    gmm_op = GMMOp(gm_num,ndim)\n",
    "    N,M = gmm_op.build_linear_system(Y.flatten(),mcwl)\n",
    "    sol = gmm_op.solve_linear_system(N,M)\n",
    "    f = function([Y,m,c,w],[sol,N,M],allow_input_downcast=True)\n",
    "    rres = []\n",
    "    print '|MX-N|/|N|:'\n",
    "    for i in range(10):\n",
    "        data,m,c,w=gen_mixture(np.random.randint(100,1000,gm_num),ndim,sigm=sigm)\n",
    "        res = f(data,m,c,w)\n",
    "        sol = res[0]\n",
    "        M = res[2]\n",
    "        N = res[1]\n",
    "        n = np.linalg.norm(M.dot(sol)-N)/np.linalg.norm(N)\n",
    "        rres.append(n)\n",
    "    rres = np.array(rres)\n",
    "    print 'mean:',rres.mean(0)\n",
    "    print 'max:',rres.max(0)\n",
    "test_solve_linear_system(ndim=1,sigm=1.)\n",
    "test_solve_linear_system(ndim=3,sigm=.001)\n",
    "test_solve_linear_system(ndim=3,sigm=1.)"
   ]
  },
  {
   "cell_type": "code",
   "execution_count": 8,
   "metadata": {
    "collapsed": false
   },
   "outputs": [
    {
     "name": "stdout",
     "output_type": "stream",
     "text": [
      "test gradient for 1 component\n",
      "|d_true-d_predicted|\n",
      "mean: [  3.82526736e-07   1.01172018e-05]\n",
      "max: [  5.66779590e-07   1.23075915e-05]\n"
     ]
    }
   ],
   "source": [
    "def test_gmm_1(ndim=10,sigm=0.3):   \n",
    "    print 'test gradient for 1 component'\n",
    "    X = T.fmatrix(\"X\")\n",
    "    mcw = GMMOp(1,ndim)(X.flatten())    \n",
    "    m2 = T.mean(X,axis=0).flatten()\n",
    "    c2 = (T.std(X,axis=0)**2).flatten()\n",
    "    mcw1 = T.concatenate((m2,c2,T.ones(1)))\n",
    "    d_mcw = gradient.jacobian(mcw,[X])[0]\n",
    "    d_mcw1 = gradient.jacobian(mcw1,[X])[0]\n",
    "    f = function([X],[d_mcw,d_mcw1],allow_input_downcast=True)\n",
    "    print'|d_true-d_predicted|'\n",
    "    rres = []\n",
    "    for i in range(10):\n",
    "        data,_,_,_=gen_mixture([1000],ndim,sigm=sigm)\n",
    "        res = f(data.astype(np.float32))\n",
    "        n = [np.abs(res[0][:ndim]-res[1][:ndim]).mean()/np.abs(res[1][:ndim]).mean(),\\\n",
    "            np.abs(res[0][ndim:2*ndim]-res[1][ndim:2*ndim]).mean()/np.abs(res[1][ndim:2*ndim]).mean()]\n",
    "        rres.append(n)\n",
    "    rres = np.array(rres)\n",
    "    print 'mean:',rres.mean(0)\n",
    "    print 'max:',rres.max(0)\n",
    "\n",
    "test_gmm_1()"
   ]
  },
  {
   "cell_type": "code",
   "execution_count": 14,
   "metadata": {
    "collapsed": false
   },
   "outputs": [
    {
     "name": "stdout",
     "output_type": "stream",
     "text": [
      "get numerical gradient and compare it with symbolic\n",
      "sigma,|sym-num|,|sym-num|/|num|\n",
      "[[  1.0000e-03   5.8509e-03   1.4531e-02]\n",
      " [  3.0000e-03   3.8714e-03   4.3418e-03]\n",
      " [  9.0000e-03   3.3928e-03   3.9363e-03]\n",
      " [  2.7000e-02   2.6152e-03   3.0358e-03]\n",
      " [  8.1000e-02   4.3255e-03   4.7403e-03]\n",
      " [  2.4300e-01   3.7373e-03   4.0104e-03]\n",
      " [  7.2900e-01   5.2553e-03   6.3273e-03]\n",
      " [  2.1870e+00   6.2033e-03   4.1314e-03]\n",
      " [  6.5610e+00   9.2817e-02   2.1186e-02]\n",
      " [  1.9683e+01   5.8645e-01   4.4235e-02]]\n",
      "mean: [ 2.9524  0.0715  0.011 ]\n",
      "max: [ 19.683    0.5865   0.0442]\n"
     ]
    }
   ],
   "source": [
    "from gmm_op import GMM\n",
    "\n",
    "def test_numeric(gm_num=2,ndim=5,sigm=0.001):    \n",
    "    print 'get numerical gradient and compare it with symbolic'\n",
    "    X = T.fvector()\n",
    "    gmm = GMM(gm_num)\n",
    "    f = function([X],T.sum(GMMOp(gm_num,ndim,gmm)(X)),allow_input_downcast=True)\n",
    "    gmm_op = T.sum(GMMOp(gm_num,ndim,gmm)(X))\n",
    "    fg = function([X],[gmm_op]+T.grad(gmm_op,[X]),allow_input_downcast=True)\n",
    "    \n",
    "    def calc_num_grad(X,eps):\n",
    "        f0,sym_grad = tuple(fg(X))\n",
    "        num_grad = np.zeros_like(sym_grad)\n",
    "        for i in range(len(X)):\n",
    "            dX = np.zeros_like(X)\n",
    "            dX[i] = eps\n",
    "            num_grad[i] = f(X+dX)\n",
    "        num_grad = (num_grad-f0)/eps\n",
    "        return sym_grad,num_grad\n",
    "    res = []\n",
    "    print 'sigma,|sym-num|,|sym-num|/|num|'\n",
    "    for i in range(10):\n",
    "        data,_,_,_ = gen_mixture(np.random.randint(10,100,gm_num),ndim,sigm=sigm)\n",
    "        sym_grad,num_grad = calc_num_grad(data.flatten(),1e-2)\n",
    "        n = [sigm,np.linalg.norm(sym_grad-num_grad),np.linalg.norm(sym_grad-num_grad)/np.linalg.norm(num_grad)]\n",
    "        sigm = sigm*3.\n",
    "        res.append(n)\n",
    "    res = np.array(res)\n",
    "    np.set_printoptions(4)\n",
    "    print res\n",
    "    print 'mean:',res.mean(0)\n",
    "    print 'max:',res.max(0)\n",
    "    \n",
    "test_numeric()"
   ]
  },
  {
   "cell_type": "code",
   "execution_count": 13,
   "metadata": {
    "collapsed": false
   },
   "outputs": [
    {
     "name": "stdout",
     "output_type": "stream",
     "text": [
      "10 loops, best of 3: 94.8 ms per loop\n"
     ]
    }
   ],
   "source": [
    "gm_num=2\n",
    "ndim = 10\n",
    "X = T.fvector()\n",
    "gmm = GMM(gm_num)\n",
    "gmm_op = T.sum(GMMOp(gm_num,ndim,gmm)(X))\n",
    "fg = function([X],[gmm_op]+T.grad(gmm_op,[X]),allow_input_downcast=True)\n",
    "%timeit fg(gen_mixture(np.random.randint(100,1000,gm_num),ndim,sigm=0.1)[0].flatten())"
   ]
  },
  {
   "cell_type": "code",
   "execution_count": null,
   "metadata": {
    "collapsed": true
   },
   "outputs": [],
   "source": []
  }
 ],
 "metadata": {
  "kernelspec": {
   "display_name": "Python 2",
   "language": "python",
   "name": "python2"
  },
  "language_info": {
   "codemirror_mode": {
    "name": "ipython",
    "version": 2
   },
   "file_extension": ".py",
   "mimetype": "text/x-python",
   "name": "python",
   "nbconvert_exporter": "python",
   "pygments_lexer": "ipython2",
   "version": "2.7.12"
  }
 },
 "nbformat": 4,
 "nbformat_minor": 0
}
