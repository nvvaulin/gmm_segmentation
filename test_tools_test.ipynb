{
 "cells": [
  {
   "cell_type": "code",
   "execution_count": 2,
   "metadata": {
    "collapsed": false
   },
   "outputs": [],
   "source": [
    "import numpy as np"
   ]
  },
  {
   "cell_type": "code",
   "execution_count": 3,
   "metadata": {
    "collapsed": false
   },
   "outputs": [
    {
     "name": "stdout",
     "output_type": "stream",
     "text": [
      "test_patches_to_image_and_image_to_patches ok\n"
     ]
    }
   ],
   "source": [
    "from dataset_tools import image_to_patches,patches_to_image\n",
    "def test_patches_to_image_and_image_to_patches(seed=None):\n",
    "    if not(seed is None):\n",
    "        np.random.seed(seed)\n",
    "    patch_w = np.random.randint(1,40)\n",
    "    patch_h = np.random.randint(1,40)\n",
    "    rows = np.random.randint(1,10)\n",
    "    cols = np.random.randint(1,10)\n",
    "    \n",
    "    img = np.random.rand(rows*patch_h,cols*patch_w,3)\n",
    "    patches = image_to_patches(img,patch_w,patch_h)\n",
    "    assert (patches_to_image(patches,cols,rows)-img).sum() < 1e-8,'image_to_patches->patches_to_image failed for 3 channel'\n",
    "    \n",
    "    patches = np.random.rand(rows*cols,patch_h,patch_w,3)\n",
    "    img = patches_to_image(patches,cols,rows)\n",
    "    assert (image_to_patches(img,patch_w,patch_h)-patches).sum()<1e-8,'patches_to_image->image_to_patches failed for 3 channel'\n",
    "    \n",
    "    patches = np.random.rand(rows*cols,patch_h,patch_w)\n",
    "    img = patches_to_image(patches,cols,rows)\n",
    "    assert (image_to_patches(img,patch_w,patch_h)-patches).sum()<1e-8,'patches_to_image->image_to_patches failed for 1 channel'\n",
    "    \n",
    "    patches = np.clip(np.random.rand(rows*cols,patch_w,patch_h,3)+100,1,10)\n",
    "    img = patches_to_image(patches)\n",
    "    _patches = image_to_patches(img,patch_h,patch_w)\n",
    "    assert (_patches[_patches.sum((1,2,3)) > 0.01]-patches).sum()<1e-8,'patches_to_image->image_to_patches failed for any cols,rows'\n",
    "    print ('test_patches_to_image_and_image_to_patches ok')\n",
    "    \n",
    "test_patches_to_image_and_image_to_patches(1)"
   ]
  },
  {
   "cell_type": "code",
   "execution_count": 3,
   "metadata": {
    "collapsed": false
   },
   "outputs": [
    {
     "name": "stderr",
     "output_type": "stream",
     "text": [
      "/usr/local/lib/python2.7/dist-packages/theano/gpuarray/dnn.py:135: UserWarning: Your cuDNN version is more recent than Theano. If you encounter problems, try updating Theano or downgrading cuDNN to version 5.1.\n",
      "  warnings.warn(\"Your cuDNN version is more recent than \"\n",
      "Using cuDNN version 6021 on context None\n"
     ]
    },
    {
     "name": "stdout",
     "output_type": "stream",
     "text": [
      "0.00865918875287 0.00905305427384\n",
      "make_test ok\n"
     ]
    },
    {
     "name": "stderr",
     "output_type": "stream",
     "text": [
      "Mapped name None to device cuda: GeForce GT 740M (0000:01:00.0)\n"
     ]
    }
   ],
   "source": [
    "from utils import Logger\n",
    "from test_tools import *\n",
    "\n",
    "class TestCopyLabelAlgorithm(BGAlgorithm):\n",
    "    def __init__(self):\n",
    "        BGAlgorithm.__init__(self)\n",
    "    \n",
    "    def predict_batched(self,data,labels):\n",
    "        res = binarise_label(labels)\n",
    "        return res\n",
    "    \n",
    "class TestPr1Algorithm(BGAlgorithm):\n",
    "    def __init__(self):\n",
    "        BGAlgorithm.__init__(self)\n",
    "    \n",
    "    def predict_batched(self,data,labels):\n",
    "        res = binarise_label(labels).flatten()\n",
    "        res[res > 0.99] = np.random.rand(res[res > 0.99].size)\n",
    "        return res.reshape(labels.shape)\n",
    "    \n",
    "\n",
    "    \n",
    "class Test0ApsAlgorithm(BGAlgorithm):\n",
    "    def __init__(self):\n",
    "        BGAlgorithm.__init__(self)\n",
    "        self.balanse = []\n",
    "    \n",
    "    def predict_batched(self,data,labels):\n",
    "        res = binarise_label(labels)\n",
    "        self.balanse.append(float(res[res >0.99].size)/float(res[res<0.01].size))\n",
    "        return 1-res.astype(np.int)\n",
    "\n",
    "res = make_test(TestCopyLabelAlgorithm(),None,'data/test',0,100,(100,100),logger=Logger())\n",
    "assert res['total']['aps'] > 0.999\n",
    "assert res['total']['acc'] > 0.999\n",
    "assert res['total']['f1'] > 0.999\n",
    "res = make_test(TestPr1Algorithm(),None,'data/test',0,100,(100,100),logger=Logger())\n",
    "assert res['total']['aps'] > 0.999\n",
    "test0ApsAlgorithm = Test0ApsAlgorithm()\n",
    "res = make_test(test0ApsAlgorithm,None,'data/test',0,100,(100,100),logger=Logger())\n",
    "assert res['total']['acc'] < 1e-10\n",
    "assert res['total']['f1'] < 1e-10\n",
    "print res['total']['aps'] ,np.array(test0ApsAlgorithm.balanse).mean()/2.\n",
    "assert abs(res['total']['aps'] - np.array(test0ApsAlgorithm.balanse).mean()/2.) < 0.001\n",
    "print 'make_test ok'"
   ]
  },
  {
   "cell_type": "code",
   "execution_count": 6,
   "metadata": {
    "collapsed": false
   },
   "outputs": [],
   "source": [
    "from test_tools import GMMAlgorithm\n",
    "from sklearn.metrics import average_precision_score\n",
    "from multiprocessing import Pool\n",
    "import theano.tensor as T\n",
    "\n",
    "def mix_labels(a,b,w=0.1):\n",
    "    fa = a.reshape((-1))\n",
    "    fb = b.reshape((-1))\n",
    "    res = fa.copy()\n",
    "    inx = np.random.choice(np.arange(len(res)),int(w*len(res)),False).astype(np.int32)\n",
    "    res[inx] = fb[inx]\n",
    "    return res.reshape(a.shape)\n",
    "\n",
    "def generate_test_data_for_gmmalgorithm(means,disp,lm,ld,im_size=(60,60),length=300,lw=0.1):\n",
    "    ndim = len(means[0])\n",
    "    def make_mixture(a,b,w=0.1):\n",
    "        fa = a.reshape((-1,a.shape[-1]))\n",
    "        fb = b.reshape((-1,b.shape[-1]))\n",
    "        res = fa.copy()\n",
    "        inx = np.random.choice(np.arange(len(res)),int(w*len(res)),False).astype(np.int32)\n",
    "        res[inx] = fb[inx]\n",
    "        mask = np.zeros(len(res))\n",
    "        mask[inx] = 1.\n",
    "        return res.reshape(a.shape),mask.reshape(a.shape[:-1])\n",
    "    background = None\n",
    "    for m,d in zip(means,disp):\n",
    "        m = np.array(m)\n",
    "        tmp = np.random.randn(length,im_size[1],im_size[0],ndim)*d+m[None,None,None,:]\n",
    "        if(background is None):\n",
    "            background = tmp\n",
    "        else:\n",
    "            background,_ = make_mixture(background,tmp)\n",
    "    lm = np.array(lm)\n",
    "    label_vals = np.random.randn(length,im_size[1],im_size[0],ndim)*ld+lm[None,None,None,:]\n",
    "    data,labels = make_mixture(background,label_vals,lw)\n",
    "    labels = mix_labels(labels,np.zeros_like(labels)+0.5)*255\n",
    "    return data,labels"
   ]
  },
  {
   "cell_type": "code",
   "execution_count": 7,
   "metadata": {
    "collapsed": true
   },
   "outputs": [],
   "source": [
    "pool = Pool(4)"
   ]
  },
  {
   "cell_type": "code",
   "execution_count": 8,
   "metadata": {
    "collapsed": false
   },
   "outputs": [
    {
     "name": "stdout",
     "output_type": "stream",
     "text": [
      "1.0\n"
     ]
    }
   ],
   "source": [
    "algo = GMMAlgorithm(lambda data,input_shape : T.transpose(data,(0,2,3,1)),3,pool=pool)\n",
    "data,labels = generate_test_data_for_gmmalgorithm([[0.5,0.0],[0.1,0.0],[0.2,0.0]],[0.001,0.001,0.001],[-0.5,0.0],0.001,(40,40))\n",
    "algo.train_batched(data[:100],labels[:100])\n",
    "pred = algo.predict_batched(data[100:],labels[100:])\n",
    "res = calc_prediction_metrics(pred,labels[100:],dict({'aps':average_precision_score}))\n",
    "print res['aps']\n",
    "assert res['aps'] > 0.98"
   ]
  },
  {
   "cell_type": "code",
   "execution_count": 9,
   "metadata": {
    "collapsed": false
   },
   "outputs": [
    {
     "name": "stdout",
     "output_type": "stream",
     "text": [
      "0.507993516778\n"
     ]
    }
   ],
   "source": [
    "algo = GMMAlgorithm(lambda data,input_shape : T.transpose(data,(0,2,3,1)),1,pool=pool)\n",
    "data = np.random.randn(300,60,60,1)\n",
    "labels = mix_labels(np.zeros(data.shape[:-1]),np.ones(data.shape[:-1])*255,0.5)\n",
    "algo.train_batched(data[:100],labels[:100])\n",
    "pred = algo.predict_batched(data[100:],labels[100:])\n",
    "res = calc_prediction_metrics(pred,labels[100:],dict({'aps':average_precision_score}))\n",
    "print res['aps']\n",
    "assert np.abs(res['aps'] - 0.5) < 0.01"
   ]
  }
 ],
 "metadata": {
  "kernelspec": {
   "display_name": "Python 2",
   "language": "python",
   "name": "python2"
  },
  "language_info": {
   "codemirror_mode": {
    "name": "ipython",
    "version": 2
   },
   "file_extension": ".py",
   "mimetype": "text/x-python",
   "name": "python",
   "nbconvert_exporter": "python",
   "pygments_lexer": "ipython2",
   "version": "2.7.6"
  }
 },
 "nbformat": 4,
 "nbformat_minor": 0
}
