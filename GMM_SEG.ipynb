{
 "cells": [
  {
   "cell_type": "code",
   "execution_count": 1,
   "metadata": {
    "collapsed": false
   },
   "outputs": [],
   "source": [
    "import matplotlib.pyplot as plt\n",
    "%matplotlib inline\n",
    "import numpy as np\n",
    "import cv2"
   ]
  },
  {
   "cell_type": "code",
   "execution_count": 2,
   "metadata": {
    "collapsed": false
   },
   "outputs": [],
   "source": [
    "from config import cfg\n",
    "cfg.SEQ_LENGTH = 128\n",
    "cfg.TILE_SIZE = (28,28)\n",
    "cfg.OUT_SIZE = (4,4)\n",
    "cfg.TRAIN.BATCH_SIZE = 1\n",
    "cfg.TRAIN.EPOCH_SIZE = 1000\n",
    "cfg.NAME = 'gmm'\n",
    "cfg.TRAIN.EPOCH = 0\n",
    "cfg.TRAIN.EPOCH_NUM = 1000\n",
    "cfg.gm_num = 4"
   ]
  },
  {
   "cell_type": "code",
   "execution_count": 28,
   "metadata": {
    "collapsed": false
   },
   "outputs": [
    {
     "name": "stdout",
     "output_type": "stream",
     "text": [
      "\n"
     ]
    }
   ],
   "source": [
    "from loader import TieLoader,GMMDataLoader,draw_sample\n",
    "gmm_loader = GMMDataLoader(TieLoader('/home/nvvaulin/workspace/movemants/train_ties'),\\\n",
    "                           cfg.TILE_SIZE,cfg.OUT_SIZE,cfg.SEQ_LENGTH,min_r=0.4,max_r=0.5)"
   ]
  },
  {
   "cell_type": "code",
   "execution_count": 29,
   "metadata": {
    "collapsed": false
   },
   "outputs": [
    {
     "name": "stdout",
     "output_type": "stream",
     "text": [
      "(128, 3, 28, 28)\n"
     ]
    },
    {
     "data": {
      "image/png": "[encoded data removed]",
      "text/plain": [
       "<matplotlib.figure.Figure at 0x7f2339517b50>"
      ]
     },
     "metadata": {},
     "output_type": "display_data"
    }
   ],
   "source": [
    "def data_generator(gmm_loader,batch_size = cfg.TRAIN.BATCH_SIZE,\n",
    "                   tile_size = cfg.TILE_SIZE,\n",
    "                   epoch_size = cfg.TRAIN.EPOCH_SIZE):\n",
    "    iter = 0\n",
    "    for i in range(epoch_size):        \n",
    "        yield gmm_loader.load_random()\n",
    "        \n",
    "for x,y in data_generator(gmm_loader,1,epoch_size=1):\n",
    "    print x.shape\n",
    "    draw_sample(x,y,8,cfg.SEQ_LENGTH//8)\n",
    "    break"
   ]
  },
  {
   "cell_type": "code",
   "execution_count": 8,
   "metadata": {
    "collapsed": false
   },
   "outputs": [
    {
     "name": "stderr",
     "output_type": "stream",
     "text": [
      "Using cuDNN version 5105 on context None\n",
      "Mapped name None to device cuda: GeForce GT 740M (0000:01:00.0)\n"
     ]
    }
   ],
   "source": [
    "import theano\n",
    "import theano.tensor as T\n",
    "import lasagne\n",
    "from lasagne import layers as L\n",
    "from broadcast import BroadcastLayer,UnbroadcastLayer\n",
    "from lasagne.nonlinearities import rectify\n",
    "from lasagne.init import HeNormal,Constant"
   ]
  },
  {
   "cell_type": "code",
   "execution_count": 9,
   "metadata": {
    "collapsed": false
   },
   "outputs": [],
   "source": [
    "from symbols import make_conv,BroadcastLayer,res_unit\n",
    "\n",
    "def gen_unet1(data,num_filters,deep,name='unet',first=True):    \n",
    "    name = name+str(deep)\n",
    "    res1 = make_conv(data,num_filters,3,name=name+'_in')   \n",
    "    \n",
    "    if(deep == 1):\n",
    "        return res1\n",
    "    \n",
    "    res2 = L.Pool2DLayer(res1,2,name=name+'_pool')\n",
    "    res2 = gen_unet1(res2,num_filters*2,deep-1,name[:-1],False)\n",
    "    res2 = L.Deconv2DLayer(res2,num_filters*((2**(deep-1))-1),2,2,crop='valid',nonlinearity=None,name=name+'_deconv')\n",
    "    res2 = L.BatchNormLayer(res2,name=name+'_deconv_bn')\n",
    "    res2 = L.NonlinearityLayer(res2,rectify,name=name+'_deconv_rectify')\n",
    "    res = L.ConcatLayer([res2,res1],axis=1, cropping=(None, None, \"center\", \"center\"),name=name+'_concat')\n",
    "    if(first ):\n",
    "        res = L.Conv2DLayer(res,num_filters*(2**(deep-1)),3,nonlinearity=None,name=name+'_conv',pad='same')\n",
    "    else:\n",
    "        res = make_conv(res,num_filters*(2**(deep-1)),3,name=name+'_out')   \n",
    "    return res\n",
    "\n",
    "\n",
    "def make_net(input_tensor):\n",
    "    data_l = L.InputLayer((cfg.SEQ_LENGTH,3,cfg.TILE_SIZE[1],cfg.TILE_SIZE[0])\n",
    "                           ,input_tensor\n",
    "                           ,name='data')\n",
    "    unet = gen_unet1(data_l,6,3,name='unet')\n",
    "    return unet\n",
    "    "
   ]
  },
  {
   "cell_type": "code",
   "execution_count": 10,
   "metadata": {
    "collapsed": false
   },
   "outputs": [
    {
     "name": "stdout",
     "output_type": "stream",
     "text": [
      "\n",
      "In -->     Layer    --> Out    Description                          \n",
      "-------    -----    -------    -----------                          \n",
      "[]         0        [1]        data(128, 3, 28, 28)                 \n",
      "[0]        1        [2]        unet3_in_conv(3)(128, 6, 28, 28)     \n",
      "[1]        2        [3]        unet3_in_bn(128, 6, 28, 28)          \n",
      "[2]        3        [4, 22]    unet3_in_relu(128, 6, 28, 28)        \n",
      "[3]        4        [5]        unet3_pool(128, 6, 14, 14)           \n",
      "[4]        5        [6]        unet2_in_conv(3)(128, 12, 14, 14)    \n",
      "[5]        6        [7]        unet2_in_bn(128, 12, 14, 14)         \n",
      "[6]        7        [8, 15]    unet2_in_relu(128, 12, 14, 14)       \n",
      "[7]        8        [9]        unet2_pool(128, 12, 7, 7)            \n",
      "[8]        9        [10]       unet1_in_conv(3)(128, 24, 7, 7)      \n",
      "[9]        10       [11]       unet1_in_bn(128, 24, 7, 7)           \n",
      "[10]       11       [12]       unet1_in_relu(128, 24, 7, 7)         \n",
      "[11]       12       [13]       unet2_deconv(128, 12, 14, 14)        \n",
      "[12]       13       [14]       unet2_deconv_bn(128, 12, 14, 14)     \n",
      "[13]       14       [15]       unet2_deconv_rectify(128, 12, 14, 14)\n",
      "[14, 7]    15       [16]       unet2_concat(128, 24, 14, 14)        \n",
      "[15]       16       [17]       unet2_out_conv(3)(128, 24, 14, 14)   \n",
      "[16]       17       [18]       unet2_out_bn(128, 24, 14, 14)        \n",
      "[17]       18       [19]       unet2_out_relu(128, 24, 14, 14)      \n",
      "[18]       19       [20]       unet3_deconv(128, 18, 28, 28)        \n",
      "[19]       20       [21]       unet3_deconv_bn(128, 18, 28, 28)     \n",
      "[20]       21       [22]       unet3_deconv_rectify(128, 18, 28, 28)\n",
      "[21, 3]    22       [23]       unet3_concat(128, 24, 28, 28)        \n",
      "[22]       23       []         unet3_conv(128, 24, 28, 28)          \n"
     ]
    }
   ],
   "source": [
    "from utils import get_network_str,save_weights,load_weights\n",
    "\n",
    "data = T.tensor4(name='data')\n",
    "label = T.tensor3(name='label')\n",
    "net = make_net(data)\n",
    "print get_network_str(net,incomings=True,outgoings=True)"
   ]
  },
  {
   "cell_type": "code",
   "execution_count": 11,
   "metadata": {
    "collapsed": true
   },
   "outputs": [],
   "source": [
    "from gmm_op import get_gmm,calc_log_prob_gmm,calc_log_prob_gmm_componetwise,GMM\n",
    "from theano_utils import histogram_loss,split,accuracy\n",
    "from lasagne.regularization import regularize_network_params,l2"
   ]
  },
  {
   "cell_type": "code",
   "execution_count": 12,
   "metadata": {
    "collapsed": false
   },
   "outputs": [],
   "source": [
    "X = lasagne.layers.get_output(net)\n",
    "X = X[:,:,(cfg.TILE_SIZE[1]-cfg.OUT_SIZE[1])//2:(cfg.TILE_SIZE[1]-cfg.OUT_SIZE[1])//2+cfg.OUT_SIZE[1],\\\n",
    "          (cfg.TILE_SIZE[0]-cfg.OUT_SIZE[0])//2:(cfg.TILE_SIZE[0]-cfg.OUT_SIZE[0])//2+cfg.OUT_SIZE[0]]\n",
    "X = T.transpose(X,(0,2,3,1)).reshape((cfg.SEQ_LENGTH*cfg.OUT_SIZE[0]*cfg.OUT_SIZE[1],-1))\n",
    "X = X/(T.sqrt(T.square(X).sum(1)[:,None])+1e-4)\n",
    "means,covars,weights = get_gmm(X,cfg.gm_num,24,True)\n",
    "p = calc_log_prob_gmm_componetwise(X,means,covars,weights)\n",
    "p = T.nnet.softmax(p)\n",
    "rate = weights/T.mean(covars,1)\n",
    "rate=rate/T.sum(rate)\n",
    "rate_param = theano.shared(np.float32(.5),name='rate_param',allow_downcast=True)\n",
    "soft_sign = T.tanh(rate-rate_param)\n",
    "Y = np.float32(1.)-np.float32(2.)*label.flatten()\n",
    "class_matrix = Y[:,None]*soft_sign[None,:]\n",
    "l2_loss = 1e-4 * regularize_network_params(net, l2)\n",
    "loss = -T.sum(p*class_matrix)+l2_loss\n",
    "\n",
    "\n",
    "\n",
    "prediction = T.max((1.+T.sgn(p-T.max(p,1)[:,None]+np.float32(1e-10)))*T.sgn(soft_sign)[None,:],1)-1.\n",
    "accuracy = T.sum((1.+T.sgn(prediction*Y))/2.)/abs(prediction).sum()"
   ]
  },
  {
   "cell_type": "code",
   "execution_count": 13,
   "metadata": {
    "collapsed": false
   },
   "outputs": [],
   "source": [
    "# outX,outYp,outYn = split(X,Y,int(cfg.SEQ_LENGTH*cfg.OUT_SIZE[0]*cfg.OUT_SIZE[1]*0.1))\n",
    "# means,covars,weights = get_gmm(outX,cfg.gm_num,24,True)\n",
    "# p_p = calc_log_prob_gmm(outYp,means,covars,weights)\n",
    "# p_n = calc_log_prob_gmm(outYn,means,covars,weights)\n",
    "# l2_loss = 1e-4 * regularize_network_params(net, l2)\n",
    "# loss = histogram_loss(p_n,p_p,0.0001,200)[0]+l2_loss"
   ]
  },
  {
   "cell_type": "code",
   "execution_count": 14,
   "metadata": {
    "collapsed": false
   },
   "outputs": [],
   "source": [
    "params = lasagne.layers.get_all_params(net, trainable=True)\n",
    "params.append(rate_param)\n",
    "G_lr = theano.shared(np.array(0.001, dtype=theano.config.floatX))\n",
    "MAX_GRAD_NORM = 15\n",
    "all_grads = T.grad(loss, params)\n",
    "all_grads = [T.clip(g, -.1, .1) for g in all_grads]\n",
    "all_grads, norm = lasagne.updates.total_norm_constraint(all_grads, MAX_GRAD_NORM, return_norm=True)\n",
    "updates = lasagne.updates.adam(all_grads,params,G_lr)"
   ]
  },
  {
   "cell_type": "code",
   "execution_count": 15,
   "metadata": {
    "collapsed": false
   },
   "outputs": [
    {
     "name": "stdout",
     "output_type": "stream",
     "text": [
      "train_fn compiled\n"
     ]
    }
   ],
   "source": [
    "train_fn = theano.function([data, label], [loss,accuracy,X,Y,class_matrix,rate,soft_sign,weights,covars,prediction,p*class_matrix], allow_input_downcast=True, updates=updates)\n",
    "print 'train_fn compiled'"
   ]
  },
  {
   "cell_type": "code",
   "execution_count": 32,
   "metadata": {
    "collapsed": false
   },
   "outputs": [
    {
     "name": "stdout",
     "output_type": "stream",
     "text": [
      "[ 0.61064118 -0.27090126 -0.27247816 -0.2739391 ] [ 0.65804714  0.01757812  0.28726533  0.03710939]\n"
     ]
    }
   ],
   "source": [
    "print res[6],res[-4]"
   ]
  },
  {
   "cell_type": "code",
   "execution_count": 16,
   "metadata": {
    "collapsed": false
   },
   "outputs": [],
   "source": [
    "G_lr.set_value(np.float32(0.001))"
   ]
  },
  {
   "cell_type": "code",
   "execution_count": 22,
   "metadata": {
    "collapsed": false,
    "scrolled": true
   },
   "outputs": [],
   "source": [
    "load_weights(net,'models/gmm001_loss-855.05')#models/gmm000_loss17428.31"
   ]
  },
  {
   "cell_type": "code",
   "execution_count": 26,
   "metadata": {
    "collapsed": false
   },
   "outputs": [
    {
     "name": "stdout",
     "output_type": "stream",
     "text": [
      "\n"
     ]
    }
   ],
   "source": [
    "rate_param.set_value(0.2)"
   ]
  },
  {
   "cell_type": "code",
   "execution_count": 17,
   "metadata": {
    "collapsed": false
   },
   "outputs": [],
   "source": [
    "hard = []\n",
    "cur = 0"
   ]
  },
  {
   "cell_type": "code",
   "execution_count": 30,
   "metadata": {
    "collapsed": false
   },
   "outputs": [
    {
     "name": "stdout",
     "output_type": "stream",
     "text": [
      " epoch 0 batch 99 loss=-867.50 ,acc=0.95 -960.12 rate=0.17                                                                                                  \n",
      "checkpoint models/gmm000_loss-867.50.npz\n",
      "\n",
      " epoch 1 batch 99 loss=-879.68 ,acc=0.95 -868.19 rate=0.25                                                                                                  \n",
      "checkpoint models/gmm001_loss-879.68.npz\n",
      "\n",
      " epoch 2 batch 99 loss=-850.07 ,acc=0.93 -895.87 rate=0.28                                                                                                  \n",
      "checkpoint models/gmm002_loss-850.07.npz\n",
      "\n",
      " epoch 3 batch 84 loss=-898.94 ,acc=0.96 -614.90 rate=0.28                                                                                   "
     ]
    },
    {
     "ename": "KeyboardInterrupt",
     "evalue": "",
     "output_type": "error",
     "traceback": [
      "\u001b[0;31m---------------------------------------------------------------------------\u001b[0m",
      "\u001b[0;31mKeyboardInterrupt\u001b[0m                         Traceback (most recent call last)",
      "\u001b[0;32m<ipython-input-30-8d087307743d>\u001b[0m in \u001b[0;36m<module>\u001b[0;34m()\u001b[0m\n\u001b[1;32m      5\u001b[0m     \u001b[0mtrain_acc\u001b[0m\u001b[0;34m=\u001b[0m\u001b[0;36m0\u001b[0m\u001b[0;34m\u001b[0m\u001b[0m\n\u001b[1;32m      6\u001b[0m     \u001b[0;32mfor\u001b[0m \u001b[0mi\u001b[0m\u001b[0;34m,\u001b[0m\u001b[0mbatch\u001b[0m \u001b[0;32min\u001b[0m \u001b[0menumerate\u001b[0m\u001b[0;34m(\u001b[0m\u001b[0mdata_generator\u001b[0m\u001b[0;34m(\u001b[0m\u001b[0mgmm_loader\u001b[0m\u001b[0;34m,\u001b[0m\u001b[0mepoch_size\u001b[0m\u001b[0;34m=\u001b[0m\u001b[0;36m100\u001b[0m\u001b[0;34m)\u001b[0m\u001b[0;34m)\u001b[0m\u001b[0;34m:\u001b[0m\u001b[0;34m\u001b[0m\u001b[0m\n\u001b[0;32m----> 7\u001b[0;31m         \u001b[0mres\u001b[0m \u001b[0;34m=\u001b[0m \u001b[0mtrain_fn\u001b[0m\u001b[0;34m(\u001b[0m\u001b[0;34m*\u001b[0m\u001b[0mbatch\u001b[0m\u001b[0;34m)\u001b[0m\u001b[0;34m\u001b[0m\u001b[0m\n\u001b[0m\u001b[1;32m      8\u001b[0m         \u001b[0mtrain_acc\u001b[0m \u001b[0;34m+=\u001b[0m \u001b[0mres\u001b[0m\u001b[0;34m[\u001b[0m\u001b[0;36m1\u001b[0m\u001b[0;34m]\u001b[0m\u001b[0;34m\u001b[0m\u001b[0m\n\u001b[1;32m      9\u001b[0m         \u001b[0mtrain_loss\u001b[0m\u001b[0;34m+=\u001b[0m\u001b[0mres\u001b[0m\u001b[0;34m[\u001b[0m\u001b[0;36m0\u001b[0m\u001b[0;34m]\u001b[0m\u001b[0;34m\u001b[0m\u001b[0m\n",
      "\u001b[0;32m/usr/local/lib/python2.7/dist-packages/theano/compile/function_module.pyc\u001b[0m in \u001b[0;36m__call__\u001b[0;34m(self, *args, **kwargs)\u001b[0m\n\u001b[1;32m    882\u001b[0m         \u001b[0;32mtry\u001b[0m\u001b[0;34m:\u001b[0m\u001b[0;34m\u001b[0m\u001b[0m\n\u001b[1;32m    883\u001b[0m             \u001b[0moutputs\u001b[0m \u001b[0;34m=\u001b[0m\u001b[0;31m\\\u001b[0m\u001b[0;34m\u001b[0m\u001b[0m\n\u001b[0;32m--> 884\u001b[0;31m                 \u001b[0mself\u001b[0m\u001b[0;34m.\u001b[0m\u001b[0mfn\u001b[0m\u001b[0;34m(\u001b[0m\u001b[0;34m)\u001b[0m \u001b[0;32mif\u001b[0m \u001b[0moutput_subset\u001b[0m \u001b[0;32mis\u001b[0m \u001b[0mNone\u001b[0m \u001b[0;32melse\u001b[0m\u001b[0;31m\\\u001b[0m\u001b[0;34m\u001b[0m\u001b[0m\n\u001b[0m\u001b[1;32m    885\u001b[0m                 \u001b[0mself\u001b[0m\u001b[0;34m.\u001b[0m\u001b[0mfn\u001b[0m\u001b[0;34m(\u001b[0m\u001b[0moutput_subset\u001b[0m\u001b[0;34m=\u001b[0m\u001b[0moutput_subset\u001b[0m\u001b[0;34m)\u001b[0m\u001b[0;34m\u001b[0m\u001b[0m\n\u001b[1;32m    886\u001b[0m         \u001b[0;32mexcept\u001b[0m \u001b[0mException\u001b[0m\u001b[0;34m:\u001b[0m\u001b[0;34m\u001b[0m\u001b[0m\n",
      "\u001b[0;32m/usr/local/lib/python2.7/dist-packages/theano/scan_module/scan_op.pyc\u001b[0m in \u001b[0;36mrval\u001b[0;34m(p, i, o, n, allow_gc)\u001b[0m\n\u001b[1;32m    987\u001b[0m         def rval(p=p, i=node_input_storage, o=node_output_storage, n=node,\n\u001b[1;32m    988\u001b[0m                  allow_gc=allow_gc):\n\u001b[0;32m--> 989\u001b[0;31m             \u001b[0mr\u001b[0m \u001b[0;34m=\u001b[0m \u001b[0mp\u001b[0m\u001b[0;34m(\u001b[0m\u001b[0mn\u001b[0m\u001b[0;34m,\u001b[0m \u001b[0;34m[\u001b[0m\u001b[0mx\u001b[0m\u001b[0;34m[\u001b[0m\u001b[0;36m0\u001b[0m\u001b[0;34m]\u001b[0m \u001b[0;32mfor\u001b[0m \u001b[0mx\u001b[0m \u001b[0;32min\u001b[0m \u001b[0mi\u001b[0m\u001b[0;34m]\u001b[0m\u001b[0;34m,\u001b[0m \u001b[0mo\u001b[0m\u001b[0;34m)\u001b[0m\u001b[0;34m\u001b[0m\u001b[0m\n\u001b[0m\u001b[1;32m    990\u001b[0m             \u001b[0;32mfor\u001b[0m \u001b[0mo\u001b[0m \u001b[0;32min\u001b[0m \u001b[0mnode\u001b[0m\u001b[0;34m.\u001b[0m\u001b[0moutputs\u001b[0m\u001b[0;34m:\u001b[0m\u001b[0;34m\u001b[0m\u001b[0m\n\u001b[1;32m    991\u001b[0m                 \u001b[0mcompute_map\u001b[0m\u001b[0;34m[\u001b[0m\u001b[0mo\u001b[0m\u001b[0;34m]\u001b[0m\u001b[0;34m[\u001b[0m\u001b[0;36m0\u001b[0m\u001b[0;34m]\u001b[0m \u001b[0;34m=\u001b[0m \u001b[0mTrue\u001b[0m\u001b[0;34m\u001b[0m\u001b[0m\n",
      "\u001b[0;32m/usr/local/lib/python2.7/dist-packages/theano/scan_module/scan_op.pyc\u001b[0m in \u001b[0;36mp\u001b[0;34m(node, args, outs)\u001b[0m\n\u001b[1;32m    976\u001b[0m                                                 \u001b[0margs\u001b[0m\u001b[0;34m,\u001b[0m\u001b[0;34m\u001b[0m\u001b[0m\n\u001b[1;32m    977\u001b[0m                                                 \u001b[0mouts\u001b[0m\u001b[0;34m,\u001b[0m\u001b[0;34m\u001b[0m\u001b[0m\n\u001b[0;32m--> 978\u001b[0;31m                                                 self, node)\n\u001b[0m\u001b[1;32m    979\u001b[0m         \u001b[0;32mexcept\u001b[0m \u001b[0;34m(\u001b[0m\u001b[0mImportError\u001b[0m\u001b[0;34m,\u001b[0m \u001b[0mtheano\u001b[0m\u001b[0;34m.\u001b[0m\u001b[0mgof\u001b[0m\u001b[0;34m.\u001b[0m\u001b[0mcmodule\u001b[0m\u001b[0;34m.\u001b[0m\u001b[0mMissingGXX\u001b[0m\u001b[0;34m)\u001b[0m\u001b[0;34m:\u001b[0m\u001b[0;34m\u001b[0m\u001b[0m\n\u001b[1;32m    980\u001b[0m             \u001b[0mp\u001b[0m \u001b[0;34m=\u001b[0m \u001b[0mself\u001b[0m\u001b[0;34m.\u001b[0m\u001b[0mexecute\u001b[0m\u001b[0;34m\u001b[0m\u001b[0m\n",
      "\u001b[0;31mKeyboardInterrupt\u001b[0m: "
     ]
    }
   ],
   "source": [
    "\n",
    "\n",
    "for j in range(0,100):\n",
    "    train_loss=0\n",
    "    train_acc=0\n",
    "    for i,batch in enumerate(data_generator(gmm_loader,epoch_size=100)):\n",
    "        res = train_fn(*batch)\n",
    "        train_acc += res[1]\n",
    "        train_loss+=res[0]\n",
    "#         if(res[1] < .8):\n",
    "#             if( len(hard) < 1000):\n",
    "#                 hard.append(batch)\n",
    "#             else:\n",
    "#                 hard[cur] = batch\n",
    "#                 cur = (cur+1) % len(hard)\n",
    "#         for k in range(min(3,len(hard))):\n",
    "#             batch = hard[np.random.randint(0,len(hard))]\n",
    "#             res = train_fn(*batch)\n",
    "        print '\\r epoch %i batch %i loss=%.2f ,acc=%.2f %.2f rate=%.2f'%(j,i,train_loss/float(i+1),train_acc/float(i+1),res[0],rate_param.get_value()),\n",
    "    print ''\n",
    "    save_weights(net,'models/%s%03i_loss%05.2f'%\\\n",
    "                 (cfg.NAME,j,train_loss/float(i+1)))\n",
    "    if(j == 50):\n",
    "        G_lr.set_value(np.float32(0.0001))\n",
    "    print ''\n",
    "#     for i,batch in enumerate(data_generator(gmm_loader,epoch_size=10)):\n",
    "#         res = test_fn(*batch)\n",
    "#         train_acc+=res[0]\n",
    "#     print 'accuracy ',train_acc/10"
   ]
  },
  {
   "cell_type": "markdown",
   "metadata": {},
   "source": [
    "# Draw Histogram"
   ]
  },
  {
   "cell_type": "code",
   "execution_count": 23,
   "metadata": {
    "collapsed": false
   },
   "outputs": [
    {
     "data": {
      "image/png": "[encoded data removed]",
      "text/plain": [
       "<matplotlib.figure.Figure at 0x7f736439c9d0>"
      ]
     },
     "metadata": {},
     "output_type": "display_data"
    },
    {
     "name": "stdout",
     "output_type": "stream",
     "text": [
      "143.053151846 64.0065259933\n"
     ]
    },
    {
     "data": {
      "image/png": "[encoded data removed]",
      "text/plain": [
       "<matplotlib.figure.Figure at 0x7f733139fa10>"
      ]
     },
     "metadata": {},
     "output_type": "display_data"
    }
   ],
   "source": [
    "for i,batch in enumerate(data_generator(gmm_loader,epoch_size=10)):\n",
    "    #batch = hard[10]\n",
    "    draw_sample(batch[0],batch[1],8,cfg.SEQ_LENGTH//8)\n",
    "    res = train_fn(*batch)\n",
    "    plt.hist(res[2],bins=40,label='positive')\n",
    "    plt.hist(res[3],bins=40,label='negative')\n",
    "    print res[2].min(),res[3].max()\n",
    "    plt.legend()\n",
    "    plt.show()\n",
    "    break"
   ]
  },
  {
   "cell_type": "code",
   "execution_count": 83,
   "metadata": {
    "collapsed": false
   },
   "outputs": [
    {
     "name": "stdout",
     "output_type": "stream",
     "text": [
      "0.995500610501                                                        \n"
     ]
    }
   ],
   "source": [
    "test_acc = 0\n",
    "for i,batch in enumerate(data_generator(gmm_loader,epoch_size=100)):\n",
    "    res = test_fn(*batch)\n",
    "    test_acc += accuracy(res[0],res[1],50)\n",
    "    print '\\r', (test_acc/(i+1)),"
   ]
  },
  {
   "cell_type": "code",
   "execution_count": null,
   "metadata": {
    "collapsed": true
   },
   "outputs": [],
   "source": []
  }
 ],
 "metadata": {
  "anaconda-cloud": {},
  "kernelspec": {
   "display_name": "Python 2",
   "language": "python",
   "name": "python2"
  },
  "language_info": {
   "codemirror_mode": {
    "name": "ipython",
    "version": 2
   },
   "file_extension": ".py",
   "mimetype": "text/x-python",
   "name": "python",
   "nbconvert_exporter": "python",
   "pygments_lexer": "ipython2",
   "version": "2.7.12"
  }
 },
 "nbformat": 4,
 "nbformat_minor": 2
}
