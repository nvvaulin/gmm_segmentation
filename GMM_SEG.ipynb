{
 "cells": [
  {
   "cell_type": "code",
   "execution_count": 1,
   "metadata": {
    "collapsed": false
   },
   "outputs": [],
   "source": [
    "import matplotlib.pyplot as plt\n",
    "%matplotlib inline\n",
    "import numpy as np\n",
    "import cv2"
   ]
  },
  {
   "cell_type": "code",
   "execution_count": 2,
   "metadata": {
    "collapsed": false
   },
   "outputs": [],
   "source": [
    "from config import cfg\n",
    "cfg.SEQ_LENGTH = 250\n",
    "cfg.TILE_SIZE = (16,16)\n",
    "cfg.OUT_SIZE = (1,1)\n",
    "cfg.TRAIN.EPOCH = 0\n",
    "cfg.TRAIN.EPOCH_NUM = 1000\n",
    "cfg.gm_num = 4\n",
    "cfg.ndim = 12\n",
    "cfg.NAME = 'conv_net_no_bn_ndim%d_gm_num%d_with_bn_'%(cfg.ndim ,cfg.gm_num)"
   ]
  },
  {
   "cell_type": "code",
   "execution_count": 3,
   "metadata": {
    "collapsed": false
   },
   "outputs": [],
   "source": [
    "from loader import TieLoader,GMMDataLoader,draw_sample\n",
    "train_loader = GMMDataLoader(TieLoader('/media/data/Programming/motion_segmentation/gmm_segmentation/ties256',\n",
    "                                    cols=16,rows=16,t_size=48),\\\n",
    "                           cfg.TILE_SIZE,cfg.OUT_SIZE,cfg.SEQ_LENGTH,min_r=0.1,max_r=0.3)"
   ]
  },
  {
   "cell_type": "code",
   "execution_count": 4,
   "metadata": {
    "collapsed": false
   },
   "outputs": [
    {
     "name": "stdout",
     "output_type": "stream",
     "text": [
      "(250, 3, 16, 16)\n"
     ]
    },
    {
     "data": {
      "image/png": "[encoded data removed]",
      "text/plain": [
       "<matplotlib.figure.Figure at 0x7fb0751d1350>"
      ]
     },
     "metadata": {},
     "output_type": "display_data"
    }
   ],
   "source": [
    "def data_generator(gmm_loader,\n",
    "                   tile_size = cfg.TILE_SIZE,\n",
    "                   epoch_size = cfg.TRAIN.EPOCH_SIZE):\n",
    "    iter = 0\n",
    "    for i in range(epoch_size):        \n",
    "        yield gmm_loader.load_random()\n",
    "        \n",
    "for x,y in data_generator(train_loader,epoch_size=1):\n",
    "    print x.shape\n",
    "    draw_sample(x,y,8,cfg.SEQ_LENGTH//8)\n",
    "    break"
   ]
  },
  {
   "cell_type": "code",
   "execution_count": 5,
   "metadata": {
    "collapsed": false
   },
   "outputs": [
    {
     "name": "stderr",
     "output_type": "stream",
     "text": [
      "Using cuDNN version 5105 on context None\n",
      "Mapped name None to device cuda: GeForce GT 740M (0000:01:00.0)\n"
     ]
    }
   ],
   "source": [
    "import theano\n",
    "import theano.tensor as T"
   ]
  },
  {
   "cell_type": "markdown",
   "metadata": {},
   "source": [
    "# Build model"
   ]
  },
  {
   "cell_type": "code",
   "execution_count": 28,
   "metadata": {
    "collapsed": false
   },
   "outputs": [],
   "source": [
    "from utils import get_network_str,save_weights,load_weights\n",
    "import lasagne\n",
    "from lasagne import layers as L\n",
    "from lasagne.nonlinearities import rectify\n",
    "from theano_utils import histogram_loss\n",
    "from lasagne.regularization import regularize_network_params,l2\n",
    "from gmm_op import get_gmm,calc_log_prob_gmm,calc_log_prob_gmm_componetwise\n",
    "from theano_utils import split\n",
    "\n",
    "data = T.tensor4(name='data')\n",
    "label = T.tensor3(name='label')\n",
    "\n",
    "def make_conv(data,num_filters,name,nonl = rectify):\n",
    "    return L.Conv2DLayer(data,filter_size=(3,3),num_filters=num_filters,\n",
    "                        nonlinearity=nonl,pad='same',\n",
    "                        name='conv'+str(name))\n",
    "    \n",
    "def make_deconv(data,num_filters,name):\n",
    "    return  L.Deconv2DLayer(data,12,2,2,crop='valid',name='deconv'+str(name),nonlinearity=rectify)\n",
    "\n",
    "def FCN(data,ndim=cfg.ndim,verbose=True,model_name=''):\n",
    "    res = L.InputLayer((None,3,None,None)\n",
    "                           ,data\n",
    "                           ,name='data')\n",
    "    \n",
    "    res = make_conv(res,12,1)\n",
    "    conv1 = res\n",
    "    res = L.Pool2DLayer(res,2,name='pool1')\n",
    "    res = make_conv(res,12,2)\n",
    "    conv2 = res\n",
    "    res = L.Pool2DLayer(res,2,name='pool2')\n",
    "    res = make_conv(res,24,3)\n",
    "    res = make_deconv(res,12,1)\n",
    "    res = L.ElemwiseMergeLayer([res,conv2],T.add)\n",
    "    res = make_deconv(res,12,2)\n",
    "    res = L.ElemwiseMergeLayer([res,conv1],T.add)\n",
    "    res = make_conv(res,cfg.ndim,'out',None)    \n",
    "    \n",
    "    if(model_name != ''):\n",
    "        load_weights(res,model_name)\n",
    "    print get_network_str(res,incomings=True,outgoings=True)\n",
    "    sym = lasagne.layers.get_output(res)\n",
    "    sym = T.transpose(sym,(0,2,3,1))\n",
    "    sym = sym/(T.sqrt(T.square(sym).sum(-1)+1e-8)[:,:,:,None])\n",
    "    params = lasagne.layers.get_all_params(res, trainable=True)\n",
    "    l2_loss = 1e-4 * regularize_network_params(res, l2)\n",
    "    return res,sym,params,l2_loss\n",
    "               \n",
    "\n",
    "def soft_predict_sym(features,means,covars,weights):\n",
    "    return 1.-T.nnet.sigmoid(calc_log_prob_gmm(features,means,covars,weights))\n"
   ]
  },
  {
   "cell_type": "markdown",
   "metadata": {},
   "source": [
    "# Train"
   ]
  },
  {
   "cell_type": "code",
   "execution_count": 29,
   "metadata": {
    "collapsed": false
   },
   "outputs": [
    {
     "name": "stdout",
     "output_type": "stream",
     "text": [
      "\n",
      "In -->     Layer    --> Out    Description                  \n",
      "-------    -----    -------    -----------                  \n",
      "[]         0        [1]        data(None, 3, None, None)    \n",
      "[0]        1        [2, 9]     conv1(None, 12, None, None)  \n",
      "[1]        2        [3]        pool1(None, 12, None, None)  \n",
      "[2]        3        [4, 7]     conv2(None, 12, None, None)  \n",
      "[3]        4        [5]        pool2(None, 12, None, None)  \n",
      "[4]        5        [6]        conv3(None, 24, None, None)  \n",
      "[5]        6        [7]        deconv1(None, 12, None, None)\n",
      "[6, 3]     7        [8]        None(None, 12, None, None)   \n",
      "[7]        8        [9]        deconv2(None, 12, None, None)\n",
      "[8, 1]     9        [10]       None(None, 12, None, None)   \n",
      "[9]        10       []         convout(None, 12, None, None)\n",
      "train_fn compiled\n"
     ]
    }
   ],
   "source": [
    "def get_output(X,t_size=cfg.TILE_SIZE,o_size=cfg.OUT_SIZE):\n",
    "    return X[:,:,(t_size[1]-o_size[1])//2:(t_size[1]+o_size[1])//2,\\\n",
    "              (t_size[0]-o_size[0])//2:(t_size[0]+o_size[0])//2]\n",
    "\n",
    "\n",
    "def make_train_fn(model_name=''):\n",
    "    def split_tr_p_n(x,y):\n",
    "        x_tr_p,x_n = split(x,y)\n",
    "        x_p = x_tr_p[-x_n.shape[0]:]\n",
    "        x_tr = x_tr_p[:-x_n.shape[0]]\n",
    "        return x_tr,x_p,x_n\n",
    "    \n",
    "    data = T.tensor4(name='data')\n",
    "    label = T.tensor3(name='label')\n",
    "    net,X,params,l2_loss = FCN(data,ndim=cfg.ndim,model_name=model_name)\n",
    "    X = X[:,X.shape[1]//2:X.shape[1]//2+1,X.shape[2]//2:X.shape[2]//2+1,:]\n",
    "    X = X.reshape((-1,X.shape[-1]))\n",
    "    x_tr,x_p,x_n = split_tr_p_n(X,label.flatten())\n",
    "    m,c,w = get_gmm(x_tr,cfg.gm_num,cfg.ndim)\n",
    "    p_n = calc_log_prob_gmm(x_n,m,c,w)\n",
    "    p_p = calc_log_prob_gmm(x_p,m,c,w)\n",
    "    loss = histogram_loss(p_n,p_p,1e-4,100)[0]+l2_loss\n",
    "    prediction = T.nnet.sigmoid(T.concatenate([p_p,p_n],axis=0))\n",
    "    Y = T.concatenate([T.ones_like(p_p),T.zeros_like(p_n)],axis=0)\n",
    "    G_lr = theano.shared(np.array(0.001, dtype=theano.config.floatX))\n",
    "    updates = lasagne.updates.adam(loss,params,G_lr)\n",
    "    train_fn = theano.function([data, label], [loss,X,Y,prediction,m,c,w],\\\n",
    "                               allow_input_downcast=True, updates=updates)\n",
    "    print 'train_fn compiled'\n",
    "    return train_fn,G_lr,net\n",
    "\n",
    "train_fn,G_lr,net=make_train_fn()"
   ]
  },
  {
   "cell_type": "code",
   "execution_count": 30,
   "metadata": {
    "collapsed": false
   },
   "outputs": [],
   "source": [
    "G_lr.set_value(np.float32(0.001))"
   ]
  },
  {
   "cell_type": "code",
   "execution_count": 31,
   "metadata": {
    "collapsed": true
   },
   "outputs": [],
   "source": [
    "from sklearn.metrics import average_precision_score\n",
    "def train_net(train_fn,train_loader,net,epoch_size=100,num_epochs = 15,with_hnm=False):\n",
    "    hard = []\n",
    "    cur = 0\n",
    "    models_acc = []\n",
    "    for j in range(0,num_epochs):\n",
    "        train_loss=0\n",
    "        train_acc=0\n",
    "        for i,batch in enumerate(data_generator(train_loader,epoch_size=epoch_size)):\n",
    "            res = train_fn(*batch)\n",
    "            acc = average_precision_score(res[2],res[3])\n",
    "            train_acc +=acc\n",
    "            train_loss+=res[0]\n",
    "            if(with_hnm):\n",
    "                if(res[0] > 10):\n",
    "                    if( len(hard) < 1000):\n",
    "                        hard.append(batch)\n",
    "                    else:\n",
    "                        hard[cur] = batch\n",
    "                        cur = (cur+1) % len(hard)\n",
    "                for k in range(min(3,len(hard))):\n",
    "                    batch = hard[np.random.randint(0,len(hard))]\n",
    "                    res = train_fn(*batch)\n",
    "            print '\\r epoch %i batch %i loss=%.2f ,acc=%.2f l=%.2f a=%.2f'%(j,i,train_loss/float(i+1),train_acc/float(i+1),res[0],acc),\n",
    "        print ''\n",
    "        models_acc.append(acc)\n",
    "        save_weights(net,'models/%s%03d'%(cfg.NAME,j))\n",
    "        if(j == 50):\n",
    "            G_lr.set_value(np.float32(0.0001))\n",
    "        print ''\n",
    "    return models_acc"
   ]
  },
  {
   "cell_type": "code",
   "execution_count": 32,
   "metadata": {
    "collapsed": false
   },
   "outputs": [
    {
     "name": "stdout",
     "output_type": "stream",
     "text": [
      " epoch 0 batch 99 loss=167.96 ,acc=0.94 l=60.32 a=0.86 5                                                                                               \n",
      "checkpoint models/conv_net_no_bn_ndim12_gm_num4_with_bn_000.npz\n",
      "\n",
      " epoch 1 batch 99 loss=134.27 ,acc=0.94 l=26.65 a=0.98 9                                                                                                 \n",
      "checkpoint models/conv_net_no_bn_ndim12_gm_num4_with_bn_001.npz\n",
      "\n",
      " epoch 2 batch 99 loss=192.35 ,acc=0.91 l=0.01 a=0.95 97                                                                                                \n",
      "checkpoint models/conv_net_no_bn_ndim12_gm_num4_with_bn_002.npz\n",
      "\n",
      " epoch 3 batch 99 loss=237.84 ,acc=0.93 l=63.16 a=0.95 5                                                                                               \n",
      "checkpoint models/conv_net_no_bn_ndim12_gm_num4_with_bn_003.npz\n",
      "\n",
      " epoch 4 batch 99 loss=116.81 ,acc=0.93 l=0.01 a=1.00 66                                                                                               \n",
      "checkpoint models/conv_net_no_bn_ndim12_gm_num4_with_bn_004.npz\n",
      "\n",
      " epoch 5 batch 99 loss=173.34 ,acc=0.93 l=162.44 a=0.78                                                                                                \n",
      "checkpoint models/conv_net_no_bn_ndim12_gm_num4_with_bn_005.npz\n",
      "\n",
      " epoch 6 batch 99 loss=119.76 ,acc=0.94 l=333.90 a=0.79                                                                                              \n",
      "checkpoint models/conv_net_no_bn_ndim12_gm_num4_with_bn_006.npz\n",
      "\n",
      " epoch 7 batch 99 loss=156.56 ,acc=0.91 l=0.01 a=1.00 74                                                                                                \n",
      "checkpoint models/conv_net_no_bn_ndim12_gm_num4_with_bn_007.npz\n",
      "\n",
      " epoch 8 batch 99 loss=136.74 ,acc=0.93 l=0.01 a=1.00 76                                                                                               \n",
      "checkpoint models/conv_net_no_bn_ndim12_gm_num4_with_bn_008.npz\n",
      "\n",
      " epoch 9 batch 99 loss=101.16 ,acc=0.92 l=1431.54 a=0.60                                                                                                 \n",
      "checkpoint models/conv_net_no_bn_ndim12_gm_num4_with_bn_009.npz\n",
      "\n",
      " epoch 10 batch 99 loss=135.45 ,acc=0.94 l=28.92 a=0.90 7                                                                                                  \n",
      "checkpoint models/conv_net_no_bn_ndim12_gm_num4_with_bn_010.npz\n",
      "\n",
      " epoch 11 batch 99 loss=103.13 ,acc=0.93 l=1100.89 a=0.62                                                                                               \n",
      "checkpoint models/conv_net_no_bn_ndim12_gm_num4_with_bn_011.npz\n",
      "\n",
      " epoch 12 batch 99 loss=89.71 ,acc=0.93 l=10.63 a=1.00 3                                                                                                 \n",
      "checkpoint models/conv_net_no_bn_ndim12_gm_num4_with_bn_012.npz\n",
      "\n",
      " epoch 13 batch 99 loss=145.25 ,acc=0.92 l=151.71 a=0.88                                                                                                 \n",
      "checkpoint models/conv_net_no_bn_ndim12_gm_num4_with_bn_013.npz\n",
      "\n",
      " epoch 14 batch 99 loss=230.83 ,acc=0.89 l=28.19 a=0.93 5                                                                                                \n",
      "checkpoint models/conv_net_no_bn_ndim12_gm_num4_with_bn_014.npz\n",
      "\n"
     ]
    }
   ],
   "source": [
    "\n",
    "models_acc = []\n",
    "for j in range(0,15):\n",
    "    train_loss=0\n",
    "    train_acc=0\n",
    "    for i,batch in enumerate(data_generator(train_loader,epoch_size=100)):\n",
    "        res = train_fn(*batch)\n",
    "        acc = average_precision_score(res[2],res[3])\n",
    "        train_acc +=acc\n",
    "        train_loss+=res[0]\n",
    "#         if(res[1] < .8):\n",
    "#             if( len(hard) < 1000):\n",
    "#                 hard.append(batch)\n",
    "#             else:\n",
    "#                 hard[cur] = batch\n",
    "#                 cur = (cur+1) % len(hard)\n",
    "#         for k in range(min(3,len(hard))):\n",
    "#             batch = hard[np.random.randint(0,len(hard))]\n",
    "#             res = train_fn(*batch)\n",
    "        print '\\r epoch %i batch %i loss=%.2f ,acc=%.2f l=%.2f a=%.2f'%(j,i,train_loss/float(i+1),train_acc/float(i+1),res[0],acc),\n",
    "    print ''\n",
    "    models_acc.append(acc)\n",
    "    save_weights(net,'models/%s%03d'%(cfg.NAME,j))\n",
    "    if(j == 50):\n",
    "        G_lr.set_value(np.float32(0.0001))\n",
    "    print ''"
   ]
  },
  {
   "cell_type": "markdown",
   "metadata": {},
   "source": [
    "# Evaluate model"
   ]
  },
  {
   "cell_type": "code",
   "execution_count": 33,
   "metadata": {
    "collapsed": false
   },
   "outputs": [],
   "source": [
    "from test_tools import iretate_test_dataset,make_features,make_gmms,fit_gmms,predict_pixelwise\n",
    "from sklearn import mixture\n",
    "\n",
    "def make_test(feature_fn,predict_fn,out_dir='results/'+cfg.NAME,dataset='dataset',max_frames=300,im_size = (320//2,240//2)):\n",
    "    for folder,imgs,masks in iretate_test_dataset(out_dir,dataset,max_frames,im_size):        \n",
    "        print folder,'generate_features,',\n",
    "        data = make_features(feature_fn,imgs)\n",
    "        gmms = make_gmms(imgs.shape[1:-1],cfg.gm_num)\n",
    "        print 'fit gmms,',\n",
    "        fit_gmms(data[:100],gmms,masks[:100])\n",
    "        print 'predict,',\n",
    "        prediction = predict_pixelwise(data[100:],gmms,predict_fn)\n",
    "        print 'save'\n",
    "        imgs = imgs[100:]\n",
    "        masks = masks[100:]      \n",
    "        prediction = (prediction*255).astype(np.uint8)\n",
    "        for i in range(len(imgs)):\n",
    "            cv2.imwrite(folder+'/'+str(i)+'.png',prediction[i])\n",
    "            cv2.imwrite(folder+'/'+str(i)+'_true.png',masks[i])\n",
    "            cv2.imwrite(folder+'/'+str(i)+'_input.jpg',imgs[i])\n",
    "    print 'test complete'"
   ]
  },
  {
   "cell_type": "code",
   "execution_count": 34,
   "metadata": {
    "collapsed": false
   },
   "outputs": [
    {
     "name": "stdout",
     "output_type": "stream",
     "text": [
      "\n",
      "In -->     Layer    --> Out    Description                  \n",
      "-------    -----    -------    -----------                  \n",
      "[]         0        [1]        data(None, 3, None, None)    \n",
      "[0]        1        [2, 9]     conv1(None, 12, None, None)  \n",
      "[1]        2        [3]        pool1(None, 12, None, None)  \n",
      "[2]        3        [4, 7]     conv2(None, 12, None, None)  \n",
      "[3]        4        [5]        pool2(None, 12, None, None)  \n",
      "[4]        5        [6]        conv3(None, 24, None, None)  \n",
      "[5]        6        [7]        deconv1(None, 12, None, None)\n",
      "[6, 3]     7        [8]        None(None, 12, None, None)   \n",
      "[7]        8        [9]        deconv2(None, 12, None, None)\n",
      "[8, 1]     9        [10]       None(None, 12, None, None)   \n",
      "[9]        10       []         convout(None, 12, None, None)\n"
     ]
    }
   ],
   "source": [
    "data=T.tensor4()\n",
    "feature_sym = FCN(data,model_name='models/%s%03d'%(cfg.NAME,np.array(models_acc).argmax()))[1]\n",
    "feature_fn = theano.function([data],feature_sym,allow_input_downcast=True)"
   ]
  },
  {
   "cell_type": "code",
   "execution_count": 35,
   "metadata": {
    "collapsed": true
   },
   "outputs": [],
   "source": [
    "data,m,c,w=T.matrix(),T.matrix(),T.matrix(),T.vector()\n",
    "predict_fn = theano.function([data,m,c,w],soft_predict_sym(data,m,c,w),allow_input_downcast=True)"
   ]
  },
  {
   "cell_type": "code",
   "execution_count": null,
   "metadata": {
    "collapsed": false
   },
   "outputs": [
    {
     "name": "stdout",
     "output_type": "stream",
     "text": [
      "results/conv_net_no_bn_ndim12_gm_num4_with_bn_/badWeather/blizzard generate_features, fit gmms, predict, save\n",
      "results/conv_net_no_bn_ndim12_gm_num4_with_bn_/baseline/highway generate_features, fit gmms, predict, save\n",
      "results/conv_net_no_bn_ndim12_gm_num4_with_bn_/cameraJitter/badminton generate_features, fit gmms, predict, save\n",
      "results/conv_net_no_bn_ndim12_gm_num4_with_bn_/dynamicBackground/boats generate_features, fit gmms, predict, save\n",
      "results/conv_net_no_bn_ndim12_gm_num4_with_bn_/shadow/backdoor generate_features, fit gmms, predict, save\n",
      "results/conv_net_no_bn_ndim12_gm_num4_with_bn_/thermal/corridor generate_features, fit gmms, predict, save\n",
      "test complete\n"
     ]
    }
   ],
   "source": [
    "make_test(feature_fn,predict_fn)"
   ]
  },
  {
   "cell_type": "markdown",
   "metadata": {},
   "source": [
    "# Calc metric"
   ]
  },
  {
   "cell_type": "code",
   "execution_count": null,
   "metadata": {
    "collapsed": false
   },
   "outputs": [
    {
     "name": "stdout",
     "output_type": "stream",
     "text": [
      "results/conv_net_no_bn_ndim12_gm_num4_with_bn_/badWeather/blizzard\n",
      "AveragePrecision: 0.755071655427\n",
      "FNR: 0.211823\n",
      "Recall: 0.788177\n",
      "Sp: 0.985071\n",
      "Precision: 0.703297\n",
      "PWC: 2.33885896702\n",
      "FPR: 0.0149286\n",
      "F_Measure: 0.743321716143\n",
      "\n",
      "results/conv_net_no_bn_ndim12_gm_num4_with_bn_/baseline/highway\n",
      "AveragePrecision: 0.778023391136\n",
      "FNR: 0.149002\n",
      "Recall: 0.850998\n",
      "Sp: 0.984944\n",
      "Precision: 0.671515\n",
      "PWC: 1.97309090051\n",
      "FPR: 0.0150556\n",
      "F_Measure: 0.750677515267\n",
      "\n",
      "results/conv_net_no_bn_ndim12_gm_num4_with_bn_/cameraJitter/badminton\n",
      "AveragePrecision: 0.779102416784\n",
      "FNR: 0.170129\n",
      "Recall: 0.829871\n",
      "Sp: 0.979888\n",
      "Precision: 0.701505\n",
      "PWC: 2.81953765126\n",
      "FPR: 0.0201116\n",
      "F_Measure: 0.760308134169\n",
      "\n",
      "results/conv_net_no_bn_ndim12_gm_num4_with_bn_/dynamicBackground/boats\n",
      "AveragePrecision: 0.855408692523\n",
      "FNR: 0.18123\n",
      "Recall: 0.81877\n",
      "Sp: 0.99476\n",
      "Precision: 0.834984\n",
      "PWC: 1.07603667674\n",
      "FPR: 0.00524001\n",
      "F_Measure: 0.826797401662\n",
      "\n",
      "results/conv_net_no_bn_ndim12_gm_num4_with_bn_/shadow/backdoor\n",
      "AveragePrecision: 0.786612053117\n",
      "FNR: 0.0\n",
      "Recall: 1.0\n",
      "Sp: 0.963614\n",
      "Precision: 0.547044\n",
      "PWC: 3.48540878036\n",
      "FPR: 0.0363857\n",
      "F_Measure: 0.707212079448\n",
      "\n"
     ]
    }
   ],
   "source": [
    "from sklearn.metrics import average_precision_score\n",
    "import os\n",
    "\n",
    "\n",
    "def calc_metrics_imgs(predict,label):\n",
    "    predict,label = predict.flatten(),label.flatten()\n",
    "    mask = (label>230)|(label < 50)\n",
    "    p = (predict.astype(np.float32)/255.)[mask]\n",
    "    y = (label.astype(np.float32)/255.)[mask]\n",
    "    y[y>0.5] = 1.\n",
    "    y[y<=0.5] = 0.\n",
    "    bp = np.zeros_like(p)\n",
    "    bp[p>0.5] = 1.\n",
    "    TP = (bp*y).sum()\n",
    "    TN = ((1-bp)*(1-y)).sum()\n",
    "    FP = (bp*(1.0-y)).sum()\n",
    "    FN = ((1.0-bp)*y).sum()\n",
    "    results = dict( AveragePrecision = average_precision_score(y,p),\\\n",
    "                    Recall = TP / (TP + FN),\\\n",
    "                    Sp = TN / (TN + FP),\\\n",
    "                    FPR = FP / (FP + TN),\\\n",
    "                    FNR = FN / (TP + FN),\\\n",
    "                    PWC =  100 * (FN + FP) / (TP + FN + FP + TN),\\\n",
    "                    F_Measure  =  (2 * (TP / (TP + FP)) * (TP / (TP + FN))) / (TP / (TP + FP) +  TP / (TP + FN)),\\\n",
    "                    Precision  = TP / (TP + FP))\n",
    "    \n",
    "    return results\n",
    "\n",
    "def print_results(results):\n",
    "    s = ''\n",
    "    for k in results.keys():\n",
    "        s=s+k+str(': ')+str(results[k])+'\\n'\n",
    "    return s\n",
    "\n",
    "def calc_metrics_folder(data_dir):\n",
    "    pred = []\n",
    "    masks = []\n",
    "    for i in range(1000):\n",
    "        m = cv2.imread(data_dir+'/%i_true.png'%(j))\n",
    "        p = cv2.imread(data_dir+'/%i.png'%(j))\n",
    "        if not (p is None):\n",
    "            pred.append(p)\n",
    "            masks.append(m)\n",
    "        else:\n",
    "            break\n",
    "    if(len(pred)>0):\n",
    "        pred = np.array(pred)\n",
    "        masks = np.array(masks)\n",
    "        res = calc_metrics_imgs(pred,masks)\n",
    "        print data_dir\n",
    "        print print_results(res)\n",
    "        return res\n",
    "    return None\n",
    "\n",
    "def calc_metric_all_folders(data_dir):\n",
    "    res = []\n",
    "    f = open('results/'+cfg.NAME+'.txt','w')\n",
    "    for j in os.listdir(data_dir):\n",
    "        folder = data_dir+'/'+j+'/'+os.listdir(data_dir+'/'+j)[0]\n",
    "        results = calc_metrics_folder(folder)\n",
    "        if not (results is None):\n",
    "            res.append(results)\n",
    "            f.write(folder+'\\n')\n",
    "            f.write(print_results(results))\n",
    "    results = dict()\n",
    "    for k in res[0].keys():\n",
    "        results[k] = np.array([i[k] for i in res]).mean()\n",
    "    f.write('total result\\n')\n",
    "    f.write(print_results(results))\n",
    "    f.close()\n",
    "    print 'total result'\n",
    "    print print_results(results)\n",
    "\n",
    "calc_metric_all_folders('results/'+cfg.NAME)"
   ]
  },
  {
   "cell_type": "code",
   "execution_count": null,
   "metadata": {
    "collapsed": true
   },
   "outputs": [],
   "source": [
    "def make_full_test(models_acc):\n",
    "    data=T.tensor4()\n",
    "    feature_sym = FCN(data,model_name='models/%s%03d'%(cfg.NAME,np.array(models_acc).argmax()))[1]\n",
    "    feature_fn = theano.function([data],feature_sym,allow_input_downcast=True)\n",
    "    data,m,c,w=T.matrix(),T.matrix(),T.matrix(),T.vector()\n",
    "    predict_fn = theano.function([data,m,c,w],soft_predict_sym(data,m,c,w),allow_input_downcast=True)\n",
    "    make_test(feature_fn,predict_fn)\n",
    "\n",
    "def make_all_experement(ndim,gm_num):\n",
    "    cfg.gm_num = 4\n",
    "    cfg.ndim = 6\n",
    "    cfg.NAME = 'conv_net_no_bn_ndim%d_gm_num%d_'%(cfg.ndim ,cfg.gm_num)\n",
    "    print 'build train fn'\n",
    "    train_fn,G_lr,net=make_train_fn()\n",
    "    print 'train network'\n",
    "    models_acc = train_net(train_fn,train_loader,net,epoch_size=100,num_epochs = 15,with_hnm=False)\n",
    "    print 'test network'\n",
    "    make_full_test(models_acc)\n",
    "    print 'score model'\n",
    "    calc_metric_all_folders('results/'+cfg.NAME)\n",
    "    "
   ]
  }
 ],
 "metadata": {
  "anaconda-cloud": {},
  "kernelspec": {
   "display_name": "Python 2",
   "language": "python",
   "name": "python2"
  },
  "language_info": {
   "codemirror_mode": {
    "name": "ipython",
    "version": 2
   },
   "file_extension": ".py",
   "mimetype": "text/x-python",
   "name": "python",
   "nbconvert_exporter": "python",
   "pygments_lexer": "ipython2",
   "version": "2.7.12"
  }
 },
 "nbformat": 4,
 "nbformat_minor": 2
}
