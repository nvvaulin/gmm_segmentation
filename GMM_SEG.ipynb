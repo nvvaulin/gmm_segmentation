{
 "cells": [
  {
   "cell_type": "code",
   "execution_count": 1,
   "metadata": {
    "collapsed": false
   },
   "outputs": [
    {
     "name": "stdout",
     "output_type": "stream",
     "text": [
      "Couldn't import dot_parser, loading of dot files will not be possible.\n"
     ]
    },
    {
     "name": "stderr",
     "output_type": "stream",
     "text": [
      "Using cuDNN version 5105 on context None\n",
      "Mapped name None to device cuda0: GeForce GTX TITAN X (0000:05:00.0)\n"
     ]
    }
   ],
   "source": [
    "import theano"
   ]
  },
  {
   "cell_type": "code",
   "execution_count": 2,
   "metadata": {
    "collapsed": false
   },
   "outputs": [
    {
     "data": {
      "text/plain": [
       "'fast_compile'"
      ]
     },
     "execution_count": 2,
     "metadata": {},
     "output_type": "execute_result"
    }
   ],
   "source": [
    "theano.config.optimizer"
   ]
  },
  {
   "cell_type": "code",
   "execution_count": 3,
   "metadata": {
    "collapsed": false
   },
   "outputs": [],
   "source": [
    "import matplotlib.pyplot as plt\n",
    "%matplotlib inline\n",
    "import numpy as np\n",
    "import cv2\n",
    "import sys"
   ]
  },
  {
   "cell_type": "code",
   "execution_count": 4,
   "metadata": {
    "collapsed": false
   },
   "outputs": [],
   "source": [
    "from easydict import EasyDict\n",
    "cfg = EasyDict()\n",
    "cfg.SEQ_LENGTH = 250\n",
    "cfg.TILE_SIZE = 31\n",
    "cfg.OUT_SIZE = 1\n",
    "cfg.TRAIN = EasyDict()\n",
    "cfg.TRAIN.EPOCH = 0\n",
    "cfg.TRAIN.EPOCH_SIZE = 1000\n",
    "cfg.TRAIN.EPOCH_NUM = 10\n",
    "cfg.gm_num = 4\n",
    "cfg.ndim = 12\n",
    "cfg.NAME = 'conv_ndim%i'%(cfg.ndim)#'conv_net_no_bn_ndim12010'#"
   ]
  },
  {
   "cell_type": "code",
   "execution_count": 5,
   "metadata": {
    "collapsed": false
   },
   "outputs": [],
   "source": [
    "from loader import TieLoader,data_generator\n",
    "train_loader = TieLoader('/media/hpc2_storage/nvaulin/ties32',\n",
    "                         0.2,0.3,t_size=64,mask_size=cfg.OUT_SIZE,sample_size=cfg.TILE_SIZE,cache_samples=True)\n",
    "test_loader = TieLoader('/media/hpc2_storage/nvaulin/test_ties32',\n",
    "                        0.2,0.3,t_size=64,mask_size=cfg.OUT_SIZE,sample_size=cfg.TILE_SIZE,cache_samples=True)"
   ]
  },
  {
   "cell_type": "code",
   "execution_count": 6,
   "metadata": {
    "collapsed": false
   },
   "outputs": [],
   "source": [
    "# from dataset_tools import draw\n",
    "\n",
    "# for x,y in data_generator(train_loader,epoch_size=1,shuffle=True):\n",
    "#     print x.shape\n",
    "#     print np.ones_like(y)[y<0.1].sum(),np.ones_like(y)[y>0.9].sum()\n",
    "#     x = np.transpose(x,(0,2,3,1)).astype(np.uint8)\n",
    "#     y = (y*255.).astype(np.uint8)\n",
    "#     _y = np.zeros(x.shape[:3],dtype=np.uint8)\n",
    "#     _y[:] = y[:,0,0][:,None,None]\n",
    "#     draw(x,_y)"
   ]
  },
  {
   "cell_type": "code",
   "execution_count": 7,
   "metadata": {
    "collapsed": false
   },
   "outputs": [],
   "source": [
    "import theano.tensor as T"
   ]
  },
  {
   "cell_type": "markdown",
   "metadata": {},
   "source": [
    "# Build model"
   ]
  },
  {
   "cell_type": "code",
   "execution_count": 8,
   "metadata": {
    "collapsed": false
   },
   "outputs": [],
   "source": [
    "from collections import OrderedDict\n",
    "from lasagne.layers import (InputLayer, ConcatLayer, Pool2DLayer, ReshapeLayer, DimshuffleLayer, NonlinearityLayer,\n",
    "                            DropoutLayer, Deconv2DLayer, batch_norm)\n",
    "\n",
    "from lasagne.layers import Conv2DLayer as ConvLayer\n",
    "import lasagne\n",
    "from lasagne.init import HeNormal\n",
    "\n",
    "\n",
    "def build_UNet(input_l, num_output_classes=2, pad='same', nonlinearity=lasagne.nonlinearities.elu, base_n_filters=16):\n",
    "    net = OrderedDict()\n",
    "    net['input'] = input_l\n",
    "\n",
    "    net['contr_1_1'] = batch_norm(ConvLayer(net['input'], base_n_filters, 3, nonlinearity=nonlinearity, pad=pad, W=HeNormal(gain=\"relu\")))\n",
    "    net['contr_1_2'] = batch_norm(ConvLayer(net['contr_1_1'], base_n_filters, 3, nonlinearity=nonlinearity, pad=pad, W=HeNormal(gain=\"relu\")))\n",
    "    net['pool1'] = Pool2DLayer(net['contr_1_2'], 2)\n",
    "\n",
    "    net['contr_2_1'] = batch_norm(ConvLayer(net['pool1'], base_n_filters*2, 3, nonlinearity=nonlinearity, pad=pad, W=HeNormal(gain=\"relu\")))\n",
    "    net['contr_2_2'] = batch_norm(ConvLayer(net['contr_2_1'], base_n_filters*2, 3, nonlinearity=nonlinearity, pad=pad, W=HeNormal(gain=\"relu\")))\n",
    "    net['pool2'] = Pool2DLayer(net['contr_2_2'], 2)\n",
    "\n",
    "    net['contr_3_1'] = batch_norm(ConvLayer(net['pool2'], base_n_filters*4, 3, nonlinearity=nonlinearity, pad=pad, W=HeNormal(gain=\"relu\")))\n",
    "    net['contr_3_2'] = batch_norm(ConvLayer(net['contr_3_1'], base_n_filters*4, 3, nonlinearity=nonlinearity, pad=pad, W=HeNormal(gain=\"relu\")))\n",
    "    net['pool3'] = Pool2DLayer(net['contr_3_2'], 2)\n",
    "\n",
    "    net['contr_4_1'] = batch_norm(ConvLayer(net['pool3'], base_n_filters*8, 3, nonlinearity=nonlinearity, pad=pad, W=HeNormal(gain=\"relu\")))\n",
    "    net['contr_4_2'] = batch_norm(ConvLayer(net['contr_4_1'], base_n_filters*8, 3, nonlinearity=nonlinearity, pad=pad, W=HeNormal(gain=\"relu\")))\n",
    "    l = net['pool4'] = Pool2DLayer(net['contr_4_2'], 2)\n",
    "\n",
    "    net['encode_1'] = batch_norm(ConvLayer(l, base_n_filters*16, 3, nonlinearity=nonlinearity, pad=pad, W=HeNormal(gain=\"relu\")))\n",
    "    net['encode_2'] = batch_norm(ConvLayer(net['encode_1'], base_n_filters*16, 3, nonlinearity=nonlinearity, pad=pad, W=HeNormal(gain=\"relu\")))\n",
    "    net['upscale1'] = batch_norm(Deconv2DLayer(net['encode_2'], base_n_filters*16, 2, 2, crop=\"valid\", nonlinearity=nonlinearity, W=HeNormal(gain=\"relu\")))\n",
    "\n",
    "    net['concat1'] = ConcatLayer([net['upscale1'], net['contr_4_2']], cropping=(None, None, \"center\", \"center\"))\n",
    "    net['expand_1_1'] = batch_norm(ConvLayer(net['concat1'], base_n_filters*8, 3, nonlinearity=nonlinearity, pad=pad, W=HeNormal(gain=\"relu\")))\n",
    "    net['expand_1_2'] = batch_norm(ConvLayer(net['expand_1_1'], base_n_filters*8, 3, nonlinearity=nonlinearity, pad=pad, W=HeNormal(gain=\"relu\")))\n",
    "    net['upscale2'] = batch_norm(Deconv2DLayer(net['expand_1_2'], base_n_filters*8, 2, 2, crop=\"valid\", nonlinearity=nonlinearity, W=HeNormal(gain=\"relu\")))\n",
    "\n",
    "    net['concat2'] = ConcatLayer([net['upscale2'], net['contr_3_2']], cropping=(None, None, \"center\", \"center\"))\n",
    "    net['expand_2_1'] = batch_norm(ConvLayer(net['concat2'], base_n_filters*4, 3, nonlinearity=nonlinearity, pad=pad, W=HeNormal(gain=\"relu\")))\n",
    "    net['expand_2_2'] = batch_norm(ConvLayer(net['expand_2_1'], base_n_filters*4, 3, nonlinearity=nonlinearity, pad=pad, W=HeNormal(gain=\"relu\")))\n",
    "    net['upscale3'] = batch_norm(Deconv2DLayer(net['expand_2_2'], base_n_filters*4, 2, 2, crop=\"valid\", nonlinearity=nonlinearity, W=HeNormal(gain=\"relu\")))\n",
    "\n",
    "    net['concat3'] = ConcatLayer([net['upscale3'], net['contr_2_2']], cropping=(None, None, \"center\", \"center\"))\n",
    "    net['expand_3_1'] = batch_norm(ConvLayer(net['concat3'], base_n_filters*2, 3, nonlinearity=nonlinearity, pad=pad, W=HeNormal(gain=\"relu\")))\n",
    "    net['expand_3_2'] = batch_norm(ConvLayer(net['expand_3_1'], base_n_filters*2, 3, nonlinearity=nonlinearity, pad=pad, W=HeNormal(gain=\"relu\")))\n",
    "    net['upscale4'] = batch_norm(Deconv2DLayer(net['expand_3_2'], base_n_filters*2, 2, 2, crop=\"valid\", nonlinearity=nonlinearity, W=HeNormal(gain=\"relu\")))\n",
    "\n",
    "    net['concat4'] = ConcatLayer([net['upscale4'], net['contr_1_2']], cropping=(None, None, \"center\", \"center\"))\n",
    "    net['expand_4_1'] = batch_norm(ConvLayer(net['concat4'], base_n_filters, 3, nonlinearity=nonlinearity, pad=pad, W=HeNormal(gain=\"relu\")))\n",
    "    net['expand_4_2'] = batch_norm(ConvLayer(net['expand_4_1'], base_n_filters, 3, nonlinearity=nonlinearity, pad=pad, W=HeNormal(gain=\"relu\")))\n",
    "\n",
    "    net['output_segmentation'] = ConvLayer(net['expand_4_2'], num_output_classes, 1, nonlinearity=None)\n",
    "    return net['output_segmentation']"
   ]
  },
  {
   "cell_type": "code",
   "execution_count": 9,
   "metadata": {
    "collapsed": false
   },
   "outputs": [
    {
     "name": "stdout",
     "output_type": "stream",
     "text": [
      "\n",
      "In -->      Layer    --> Out     Description                \n",
      "-------     -----    -------     -----------                \n",
      "[]          0        [1]         data(None, 3, 31, 31)      \n",
      "[0]         1        [2]         None(None, 16, 31, 31)     \n",
      "[1]         2        [3]         None(None, 16, 31, 31)     \n",
      "[2]         3        [4]         None(None, 16, 31, 31)     \n",
      "[3]         4        [5]         None(None, 16, 31, 31)     \n",
      "[4]         5        [6]         None(None, 16, 31, 31)     \n",
      "[5]         6        [7, 68]     None(None, 16, 31, 31)     \n",
      "[6]         7        [8]         None(None, 16, 15, 15)     \n",
      "[7]         8        [9]         None(None, 32, 15, 15)     \n",
      "[8]         9        [10]        None(None, 32, 15, 15)     \n",
      "[9]         10       [11]        None(None, 32, 15, 15)     \n",
      "[10]        11       [12]        None(None, 32, 15, 15)     \n",
      "[11]        12       [13]        None(None, 32, 15, 15)     \n",
      "[12]        13       [14, 58]    None(None, 32, 15, 15)     \n",
      "[13]        14       [15]        None(None, 32, 7, 7)       \n",
      "[14]        15       [16]        None(None, 64, 7, 7)       \n",
      "[15]        16       [17]        None(None, 64, 7, 7)       \n",
      "[16]        17       [18]        None(None, 64, 7, 7)       \n",
      "[17]        18       [19]        None(None, 64, 7, 7)       \n",
      "[18]        19       [20]        None(None, 64, 7, 7)       \n",
      "[19]        20       [21, 48]    None(None, 64, 7, 7)       \n",
      "[20]        21       [22]        None(None, 64, 3, 3)       \n",
      "[21]        22       [23]        None(None, 128, 3, 3)      \n",
      "[22]        23       [24]        None(None, 128, 3, 3)      \n",
      "[23]        24       [25]        None(None, 128, 3, 3)      \n",
      "[24]        25       [26]        None(None, 128, 3, 3)      \n",
      "[25]        26       [27]        None(None, 128, 3, 3)      \n",
      "[26]        27       [28, 38]    None(None, 128, 3, 3)      \n",
      "[27]        28       [29]        None(None, 128, 1, 1)      \n",
      "[28]        29       [30]        None(None, 256, 1, 1)      \n",
      "[29]        30       [31]        None(None, 256, 1, 1)      \n",
      "[30]        31       [32]        None(None, 256, 1, 1)      \n",
      "[31]        32       [33]        None(None, 256, 1, 1)      \n",
      "[32]        33       [34]        None(None, 256, 1, 1)      \n",
      "[33]        34       [35]        None(None, 256, 1, 1)      \n",
      "[34]        35       [36]        None(None, 256, 2, 2)      \n",
      "[35]        36       [37]        None(None, 256, 2, 2)      \n",
      "[36]        37       [38]        None(None, 256, 2, 2)      \n",
      "[37, 27]    38       [39]        None(None, 384, 2, 2)      \n",
      "[38]        39       [40]        None(None, 128, 2, 2)      \n",
      "[39]        40       [41]        None(None, 128, 2, 2)      \n",
      "[40]        41       [42]        None(None, 128, 2, 2)      \n",
      "[41]        42       [43]        None(None, 128, 2, 2)      \n",
      "[42]        43       [44]        None(None, 128, 2, 2)      \n",
      "[43]        44       [45]        None(None, 128, 2, 2)      \n",
      "[44]        45       [46]        None(None, 128, 4, 4)      \n",
      "[45]        46       [47]        None(None, 128, 4, 4)      \n",
      "[46]        47       [48]        None(None, 128, 4, 4)      \n",
      "[47, 20]    48       [49]        None(None, 192, 4, 4)      \n",
      "[48]        49       [50]        None(None, 64, 4, 4)       \n",
      "[49]        50       [51]        None(None, 64, 4, 4)       \n",
      "[50]        51       [52]        None(None, 64, 4, 4)       \n",
      "[51]        52       [53]        None(None, 64, 4, 4)       \n",
      "[52]        53       [54]        None(None, 64, 4, 4)       \n",
      "[53]        54       [55]        None(None, 64, 4, 4)       \n",
      "[54]        55       [56]        None(None, 64, 8, 8)       \n",
      "[55]        56       [57]        None(None, 64, 8, 8)       \n",
      "[56]        57       [58]        None(None, 64, 8, 8)       \n",
      "[57, 13]    58       [59]        None(None, 96, 8, 8)       \n",
      "[58]        59       [60]        None(None, 32, 8, 8)       \n",
      "[59]        60       [61]        None(None, 32, 8, 8)       \n",
      "[60]        61       [62]        None(None, 32, 8, 8)       \n",
      "[61]        62       [63]        None(None, 32, 8, 8)       \n",
      "[62]        63       [64]        None(None, 32, 8, 8)       \n",
      "[63]        64       [65]        None(None, 32, 8, 8)       \n",
      "[64]        65       [66]        None(None, 32, 16, 16)     \n",
      "[65]        66       [67]        None(None, 32, 16, 16)     \n",
      "[66]        67       [68]        None(None, 32, 16, 16)     \n",
      "[67, 6]     68       [69]        None(None, 48, 16, 16)     \n",
      "[68]        69       [70]        None(None, 16, 16, 16)     \n",
      "[69]        70       [71]        None(None, 16, 16, 16)     \n",
      "[70]        71       [72]        None(None, 16, 16, 16)     \n",
      "[71]        72       [73]        None(None, 16, 16, 16)     \n",
      "[72]        73       [74]        None(None, 16, 16, 16)     \n",
      "[73]        74       [75]        None(None, 16, 16, 16)     \n",
      "[74]        75       [76]        None(None, 11, 16, 16)     \n",
      "[75]        76       [77]        transpose(None, 16, 16, 11)\n",
      "[76]        77       []          l2norm(None, 16, 16, 12)   \n"
     ]
    }
   ],
   "source": [
    "from lasagne import layers as L\n",
    "from lasagne.nonlinearities import rectify\n",
    "from utils import NormedDense,L2NormLayer\n",
    "from utils import get_network_str,save_weights,load_weights\n",
    "import lasagne\n",
    "\n",
    "def FCN(data,ndim,verbose=True,model_name='',input_shape = (None,3,None,None),pad='same'):\n",
    "    datal = res = L.InputLayer(input_shape\n",
    "                           ,data/256.\n",
    "                           ,name='data')\n",
    "    res = build_UNet(datal,ndim-1)\n",
    "    res = L.DimshuffleLayer(res,(0,2,3,1),name='transpose')\n",
    "    res = L2NormLayer(res,1e-8,name='l2norm')\n",
    "    if(model_name!=''):\n",
    "        load_weights(res,'models/'+model_name)\n",
    "    print get_network_str(res,incomings=True,outgoings=True)\n",
    "    return res\n",
    "        \n",
    "def soft_predict_sym(features,means,covars,weights):\n",
    "    return 1.-T.nnet.sigmoid(calc_log_prob_gmm(features,means,covars,weights))\n",
    "\n",
    "data = T.tensor4(name='data')\n",
    "label = T.tensor3(name='label')\n",
    "net = FCN(data,ndim=cfg.ndim,model_name='',input_shape = (None,3,cfg.TILE_SIZE,cfg.TILE_SIZE),pad = 'valid')"
   ]
  },
  {
   "cell_type": "markdown",
   "metadata": {},
   "source": [
    "# Train"
   ]
  },
  {
   "cell_type": "code",
   "execution_count": 10,
   "metadata": {
    "collapsed": false
   },
   "outputs": [
    {
     "name": "stderr",
     "output_type": "stream",
     "text": [
      "/usr/local/lib/python2.7/dist-packages/lasagne/layers/pool.py:266: UserWarning: DEPRECATION: the 'ds' parameter is not going to exist anymore as it is going to be replaced by the parameter 'ws'.\n",
      "  mode=self.mode,\n",
      "/usr/local/lib/python2.7/dist-packages/lasagne/layers/pool.py:266: UserWarning: DEPRECATION: the 'st' parameter is not going to exist anymore as it is going to be replaced by the parameter 'stride'.\n",
      "  mode=self.mode,\n",
      "/usr/local/lib/python2.7/dist-packages/lasagne/layers/pool.py:266: UserWarning: DEPRECATION: the 'padding' parameter is not going to exist anymore as it is going to be replaced by the parameter 'pad'.\n",
      "  mode=self.mode,\n",
      "/usr/local/lib/python2.7/dist-packages/lasagne/layers/helper.py:212: UserWarning: get_output() was called with unused kwargs:\n",
      "\tdetermenisic (perhaps you meant deterministic)\n",
      "  % \"\\n\\t\".join(suggestions))\n"
     ]
    },
    {
     "name": "stdout",
     "output_type": "stream",
     "text": [
      "train_fn compiled\n",
      "test_fn compiled\n"
     ]
    }
   ],
   "source": [
    "from gmm_op import get_gmm,calc_log_prob_gmm\n",
    "from theano_utils import split,histogram_loss\n",
    "\n",
    "def split_tr_p_n(x,y):\n",
    "    x_tr_p,x_n = split(x,y)\n",
    "    x_p = x_tr_p[x_tr_p.shape[0]//2:]\n",
    "    x_tr = x_tr_p[:x_tr_p.shape[0]//2]\n",
    "    return x_tr,x_p,x_n\n",
    "\n",
    "def make_classifier(X,label,non_learn_params):\n",
    "    X = X.reshape((-1,X.shape[-1]))\n",
    "    x_tr,x_p,x_n = split_tr_p_n(X,label.flatten())\n",
    "    m,c,w = get_gmm(x_tr,cfg.gm_num,cfg.ndim,use_approx_grad=True)\n",
    "    p_n = calc_log_prob_gmm(x_n,m,c,w)\n",
    "    p_p = calc_log_prob_gmm(x_p,m,c,w)\n",
    "    loss = histogram_loss(p_n,p_p,\n",
    "                          non_learn_params['min_cov'],\n",
    "                          100,\n",
    "                          non_learn_params['width'])[0]\n",
    "    prediction = T.nnet.sigmoid(T.concatenate([p_p,p_n],axis=0))\n",
    "    Y = T.concatenate([T.ones_like(p_p),T.zeros_like(p_n)],axis=0)\n",
    "    return loss,X,Y,prediction,m,c,w,p_p,p_n\n",
    "\n",
    "def make_train(net,data,label,non_learn_params):\n",
    "    sym = L.get_output(net ,determenisic=False)\n",
    "    s = int((L.get_output_shape(net)[1]-1)/2)\n",
    "    sym = sym[:,s:s+1,s:s+1,:]\n",
    "    loss,X,Y,prediction,m,c,w,p_p,p_n = make_classifier(sym,label,non_learn_params)\n",
    "    params = L.get_all_params(net,trainable=True)\n",
    "    updates = lasagne.updates.adam(loss,params,non_learn_params['lr'])\n",
    "    return theano.function([data, label], [loss,X,Y,prediction,m,c,w],\\\n",
    "                               allow_input_downcast=True, updates=updates)\n",
    "\n",
    "\n",
    "def make_test(net,data,label,non_learn_params):\n",
    "    sym = L.get_output(net ,determenisic=True)\n",
    "    s = int((L.get_output_shape(net)[1]-1)/2)\n",
    "    sym = sym[:,s:s+1,s:s+1]\n",
    "    loss,X,Y,prediction,m,c,w,p_p,p_n = make_classifier(sym,label,non_learn_params)\n",
    "    return theano.function([data, label], [loss,X,Y,prediction,m,c,w],\\\n",
    "                               allow_input_downcast=True)\n",
    "        \n",
    "\n",
    "non_learn_params={'min_cov' : theano.shared(1e-3),\n",
    "                  'lr' : theano.shared(np.array(1e-2, dtype=theano.config.floatX)),\n",
    "                  'width': theano.shared(2.)}\n",
    "\n",
    "train_fn = make_train(net,data,label,non_learn_params)\n",
    "print 'train_fn compiled'\n",
    "test_fn = make_test(net,data,label,non_learn_params)\n",
    "print 'test_fn compiled'"
   ]
  },
  {
   "cell_type": "code",
   "execution_count": 11,
   "metadata": {
    "collapsed": false
   },
   "outputs": [
    {
     "name": "stdout",
     "output_type": "stream",
     "text": [
      "checkpoint models/conv_ndim12000.npz\n",
      "train\n",
      " epoch 0 batch 0 loss=49.56 l=49.56 aps=0.941 pp=1.000 pn=0.385 int_pp_pn=0.843     \n",
      " epoch 0 batch 100 loss=19.27 l=0.00 aps=0.976 pp=0.970 pn=0.737 int_pp_pn=0.948     \n",
      " epoch 0 batch 200 loss=13.06 l=0.00 aps=0.978 pp=0.977 pn=0.746 int_pp_pn=0.951     \n",
      " epoch 0 batch 300 loss=11.30 l=0.00 aps=0.981 pp=0.982 pn=0.766 int_pp_pn=0.956     \n",
      " epoch 0 batch 400 loss=9.51 l=0.00 aps=0.983 pp=0.984 pn=0.779 int_pp_pn=0.960     \n",
      " epoch 0 batch 500 loss=8.12 l=1.00 aps=0.984 pp=0.985 pn=0.788 int_pp_pn=0.961     \n",
      " epoch 0 batch 600 loss=7.38 l=0.00 aps=0.985 pp=0.985 pn=0.796 int_pp_pn=0.966     \n",
      " epoch 0 batch 700 loss=6.66 l=0.00 aps=0.985 pp=0.985 pn=0.797 int_pp_pn=0.964     \n",
      " epoch 0 batch 800 loss=6.38 l=0.00 aps=0.985 pp=0.985 pn=0.802 int_pp_pn=0.966     \n",
      " epoch 0 batch 900 loss=6.05 l=0.00 aps=0.986 pp=0.985 pn=0.801 int_pp_pn=0.967     \n",
      " epoch 0 batch 1000 loss=5.72 l=0.00 aps=0.986 pp=0.986 pn=0.803 int_pp_pn=0.969     \n",
      " epoch 0 batch 1100 loss=5.39 l=0.00 aps=0.987 pp=0.986 pn=0.809 int_pp_pn=0.971     \n",
      " epoch 0 batch 1200 loss=5.20 l=0.00 aps=0.987 pp=0.987 pn=0.810 int_pp_pn=0.971     \n",
      " epoch 0 batch 1300 loss=5.10 l=0.00 aps=0.988 pp=0.988 pn=0.811 int_pp_pn=0.969     \n",
      " epoch 0 batch 1400 loss=5.02 l=0.00 aps=0.988 pp=0.988 pn=0.815 int_pp_pn=0.970     \n",
      " epoch 0 batch 1499 loss=5.51 l=0.00 aps=0.988 pp=0.988 pn=0.815 int_pp_pn=0.967     \n",
      "checkpoint models/conv_ndim12000.npz\n",
      "test\n",
      " epoch 0 batch 0 loss=165.19 l=165.19 aps=0.704 pp=1.000 pn=0.000 int_pp_pn=0.410     \n",
      " epoch 0 batch 100 loss=24.57 l=0.04 aps=0.964 pp=0.979 pn=0.652 int_pp_pn=0.914     \n",
      " epoch 0 batch 200 loss=23.07 l=0.00 aps=0.967 pp=0.978 pn=0.664 int_pp_pn=0.917     \n",
      " epoch 0 batch 300 loss=23.06 l=236.54 aps=0.968 pp=0.980 pn=0.679 int_pp_pn=0.918     \n",
      " epoch 0 batch 400 loss=23.46 l=3.06 aps=0.967 pp=0.977 pn=0.675 int_pp_pn=0.918     \n",
      " epoch 0 batch 500 loss=22.83 l=0.00 aps=0.968 pp=0.978 pn=0.679 int_pp_pn=0.922     \n",
      " epoch 0 batch 600 loss=23.86 l=82.58 aps=0.967 pp=0.978 pn=0.676 int_pp_pn=0.922     \n",
      " epoch 0 batch 700 loss=23.81 l=0.00 aps=0.968 pp=0.979 pn=0.680 int_pp_pn=0.923     \n",
      " epoch 0 batch 749 loss=23.09 l=39.05 aps=0.969 pp=0.978 pn=0.685 int_pp_pn=0.922     \n",
      "train\n",
      " epoch 1 batch 0 loss=0.00 l=0.00 aps=1.000 pp=1.000 pn=0.846 int_pp_pn=0.999     \n",
      " epoch 1 batch 100 loss=5.56 l=11.00 aps=0.986 pp=0.994 pn=0.754 int_pp_pn=0.940     \n",
      " epoch 1 batch 200 loss=4.36 l=21.99 aps=0.989 pp=0.991 pn=0.789 int_pp_pn=0.973     \n",
      " epoch 1 batch 300 loss=4.28 l=0.00 aps=0.991 pp=0.992 pn=0.814 int_pp_pn=0.976     \n",
      " epoch 1 batch 400 loss=4.45 l=1.00 aps=0.990 pp=0.992 pn=0.817 int_pp_pn=0.975     \n",
      " epoch 1 batch 500 loss=4.59 l=0.00 aps=0.990 pp=0.990 pn=0.815 int_pp_pn=0.975     \n",
      " epoch 1 batch 600 loss=4.38 l=0.00 aps=0.989 pp=0.991 pn=0.810 int_pp_pn=0.974     \n",
      " epoch 1 batch 700 loss=4.09 l=0.00 aps=0.989 pp=0.991 pn=0.805 int_pp_pn=0.971     \n",
      " epoch 1 batch 800 loss=4.21 l=0.00 aps=0.989 pp=0.991 pn=0.803 int_pp_pn=0.972     \n",
      " epoch 1 batch 900 loss=4.05 l=0.00 aps=0.989 pp=0.991 pn=0.799 int_pp_pn=0.973     \n",
      " epoch 1 batch 1000 loss=4.34 l=0.00 aps=0.988 pp=0.990 pn=0.797 int_pp_pn=0.972     \n",
      " epoch 1 batch 1100 loss=4.07 l=0.00 aps=0.988 pp=0.991 pn=0.796 int_pp_pn=0.971     \n",
      " epoch 1 batch 1200 loss=3.94 l=12.96 aps=0.989 pp=0.991 pn=0.792 int_pp_pn=0.969     \n",
      " epoch 1 batch 1300 loss=3.91 l=0.00 aps=0.988 pp=0.991 pn=0.787 int_pp_pn=0.969     \n",
      " epoch 1 batch 1400 loss=3.77 l=0.00 aps=0.988 pp=0.991 pn=0.783 int_pp_pn=0.971     \n",
      " epoch 1 batch 1499 loss=3.65 l=0.00 aps=0.988 pp=0.992 pn=0.780 int_pp_pn=0.971     \n",
      "checkpoint models/conv_ndim12001.npz\n",
      "test\n",
      " epoch 1 batch 0 loss=0.00 l=0.00 aps=1.000 pp=1.000 pn=1.000 int_pp_pn=0.500     \n",
      " epoch 1 batch 100 loss=14.68 l=0.00 aps=0.971 pp=0.987 pn=0.720 int_pp_pn=0.925     \n",
      " epoch 1 batch 200 loss=14.62 l=0.00 aps=0.975 pp=0.987 pn=0.706 int_pp_pn=0.932     \n",
      " epoch 1 batch 300 loss=14.23 l=0.00 aps=0.973 pp=0.989 pn=0.697 int_pp_pn=0.927     \n",
      " epoch 1 batch 400 loss=13.71 l=0.00 aps=0.972 pp=0.988 pn=0.690 int_pp_pn=0.916     \n",
      " epoch 1 batch 500 loss=15.50 l=6.84 aps=0.972 pp=0.987 pn=0.687 int_pp_pn=0.925     \n",
      " epoch 1 batch 600 loss=15.74 l=0.00 aps=0.971 pp=0.987 pn=0.682 int_pp_pn=0.913     \n",
      " epoch 1 batch 700 loss=16.12 l=2.75 aps=0.971 pp=0.986 pn=0.681 int_pp_pn=0.927     \n",
      " epoch 1 batch 749 loss=17.26 l=0.00 aps=0.971 pp=0.985 pn=0.678 int_pp_pn=0.924     \n",
      "train\n",
      " epoch 2 batch 0 loss=0.00 l=0.00 aps=1.000 pp=1.000 pn=0.840 int_pp_pn=0.998     \n",
      " epoch 2 batch 100 loss=2.32 l=0.00 aps=0.984 pp=0.998 pn=0.729 int_pp_pn=0.955     \n",
      " epoch 2 batch 200 loss=2.95 l=0.00 aps=0.983 pp=0.996 pn=0.720 int_pp_pn=0.951     \n",
      " epoch 2 batch 300 loss=3.43 l=40.27 aps=0.984 pp=0.996 pn=0.728 int_pp_pn=0.955     \n",
      " epoch 2 batch 400 loss=3.89 l=0.00 aps=0.984 pp=0.996 pn=0.733 int_pp_pn=0.952     \n",
      " epoch 2 batch 500 loss=3.60 l=0.00 aps=0.984 pp=0.996 pn=0.726 int_pp_pn=0.956     \n",
      " epoch 2 batch 600 loss=3.43 l=0.00 aps=0.985 pp=0.996 pn=0.733 int_pp_pn=0.957     \n",
      " epoch 2 batch 700 loss=3.50 l=0.00 aps=0.984 pp=0.995 pn=0.734 int_pp_pn=0.958     \n",
      " epoch 2 batch 800 loss=3.32 l=0.00 aps=0.984 pp=0.994 pn=0.737 int_pp_pn=0.959     \n",
      " epoch 2 batch 900 loss=3.51 l=38.10 aps=0.984 pp=0.994 pn=0.735 int_pp_pn=0.959     \n",
      " epoch 2 batch 1000 loss=3.47 l=0.00 aps=0.984 pp=0.995 pn=0.736 int_pp_pn=0.946     \n",
      " epoch 2 batch 1100 loss=3.36 l=0.00 aps=0.985 pp=0.995 pn=0.741 int_pp_pn=0.960     \n",
      " epoch 2 batch 1200 loss=3.58 l=0.00 aps=0.984 pp=0.994 pn=0.739 int_pp_pn=0.957     \n",
      " epoch 2 batch 1300 loss=3.66 l=7.35 aps=0.984 pp=0.994 pn=0.740 int_pp_pn=0.957     \n",
      " epoch 2 batch 1400 loss=4.09 l=0.00 aps=0.983 pp=0.993 pn=0.737 int_pp_pn=0.952     \n",
      " epoch 2 batch 1499 loss=4.27 l=0.00 aps=0.983 pp=0.993 pn=0.735 int_pp_pn=0.955     \n",
      "checkpoint models/conv_ndim12002.npz\n",
      "test\n",
      " epoch 2 batch 0 loss=85.64 l=85.64 aps=0.831 pp=0.769 pn=0.538 int_pp_pn=0.716     \n",
      " epoch 2 batch 100 loss=26.15 l=124.73 aps=0.962 pp=0.944 pn=0.738 int_pp_pn=0.919     \n",
      " epoch 2 batch 200 loss=21.55 l=0.00 aps=0.967 pp=0.956 pn=0.723 int_pp_pn=0.928     \n",
      " epoch 2 batch 300 loss=22.09 l=0.00 aps=0.969 pp=0.960 pn=0.729 int_pp_pn=0.930     \n",
      " epoch 2 batch 400 loss=21.40 l=0.00 aps=0.969 pp=0.961 pn=0.730 int_pp_pn=0.929     \n",
      " epoch 2 batch 500 loss=21.37 l=0.00 aps=0.969 pp=0.965 pn=0.727 int_pp_pn=0.929     \n",
      " epoch 2 batch 600 loss=21.30 l=64.81 aps=0.968 pp=0.966 pn=0.721 int_pp_pn=0.929     \n",
      " epoch 2 batch 700 loss=21.80 l=115.35 aps=0.968 pp=0.965 pn=0.717 int_pp_pn=0.928     \n",
      " epoch 2 batch 749 loss=21.52 l=0.00 aps=0.968 pp=0.964 pn=0.722 int_pp_pn=0.928     \n",
      "train\n",
      " epoch 3 batch 0 loss=0.00 l=0.00 aps=1.000 pp=1.000 pn=0.680 int_pp_pn=0.980     \n",
      " epoch 3 batch 100 loss=2.77 l=0.00 aps=0.988 pp=0.991 pn=0.720 int_pp_pn=0.968     \n",
      " epoch 3 batch 200 loss=4.13 l=2.14 aps=0.987 pp=0.991 pn=0.752 int_pp_pn=0.963     \n",
      " epoch 3 batch 300 loss=4.14 l=4.00 aps=0.986 pp=0.993 pn=0.754 int_pp_pn=0.960     \n",
      " epoch 3 batch 400 loss=3.61 l=0.00 aps=0.987 pp=0.994 pn=0.759 int_pp_pn=0.966     \n",
      " epoch 3 batch 500 loss=3.49 l=0.00 aps=0.988 pp=0.994 pn=0.764 int_pp_pn=0.967     \n",
      " epoch 3 batch 600 loss=3.69 l=0.00 aps=0.986 pp=0.995 pn=0.745 int_pp_pn=0.962     \n",
      " epoch 3 batch 700 loss=4.49 l=0.00 aps=0.984 pp=0.994 pn=0.730 int_pp_pn=0.956     \n",
      " epoch 3 batch 800 loss=4.84 l=0.00 aps=0.982 pp=0.993 pn=0.725 int_pp_pn=0.951     \n",
      " epoch 3 batch 900 loss=5.02 l=0.00 aps=0.982 pp=0.993 pn=0.727 int_pp_pn=0.952     \n",
      " epoch 3 batch 1000 loss=4.88 l=0.00 aps=0.983 pp=0.993 pn=0.737 int_pp_pn=0.952     \n",
      " epoch 3 batch 1100 loss=5.00 l=0.00 aps=0.982 pp=0.992 pn=0.740 int_pp_pn=0.955     \n",
      " epoch 3 batch 1200 loss=4.84 l=0.79 aps=0.983 pp=0.993 pn=0.742 int_pp_pn=0.954     \n",
      " epoch 3 batch 1300 loss=4.83 l=0.00 aps=0.982 pp=0.993 pn=0.733 int_pp_pn=0.952     \n",
      " epoch 3 batch 1400 loss=5.16 l=7.83 aps=0.981 pp=0.992 pn=0.728 int_pp_pn=0.950     \n",
      " epoch 3 batch 1499 loss=5.15 l=0.00 aps=0.980 pp=0.991 pn=0.728 int_pp_pn=0.948     \n",
      "checkpoint models/conv_ndim12003.npz\n",
      "test\n",
      " epoch 3 batch 0 loss=0.00 l=0.00 aps=1.000 pp=1.000 pn=0.808 int_pp_pn=0.981     \n",
      " epoch 3 batch 100 loss=32.54 l=23.33 aps=0.940 pp=0.962 pn=0.626 int_pp_pn=0.854     \n",
      " epoch 3 batch 200 loss=34.00 l=89.87 aps=0.932 pp=0.937 pn=0.635 int_pp_pn=0.845     \n",
      " epoch 3 batch 300 loss=32.25 l=0.00 aps=0.934 pp=0.940 pn=0.643 int_pp_pn=0.849     \n",
      " epoch 3 batch 400 loss=32.29 l=66.92 aps=0.934 pp=0.941 pn=0.642 int_pp_pn=0.842     \n",
      " epoch 3 batch 500 loss=34.09 l=0.00 aps=0.933 pp=0.939 pn=0.640 int_pp_pn=0.851     \n",
      " epoch 3 batch 600 loss=34.70 l=65.41 aps=0.931 pp=0.940 pn=0.636 int_pp_pn=0.842     \n",
      " epoch 3 batch 700 loss=36.04 l=0.00 aps=0.931 pp=0.940 pn=0.637 int_pp_pn=0.842     \n",
      " epoch 3 batch 749 loss=36.44 l=0.00 aps=0.929 pp=0.941 pn=0.630 int_pp_pn=0.839     \n",
      "train\n",
      " epoch 4 batch 0 loss=0.00 l=0.00 aps=1.000 pp=1.000 pn=1.000 int_pp_pn=0.999     \n",
      " epoch 4 batch 100 loss=5.86 l=0.00 aps=0.966 pp=0.988 pn=0.692 int_pp_pn=0.908     \n",
      " epoch 4 batch 200 loss=7.02 l=0.00 aps=0.964 pp=0.988 pn=0.669 int_pp_pn=0.903     \n",
      " epoch 4 batch 300 loss=7.32 l=0.00 aps=0.965 pp=0.988 pn=0.679 int_pp_pn=0.909     \n",
      " epoch 4 batch 400 loss=6.82 l=0.00 aps=0.966 pp=0.989 pn=0.676 int_pp_pn=0.912     \n",
      " epoch 4 batch 500 loss=8.23 l=81.72 aps=0.968 pp=0.988 pn=0.679 int_pp_pn=0.917     \n",
      " epoch 4 batch 600 loss=7.83 l=0.00 aps=0.971 pp=0.988 pn=0.695 int_pp_pn=0.926     \n",
      " epoch 4 batch 700 loss=7.78 l=0.00 aps=0.971 pp=0.986 pn=0.705 int_pp_pn=0.926     \n",
      " epoch 4 batch 800 loss=7.74 l=0.00 aps=0.973 pp=0.987 pn=0.715 int_pp_pn=0.931     \n",
      " epoch 4 batch 900 loss=7.58 l=0.00 aps=0.973 pp=0.988 pn=0.715 int_pp_pn=0.931     \n",
      " epoch 4 batch 1000 loss=7.67 l=0.00 aps=0.974 pp=0.988 pn=0.716 int_pp_pn=0.934     \n",
      " epoch 4 batch 1100 loss=7.41 l=2.37 aps=0.975 pp=0.988 pn=0.720 int_pp_pn=0.931     \n",
      " epoch 4 batch 1200 loss=6.99 l=0.04 aps=0.977 pp=0.988 pn=0.725 int_pp_pn=0.941     \n",
      " epoch 4 batch 1300 loss=6.66 l=0.00 aps=0.978 pp=0.989 pn=0.728 int_pp_pn=0.944     \n",
      " epoch 4 batch 1400 loss=6.46 l=0.00 aps=0.978 pp=0.989 pn=0.728 int_pp_pn=0.943     \n",
      " epoch 4 batch 1499 loss=6.49 l=2.00 aps=0.978 pp=0.988 pn=0.729 int_pp_pn=0.943     \n",
      "checkpoint models/conv_ndim12004.npz\n",
      "test\n",
      " epoch 4 batch 0 loss=0.00 l=0.00 aps=0.769 pp=1.000 pn=0.308 int_pp_pn=0.154     \n",
      " epoch 4 batch 100 loss=27.00 l=117.61 aps=0.942 pp=0.980 pn=0.589 int_pp_pn=0.846     \n",
      " epoch 4 batch 200 loss=27.56 l=0.00 aps=0.949 pp=0.975 pn=0.615 int_pp_pn=0.875     \n",
      " epoch 4 batch 300 loss=25.68 l=0.00 aps=0.954 pp=0.976 pn=0.628 int_pp_pn=0.885     \n",
      " epoch 4 batch 400 loss=24.96 l=0.00 aps=0.957 pp=0.977 pn=0.640 int_pp_pn=0.896     \n",
      " epoch 4 batch 500 loss=25.32 l=0.00 aps=0.957 pp=0.978 pn=0.642 int_pp_pn=0.895     \n",
      " epoch 4 batch 600 loss=27.40 l=0.00 aps=0.956 pp=0.974 pn=0.643 int_pp_pn=0.891     \n",
      " epoch 4 batch 700 loss=28.21 l=40.13 aps=0.956 pp=0.973 pn=0.638 int_pp_pn=0.894     \n",
      " epoch 4 batch 749 loss=28.53 l=19.47 aps=0.955 pp=0.971 pn=0.637 int_pp_pn=0.892     \n",
      "train\n",
      " epoch 5 batch 0 loss=0.00 l=0.00 aps=1.000 pp=1.000 pn=1.000 int_pp_pn=0.981     \n",
      " epoch 5 batch 100 loss=3.59 l=11.69 aps=0.979 pp=0.992 pn=0.704 int_pp_pn=0.943     \n",
      " epoch 5 batch 200 loss=4.44 l=0.00 aps=0.980 pp=0.992 pn=0.726 int_pp_pn=0.946     \n",
      " epoch 5 batch 300 loss=4.25 l=0.00 aps=0.982 pp=0.991 pn=0.723 int_pp_pn=0.953     \n",
      " epoch 5 batch 400 loss=3.81 l=0.00 aps=0.983 pp=0.992 pn=0.715 int_pp_pn=0.954     \n",
      " epoch 5 batch 500 loss=3.67 l=0.00 aps=0.984 pp=0.992 pn=0.726 int_pp_pn=0.958     \n",
      " epoch 5 batch 600 loss=3.46 l=0.00 aps=0.985 pp=0.993 pn=0.736 int_pp_pn=0.960     \n",
      " epoch 5 batch 700 loss=3.69 l=0.00 aps=0.985 pp=0.993 pn=0.741 int_pp_pn=0.962     \n",
      " epoch 5 batch 800 loss=4.74 l=0.00 aps=0.984 pp=0.992 pn=0.741 int_pp_pn=0.957     \n",
      " epoch 5 batch 900 loss=6.27 l=56.14 aps=0.982 pp=0.991 pn=0.729 int_pp_pn=0.951     \n",
      " epoch 5 batch 1000 loss=7.25 l=253.16 aps=0.980 pp=0.990 pn=0.723 int_pp_pn=0.947     \n",
      " epoch 5 batch 1100 loss=8.90 l=13.59 aps=0.977 pp=0.988 pn=0.723 int_pp_pn=0.940     \n",
      " epoch 5 batch 1200 loss=9.51 l=1.72 aps=0.975 pp=0.987 pn=0.724 int_pp_pn=0.934     \n",
      " epoch 5 batch 1300 loss=10.30 l=87.00 aps=0.973 pp=0.985 pn=0.725 int_pp_pn=0.928     \n",
      " epoch 5 batch 1400 loss=10.65 l=6.00 aps=0.972 pp=0.985 pn=0.725 int_pp_pn=0.924     \n",
      " epoch 5 batch 1499 loss=12.00 l=6.50 aps=0.970 pp=0.985 pn=0.725 int_pp_pn=0.923     \n",
      "checkpoint models/conv_ndim12005.npz\n",
      "test\n",
      " epoch 5 batch 0 loss=0.00 l=0.00 aps=1.000 pp=1.000 pn=1.000 int_pp_pn=0.981     \n",
      " epoch 5 batch 100 loss=39.66 l=171.38 aps=0.944 pp=0.968 pn=0.686 int_pp_pn=0.855     \n",
      " epoch 5 batch 200 loss=39.63 l=0.00 aps=0.941 pp=0.966 pn=0.688 int_pp_pn=0.854     \n",
      " epoch 5 batch 300 loss=40.39 l=115.23 aps=0.940 pp=0.962 pn=0.682 int_pp_pn=0.852     \n",
      " epoch 5 batch 400 loss=41.67 l=0.00 aps=0.940 pp=0.955 pn=0.685 int_pp_pn=0.854     \n",
      " epoch 5 batch 500 loss=41.75 l=80.47 aps=0.940 pp=0.955 pn=0.685 int_pp_pn=0.853     \n",
      " epoch 5 batch 600 loss=42.29 l=18.11 aps=0.940 pp=0.958 pn=0.681 int_pp_pn=0.850     \n",
      " epoch 5 batch 700 loss=42.59 l=5.00 aps=0.938 pp=0.956 pn=0.681 int_pp_pn=0.847     \n",
      " epoch 5 batch 749 loss=41.57 l=11.83 aps=0.940 pp=0.958 pn=0.683 int_pp_pn=0.852     \n"
     ]
    }
   ],
   "source": [
    "from sklearn.metrics import average_precision_score\n",
    "import datetime\n",
    "\n",
    "fout = open(\"out.txt\",'a')\n",
    "fout.write(str(datetime.datetime.now())+'\\n')\n",
    "def get_pp_pn(l,pred):\n",
    "    o = np.ones(len(l))\n",
    "    pn = []\n",
    "    pp = []\n",
    "    R = pred[::max(len(pred)//100,1)].copy()\n",
    "    R  = np.sort(R)\n",
    "    for r in R:\n",
    "        pn.append(o[(pred > r)&(l>0.9)].sum()/o[l>0.9].sum())\n",
    "        pp.append(o[(pred < r)&(l<0.1)].sum()/o[l<0.1].sum())\n",
    "    pp,pn = np.array(pp),np.array(pn)\n",
    "    return (np.abs(pn[1:]-pn[:-1])*(pp[1:]+pp[:-1])/2.).sum()\n",
    "\n",
    "def iterate_batches(fn,data_generator,epoch,metrix = dict()):\n",
    "    loss=0\n",
    "    acc=0\n",
    "    labels,predicted = np.array([]),np.array([])\n",
    "    for i,batch in enumerate(data_generator()):\n",
    "        res = fn(*batch)\n",
    "        fout.write(\"error \"+str(batch[0].shape)+ ' '+str(batch[1].shape)+'\\n')\n",
    "        mask = (res[2]>0.9) | (res[2]<0.1)\n",
    "        loss+=res[0]\n",
    "        labels = np.concatenate((labels,res[2][mask]))\n",
    "        predicted = np.concatenate((predicted,res[3][mask]))\n",
    "        s = ' '.join(['%s=%.3f'%(k,metrix[k](labels,predicted)) for k in metrix.keys() ])\n",
    "        if(i%100 == 0):\n",
    "            print '\\r epoch %i batch %i loss=%.2f l=%.2f %s     '%\\\n",
    "            (epoch,i,loss/float(i+1),res[0],s)\n",
    "            sys.stdout.flush()        \n",
    "            fout.write('epoch %i batch %i loss=%.2f l=%.2f %s\\n'%(epoch,i,loss/float(i+1),res[0],s))\n",
    "            fout.flush()\n",
    "    s = ' '.join(['%s=%.3f'%(k,metrix[k](labels,predicted)) for k in metrix.keys() ])\n",
    "    print '\\r epoch %i batch %i loss=%.2f l=%.2f %s     '%\\\n",
    "    (epoch,i,loss/float(i+1),res[0],s)\n",
    "    sys.stdout.flush()\n",
    "    \n",
    "    fout.write('epoch %i batch %i loss=%.2f l=%.2f %s\\n'%(epoch,i,loss/float(i+1),res[0],s))\n",
    "    fout.flush()\n",
    "\n",
    "metrix = { 'aps' : average_precision_score,\n",
    "           'pp'  : lambda l,pred : np.ones(len(l))[(pred < 0.5)&(l<0.1)].sum()/np.ones(len(l))[l<0.1].sum(),\n",
    "           'pn'  : lambda l,pred : np.ones(len(l))[(pred >= .5)&(l>0.9)].sum()/np.ones(len(l))[l>0.9].sum(),\n",
    "           'int_pp_pn' : lambda l,pred : get_pp_pn(l,pred)}\n",
    "\n",
    "def update_params(epoch,params):\n",
    "    if(epoch == 0):\n",
    "        params['min_cov'].set_value(1e-8)\n",
    "        #params['p_n_weight'].set_value(1e1)\n",
    "        params['lr'].set_value(1e-3)\n",
    "    \n",
    "def fit(name,\n",
    "        net,\n",
    "        train_fn,test_fn,\n",
    "        train_loader,test_loader,\n",
    "        non_learn_params,\n",
    "        epochs=3,train_esize=1500,test_esize=750,\n",
    "        metrix = metrix,update_params = update_params):\n",
    "    save_weights(net,'models/%s%03d'%(name,0))\n",
    "    for j in range(0,epochs):\n",
    "        update_params(j,non_learn_params)\n",
    "        print('train')\n",
    "        fout.write('train')\n",
    "        fout.flush()\n",
    "        sys.stdout.flush()\n",
    "        iterate_batches(train_fn,\\\n",
    "                        lambda : data_generator(train_loader,epoch_size=train_esize,shuffle=True),\n",
    "                       j,metrix)\n",
    "        save_weights(net,'models/%s%03d'%(name,j))\n",
    "        print('test')\n",
    "        fout.write('test')\n",
    "        fout.flush()\n",
    "        sys.stdout.flush()\n",
    "        iterate_batches(test_fn,\\\n",
    "                        lambda : data_generator(test_loader,epoch_size=test_esize,shuffle=True),\n",
    "                       j,metrix)\n",
    "\n",
    "        \n",
    "# iterate_batches(test_fn,\\\n",
    "#             lambda : data_generator(test_loader,epoch_size=750,shuffle=True),\n",
    "#           -1,metrix)\n",
    "fit(cfg.NAME,net,train_fn,test_fn,train_loader,test_loader,non_learn_params,epochs=6)"
   ]
  },
  {
   "cell_type": "code",
   "execution_count": 25,
   "metadata": {
    "collapsed": false
   },
   "outputs": [],
   "source": [
    "for i,batch in enumerate(data_generator(test_loader,epoch_size=100,shuffle=False)):\n",
    "    res = test_fn(*batch)\n",
    "    if(i == 0):\n",
    "        p =res[-1]\n",
    "        n = res[-2]\n",
    "    p = np.concatenate((p,res[-1]))\n",
    "    n = np.concatenate((n,res[-2]))\n",
    "    "
   ]
  },
  {
   "cell_type": "code",
   "execution_count": 19,
   "metadata": {
    "collapsed": false
   },
   "outputs": [
    {
     "data": {
      "image/png": "[encoded data removed]",
      "text/plain": [
       "<matplotlib.figure.Figure at 0x7fa81b0c1310>"
      ]
     },
     "metadata": {},
     "output_type": "display_data"
    }
   ],
   "source": [
    "plt.hist(np.clip(res[-1],-10,100),100,normed=True)\n",
    "plt.hist(np.clip(res[-2],-10,100),100,normed=True)\n",
    "plt.show()"
   ]
  },
  {
   "cell_type": "code",
   "execution_count": 28,
   "metadata": {
    "collapsed": false
   },
   "outputs": [
    {
     "data": {
      "image/png": "[encoded data removed]",
      "text/plain": [
       "<matplotlib.figure.Figure at 0x7fa8193d2450>"
      ]
     },
     "metadata": {},
     "output_type": "display_data"
    }
   ],
   "source": [
    "plt.hist(np.clip(p,-20,100),100,normed=True)\n",
    "plt.hist(np.clip(n,-20,100),100,normed=True)\n",
    "plt.show()"
   ]
  },
  {
   "cell_type": "markdown",
   "metadata": {},
   "source": [
    "# Evaluate model"
   ]
  },
  {
   "cell_type": "code",
   "execution_count": 28,
   "metadata": {
    "collapsed": false
   },
   "outputs": [
    {
     "name": "stdout",
     "output_type": "stream",
     "text": [
      "\n",
      "In -->     Layer    --> Out    Description           \n",
      "-------    -----    -------    -----------           \n",
      "[]         0        [1]        data(250, 3, 16, 16)  \n",
      "[0]        1        [2]        bn0(250, 3, 16, 16)   \n",
      "[1]        2        [3]        conv1(250, 12, 16, 16)\n",
      "[2]        3        [4]        bn1(250, 12, 16, 16)  \n",
      "[3]        4        [5]        nonl1(250, 12, 16, 16)\n",
      "[4]        5        [6]        conv2(250, 24, 16, 16)\n",
      "[5]        6        [7]        bn2(250, 24, 16, 16)  \n",
      "[6]        7        [8]        nonl2(250, 24, 16, 16)\n",
      "[7]        8        [9]        3(250, 3, 16, 16)     \n",
      "[8]        9        []         3(250, 3, 16, 16)     \n"
     ]
    }
   ],
   "source": [
    "data=T.tensor4()\n",
    "feature_sym = FCN(data,cfg.ndim,model_name='',input_shape=(cfg.SEQ_LENGTH,3,cfg.TILE_SIZE,cfg.TILE_SIZE))[1]\n",
    "feature_fn = theano.function([data],feature_sym,allow_input_downcast=True)"
   ]
  },
  {
   "cell_type": "code",
   "execution_count": 30,
   "metadata": {
    "collapsed": true
   },
   "outputs": [],
   "source": [
    "d = np.zeros((cfg.SEQ_LENGTH,3,cfg.TILE_SIZE,cfg.TILE_SIZE),dtype=np.float32)\n",
    "d[0,2,:,:] = 1\n",
    "d = feature_fn(d)"
   ]
  },
  {
   "cell_type": "code",
   "execution_count": 32,
   "metadata": {
    "collapsed": false
   },
   "outputs": [
    {
     "name": "stdout",
     "output_type": "stream",
     "text": [
      "(250, 16, 16, 4)\n"
     ]
    }
   ],
   "source": [
    "print d.shape"
   ]
  },
  {
   "cell_type": "code",
   "execution_count": 19,
   "metadata": {
    "collapsed": false
   },
   "outputs": [],
   "source": [
    "from dataset_tools import *\n",
    "from gmm_bg_substructor import BgSubstructor\n",
    "import cv2\n",
    "import numpy as np\n",
    "# params = { 'algorithm': 'grimson_gmm', \n",
    "#             'low': 1.,#*24*24,\n",
    "#             'high': 3,#.*24*24,\n",
    "#             'alpha': 0.01,\n",
    "#             'max_modes': 5,\n",
    "#             'channels': 12,\n",
    "#             'variance': .01,\n",
    "#             'bg_threshold': 0.075,\n",
    "#             'min_variance': .005,\n",
    "#             'variance_factor': 1.}\n"
   ]
  },
  {
   "cell_type": "code",
   "execution_count": 20,
   "metadata": {
    "collapsed": false
   },
   "outputs": [],
   "source": [
    "def make_bgs_test(feature_fn,params,out_name=cfg.NAME,dataset='test_dataset',max_l = 1000,im_size=None,verbose=False,skip_frames=200):\n",
    "    def make_bgs_features(feature_fn,x):\n",
    "        return feature_fn(np.transpose(x,(0,3,1,2)))[0]\n",
    "    out_dir = 'results/'+out_name+'_'+params['algorithm']\n",
    "    if(not os.path.exists(out_dir)):\n",
    "        os.mkdir(out_dir)\n",
    "    f = open('params.txt','w')\n",
    "    f.write('params\\n'+str(params)+'\\n')\n",
    "    f.write('max_l = %i,skip_frames=%i')\n",
    "    f.close()\n",
    "    jj = 0\n",
    "    try:\n",
    "        for d_in,d_out in iterate_folders(dataset,out_dir):\n",
    "            jj+=1\n",
    "            if(jj<1):\n",
    "                continue\n",
    "            try:\n",
    "                bgs = BgSubstructor(params)\n",
    "                i = 0\n",
    "                prev =None\n",
    "                for im,mask in iterate_video(d_in,skip_first_unlabled=True):\n",
    "                    print '%s %d                   \\r'%(d_in,i),\n",
    "                    if not (im_size is None):\n",
    "                        im,mask = resize(im,mask,im_size)\n",
    "                    if(prev is None):\n",
    "                        prev = im\n",
    "                        continue\n",
    "                    #tmp = np.concatenate((im[np.newaxis],prev[np.newaxis]),0)\n",
    "                    features = make_bgs_features(feature_fn,im.astype(np.float32))\n",
    "                    prev = im\n",
    "                    pred = bgs.update(features.astype(np.float32),im.astype(np.float32))\n",
    "                    cv2.imwrite(d_out+'/%d.png'%(i),pred)\n",
    "                    cv2.imwrite(d_out+'/%d_true.png'%(i),mask)\n",
    "                    cv2.imwrite(d_out+'/%d_input.png'%(i),im)\n",
    "                    if(verbose):\n",
    "                        cv2.imshow('pred',pred)\n",
    "                        cv2.imshow('true',mask)\n",
    "                        cv2.imshow('input',im)\n",
    "                        cv2.waitKey(1)\n",
    "                    if(i >= max_l):\n",
    "                        break\n",
    "                    i+=1\n",
    "                print '%s %d\\r'%(d_in,i),\n",
    "            finally:\n",
    "                del bgs\n",
    "    finally:\n",
    "        if(verbose):\n",
    "            cv2.destroyAllWindows()\n",
    "    print 'done'"
   ]
  },
  {
   "cell_type": "code",
   "execution_count": 30,
   "metadata": {
    "collapsed": true
   },
   "outputs": [
    {
     "name": "stdout",
     "output_type": "stream",
     "text": [
      "delete bgsmentation/test_dataset/badWeather/blizzard 1000                   \n",
      "delete bgsmentation/test_dataset/baseline/highway 162                   \n"
     ]
    },
    {
     "ename": "KeyboardInterrupt",
     "evalue": "",
     "output_type": "error",
     "traceback": [
      "\u001b[0;31m---------------------------------------------------------------------------\u001b[0m",
      "\u001b[0;31mKeyboardInterrupt\u001b[0m                         Traceback (most recent call last)",
      "\u001b[0;32m<ipython-input-30-e8b7d6162a55>\u001b[0m in \u001b[0;36m<module>\u001b[0;34m()\u001b[0m\n\u001b[1;32m     18\u001b[0m                \u001b[0mdataset\u001b[0m\u001b[0;34m=\u001b[0m\u001b[0;34m'../gmm_segmentation/test_dataset'\u001b[0m\u001b[0;34m,\u001b[0m\u001b[0;34m\u001b[0m\u001b[0m\n\u001b[1;32m     19\u001b[0m                \u001b[0mim_size\u001b[0m\u001b[0;34m=\u001b[0m\u001b[0;34m(\u001b[0m\u001b[0;36m320\u001b[0m\u001b[0;34m,\u001b[0m\u001b[0;36m240\u001b[0m\u001b[0;34m)\u001b[0m\u001b[0;34m,\u001b[0m\u001b[0;34m\u001b[0m\u001b[0m\n\u001b[0;32m---> 20\u001b[0;31m                verbose=True)\n\u001b[0m",
      "\u001b[0;32m<ipython-input-20-db547caf8b79>\u001b[0m in \u001b[0;36mmake_bgs_test\u001b[0;34m(feature_fn, params, out_name, dataset, max_l, im_size, verbose, skip_frames)\u001b[0m\n\u001b[1;32m     29\u001b[0m                     \u001b[0mfeatures\u001b[0m \u001b[0;34m=\u001b[0m \u001b[0mmake_bgs_features\u001b[0m\u001b[0;34m(\u001b[0m\u001b[0mfeature_fn\u001b[0m\u001b[0;34m,\u001b[0m\u001b[0mtmp\u001b[0m\u001b[0;34m.\u001b[0m\u001b[0mastype\u001b[0m\u001b[0;34m(\u001b[0m\u001b[0mnp\u001b[0m\u001b[0;34m.\u001b[0m\u001b[0mfloat32\u001b[0m\u001b[0;34m)\u001b[0m\u001b[0;34m)\u001b[0m\u001b[0;34m\u001b[0m\u001b[0m\n\u001b[1;32m     30\u001b[0m                     \u001b[0mprev\u001b[0m \u001b[0;34m=\u001b[0m \u001b[0mim\u001b[0m\u001b[0;34m\u001b[0m\u001b[0m\n\u001b[0;32m---> 31\u001b[0;31m                     \u001b[0mpred\u001b[0m \u001b[0;34m=\u001b[0m \u001b[0mbgs\u001b[0m\u001b[0;34m.\u001b[0m\u001b[0mupdate\u001b[0m\u001b[0;34m(\u001b[0m\u001b[0mfeatures\u001b[0m\u001b[0;34m.\u001b[0m\u001b[0mastype\u001b[0m\u001b[0;34m(\u001b[0m\u001b[0mnp\u001b[0m\u001b[0;34m.\u001b[0m\u001b[0mfloat32\u001b[0m\u001b[0;34m)\u001b[0m\u001b[0;34m,\u001b[0m\u001b[0mim\u001b[0m\u001b[0;34m.\u001b[0m\u001b[0mastype\u001b[0m\u001b[0;34m(\u001b[0m\u001b[0mnp\u001b[0m\u001b[0;34m.\u001b[0m\u001b[0mfloat32\u001b[0m\u001b[0;34m)\u001b[0m\u001b[0;34m)\u001b[0m\u001b[0;34m\u001b[0m\u001b[0m\n\u001b[0m\u001b[1;32m     32\u001b[0m                     \u001b[0mcv2\u001b[0m\u001b[0;34m.\u001b[0m\u001b[0mimwrite\u001b[0m\u001b[0;34m(\u001b[0m\u001b[0md_out\u001b[0m\u001b[0;34m+\u001b[0m\u001b[0;34m'/%d.png'\u001b[0m\u001b[0;34m%\u001b[0m\u001b[0;34m(\u001b[0m\u001b[0mi\u001b[0m\u001b[0;34m)\u001b[0m\u001b[0;34m,\u001b[0m\u001b[0mpred\u001b[0m\u001b[0;34m)\u001b[0m\u001b[0;34m\u001b[0m\u001b[0m\n\u001b[1;32m     33\u001b[0m                     \u001b[0mcv2\u001b[0m\u001b[0;34m.\u001b[0m\u001b[0mimwrite\u001b[0m\u001b[0;34m(\u001b[0m\u001b[0md_out\u001b[0m\u001b[0;34m+\u001b[0m\u001b[0;34m'/%d_true.png'\u001b[0m\u001b[0;34m%\u001b[0m\u001b[0;34m(\u001b[0m\u001b[0mi\u001b[0m\u001b[0;34m)\u001b[0m\u001b[0;34m,\u001b[0m\u001b[0mmask\u001b[0m\u001b[0;34m)\u001b[0m\u001b[0;34m\u001b[0m\u001b[0m\n",
      "\u001b[0;32m/media/data/Programming/motion_segmentation/gmm_segmentation2/gmm_bg_substructor/__init__.pyc\u001b[0m in \u001b[0;36mupdate\u001b[0;34m(self, features, img)\u001b[0m\n\u001b[1;32m     17\u001b[0m             \u001b[0mself\u001b[0m\u001b[0;34m.\u001b[0m\u001b[0mbg_sub\u001b[0m\u001b[0;34m.\u001b[0m\u001b[0minit_model\u001b[0m\u001b[0;34m(\u001b[0m\u001b[0mfeatures\u001b[0m\u001b[0;34m,\u001b[0m\u001b[0mimg\u001b[0m\u001b[0;34m,\u001b[0m \u001b[0mself\u001b[0m\u001b[0;34m.\u001b[0m\u001b[0mparams\u001b[0m\u001b[0;34m)\u001b[0m\u001b[0;34m\u001b[0m\u001b[0m\n\u001b[1;32m     18\u001b[0m             \u001b[0mself\u001b[0m\u001b[0;34m.\u001b[0m\u001b[0minit\u001b[0m \u001b[0;34m=\u001b[0m \u001b[0mTrue\u001b[0m\u001b[0;34m\u001b[0m\u001b[0m\n\u001b[0;32m---> 19\u001b[0;31m         \u001b[0mself\u001b[0m\u001b[0;34m.\u001b[0m\u001b[0mbg_sub\u001b[0m\u001b[0;34m.\u001b[0m\u001b[0msubtract\u001b[0m\u001b[0;34m(\u001b[0m\u001b[0mself\u001b[0m\u001b[0;34m.\u001b[0m\u001b[0mi\u001b[0m\u001b[0;34m,\u001b[0m\u001b[0mfeatures\u001b[0m\u001b[0;34m,\u001b[0m \u001b[0mimg\u001b[0m\u001b[0;34m,\u001b[0m \u001b[0mlow_threshold_mask\u001b[0m\u001b[0;34m,\u001b[0m \u001b[0mhigh_threshold_mask\u001b[0m\u001b[0;34m)\u001b[0m\u001b[0;34m\u001b[0m\u001b[0m\n\u001b[0m\u001b[1;32m     20\u001b[0m         \u001b[0mself\u001b[0m\u001b[0;34m.\u001b[0m\u001b[0mi\u001b[0m \u001b[0;34m=\u001b[0m \u001b[0mself\u001b[0m\u001b[0;34m.\u001b[0m\u001b[0mi\u001b[0m\u001b[0;34m+\u001b[0m\u001b[0;36m1\u001b[0m\u001b[0;34m\u001b[0m\u001b[0m\n\u001b[1;32m     21\u001b[0m         \u001b[0;32mreturn\u001b[0m \u001b[0mlow_threshold_mask\u001b[0m\u001b[0;34m\u001b[0m\u001b[0m\n",
      "\u001b[0;31mKeyboardInterrupt\u001b[0m: "
     ]
    }
   ],
   "source": [
    "params = { \n",
    "    'algorithm': 'FTSG', \n",
    "    'th': 30, \n",
    "    'nDs': 5,\n",
    "    'nDt': 5,\n",
    "    'nAs': 5,\n",
    "    'nAt': 5,\n",
    "    'bgAlpha': 0.004,\n",
    "    'fgAlpha': 0.05,\n",
    "    'tb': 15,\n",
    "    'tf': 0.00001,\n",
    "    'tl': 0.01,\n",
    "    'init_variance' : 0.01\n",
    "} \n",
    "make_bgs_test(feature_fn,\n",
    "               out_name=cfg.NAME,\n",
    "               params=params,\n",
    "               dataset='../gmm_segmentation/test_dataset',\n",
    "               im_size=(320,240),\n",
    "               verbose=True)"
   ]
  },
  {
   "cell_type": "code",
   "execution_count": 20,
   "metadata": {
    "collapsed": true
   },
   "outputs": [
    {
     "name": "stdout",
     "output_type": "stream",
     "text": [
      "delete bgsmentation/dataset/badWeather/skating 1000                   \n",
      "delete bgsmentation/dataset/badWeather/snowFall 1000                   \n",
      "delete bgsmentation/dataset/badWeather/wetSnow 0                   \n",
      "delete bgsmentation/dataset/baseline/office 1000                   \n",
      "delete bgsmentation/dataset/baseline/pedestrians 799                   \n",
      "delete bgsmentation/dataset/baseline/PETS2006 223                   \n"
     ]
    },
    {
     "ename": "KeyboardInterrupt",
     "evalue": "",
     "output_type": "error",
     "traceback": [
      "\u001b[0;31m---------------------------------------------------------------------------\u001b[0m",
      "\u001b[0;31mKeyboardInterrupt\u001b[0m                         Traceback (most recent call last)",
      "\u001b[0;32m<ipython-input-20-edeb83f4b08e>\u001b[0m in \u001b[0;36m<module>\u001b[0;34m()\u001b[0m\n\u001b[1;32m     18\u001b[0m                \u001b[0mdataset\u001b[0m\u001b[0;34m=\u001b[0m\u001b[0;34m'../gmm_segmentation/dataset'\u001b[0m\u001b[0;34m,\u001b[0m\u001b[0;34m\u001b[0m\u001b[0m\n\u001b[1;32m     19\u001b[0m                \u001b[0mim_size\u001b[0m\u001b[0;34m=\u001b[0m\u001b[0;34m(\u001b[0m\u001b[0;36m320\u001b[0m\u001b[0;34m,\u001b[0m\u001b[0;36m240\u001b[0m\u001b[0;34m)\u001b[0m\u001b[0;34m,\u001b[0m\u001b[0;34m\u001b[0m\u001b[0m\n\u001b[0;32m---> 20\u001b[0;31m                verbose=True)\n\u001b[0m",
      "\u001b[0;32m<ipython-input-17-db547caf8b79>\u001b[0m in \u001b[0;36mmake_bgs_test\u001b[0;34m(feature_fn, params, out_name, dataset, max_l, im_size, verbose, skip_frames)\u001b[0m\n\u001b[1;32m     29\u001b[0m                     \u001b[0mfeatures\u001b[0m \u001b[0;34m=\u001b[0m \u001b[0mmake_bgs_features\u001b[0m\u001b[0;34m(\u001b[0m\u001b[0mfeature_fn\u001b[0m\u001b[0;34m,\u001b[0m\u001b[0mtmp\u001b[0m\u001b[0;34m.\u001b[0m\u001b[0mastype\u001b[0m\u001b[0;34m(\u001b[0m\u001b[0mnp\u001b[0m\u001b[0;34m.\u001b[0m\u001b[0mfloat32\u001b[0m\u001b[0;34m)\u001b[0m\u001b[0;34m)\u001b[0m\u001b[0;34m\u001b[0m\u001b[0m\n\u001b[1;32m     30\u001b[0m                     \u001b[0mprev\u001b[0m \u001b[0;34m=\u001b[0m \u001b[0mim\u001b[0m\u001b[0;34m\u001b[0m\u001b[0m\n\u001b[0;32m---> 31\u001b[0;31m                     \u001b[0mpred\u001b[0m \u001b[0;34m=\u001b[0m \u001b[0mbgs\u001b[0m\u001b[0;34m.\u001b[0m\u001b[0mupdate\u001b[0m\u001b[0;34m(\u001b[0m\u001b[0mfeatures\u001b[0m\u001b[0;34m.\u001b[0m\u001b[0mastype\u001b[0m\u001b[0;34m(\u001b[0m\u001b[0mnp\u001b[0m\u001b[0;34m.\u001b[0m\u001b[0mfloat32\u001b[0m\u001b[0;34m)\u001b[0m\u001b[0;34m,\u001b[0m\u001b[0mim\u001b[0m\u001b[0;34m.\u001b[0m\u001b[0mastype\u001b[0m\u001b[0;34m(\u001b[0m\u001b[0mnp\u001b[0m\u001b[0;34m.\u001b[0m\u001b[0mfloat32\u001b[0m\u001b[0;34m)\u001b[0m\u001b[0;34m)\u001b[0m\u001b[0;34m\u001b[0m\u001b[0m\n\u001b[0m\u001b[1;32m     32\u001b[0m                     \u001b[0mcv2\u001b[0m\u001b[0;34m.\u001b[0m\u001b[0mimwrite\u001b[0m\u001b[0;34m(\u001b[0m\u001b[0md_out\u001b[0m\u001b[0;34m+\u001b[0m\u001b[0;34m'/%d.png'\u001b[0m\u001b[0;34m%\u001b[0m\u001b[0;34m(\u001b[0m\u001b[0mi\u001b[0m\u001b[0;34m)\u001b[0m\u001b[0;34m,\u001b[0m\u001b[0mpred\u001b[0m\u001b[0;34m)\u001b[0m\u001b[0;34m\u001b[0m\u001b[0m\n\u001b[1;32m     33\u001b[0m                     \u001b[0mcv2\u001b[0m\u001b[0;34m.\u001b[0m\u001b[0mimwrite\u001b[0m\u001b[0;34m(\u001b[0m\u001b[0md_out\u001b[0m\u001b[0;34m+\u001b[0m\u001b[0;34m'/%d_true.png'\u001b[0m\u001b[0;34m%\u001b[0m\u001b[0;34m(\u001b[0m\u001b[0mi\u001b[0m\u001b[0;34m)\u001b[0m\u001b[0;34m,\u001b[0m\u001b[0mmask\u001b[0m\u001b[0;34m)\u001b[0m\u001b[0;34m\u001b[0m\u001b[0m\n",
      "\u001b[0;32m/media/data/Programming/motion_segmentation/gmm_segmentation2/gmm_bg_substructor/__init__.pyc\u001b[0m in \u001b[0;36mupdate\u001b[0;34m(self, features, img)\u001b[0m\n\u001b[1;32m     17\u001b[0m             \u001b[0mself\u001b[0m\u001b[0;34m.\u001b[0m\u001b[0mbg_sub\u001b[0m\u001b[0;34m.\u001b[0m\u001b[0minit_model\u001b[0m\u001b[0;34m(\u001b[0m\u001b[0mfeatures\u001b[0m\u001b[0;34m,\u001b[0m\u001b[0mimg\u001b[0m\u001b[0;34m,\u001b[0m \u001b[0mself\u001b[0m\u001b[0;34m.\u001b[0m\u001b[0mparams\u001b[0m\u001b[0;34m)\u001b[0m\u001b[0;34m\u001b[0m\u001b[0m\n\u001b[1;32m     18\u001b[0m             \u001b[0mself\u001b[0m\u001b[0;34m.\u001b[0m\u001b[0minit\u001b[0m \u001b[0;34m=\u001b[0m \u001b[0mTrue\u001b[0m\u001b[0;34m\u001b[0m\u001b[0m\n\u001b[0;32m---> 19\u001b[0;31m         \u001b[0mself\u001b[0m\u001b[0;34m.\u001b[0m\u001b[0mbg_sub\u001b[0m\u001b[0;34m.\u001b[0m\u001b[0msubtract\u001b[0m\u001b[0;34m(\u001b[0m\u001b[0mself\u001b[0m\u001b[0;34m.\u001b[0m\u001b[0mi\u001b[0m\u001b[0;34m,\u001b[0m\u001b[0mfeatures\u001b[0m\u001b[0;34m,\u001b[0m \u001b[0mimg\u001b[0m\u001b[0;34m,\u001b[0m \u001b[0mlow_threshold_mask\u001b[0m\u001b[0;34m,\u001b[0m \u001b[0mhigh_threshold_mask\u001b[0m\u001b[0;34m)\u001b[0m\u001b[0;34m\u001b[0m\u001b[0m\n\u001b[0m\u001b[1;32m     20\u001b[0m         \u001b[0mself\u001b[0m\u001b[0;34m.\u001b[0m\u001b[0mi\u001b[0m \u001b[0;34m=\u001b[0m \u001b[0mself\u001b[0m\u001b[0;34m.\u001b[0m\u001b[0mi\u001b[0m\u001b[0;34m+\u001b[0m\u001b[0;36m1\u001b[0m\u001b[0;34m\u001b[0m\u001b[0m\n\u001b[1;32m     21\u001b[0m         \u001b[0;32mreturn\u001b[0m \u001b[0mlow_threshold_mask\u001b[0m\u001b[0;34m\u001b[0m\u001b[0m\n",
      "\u001b[0;31mKeyboardInterrupt\u001b[0m: "
     ]
    }
   ],
   "source": [
    "params = { \n",
    "    'algorithm': 'FTSG', \n",
    "    'th': 30, \n",
    "    'nDs': 5,\n",
    "    'nDt': 5,\n",
    "    'nAs': 5,\n",
    "    'nAt': 5,\n",
    "    'bgAlpha': 0.004,\n",
    "    'fgAlpha': 0.5,\n",
    "    'tb': 4,\n",
    "    'tf': 20,\n",
    "    'tl': 0.1,\n",
    "    'init_variance': 15\n",
    "}\n",
    "make_bgs_test(lambda x : np.transpose(x,(0,2,3,1)),\n",
    "               params,\n",
    "               out_name='baseline',\n",
    "               dataset='../gmm_segmentation/test_dataset',\n",
    "               im_size=(320,240),\n",
    "               verbose=True)"
   ]
  },
  {
   "cell_type": "code",
   "execution_count": 45,
   "metadata": {
    "collapsed": true
   },
   "outputs": [],
   "source": [
    "data,m,c,w=T.matrix(),T.matrix(),T.matrix(),T.vector()\n",
    "predict_fn = theano.function([data,m,c,w],soft_predict_sym(data,m,c,w),allow_input_downcast=True)"
   ]
  },
  {
   "cell_type": "markdown",
   "metadata": {},
   "source": [
    "# Find parameters for grimpson gmm"
   ]
  },
  {
   "cell_type": "code",
   "execution_count": 26,
   "metadata": {
    "collapsed": true
   },
   "outputs": [
    {
     "name": "stdout",
     "output_type": "stream",
     "text": [
      "../gmm_segmentation/test_dataset/badWeather/blizzard generate_features,"
     ]
    },
    {
     "ename": "IndexError",
     "evalue": "index 0 is out of bounds for axis 0 with size 0",
     "output_type": "error",
     "traceback": [
      "\u001b[0;31m---------------------------------------------------------------------------\u001b[0m",
      "\u001b[0;31mIndexError\u001b[0m                                Traceback (most recent call last)",
      "\u001b[0;32m<ipython-input-26-16f51de9d29f>\u001b[0m in \u001b[0;36m<module>\u001b[0;34m()\u001b[0m\n\u001b[1;32m     36\u001b[0m \u001b[0;34m\u001b[0m\u001b[0m\n\u001b[1;32m     37\u001b[0m \u001b[0;34m\u001b[0m\u001b[0m\n\u001b[0;32m---> 38\u001b[0;31m \u001b[0mfind_gmm_params\u001b[0m\u001b[0;34m(\u001b[0m\u001b[0mfeature_fn\u001b[0m\u001b[0;34m,\u001b[0m\u001b[0mmax_frames\u001b[0m\u001b[0;34m=\u001b[0m\u001b[0;36m70\u001b[0m\u001b[0;34m,\u001b[0m\u001b[0mim_size\u001b[0m\u001b[0;34m=\u001b[0m\u001b[0;34m(\u001b[0m\u001b[0;36m50\u001b[0m\u001b[0;34m,\u001b[0m\u001b[0;36m30\u001b[0m\u001b[0;34m)\u001b[0m\u001b[0;34m)\u001b[0m\u001b[0;34m\u001b[0m\u001b[0m\n\u001b[0m",
      "\u001b[0;32m<ipython-input-26-16f51de9d29f>\u001b[0m in \u001b[0;36mfind_gmm_params\u001b[0;34m(feature_fn, dataset, max_frames, im_size)\u001b[0m\n\u001b[1;32m     14\u001b[0m         \u001b[0;32mfor\u001b[0m \u001b[0mi\u001b[0m\u001b[0;34m,\u001b[0m\u001b[0;34m(\u001b[0m\u001b[0mimgs\u001b[0m\u001b[0;34m,\u001b[0m\u001b[0mmasks\u001b[0m\u001b[0;34m)\u001b[0m \u001b[0;32min\u001b[0m \u001b[0menumerate\u001b[0m\u001b[0;34m(\u001b[0m\u001b[0miterate_bathced\u001b[0m\u001b[0;34m(\u001b[0m\u001b[0min_dir\u001b[0m\u001b[0;34m,\u001b[0m\u001b[0mmax_frames\u001b[0m\u001b[0;34m,\u001b[0m\u001b[0mim_size\u001b[0m\u001b[0;34m)\u001b[0m\u001b[0;34m)\u001b[0m\u001b[0;34m:\u001b[0m\u001b[0;34m\u001b[0m\u001b[0m\n\u001b[1;32m     15\u001b[0m             \u001b[0;32mprint\u001b[0m \u001b[0min_dir\u001b[0m\u001b[0;34m,\u001b[0m\u001b[0;34m'generate_features,'\u001b[0m\u001b[0;34m,\u001b[0m\u001b[0;34m\u001b[0m\u001b[0m\n\u001b[0;32m---> 16\u001b[0;31m             \u001b[0mdata\u001b[0m \u001b[0;34m=\u001b[0m \u001b[0mmake_features\u001b[0m\u001b[0;34m(\u001b[0m\u001b[0mfeature_fn\u001b[0m\u001b[0;34m,\u001b[0m\u001b[0mimgs\u001b[0m\u001b[0;34m)\u001b[0m\u001b[0;34m\u001b[0m\u001b[0m\n\u001b[0m\u001b[1;32m     17\u001b[0m             \u001b[0mgmms\u001b[0m \u001b[0;34m=\u001b[0m \u001b[0mmake_gmms\u001b[0m\u001b[0;34m(\u001b[0m\u001b[0mimgs\u001b[0m\u001b[0;34m.\u001b[0m\u001b[0mshape\u001b[0m\u001b[0;34m[\u001b[0m\u001b[0;36m1\u001b[0m\u001b[0;34m:\u001b[0m\u001b[0;34m-\u001b[0m\u001b[0;36m1\u001b[0m\u001b[0;34m]\u001b[0m\u001b[0;34m,\u001b[0m\u001b[0mcfg\u001b[0m\u001b[0;34m.\u001b[0m\u001b[0mgm_num\u001b[0m\u001b[0;34m)\u001b[0m\u001b[0;34m\u001b[0m\u001b[0m\n\u001b[1;32m     18\u001b[0m             \u001b[0;32mprint\u001b[0m \u001b[0;34m'fit gmms'\u001b[0m\u001b[0;34m\u001b[0m\u001b[0m\n",
      "\u001b[0;32m/media/data/Programming/motion_segmentation/gmm_segmentation2/test_tools.pyc\u001b[0m in \u001b[0;36mmake_features\u001b[0;34m(feature_fn, imgs)\u001b[0m\n\u001b[1;32m      7\u001b[0m     \u001b[0mdata\u001b[0m \u001b[0;34m=\u001b[0m \u001b[0mNone\u001b[0m\u001b[0;34m\u001b[0m\u001b[0m\n\u001b[1;32m      8\u001b[0m     \u001b[0;32mfor\u001b[0m \u001b[0mi\u001b[0m \u001b[0;32min\u001b[0m \u001b[0mrange\u001b[0m\u001b[0;34m(\u001b[0m\u001b[0mlen\u001b[0m\u001b[0;34m(\u001b[0m\u001b[0mimgs\u001b[0m\u001b[0;34m)\u001b[0m\u001b[0;34m)\u001b[0m\u001b[0;34m:\u001b[0m\u001b[0;34m\u001b[0m\u001b[0m\n\u001b[0;32m----> 9\u001b[0;31m         \u001b[0mtmp\u001b[0m \u001b[0;34m=\u001b[0m \u001b[0mfeature_fn\u001b[0m\u001b[0;34m(\u001b[0m\u001b[0mnp\u001b[0m\u001b[0;34m.\u001b[0m\u001b[0mtranspose\u001b[0m\u001b[0;34m(\u001b[0m\u001b[0mimgs\u001b[0m\u001b[0;34m[\u001b[0m\u001b[0mi\u001b[0m\u001b[0;34m:\u001b[0m\u001b[0mi\u001b[0m\u001b[0;34m+\u001b[0m\u001b[0;36m1\u001b[0m\u001b[0;34m]\u001b[0m\u001b[0;34m,\u001b[0m\u001b[0;34m(\u001b[0m\u001b[0;36m0\u001b[0m\u001b[0;34m,\u001b[0m\u001b[0;36m3\u001b[0m\u001b[0;34m,\u001b[0m\u001b[0;36m1\u001b[0m\u001b[0;34m,\u001b[0m\u001b[0;36m2\u001b[0m\u001b[0;34m)\u001b[0m\u001b[0;34m)\u001b[0m\u001b[0;34m.\u001b[0m\u001b[0mastype\u001b[0m\u001b[0;34m(\u001b[0m\u001b[0mnp\u001b[0m\u001b[0;34m.\u001b[0m\u001b[0mfloat32\u001b[0m\u001b[0;34m)\u001b[0m\u001b[0;34m)\u001b[0m\u001b[0;34m[\u001b[0m\u001b[0;36m0\u001b[0m\u001b[0;34m]\u001b[0m\u001b[0;34m\u001b[0m\u001b[0m\n\u001b[0m\u001b[1;32m     10\u001b[0m         \u001b[0;32mif\u001b[0m\u001b[0;34m(\u001b[0m\u001b[0mdata\u001b[0m \u001b[0;32mis\u001b[0m \u001b[0mNone\u001b[0m\u001b[0;34m)\u001b[0m\u001b[0;34m:\u001b[0m\u001b[0;34m\u001b[0m\u001b[0m\n\u001b[1;32m     11\u001b[0m             \u001b[0mdata\u001b[0m \u001b[0;34m=\u001b[0m \u001b[0mnp\u001b[0m\u001b[0;34m.\u001b[0m\u001b[0mempty\u001b[0m\u001b[0;34m(\u001b[0m\u001b[0;34m(\u001b[0m\u001b[0mlen\u001b[0m\u001b[0;34m(\u001b[0m\u001b[0mimgs\u001b[0m\u001b[0;34m)\u001b[0m\u001b[0;34m,\u001b[0m\u001b[0;34m)\u001b[0m\u001b[0;34m+\u001b[0m\u001b[0mtmp\u001b[0m\u001b[0;34m.\u001b[0m\u001b[0mshape\u001b[0m\u001b[0;34m,\u001b[0m\u001b[0mdtype\u001b[0m\u001b[0;34m=\u001b[0m\u001b[0mnp\u001b[0m\u001b[0;34m.\u001b[0m\u001b[0mfloat32\u001b[0m\u001b[0;34m)\u001b[0m\u001b[0;34m\u001b[0m\u001b[0m\n",
      "\u001b[0;31mIndexError\u001b[0m: index 0 is out of bounds for axis 0 with size 0"
     ]
    }
   ],
   "source": [
    "from test_tools import make_features,make_gmms,fit_gmms,predict_pixelwise\n",
    "from dataset_tools import *\n",
    "\n",
    "\n",
    "def find_gmm_params(feature_fn,\n",
    "              dataset='../gmm_segmentation/test_dataset',\n",
    "              max_frames=300,\n",
    "              im_size = (320//2,240//2)):\n",
    "    all_covars = []\n",
    "    all_weights = []\n",
    "    all_comp = []\n",
    "    all_masks = []\n",
    "    for k,in_dir in enumerate(iterate_folders(dataset)):\n",
    "        for i,(imgs,masks) in enumerate(iterate_bathced(in_dir,max_frames,im_size)):\n",
    "            print in_dir,'generate_features,',\n",
    "            data = make_features(feature_fn,imgs)\n",
    "            gmms = make_gmms(imgs.shape[1:-1],cfg.gm_num)\n",
    "            print 'fit gmms'\n",
    "            fit_gmms(data,gmms,None)\n",
    "            cov = np.empty((len(gmms),)+gmms[0].covariances_.shape,dtype=np.float32)\n",
    "            weights = np.empty((len(gmms),len(gmms[0].weights_)),dtype=np.float32)\n",
    "            dists = np.empty((len(gmms),len(imgs),len(gmms[0].weights_)),dtype=np.float32)\n",
    "            data = data.reshape((len(imgs),-1,gmms[i].means_.shape[1]))\n",
    "            for j in range(len(gmms)):\n",
    "                cov[j] = gmms[j].covariances_\n",
    "                weights[j] = gmms[j].weights_\n",
    "                dists[j] = ((data[:,j,None,:]-gmms[j].means_[None,:,:])**2).sum(-1)\n",
    "            print 'cov',cov.mean(),cov.std()\n",
    "            masks = masks.reshape((len(masks),-1))\n",
    "            masks = np.transpose(masks,(1,0))\n",
    "            print 'cov bg',dists[masks < 0.5].min(-1).mean(),dists[masks < 0.1].min(-1).std()\n",
    "            print 'cov motion',dists[masks > 0.5].min(-1).mean(),dists[masks > 0.9].min(-1).std()\n",
    "            print 'std motion',data[masks > 0.9].std()\n",
    "            break\n",
    "    print 'test complete'\n",
    "    \n",
    "    \n",
    "find_gmm_params(feature_fn,max_frames=70,im_size=(50,30))"
   ]
  },
  {
   "cell_type": "code",
   "execution_count": 43,
   "metadata": {
    "collapsed": false
   },
   "outputs": [
    {
     "name": "stdout",
     "output_type": "stream",
     "text": [
      "\n"
     ]
    }
   ],
   "source": [
    "from test_tools import make_features,make_gmms,fit_gmms,predict_pixelwise\n",
    "from dataset_tools import *\n",
    "def make_test_as_train(feature_fn,predict_fn,\n",
    "              out_dir='results/'+cfg.NAME,\n",
    "              dataset='dataset',\n",
    "              max_frames=300,\n",
    "              im_size = (320//2,240//2)):\n",
    "    for in_dir,out_dir in iterate_folders(dataset,out_dir):\n",
    "        for i,(imgs,masks) in enumerate(iterate_bathced(in_dir,max_frames,im_size)):\n",
    "            if(masks[(masks>30) & (masks < 240)].size > 0.1*masks.size):\n",
    "                continue\n",
    "            print in_dir,'generate_features,',\n",
    "            data = make_features(feature_fn,imgs)\n",
    "            gmms = make_gmms(imgs.shape[1:-1],cfg.gm_num)\n",
    "            print 'fit gmms,',\n",
    "            fit_gmms(data[:100],gmms,masks[:100])\n",
    "            print 'predict,',\n",
    "            prediction = predict_pixelwise(data[100:],gmms,predict_fn)\n",
    "            print 'save'\n",
    "            imgs = imgs[100:]\n",
    "            masks = masks[100:]      \n",
    "            prediction = (prediction*255).astype(np.uint8)\n",
    "            for i in range(len(imgs)):\n",
    "                cv2.imwrite(out_dir+'/'+str(i)+'.png',prediction[i])\n",
    "                cv2.imwrite(out_dir+'/'+str(i)+'_true.png',masks[i])\n",
    "                cv2.imwrite(out_dir+'/'+str(i)+'_input.jpg',imgs[i])\n",
    "            break\n",
    "            print ''\n",
    "    print 'test complete'"
   ]
  },
  {
   "cell_type": "code",
   "execution_count": 46,
   "metadata": {
    "collapsed": true
   },
   "outputs": [
    {
     "name": "stdout",
     "output_type": "stream",
     "text": [
      "../gmm_segmentation/test_dataset/badWeather/blizzard generate_features,"
     ]
    },
    {
     "ename": "IndexError",
     "evalue": "index 0 is out of bounds for axis 0 with size 0",
     "output_type": "error",
     "traceback": [
      "\u001b[0;31m---------------------------------------------------------------------------\u001b[0m",
      "\u001b[0;31mIndexError\u001b[0m                                Traceback (most recent call last)",
      "\u001b[0;32m<ipython-input-46-6b299fcc38b1>\u001b[0m in \u001b[0;36m<module>\u001b[0;34m()\u001b[0m\n\u001b[1;32m      1\u001b[0m make_test_as_train(feature_fn,predict_fn,\n\u001b[1;32m      2\u001b[0m                    \u001b[0mout_dir\u001b[0m\u001b[0;34m=\u001b[0m\u001b[0;34m'results/'\u001b[0m\u001b[0;34m+\u001b[0m\u001b[0mcfg\u001b[0m\u001b[0;34m.\u001b[0m\u001b[0mNAME\u001b[0m\u001b[0;34m+\u001b[0m\u001b[0;34m'_tat'\u001b[0m\u001b[0;34m,\u001b[0m\u001b[0;34m\u001b[0m\u001b[0m\n\u001b[0;32m----> 3\u001b[0;31m                    dataset='../gmm_segmentation/test_dataset')\n\u001b[0m",
      "\u001b[0;32m<ipython-input-43-d1c728c08287>\u001b[0m in \u001b[0;36mmake_test_as_train\u001b[0;34m(feature_fn, predict_fn, out_dir, dataset, max_frames, im_size)\u001b[0m\n\u001b[1;32m     11\u001b[0m                 \u001b[0;32mcontinue\u001b[0m\u001b[0;34m\u001b[0m\u001b[0m\n\u001b[1;32m     12\u001b[0m             \u001b[0;32mprint\u001b[0m \u001b[0min_dir\u001b[0m\u001b[0;34m,\u001b[0m\u001b[0;34m'generate_features,'\u001b[0m\u001b[0;34m,\u001b[0m\u001b[0;34m\u001b[0m\u001b[0m\n\u001b[0;32m---> 13\u001b[0;31m             \u001b[0mdata\u001b[0m \u001b[0;34m=\u001b[0m \u001b[0mmake_features\u001b[0m\u001b[0;34m(\u001b[0m\u001b[0mfeature_fn\u001b[0m\u001b[0;34m,\u001b[0m\u001b[0mimgs\u001b[0m\u001b[0;34m)\u001b[0m\u001b[0;34m\u001b[0m\u001b[0m\n\u001b[0m\u001b[1;32m     14\u001b[0m             \u001b[0mgmms\u001b[0m \u001b[0;34m=\u001b[0m \u001b[0mmake_gmms\u001b[0m\u001b[0;34m(\u001b[0m\u001b[0mimgs\u001b[0m\u001b[0;34m.\u001b[0m\u001b[0mshape\u001b[0m\u001b[0;34m[\u001b[0m\u001b[0;36m1\u001b[0m\u001b[0;34m:\u001b[0m\u001b[0;34m-\u001b[0m\u001b[0;36m1\u001b[0m\u001b[0;34m]\u001b[0m\u001b[0;34m,\u001b[0m\u001b[0mcfg\u001b[0m\u001b[0;34m.\u001b[0m\u001b[0mgm_num\u001b[0m\u001b[0;34m)\u001b[0m\u001b[0;34m\u001b[0m\u001b[0m\n\u001b[1;32m     15\u001b[0m             \u001b[0;32mprint\u001b[0m \u001b[0;34m'fit gmms,'\u001b[0m\u001b[0;34m,\u001b[0m\u001b[0;34m\u001b[0m\u001b[0m\n",
      "\u001b[0;32m/media/data/Programming/motion_segmentation/gmm_segmentation2/test_tools.pyc\u001b[0m in \u001b[0;36mmake_features\u001b[0;34m(feature_fn, imgs)\u001b[0m\n\u001b[1;32m      7\u001b[0m     \u001b[0mdata\u001b[0m \u001b[0;34m=\u001b[0m \u001b[0mNone\u001b[0m\u001b[0;34m\u001b[0m\u001b[0m\n\u001b[1;32m      8\u001b[0m     \u001b[0;32mfor\u001b[0m \u001b[0mi\u001b[0m \u001b[0;32min\u001b[0m \u001b[0mrange\u001b[0m\u001b[0;34m(\u001b[0m\u001b[0mlen\u001b[0m\u001b[0;34m(\u001b[0m\u001b[0mimgs\u001b[0m\u001b[0;34m)\u001b[0m\u001b[0;34m)\u001b[0m\u001b[0;34m:\u001b[0m\u001b[0;34m\u001b[0m\u001b[0m\n\u001b[0;32m----> 9\u001b[0;31m         \u001b[0mtmp\u001b[0m \u001b[0;34m=\u001b[0m \u001b[0mfeature_fn\u001b[0m\u001b[0;34m(\u001b[0m\u001b[0mnp\u001b[0m\u001b[0;34m.\u001b[0m\u001b[0mtranspose\u001b[0m\u001b[0;34m(\u001b[0m\u001b[0mimgs\u001b[0m\u001b[0;34m[\u001b[0m\u001b[0mi\u001b[0m\u001b[0;34m:\u001b[0m\u001b[0mi\u001b[0m\u001b[0;34m+\u001b[0m\u001b[0;36m1\u001b[0m\u001b[0;34m]\u001b[0m\u001b[0;34m,\u001b[0m\u001b[0;34m(\u001b[0m\u001b[0;36m0\u001b[0m\u001b[0;34m,\u001b[0m\u001b[0;36m3\u001b[0m\u001b[0;34m,\u001b[0m\u001b[0;36m1\u001b[0m\u001b[0;34m,\u001b[0m\u001b[0;36m2\u001b[0m\u001b[0;34m)\u001b[0m\u001b[0;34m)\u001b[0m\u001b[0;34m.\u001b[0m\u001b[0mastype\u001b[0m\u001b[0;34m(\u001b[0m\u001b[0mnp\u001b[0m\u001b[0;34m.\u001b[0m\u001b[0mfloat32\u001b[0m\u001b[0;34m)\u001b[0m\u001b[0;34m)\u001b[0m\u001b[0;34m[\u001b[0m\u001b[0;36m0\u001b[0m\u001b[0;34m]\u001b[0m\u001b[0;34m\u001b[0m\u001b[0m\n\u001b[0m\u001b[1;32m     10\u001b[0m         \u001b[0;32mif\u001b[0m\u001b[0;34m(\u001b[0m\u001b[0mdata\u001b[0m \u001b[0;32mis\u001b[0m \u001b[0mNone\u001b[0m\u001b[0;34m)\u001b[0m\u001b[0;34m:\u001b[0m\u001b[0;34m\u001b[0m\u001b[0m\n\u001b[1;32m     11\u001b[0m             \u001b[0mdata\u001b[0m \u001b[0;34m=\u001b[0m \u001b[0mnp\u001b[0m\u001b[0;34m.\u001b[0m\u001b[0mempty\u001b[0m\u001b[0;34m(\u001b[0m\u001b[0;34m(\u001b[0m\u001b[0mlen\u001b[0m\u001b[0;34m(\u001b[0m\u001b[0mimgs\u001b[0m\u001b[0;34m)\u001b[0m\u001b[0;34m,\u001b[0m\u001b[0;34m)\u001b[0m\u001b[0;34m+\u001b[0m\u001b[0mtmp\u001b[0m\u001b[0;34m.\u001b[0m\u001b[0mshape\u001b[0m\u001b[0;34m,\u001b[0m\u001b[0mdtype\u001b[0m\u001b[0;34m=\u001b[0m\u001b[0mnp\u001b[0m\u001b[0;34m.\u001b[0m\u001b[0mfloat32\u001b[0m\u001b[0;34m)\u001b[0m\u001b[0;34m\u001b[0m\u001b[0m\n",
      "\u001b[0;31mIndexError\u001b[0m: index 0 is out of bounds for axis 0 with size 0"
     ]
    }
   ],
   "source": [
    "make_test_as_train(feature_fn,predict_fn,\n",
    "                   out_dir='results/'+cfg.NAME+'_tat',\n",
    "                   dataset='../gmm_segmentation/test_dataset')"
   ]
  },
  {
   "cell_type": "markdown",
   "metadata": {},
   "source": [
    "# Calc metric"
   ]
  },
  {
   "cell_type": "code",
   "execution_count": 31,
   "metadata": {
    "collapsed": true
   },
   "outputs": [
    {
     "name": "stdout",
     "output_type": "stream",
     "text": [
      "results/conv3_net_with_color_ndim9_FTSG/badWeather/blizzard\n",
      "AveragePrecision: 0.0\n",
      "FNR: 0.444309717241\n",
      "Recall: 0.555690282759\n",
      "Sp: 0.99906276319\n",
      "Precision: 0.909148756021\n",
      "PWC: 0.829626546017\n",
      "FPR: 0.000937236810338\n",
      "F_Measure: 0.68977562166\n",
      "\n",
      "results/conv3_net_with_color_ndim9_FTSG/baseline/highway\n",
      "AveragePrecision: 0.0\n",
      "FNR: 0.0708977856914\n",
      "Recall: 0.929102214309\n",
      "Sp: 0.9763472231\n",
      "Precision: 0.697455851039\n",
      "PWC: 2.62717720708\n",
      "FPR: 0.0236527769002\n",
      "F_Measure: 0.796784067397\n",
      "\n",
      "total result\n",
      "AveragePrecision: 0.0\n",
      "FNR: 0.257603751466\n",
      "Recall: 0.742396248534\n",
      "Sp: 0.987704993145\n",
      "Precision: 0.80330230353\n",
      "PWC: 1.72840187655\n",
      "FPR: 0.0122950068552\n",
      "F_Measure: 0.743279844529\n",
      "\n"
     ]
    }
   ],
   "source": [
    "from sklearn.metrics import average_precision_score\n",
    "import os\n",
    "\n",
    "def calc_metrics_imgs(predict,label):\n",
    "    predict,label = predict.flatten(),label.flatten()\n",
    "    mask = (label>230)|(label < 50)\n",
    "    p = (predict.astype(np.float32)/255.)[mask]\n",
    "    y = (label.astype(np.float32)/255.)[mask]\n",
    "    y[y>0.5] = 1.\n",
    "    y[y<=0.5] = 0.\n",
    "    bp = np.zeros_like(p)\n",
    "    bp[p>0.5] = 1.\n",
    "    TP = (bp*y).sum()\n",
    "    TN = ((1-bp)*(1-y)).sum()\n",
    "    FP = (bp*(1.0-y)).sum()\n",
    "    FN = ((1.0-bp)*y).sum()\n",
    "    AveragePrecision = 0#average_precision_score(y,p)\n",
    "    return np.array([TP,TN,FP,FN],dtype=np.int64),AveragePrecision\n",
    "    \n",
    "\n",
    "def print_results(results):\n",
    "    s = ''\n",
    "    for k in results.keys():\n",
    "        s=s+k+str(': ')+str(results[k])+'\\n'\n",
    "    return s\n",
    "\n",
    "def calc_metrics_folder(data_dir):\n",
    "    S = np.array([0,0,0,0],dtype=np.int64)\n",
    "    AveragePrecision = 0.0\n",
    "    nums = [int(i[:-4]) for i in os.listdir(data_dir) if i.find('true') < 0 and  i.find('input') < 0]\n",
    "    for i in nums:\n",
    "        m = cv2.imread(data_dir+'/%i_true.png'%(i))\n",
    "        p = cv2.imread(data_dir+'/%i.png'%(i))\n",
    "        cv2.imshow('p',p)\n",
    "        cv2.waitKey(1)\n",
    "        _s = calc_metrics_imgs(p,m)\n",
    "        AveragePrecision += _s[1]\n",
    "        S+=_s[0]\n",
    "        \n",
    "    TP,TN,FP,FN = S[0],S[1],S[2],S[3]\n",
    "    if(S.min() <= 0):\n",
    "        results = dict( AveragePrecision = 0,\\\n",
    "                        Recall = np.nan,\\\n",
    "                        Sp = np.nan,\\\n",
    "                        FPR = np.nan,\\\n",
    "                        FNR = np.nan,\\\n",
    "                        PWC =  np.nan,\\\n",
    "                        F_Measure  =  np.nan,\\\n",
    "                        Precision  = np.nan)\n",
    "    else:\n",
    "        results = dict( AveragePrecision = AveragePrecision/float(len(nums)),\\\n",
    "                        Recall = TP / float(TP + FN),\\\n",
    "                        Sp = TN / float(TN + FP),\\\n",
    "                        FPR = FP / float(FP + TN),\\\n",
    "                        FNR = FN / float(TP + FN),\\\n",
    "                        PWC =  100 * (FN + FP) / float(TP + FN + FP + TN),\\\n",
    "                        F_Measure  =  (2 * (TP / float(TP + FP)) * (TP / float(TP + FN))) / (TP / float(TP + FP) +  TP / float(TP + FN)),\\\n",
    "                        Precision  = TP / float(TP + FP))\n",
    "\n",
    "    print data_dir\n",
    "    print print_results(results)\n",
    "    return results\n",
    "\n",
    "def calc_metric_all_folders(data_dir):\n",
    "    res = []\n",
    "    f = open(data_dir+'.txt','w')\n",
    "    list_dirs = []\n",
    "    for j in os.listdir(data_dir):\n",
    "        list_dirs = list_dirs+[data_dir+'/'+j+'/'+i for i in os.listdir(data_dir+'/'+j)]\n",
    "    \n",
    "    for folder in list_dirs:\n",
    "        results = calc_metrics_folder(folder)\n",
    "        if not (results is None):\n",
    "            res.append(results)\n",
    "            f.write(folder+'\\n')\n",
    "            f.write(print_results(results))\n",
    "    results = dict()\n",
    "    for k in res[0].keys():\n",
    "        results[k] = np.array([i[k] for i in res if np.isfinite(i[k])]).mean()\n",
    "    f.write('total result\\n')\n",
    "    f.write(print_results(results))\n",
    "    f.close()\n",
    "    print 'total result'\n",
    "    print print_results(results)\n",
    "\n",
    "calc_metric_all_folders('results/'+cfg.NAME+'_FTSG')"
   ]
  }
 ],
 "metadata": {
  "anaconda-cloud": {},
  "kernelspec": {
   "display_name": "Python 2",
   "language": "python",
   "name": "python2"
  },
  "language_info": {
   "codemirror_mode": {
    "name": "ipython",
    "version": 2
   },
   "file_extension": ".py",
   "mimetype": "text/x-python",
   "name": "python",
   "nbconvert_exporter": "python",
   "pygments_lexer": "ipython2",
   "version": "2.7.6"
  }
 },
 "nbformat": 4,
 "nbformat_minor": 2
}
