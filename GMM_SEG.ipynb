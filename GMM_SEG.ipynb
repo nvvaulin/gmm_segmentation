{
 "cells": [
  {
   "cell_type": "code",
   "execution_count": 9,
   "metadata": {
    "collapsed": false
   },
   "outputs": [],
   "source": [
    "import matplotlib.pyplot as plt\n",
    "%matplotlib inline\n",
    "import numpy as np\n",
    "import cv2"
   ]
  },
  {
   "cell_type": "code",
   "execution_count": 13,
   "metadata": {
    "collapsed": false
   },
   "outputs": [],
   "source": [
    "from config import cfg\n",
    "cfg.SEQ_LENGTH = 250\n",
    "cfg.TILE_SIZE = (16,16)\n",
    "cfg.OUT_SIZE = (1,1)\n",
    "cfg.TRAIN.BATCH_SIZE = 1\n",
    "cfg.TRAIN.EPOCH_SIZE = 1000\n",
    "cfg.NAME = 'gmm'\n",
    "cfg.TRAIN.EPOCH = 0\n",
    "cfg.TRAIN.EPOCH_NUM = 1000\n",
    "cfg.gm_num = 4\n",
    "cfg.ndim = 24"
   ]
  },
  {
   "cell_type": "code",
   "execution_count": 33,
   "metadata": {
    "collapsed": false
   },
   "outputs": [],
   "source": [
    "from loader import TieLoader,GMMDataLoader,draw_sample\n",
    "gmm_loader = GMMDataLoader(TieLoader('/media/data/Programming/motion_segmentation/gmm_segmentation/ties256',\n",
    "                                    cols=16,rows=16,t_size=48),\\\n",
    "                           cfg.TILE_SIZE,cfg.OUT_SIZE,cfg.SEQ_LENGTH,min_r=0.1,max_r=0.7)"
   ]
  },
  {
   "cell_type": "code",
   "execution_count": 34,
   "metadata": {
    "collapsed": false
   },
   "outputs": [
    {
     "name": "stdout",
     "output_type": "stream",
     "text": [
      "(250, 3, 16, 16)\n"
     ]
    },
    {
     "data": {
      "image/png": "[encoded data removed]",
      "text/plain": [
       "<matplotlib.figure.Figure at 0x7f129347df90>"
      ]
     },
     "metadata": {},
     "output_type": "display_data"
    }
   ],
   "source": [
    "def data_generator(gmm_loader,batch_size = cfg.TRAIN.BATCH_SIZE,\n",
    "                   tile_size = cfg.TILE_SIZE,\n",
    "                   epoch_size = cfg.TRAIN.EPOCH_SIZE):\n",
    "    iter = 0\n",
    "    for i in range(epoch_size):        \n",
    "        yield gmm_loader.load_random()\n",
    "        \n",
    "for x,y in data_generator(gmm_loader,1,epoch_size=1):\n",
    "    print x.shape\n",
    "    draw_sample(x,y,8,cfg.SEQ_LENGTH//8)\n",
    "    break"
   ]
  },
  {
   "cell_type": "code",
   "execution_count": 35,
   "metadata": {
    "collapsed": false
   },
   "outputs": [],
   "source": [
    "import theano\n",
    "import theano.tensor as T\n",
    "import lasagne\n",
    "from lasagne import layers as L\n",
    "from broadcast import BroadcastLayer,UnbroadcastLayer\n",
    "from lasagne.nonlinearities import rectify\n",
    "from lasagne.init import HeNormal,Constant"
   ]
  },
  {
   "cell_type": "code",
   "execution_count": 36,
   "metadata": {
    "collapsed": false
   },
   "outputs": [],
   "source": [
    "from symbols import make_conv,BroadcastLayer,res_unit\n",
    "\n",
    "def make_deconv(data,num_filters,filter_size=2,nonl=rectify,name='no_name',with_batchnorm=False):\n",
    "    if(with_batchnorm):\n",
    "        res = L.Deconv2DLayer(data,num_filters,filter_size,2,crop='valid',nonlinearity=None,name=name+'_deconv')\n",
    "        res = L.BatchNormLayer(res,name=name+'_deconv_bn')\n",
    "        if not(nonl is  None):\n",
    "            res = L.NonlinearityLayer(res,nonl,name=name+'_nonl')\n",
    "        return res\n",
    "    else:\n",
    "        return L.Deconv2DLayer(data,num_filters,filter_size,2,crop='valid',nonlinearity=nonl,name=name+'_deconv_nonl')\n",
    "\n",
    "def gen_unet1(data,num_filters,deep,name='unet',first=True):    \n",
    "    name = name+str(deep)\n",
    "    res1 = make_conv(data,num_filters,3,name=name+'_in',with_batchnorm=True)   \n",
    "    \n",
    "    if(deep == 1):\n",
    "        return res1\n",
    "    \n",
    "    res2 = L.Pool2DLayer(res1,2,name=name+'_pool')\n",
    "    res2 = gen_unet1(res2,num_filters*2,deep-1,name[:-1],False)\n",
    "    res2 = make_deconv(res2,num_filters*((2**(deep-1))-1),name=name,with_batchnorm=True)\n",
    "    res = L.ConcatLayer([res2,res1],axis=1, cropping=(None, None, \"center\", \"center\"),name=name+'_concat')\n",
    "    if(first ):\n",
    "        res = L.Conv2DLayer(res,num_filters*(2**(deep-1)),3,nonlinearity=None,name=name+'_conv',pad='same')\n",
    "    else:\n",
    "        res = make_conv(res,num_filters*(2**(deep-1)),3,name=name+'_out',with_batchnorm=True)   \n",
    "    return res\n",
    "\n",
    "\n",
    "def make_net(input_tensor):\n",
    "    data_l = L.InputLayer((cfg.SEQ_LENGTH,3,cfg.TILE_SIZE[1],cfg.TILE_SIZE[0])\n",
    "                           ,input_tensor\n",
    "                           ,name='data')\n",
    "    unet = gen_unet1(data_l,6,3,name='unet')\n",
    "    \n",
    "    fetures = unet#L.Conv2DLayer(unet,cfg.ndim,(1,1),pad='same',name='features')\n",
    "    general_dist = make_conv(unet,12,name='general_dist_hid')\n",
    "    general_dist = L.Conv2DLayer(general_dist,1,(1,1),pad='same',name='general_dist')\n",
    "    net = L.concat([general_dist,fetures])\n",
    "    return net\n",
    "    "
   ]
  },
  {
   "cell_type": "code",
   "execution_count": 18,
   "metadata": {
    "collapsed": false
   },
   "outputs": [
    {
     "name": "stdout",
     "output_type": "stream",
     "text": [
      "\n",
      "In -->      Layer    --> Out     Description                                   \n",
      "-------     -----    -------     -----------                                   \n",
      "[]          0        [1]         data(250, 3, 16, 16)                          \n",
      "[0]         1        [2]         unet3_in_conv(3)(250, 6, 16, 16)              \n",
      "[1]         2        [3]         unet3_in_bn(250, 6, 16, 16)                   \n",
      "[2]         3        [4, 22]     unet3_in_relu(250, 6, 16, 16)                 \n",
      "[3]         4        [5]         unet3_pool(250, 6, 8, 8)                      \n",
      "[4]         5        [6]         unet2_in_conv(3)(250, 12, 8, 8)               \n",
      "[5]         6        [7]         unet2_in_bn(250, 12, 8, 8)                    \n",
      "[6]         7        [8, 15]     unet2_in_relu(250, 12, 8, 8)                  \n",
      "[7]         8        [9]         unet2_pool(250, 12, 4, 4)                     \n",
      "[8]         9        [10]        unet1_in_conv(3)(250, 24, 4, 4)               \n",
      "[9]         10       [11]        unet1_in_bn(250, 24, 4, 4)                    \n",
      "[10]        11       [12]        unet1_in_relu(250, 24, 4, 4)                  \n",
      "[11]        12       [13]        unet2_deconv(250, 12, 8, 8)                   \n",
      "[12]        13       [14]        unet2_deconv_bn(250, 12, 8, 8)                \n",
      "[13]        14       [15]        unet2_nonl(250, 12, 8, 8)                     \n",
      "[14, 7]     15       [16]        unet2_concat(250, 24, 8, 8)                   \n",
      "[15]        16       [17]        unet2_out_conv(3)(250, 24, 8, 8)              \n",
      "[16]        17       [18]        unet2_out_bn(250, 24, 8, 8)                   \n",
      "[17]        18       [19]        unet2_out_relu(250, 24, 8, 8)                 \n",
      "[18]        19       [20]        unet3_deconv(250, 18, 16, 16)                 \n",
      "[19]        20       [21]        unet3_deconv_bn(250, 18, 16, 16)              \n",
      "[20]        21       [22]        unet3_nonl(250, 18, 16, 16)                   \n",
      "[21, 3]     22       [23]        unet3_concat(250, 24, 16, 16)                 \n",
      "[22]        23       [24, 26]    unet3_conv(250, 24, 16, 16)                   \n",
      "[23]        24       [25]        general_dist_hid_conv(1)_nonl(250, 12, 16, 16)\n",
      "[24]        25       [26]        general_dist(250, 1, 16, 16)                  \n",
      "[25, 23]    26       []          None(250, 25, 16, 16)                         \n"
     ]
    }
   ],
   "source": [
    "from utils import get_network_str,save_weights,load_weights\n",
    "\n",
    "data = T.tensor4(name='data')\n",
    "label = T.tensor3(name='label')\n",
    "net = make_net(data)\n",
    "print get_network_str(net,incomings=True,outgoings=True)"
   ]
  },
  {
   "cell_type": "code",
   "execution_count": 19,
   "metadata": {
    "collapsed": true
   },
   "outputs": [],
   "source": [
    "from gmm_op import get_gmm,calc_log_prob_gmm,calc_log_prob_gmm_componetwise,GMM\n",
    "from theano_utils import histogram_loss,split,accuracy\n",
    "from lasagne.regularization import regularize_network_params,l2"
   ]
  },
  {
   "cell_type": "code",
   "execution_count": 20,
   "metadata": {
    "collapsed": false
   },
   "outputs": [],
   "source": [
    "def get_output(net,t_size=cfg.TILE_SIZE,o_size=cfg.OUT_SIZE):\n",
    "    X = lasagne.layers.get_output(net)\n",
    "    X = X[:,:,(t_size[1]-o_size[1])//2:(t_size[1]+o_size[1])//2,\\\n",
    "              (t_size[0]-o_size[0])//2:(t_size[0]+o_size[0])//2]\n",
    "    return T.transpose(X,(0,2,3,1)).reshape((-1,cfg.ndim+1))\n",
    "net_output = get_output(net)\n",
    "general_dist = net_output[:,:1]\n",
    "X = net_output[:,1:]\n",
    "X = X/T.sqrt(T.square(X).sum(1)+np.float32(1e-8))[:,None]\n",
    "means,covars,weights = get_gmm(X,cfg.gm_num,cfg.ndim,True)\n",
    "p = calc_log_prob_gmm_componetwise(X,means,covars,weights)\n",
    "p = T.nnet.softmax(T.concatenate([p,general_dist],axis=1))\n",
    "rate = weights/(T.mean(covars,1)+np.float32(1e-8))\n",
    "rate=rate#/(T.sum(rate)+np.float32(1e-8))\n",
    "rate_param = theano.shared(np.float32(10.),name='rate_param',allow_downcast=True)\n",
    "soft_sign = T.concatenate([T.tanh(rate-rate_param),-T.ones((1,))])\n",
    "Y = np.float32(1.)-np.float32(2.)*label.flatten()\n",
    "class_matrix = Y[:,None]*soft_sign[None,:]\n",
    "l2_loss = 1e-4 * regularize_network_params(net, l2)\n",
    "loss = -T.sum(p*class_matrix)+l2_loss\n",
    "\n",
    "\n",
    "\n",
    "prediction = T.max((1.+T.sgn(p-T.max(p,1)[:,None]+np.float32(1e-10)))*T.sgn(soft_sign)[None,:],1)-1.\n",
    "accuracy = T.sum((1.+T.sgn(prediction*Y))/2.)/abs(prediction).sum()"
   ]
  },
  {
   "cell_type": "code",
   "execution_count": 21,
   "metadata": {
    "collapsed": false
   },
   "outputs": [],
   "source": [
    "# outX,outYp,outYn = split(X,Y,int(cfg.SEQ_LENGTH*cfg.OUT_SIZE[0]*cfg.OUT_SIZE[1]*0.1))\n",
    "# means,covars,weights = get_gmm(outX,cfg.gm_num,24,True)\n",
    "# p_p = calc_log_prob_gmm(outYp,means,covars,weights)\n",
    "# p_n = calc_log_prob_gmm(outYn,means,covars,weights)\n",
    "# l2_loss = 1e-4 * regularize_network_params(net, l2)\n",
    "# loss = histogram_loss(p_n,p_p,0.0001,200)[0]+l2_loss"
   ]
  },
  {
   "cell_type": "code",
   "execution_count": 37,
   "metadata": {
    "collapsed": false
   },
   "outputs": [],
   "source": [
    "params = lasagne.layers.get_all_params(net, trainable=True)\n",
    "#params.append(rate_param)\n",
    "G_lr = theano.shared(np.array(0.001, dtype=theano.config.floatX))\n",
    "MAX_GRAD_NORM = 15\n",
    "all_grads = T.grad(loss, params)\n",
    "all_grads = [T.clip(g, -.1, .1) for g in all_grads]\n",
    "all_grads, norm = lasagne.updates.total_norm_constraint(all_grads, MAX_GRAD_NORM, return_norm=True)\n",
    "updates = lasagne.updates.adam(all_grads,params,G_lr)"
   ]
  },
  {
   "cell_type": "code",
   "execution_count": 23,
   "metadata": {
    "collapsed": false
   },
   "outputs": [
    {
     "name": "stdout",
     "output_type": "stream",
     "text": [
      "train_fn compiled\n"
     ]
    }
   ],
   "source": [
    "train_fn = theano.function([data, label], [loss,accuracy,X,Y,class_matrix,rate,soft_sign,weights,covars,prediction,p*class_matrix], allow_input_downcast=True, updates=updates)\n",
    "print 'train_fn compiled'"
   ]
  },
  {
   "cell_type": "code",
   "execution_count": 53,
   "metadata": {
    "collapsed": false
   },
   "outputs": [
    {
     "name": "stdout",
     "output_type": "stream",
     "text": [
      " [  5.06190088e+03   4.34379578e-01   2.25758925e-01   2.67745227e-01]\n"
     ]
    }
   ],
   "source": [
    "print res[-4]/(res[-3].sum(1))"
   ]
  },
  {
   "cell_type": "code",
   "execution_count": 16,
   "metadata": {
    "collapsed": false
   },
   "outputs": [
    {
     "name": "stdout",
     "output_type": "stream",
     "text": [
      "\n"
     ]
    }
   ],
   "source": [
    "G_lr.set_value(np.float32(0.0001))"
   ]
  },
  {
   "cell_type": "code",
   "execution_count": 14,
   "metadata": {
    "collapsed": false
   },
   "outputs": [],
   "source": [
    "load_weights(net,'models/gmm061_loss-224.57')#models/gmm000_loss17428.31"
   ]
  },
  {
   "cell_type": "code",
   "execution_count": 45,
   "metadata": {
    "collapsed": false
   },
   "outputs": [
    {
     "name": "stdout",
     "output_type": "stream",
     "text": [
      "\n"
     ]
    }
   ],
   "source": [
    "rate_param.set_value(0.5)"
   ]
  },
  {
   "cell_type": "code",
   "execution_count": 14,
   "metadata": {
    "collapsed": false
   },
   "outputs": [],
   "source": [
    "hard = []\n",
    "cur = 0"
   ]
  },
  {
   "cell_type": "code",
   "execution_count": 38,
   "metadata": {
    "collapsed": false
   },
   "outputs": [
    {
     "name": "stdout",
     "output_type": "stream",
     "text": [
      " epoch 0 batch 99 loss=-223.73 ,acc=0.95 -247.96 rate=11.52                                                                                        \n",
      "checkpoint models/gmm000_loss-223.73.npz\n",
      "\n",
      " epoch 1 batch 99 loss=-227.71 ,acc=0.96 -249.96 rate=11.52                                                                               \n",
      "checkpoint models/gmm001_loss-227.71.npz\n",
      "\n",
      " epoch 2 batch 99 loss=-228.04 ,acc=0.96 -246.96 rate=11.52                                                                               \n",
      "checkpoint models/gmm002_loss-228.04.npz\n",
      "\n",
      " epoch 3 batch 99 loss=-230.81 ,acc=0.96 -237.91 rate=11.52                                                                             \n",
      "checkpoint models/gmm003_loss-230.81.npz\n",
      "\n",
      " epoch 4 batch 99 loss=-229.38 ,acc=0.96 -141.99 rate=11.51                                                                                    \n",
      "checkpoint models/gmm004_loss-229.38.npz\n",
      "\n",
      " epoch 5 batch 99 loss=-220.84 ,acc=0.94 -237.96 rate=11.51                                                                                            \n",
      "checkpoint models/gmm005_loss-220.84.npz\n",
      "\n",
      " epoch 6 batch 99 loss=-230.76 ,acc=0.96 -249.96 rate=11.51                                                                                           \n",
      "checkpoint models/gmm006_loss-230.76.npz\n",
      "\n",
      " epoch 7 batch 99 loss=-235.86 ,acc=0.97 -249.96 rate=11.51                                                                                           \n",
      "checkpoint models/gmm007_loss-235.86.npz\n",
      "\n",
      " epoch 8 batch 99 loss=-232.01 ,acc=0.96 -247.96 rate=11.51                                                                                  \n",
      "checkpoint models/gmm008_loss-232.01.npz\n",
      "\n",
      " epoch 9 batch 99 loss=-231.25 ,acc=0.96 -249.96 rate=11.51                                                                                 \n",
      "checkpoint models/gmm009_loss-231.25.npz\n",
      "\n",
      " epoch 10 batch 99 loss=-235.76 ,acc=0.97 -245.96 rate=11.51                                                                                 \n",
      "checkpoint models/gmm010_loss-235.76.npz\n",
      "\n",
      " epoch 11 batch 99 loss=-235.48 ,acc=0.97 -248.95 rate=11.51                                                                                 \n",
      "checkpoint models/gmm011_loss-235.48.npz\n",
      "\n",
      " epoch 12 batch 99 loss=-235.34 ,acc=0.97 -222.28 rate=11.51                                                                               \n",
      "checkpoint models/gmm012_loss-235.34.npz\n",
      "\n",
      " epoch 13 batch 99 loss=-236.54 ,acc=0.97 -244.52 rate=11.50                                                                                   \n",
      "checkpoint models/gmm013_loss-236.54.npz\n",
      "\n",
      " epoch 14 batch 99 loss=-237.60 ,acc=0.98 -230.96 rate=11.51                                                                                       \n",
      "checkpoint models/gmm014_loss-237.60.npz\n",
      "\n",
      " epoch 15 batch 99 loss=-232.74 ,acc=0.97 -249.96 rate=11.50                                                                                   \n",
      "checkpoint models/gmm015_loss-232.74.npz\n",
      "\n",
      " epoch 16 batch 99 loss=-233.17 ,acc=0.97 -242.96 rate=11.50                                                                                          \n",
      "checkpoint models/gmm016_loss-233.17.npz\n",
      "\n",
      " epoch 17 batch 99 loss=-237.47 ,acc=0.98 -247.96 rate=11.50                                                                                    \n",
      "checkpoint models/gmm017_loss-237.47.npz\n",
      "\n",
      " epoch 18 batch 99 loss=-230.02 ,acc=0.96 -243.13 rate=11.50                                                                             \n",
      "checkpoint models/gmm018_loss-230.02.npz\n",
      "\n",
      " epoch 19 batch 99 loss=-230.51 ,acc=0.96 -217.95 rate=11.50                                                                                \n",
      "checkpoint models/gmm019_loss-230.51.npz\n",
      "\n",
      " epoch 20 batch 99 loss=-236.28 ,acc=0.97 -247.96 rate=11.50                                                                                \n",
      "checkpoint models/gmm020_loss-236.28.npz\n",
      "\n",
      " epoch 21 batch 99 loss=-237.09 ,acc=0.97 -236.06 rate=11.50                                                                              \n",
      "checkpoint models/gmm021_loss-237.09.npz\n",
      "\n",
      " epoch 22 batch 99 loss=-236.60 ,acc=0.97 -224.96 rate=11.50                                                                                          \n",
      "checkpoint models/gmm022_loss-236.60.npz\n",
      "\n",
      " epoch 23 batch 99 loss=-233.99 ,acc=0.97 -249.96 rate=11.50                                                                                                 \n",
      "checkpoint models/gmm023_loss-233.99.npz\n",
      "\n",
      " epoch 24 batch 99 loss=-233.79 ,acc=0.97 -245.96 rate=11.50                                                                                             \n",
      "checkpoint models/gmm024_loss-233.79.npz\n",
      "\n",
      " epoch 25 batch 99 loss=-236.46 ,acc=0.97 -247.96 rate=11.50                                                                                         \n",
      "checkpoint models/gmm025_loss-236.46.npz\n",
      "\n",
      " epoch 26 batch 99 loss=-234.60 ,acc=0.97 -237.96 rate=11.50                                                                                     \n",
      "checkpoint models/gmm026_loss-234.60.npz\n",
      "\n",
      " epoch 27 batch 99 loss=-232.50 ,acc=0.97 -235.96 rate=11.50                                                                                      \n",
      "checkpoint models/gmm027_loss-232.50.npz\n",
      "\n",
      " epoch 28 batch 99 loss=-233.75 ,acc=0.97 -247.96 rate=11.50                                                                             \n",
      "checkpoint models/gmm028_loss-233.75.npz\n",
      "\n",
      " epoch 29 batch 99 loss=-234.29 ,acc=0.97 -241.96 rate=11.50                                                                                  \n",
      "checkpoint models/gmm029_loss-234.29.npz\n",
      "\n",
      " epoch 30 batch 99 loss=-235.64 ,acc=0.97 -247.96 rate=11.50                                                                                   \n",
      "checkpoint models/gmm030_loss-235.64.npz\n",
      "\n",
      " epoch 31 batch 99 loss=-229.38 ,acc=0.96 -223.99 rate=11.50                                                                              \n",
      "checkpoint models/gmm031_loss-229.38.npz\n",
      "\n",
      " epoch 32 batch 99 loss=-234.51 ,acc=0.97 -249.94 rate=11.50                                                                                     \n",
      "checkpoint models/gmm032_loss-234.51.npz\n",
      "\n",
      " epoch 33 batch 99 loss=-234.08 ,acc=0.97 -248.96 rate=11.50                                                                                  \n",
      "checkpoint models/gmm033_loss-234.08.npz\n",
      "\n",
      " epoch 34 batch 99 loss=-238.17 ,acc=0.98 -249.14 rate=11.50                                                                                   \n",
      "checkpoint models/gmm034_loss-238.17.npz\n",
      "\n",
      " epoch 35 batch 99 loss=-236.19 ,acc=0.97 -249.96 rate=11.50                                                                                    \n",
      "checkpoint models/gmm035_loss-236.19.npz\n",
      "\n",
      " epoch 36 batch 99 loss=-229.67 ,acc=0.96 -237.91 rate=11.50                                                                           \n",
      "checkpoint models/gmm036_loss-229.67.npz\n",
      "\n",
      " epoch 37 batch 99 loss=-237.97 ,acc=0.98 -223.87 rate=11.50                                                                              \n",
      "checkpoint models/gmm037_loss-237.97.npz\n",
      "\n",
      " epoch 38 batch 99 loss=-234.37 ,acc=0.97 -192.96 rate=11.50                                                                            \n",
      "checkpoint models/gmm038_loss-234.37.npz\n",
      "\n",
      " epoch 39 batch 99 loss=-225.97 ,acc=0.95 -235.96 rate=11.50                                                                                       \n",
      "checkpoint models/gmm039_loss-225.97.npz\n",
      "\n",
      " epoch 40 batch 99 loss=-228.06 ,acc=0.96 -243.22 rate=11.50                                                                                \n",
      "checkpoint models/gmm040_loss-228.06.npz\n",
      "\n",
      " epoch 41 batch 99 loss=-237.56 ,acc=0.98 -247.96 rate=11.50                                                                            \n",
      "checkpoint models/gmm041_loss-237.56.npz\n",
      "\n",
      " epoch 42 batch 99 loss=-235.64 ,acc=0.97 -242.20 rate=11.50                                                                                    \n",
      "checkpoint models/gmm042_loss-235.64.npz\n",
      "\n",
      " epoch 43 batch 99 loss=-237.89 ,acc=0.98 -225.96 rate=11.50                                                                             \n",
      "checkpoint models/gmm043_loss-237.89.npz\n",
      "\n",
      " epoch 44 batch 99 loss=-234.36 ,acc=0.97 -241.96 rate=11.50                                                                            \n",
      "checkpoint models/gmm044_loss-234.36.npz\n",
      "\n",
      " epoch 45 batch 99 loss=-237.81 ,acc=0.98 -241.96 rate=11.50                                                                               \n",
      "checkpoint models/gmm045_loss-237.81.npz\n",
      "\n",
      " epoch 46 batch 99 loss=-237.74 ,acc=0.98 -231.96 rate=11.50                                                                                   \n",
      "checkpoint models/gmm046_loss-237.74.npz\n",
      "\n",
      " epoch 47 batch 99 loss=-231.86 ,acc=0.96 -245.96 rate=11.50                                                                                 \n",
      "checkpoint models/gmm047_loss-231.86.npz\n",
      "\n",
      " epoch 48 batch 99 loss=-233.91 ,acc=0.97 -244.96 rate=11.50                                                                              \n",
      "checkpoint models/gmm048_loss-233.91.npz\n",
      "\n",
      " epoch 49 batch 99 loss=-233.62 ,acc=0.97 -245.96 rate=11.50                                                                                \n",
      "checkpoint models/gmm049_loss-233.62.npz\n",
      "\n",
      " epoch 50 batch 99 loss=-234.23 ,acc=0.97 -222.95 rate=11.50                                                                              \n",
      "checkpoint models/gmm050_loss-234.23.npz\n",
      "\n",
      " epoch 51 batch 99 loss=-237.55 ,acc=0.98 -237.96 rate=11.50                                                                            \n",
      "checkpoint models/gmm051_loss-237.55.npz\n",
      "\n",
      " epoch 52 batch 99 loss=-240.13 ,acc=0.98 -229.96 rate=11.50                                                                           \n",
      "checkpoint models/gmm052_loss-240.13.npz\n",
      "\n",
      " epoch 53 batch 99 loss=-234.73 ,acc=0.97 -247.87 rate=11.50                                                                               \n",
      "checkpoint models/gmm053_loss-234.73.npz\n",
      "\n",
      " epoch 54 batch 99 loss=-237.20 ,acc=0.97 -222.97 rate=11.50                                                                           \n",
      "checkpoint models/gmm054_loss-237.20.npz\n",
      "\n",
      " epoch 55 batch 99 loss=-231.06 ,acc=0.96 -249.96 rate=11.50                                                                             \n",
      "checkpoint models/gmm055_loss-231.06.npz\n",
      "\n",
      " epoch 56 batch 99 loss=-232.68 ,acc=0.97 -245.96 rate=11.50                                                                              \n",
      "checkpoint models/gmm056_loss-232.68.npz\n",
      "\n",
      " epoch 57 batch 99 loss=-234.22 ,acc=0.97 -215.96 rate=11.50                                                                                \n",
      "checkpoint models/gmm057_loss-234.22.npz\n",
      "\n",
      " epoch 58 batch 99 loss=-238.61 ,acc=0.98 -246.96 rate=11.50                                                                             \n",
      "checkpoint models/gmm058_loss-238.61.npz\n",
      "\n",
      " epoch 59 batch 99 loss=-237.14 ,acc=0.98 -238.00 rate=11.50                                                                              \n",
      "checkpoint models/gmm059_loss-237.14.npz\n",
      "\n",
      " epoch 60 batch 99 loss=-237.04 ,acc=0.97 -245.88 rate=11.50                                                                             \n",
      "checkpoint models/gmm060_loss-237.04.npz\n",
      "\n",
      " epoch 61 batch 99 loss=-233.26 ,acc=0.97 -231.96 rate=11.50                                                                         \n",
      "checkpoint models/gmm061_loss-233.26.npz\n",
      "\n",
      " epoch 62 batch 99 loss=-237.20 ,acc=0.97 -249.96 rate=11.50                                                                                   \n",
      "checkpoint models/gmm062_loss-237.20.npz\n",
      "\n",
      " epoch 63 batch 99 loss=-234.68 ,acc=0.97 -248.96 rate=11.49                                                                                 \n",
      "checkpoint models/gmm063_loss-234.68.npz\n",
      "\n",
      " epoch 64 batch 99 loss=-233.23 ,acc=0.97 -248.96 rate=11.50                                                                           \n",
      "checkpoint models/gmm064_loss-233.23.npz\n",
      "\n",
      " epoch 65 batch 99 loss=-231.58 ,acc=0.96 -235.95 rate=11.49                                                                          \n",
      "checkpoint models/gmm065_loss-231.58.npz\n",
      "\n",
      " epoch 66 batch 99 loss=-229.29 ,acc=0.96 -229.98 rate=11.49                                                                       \n",
      "checkpoint models/gmm066_loss-229.29.npz\n",
      "\n",
      " epoch 67 batch 99 loss=-238.20 ,acc=0.98 -246.96 rate=11.49                                                                            \n",
      "checkpoint models/gmm067_loss-238.20.npz\n",
      "\n",
      " epoch 68 batch 99 loss=-234.80 ,acc=0.97 -246.96 rate=11.49                                                                               \n",
      "checkpoint models/gmm068_loss-234.80.npz\n",
      "\n",
      " epoch 69 batch 99 loss=-239.18 ,acc=0.98 -237.96 rate=11.49                                                                             \n",
      "checkpoint models/gmm069_loss-239.18.npz\n",
      "\n",
      " epoch 70 batch 99 loss=-240.83 ,acc=0.98 -239.96 rate=11.49                                                                      \n",
      "checkpoint models/gmm070_loss-240.83.npz\n",
      "\n",
      " epoch 71 batch 99 loss=-238.57 ,acc=0.98 -241.96 rate=11.49                                                                           \n",
      "checkpoint models/gmm071_loss-238.57.npz\n",
      "\n",
      " epoch 72 batch 99 loss=-228.66 ,acc=0.96 -248.55 rate=11.49                                                                          \n",
      "checkpoint models/gmm072_loss-228.66.npz\n",
      "\n",
      " epoch 73 batch 99 loss=-234.77 ,acc=0.97 -245.95 rate=11.49                                                                               \n",
      "checkpoint models/gmm073_loss-234.77.npz\n",
      "\n",
      " epoch 74 batch 99 loss=-238.89 ,acc=0.98 -248.96 rate=11.49                                                                               \n",
      "checkpoint models/gmm074_loss-238.89.npz\n",
      "\n",
      " epoch 75 batch 99 loss=-229.79 ,acc=0.96 -247.96 rate=11.49                                                                                   \n",
      "checkpoint models/gmm075_loss-229.79.npz\n",
      "\n",
      " epoch 76 batch 99 loss=-238.92 ,acc=0.98 -199.96 rate=11.49                                                                             \n",
      "checkpoint models/gmm076_loss-238.92.npz\n",
      "\n",
      " epoch 77 batch 99 loss=-232.97 ,acc=0.97 -234.96 rate=11.49                                                                          \n",
      "checkpoint models/gmm077_loss-232.97.npz\n",
      "\n",
      " epoch 78 batch 99 loss=-236.90 ,acc=0.97 -234.96 rate=11.49                                                                            \n",
      "checkpoint models/gmm078_loss-236.90.npz\n",
      "\n",
      " epoch 79 batch 99 loss=-232.44 ,acc=0.96 -249.96 rate=11.49                                                                              \n",
      "checkpoint models/gmm079_loss-232.44.npz\n",
      "\n",
      " epoch 80 batch 99 loss=-239.04 ,acc=0.98 -247.96 rate=11.49                                                                         \n",
      "checkpoint models/gmm080_loss-239.04.npz\n",
      "\n",
      " epoch 81 batch 99 loss=-233.15 ,acc=0.97 -214.94 rate=11.49                                                                             \n",
      "checkpoint models/gmm081_loss-233.15.npz\n",
      "\n",
      " epoch 82 batch 99 loss=-230.35 ,acc=0.96 -249.96 rate=11.49                                                                          \n",
      "checkpoint models/gmm082_loss-230.35.npz\n",
      "\n",
      " epoch 83 batch 99 loss=-237.03 ,acc=0.97 -241.96 rate=11.49                                                                           \n",
      "checkpoint models/gmm083_loss-237.03.npz\n",
      "\n",
      " epoch 84 batch 99 loss=-233.10 ,acc=0.97 -213.05 rate=11.49                                                                           \n",
      "checkpoint models/gmm084_loss-233.10.npz\n",
      "\n",
      " epoch 85 batch 99 loss=-239.87 ,acc=0.98 -247.96 rate=11.49                                                                           \n",
      "checkpoint models/gmm085_loss-239.87.npz\n",
      "\n",
      " epoch 86 batch 99 loss=-239.68 ,acc=0.98 -238.96 rate=11.49                                                                            \n",
      "checkpoint models/gmm086_loss-239.68.npz\n",
      "\n",
      " epoch 87 batch 99 loss=-233.51 ,acc=0.97 -239.96 rate=11.49                                                                              \n",
      "checkpoint models/gmm087_loss-233.51.npz\n",
      "\n",
      " epoch 88 batch 99 loss=-233.97 ,acc=0.97 -242.17 rate=11.49                                                                               \n",
      "checkpoint models/gmm088_loss-233.97.npz\n",
      "\n",
      " epoch 89 batch 99 loss=-233.26 ,acc=0.97 -249.96 rate=11.49                                                                        \n",
      "checkpoint models/gmm089_loss-233.26.npz\n",
      "\n",
      " epoch 90 batch 99 loss=-240.87 ,acc=0.98 -249.96 rate=11.49                                                                       \n",
      "checkpoint models/gmm090_loss-240.87.npz\n",
      "\n",
      " epoch 91 batch 99 loss=-235.21 ,acc=0.97 -244.96 rate=11.48                                                                                \n",
      "checkpoint models/gmm091_loss-235.21.npz\n",
      "\n",
      " epoch 92 batch 99 loss=-238.50 ,acc=0.98 -249.96 rate=11.48                                                                                 \n",
      "checkpoint models/gmm092_loss-238.50.npz\n",
      "\n",
      " epoch 93 batch 99 loss=-239.21 ,acc=0.98 -226.97 rate=11.48                                                                            \n",
      "checkpoint models/gmm093_loss-239.21.npz\n",
      "\n",
      " epoch 94 batch 99 loss=-235.61 ,acc=0.97 -245.86 rate=11.48                                                                        \n",
      "checkpoint models/gmm094_loss-235.61.npz\n",
      "\n",
      " epoch 95 batch 99 loss=-235.25 ,acc=0.97 -235.96 rate=11.48                                                                         \n",
      "checkpoint models/gmm095_loss-235.25.npz\n",
      "\n",
      " epoch 96 batch 99 loss=-232.14 ,acc=0.96 -240.00 rate=11.48                                                                         \n",
      "checkpoint models/gmm096_loss-232.14.npz\n",
      "\n",
      " epoch 97 batch 99 loss=-234.47 ,acc=0.97 -227.63 rate=11.48                                                                          \n",
      "checkpoint models/gmm097_loss-234.47.npz\n",
      "\n",
      " epoch 98 batch 99 loss=-235.03 ,acc=0.97 -243.96 rate=11.48                                                                            \n",
      "checkpoint models/gmm098_loss-235.03.npz\n",
      "\n",
      " epoch 99 batch 99 loss=-234.46 ,acc=0.97 -247.96 rate=11.48                                                                       \n",
      "checkpoint models/gmm099_loss-234.46.npz\n",
      "\n"
     ]
    }
   ],
   "source": [
    "\n",
    "\n",
    "for j in range(0,100):\n",
    "    train_loss=0\n",
    "    train_acc=0\n",
    "    for i,batch in enumerate(data_generator(gmm_loader,epoch_size=100)):\n",
    "        res = train_fn(*batch)\n",
    "        train_acc += res[1]\n",
    "        train_loss+=res[0]\n",
    "#         if(res[1] < .8):\n",
    "#             if( len(hard) < 1000):\n",
    "#                 hard.append(batch)\n",
    "#             else:\n",
    "#                 hard[cur] = batch\n",
    "#                 cur = (cur+1) % len(hard)\n",
    "#         for k in range(min(3,len(hard))):\n",
    "#             batch = hard[np.random.randint(0,len(hard))]\n",
    "#             res = train_fn(*batch)\n",
    "        print '\\r epoch %i batch %i loss=%.2f ,acc=%.2f %.2f rate=%.2f'%(j,i,train_loss/float(i+1),train_acc/float(i+1),res[0],rate_param.get_value()),\n",
    "    print ''\n",
    "    save_weights(net,'models/%s%03i_loss%05.2f'%\\\n",
    "                 (cfg.NAME,j,train_loss/float(i+1)))\n",
    "    if(j == 50):\n",
    "        G_lr.set_value(np.float32(0.0001))\n",
    "    print ''\n",
    "#     for i,batch in enumerate(data_generator(gmm_loader,epoch_size=10)):\n",
    "#         res = test_fn(*batch)\n",
    "#         train_acc+=res[0]\n",
    "#     print 'accuracy ',train_acc/10"
   ]
  },
  {
   "cell_type": "markdown",
   "metadata": {},
   "source": [
    "# Draw Histogram"
   ]
  },
  {
   "cell_type": "code",
   "execution_count": 23,
   "metadata": {
    "collapsed": false
   },
   "outputs": [
    {
     "data": {
      "image/png": "[encoded data removed]",
      "text/plain": [
       "<matplotlib.figure.Figure at 0x7f736439c9d0>"
      ]
     },
     "metadata": {},
     "output_type": "display_data"
    },
    {
     "name": "stdout",
     "output_type": "stream",
     "text": [
      "143.053151846 64.0065259933\n"
     ]
    },
    {
     "data": {
      "image/png": "[encoded data removed]",
      "text/plain": [
       "<matplotlib.figure.Figure at 0x7f733139fa10>"
      ]
     },
     "metadata": {},
     "output_type": "display_data"
    }
   ],
   "source": [
    "for i,batch in enumerate(data_generator(gmm_loader,epoch_size=10)):\n",
    "    #batch = hard[10]\n",
    "    draw_sample(batch[0],batch[1],8,cfg.SEQ_LENGTH//8)\n",
    "    res = train_fn(*batch)\n",
    "    plt.hist(res[2],bins=40,label='positive')\n",
    "    plt.hist(res[3],bins=40,label='negative')\n",
    "    print res[2].min(),res[3].max()\n",
    "    plt.legend()\n",
    "    plt.show()\n",
    "    break"
   ]
  },
  {
   "cell_type": "code",
   "execution_count": 83,
   "metadata": {
    "collapsed": false
   },
   "outputs": [
    {
     "name": "stdout",
     "output_type": "stream",
     "text": [
      "0.995500610501                                                        \n"
     ]
    }
   ],
   "source": [
    "test_acc = 0\n",
    "for i,batch in enumerate(data_generator(gmm_loader,epoch_size=100)):\n",
    "    res = test_fn(*batch)\n",
    "    test_acc += accuracy(res[0],res[1],50)\n",
    "    print '\\r', (test_acc/(i+1)),"
   ]
  },
  {
   "cell_type": "code",
   "execution_count": null,
   "metadata": {
    "collapsed": true
   },
   "outputs": [],
   "source": []
  }
 ],
 "metadata": {
  "anaconda-cloud": {},
  "kernelspec": {
   "display_name": "Python 2",
   "language": "python",
   "name": "python2"
  },
  "language_info": {
   "codemirror_mode": {
    "name": "ipython",
    "version": 2
   },
   "file_extension": ".py",
   "mimetype": "text/x-python",
   "name": "python",
   "nbconvert_exporter": "python",
   "pygments_lexer": "ipython2",
   "version": "2.7.12"
  }
 },
 "nbformat": 4,
 "nbformat_minor": 2
}
