{
 "cells": [
  {
   "cell_type": "code",
   "execution_count": 1,
   "metadata": {
    "collapsed": false
   },
   "outputs": [],
   "source": [
    "import matplotlib.pyplot as plt\n",
    "%matplotlib inline\n",
    "import numpy as np\n",
    "import cv2"
   ]
  },
  {
   "cell_type": "code",
   "execution_count": 4,
   "metadata": {
    "collapsed": false
   },
   "outputs": [],
   "source": [
    "from config import cfg\n",
    "cfg.SEQ_LENGTH = 250\n",
    "cfg.TILE_SIZE = (16,16)\n",
    "cfg.OUT_SIZE = (1,1)\n",
    "cfg.NAME = 'no_params'\n",
    "cfg.TRAIN.EPOCH = 0\n",
    "cfg.TRAIN.EPOCH_NUM = 1000\n",
    "cfg.gm_num = 4\n",
    "cfg.ndim = 3"
   ]
  },
  {
   "cell_type": "code",
   "execution_count": 5,
   "metadata": {
    "collapsed": false
   },
   "outputs": [],
   "source": [
    "from loader import TieLoader,GMMDataLoader,draw_sample\n",
    "train_loader = GMMDataLoader(TieLoader('/media/data/Programming/motion_segmentation/gmm_segmentation/ties256',\n",
    "                                    cols=16,rows=16,t_size=48),\\\n",
    "                           cfg.TILE_SIZE,cfg.OUT_SIZE,cfg.SEQ_LENGTH,min_r=0.1,max_r=0.3)"
   ]
  },
  {
   "cell_type": "code",
   "execution_count": 6,
   "metadata": {
    "collapsed": false
   },
   "outputs": [
    {
     "name": "stdout",
     "output_type": "stream",
     "text": [
      "(250, 3, 16, 16)\n"
     ]
    },
    {
     "data": {
      "image/png": "[encoded data removed]",
      "text/plain": [
       "<matplotlib.figure.Figure at 0x7f8353103b90>"
      ]
     },
     "metadata": {},
     "output_type": "display_data"
    }
   ],
   "source": [
    "def data_generator(gmm_loader,\n",
    "                   tile_size = cfg.TILE_SIZE,\n",
    "                   epoch_size = cfg.TRAIN.EPOCH_SIZE):\n",
    "    iter = 0\n",
    "    for i in range(epoch_size):        \n",
    "        yield gmm_loader.load_random()\n",
    "        \n",
    "for x,y in data_generator(train_loader,epoch_size=1):\n",
    "    print x.shape\n",
    "    draw_sample(x,y,8,cfg.SEQ_LENGTH//8)\n",
    "    break"
   ]
  },
  {
   "cell_type": "code",
   "execution_count": 7,
   "metadata": {
    "collapsed": false
   },
   "outputs": [
    {
     "name": "stderr",
     "output_type": "stream",
     "text": [
      "Using cuDNN version 5105 on context None\n",
      "Mapped name None to device cuda: GeForce GT 740M (0000:01:00.0)\n"
     ]
    }
   ],
   "source": [
    "import theano\n",
    "import theano.tensor as T"
   ]
  },
  {
   "cell_type": "markdown",
   "metadata": {},
   "source": [
    "# Build model"
   ]
  },
  {
   "cell_type": "code",
   "execution_count": 8,
   "metadata": {
    "collapsed": false
   },
   "outputs": [],
   "source": [
    "from utils import get_network_str,save_weights,load_weights\n",
    "import lasagne\n",
    "from lasagne import layers as L\n",
    "from lasagne.nonlinearities import rectify\n",
    "from theano_utils import histogram_loss\n",
    "from lasagne.regularization import regularize_network_params,l2\n",
    "from gmm_op import get_gmm,calc_log_prob_gmm,calc_log_prob_gmm_componetwise\n",
    "from theano_utils import split\n",
    "\n",
    "data = T.tensor4(name='data')\n",
    "label = T.tensor3(name='label')\n",
    "\n",
    "def FCN(data,ndim=cfg.ndim,verbose=True,model_name=''):\n",
    "    res = L.InputLayer((None,3,None,None)\n",
    "                           ,data\n",
    "                           ,name='data')\n",
    "#     res = L.Conv2DLayer(res,filter_size=(3,3),num_filters=6,\n",
    "#                         nonlinearity=rectify,pad='same',\n",
    "#                         name='conv1')\n",
    "#     res = L.Conv2DLayer(res,filter_size=(3,3),num_filters=12,\n",
    "#                         nonlinearity=rectify,pad='same',\n",
    "#                         name='conv2')\n",
    "#     res = L.Conv2DLayer(res,filter_size=(3,3),num_filters=ndim,\n",
    "#                         nonlinearity=rectify,pad='same',\n",
    "#                         name='conv3')\n",
    "    if(model_name != ''):\n",
    "        load_weights(res,model_name)\n",
    "    print get_network_str(res,incomings=True,outgoings=True)\n",
    "    sym = lasagne.layers.get_output(res)\n",
    "    sym = T.transpose(sym,(0,2,3,1))\n",
    "    sym = sym/(T.sqrt(T.square(sym).sum(-1)+1e-8)[:,:,:,None])\n",
    "    params = lasagne.layers.get_all_params(res, trainable=True)\n",
    "    l2_loss = 1e-4 * regularize_network_params(res, l2)\n",
    "    return res,sym,params,l2_loss\n",
    "               \n",
    "\n",
    "def soft_predict_sym(features,means,covars,weights):\n",
    "    return 1.-T.nnet.sigmoid(calc_log_prob_gmm(features,means,covars,weights))\n"
   ]
  },
  {
   "cell_type": "markdown",
   "metadata": {},
   "source": [
    "# Train"
   ]
  },
  {
   "cell_type": "code",
   "execution_count": 21,
   "metadata": {
    "collapsed": false
   },
   "outputs": [
    {
     "name": "stdout",
     "output_type": "stream",
     "text": [
      "\n",
      "In -->     Layer    --> Out    Description              \n",
      "-------    -----    -------    -----------              \n",
      "[]         0        []         data(None, 3, None, None)\n",
      "train_fn compiled\n"
     ]
    }
   ],
   "source": [
    "def get_output(X,t_size=cfg.TILE_SIZE,o_size=cfg.OUT_SIZE):\n",
    "    return X[:,:,(t_size[1]-o_size[1])//2:(t_size[1]+o_size[1])//2,\\\n",
    "              (t_size[0]-o_size[0])//2:(t_size[0]+o_size[0])//2]\n",
    "\n",
    "\n",
    "def make_train_fn(model_name=''):\n",
    "    def split_tr_p_n(x,y):\n",
    "        x_tr_p,x_n = split(x,y)\n",
    "        x_p = x_tr_p[-x_n.shape[0]:]\n",
    "        x_tr = x_tr_p[:-x_n.shape[0]]\n",
    "        return x_tr,x_p,x_n\n",
    "    \n",
    "    data = T.tensor4(name='data')\n",
    "    label = T.tensor3(name='label')\n",
    "    net,X,params,l2_loss = FCN(data,ndim=cfg.ndim,model_name=model_name)\n",
    "    X = X[:,X.shape[1]//2:X.shape[1]//2+1,X.shape[2]//2:X.shape[2]//2+1,:]\n",
    "    X = X.reshape((-1,X.shape[-1]))\n",
    "    x_tr,x_p,x_n = split_tr_p_n(X,label.flatten())\n",
    "    m,c,w = get_gmm(x_tr,cfg.gm_num,cfg.ndim)\n",
    "    p_n = calc_log_prob_gmm(x_n,m,c,w)\n",
    "    p_p = calc_log_prob_gmm(x_p,m,c,w)\n",
    "    loss = histogram_loss(p_n,p_p,1e-4,100)[0]+l2_loss\n",
    "    prediction = T.nnet.sigmoid(T.concatenate([p_p,p_n],axis=0))\n",
    "    Y = T.concatenate([T.ones_like(p_p),T.zeros_like(p_n)],axis=0)\n",
    "    G_lr = theano.shared(np.array(0.001, dtype=theano.config.floatX))\n",
    "    updates = lasagne.updates.adam(loss,params,G_lr)\n",
    "    train_fn = theano.function([data, label], [loss,X,Y,prediction,m,c,w],\\\n",
    "                               allow_input_downcast=True, updates=updates)\n",
    "    print 'train_fn compiled'\n",
    "    return train_fn,G_lr,net\n",
    "\n",
    "train_fn,G_lr,net=make_train_fn()"
   ]
  },
  {
   "cell_type": "code",
   "execution_count": 22,
   "metadata": {
    "collapsed": false
   },
   "outputs": [],
   "source": [
    "G_lr.set_value(np.float32(0.001))"
   ]
  },
  {
   "cell_type": "code",
   "execution_count": 23,
   "metadata": {
    "collapsed": false
   },
   "outputs": [],
   "source": [
    "hard = []\n",
    "cur = 0"
   ]
  },
  {
   "cell_type": "code",
   "execution_count": 25,
   "metadata": {
    "collapsed": false
   },
   "outputs": [
    {
     "name": "stdout",
     "output_type": "stream",
     "text": [
      " epoch 0 batch 99 loss=1147274.33 ,acc=0.92 l=168.60 a=1.00 .755                                                          \n",
      "checkpoint models/no_params000.npz\n",
      "\n"
     ]
    }
   ],
   "source": [
    "from sklearn.metrics import average_precision_score\n",
    "\n",
    "for j in range(0,1):\n",
    "    train_loss=0\n",
    "    train_acc=0\n",
    "    for i,batch in enumerate(data_generator(train_loader,epoch_size=100)):\n",
    "        res = train_fn(*batch)\n",
    "        acc = average_precision_score(res[2],res[3])\n",
    "        train_acc +=acc\n",
    "        train_loss+=res[0]\n",
    "#         if(res[1] < .8):\n",
    "#             if( len(hard) < 1000):\n",
    "#                 hard.append(batch)\n",
    "#             else:\n",
    "#                 hard[cur] = batch\n",
    "#                 cur = (cur+1) % len(hard)\n",
    "#         for k in range(min(3,len(hard))):\n",
    "#             batch = hard[np.random.randint(0,len(hard))]\n",
    "#             res = train_fn(*batch)\n",
    "        print '\\r epoch %i batch %i loss=%.2f ,acc=%.2f l=%.2f a=%.2f'%(j,i,train_loss/float(i+1),train_acc/float(i+1),res[0],acc),\n",
    "    print ''\n",
    "    save_weights(net,'models/%s%03d'%(cfg.NAME,j))\n",
    "    if(j == 50):\n",
    "        G_lr.set_value(np.float32(0.0001))\n",
    "    print ''"
   ]
  },
  {
   "cell_type": "markdown",
   "metadata": {},
   "source": [
    "# Evaluete model"
   ]
  },
  {
   "cell_type": "code",
   "execution_count": 47,
   "metadata": {
    "collapsed": false
   },
   "outputs": [
    {
     "name": "stdout",
     "output_type": "stream",
     "text": [
      "\n"
     ]
    }
   ],
   "source": [
    "from test_tools import iretate_test_dataset,make_features,make_gmms,fit_gmms,predict_pixelwise\n",
    "\n",
    "def make_test(feature_fn,predict_fn,out_dir='results/'+cfg.NAME,dataset='dataset',max_frames=300,im_size = (320//2,240//2)):\n",
    "    for folder,imgs,masks in iretate_test_dataset(out_dir,dataset,max_frames,im_size):        \n",
    "        print folder,'generate_features,',\n",
    "        data = make_features(feature_fn,imgs)\n",
    "        gmms = make_gmms(imgs.shape[1:-1])\n",
    "        print 'fit gmms,',\n",
    "        fit_gmms(data[:100],gmms,masks[:100])\n",
    "        print 'predict,',\n",
    "        prediction = predict_pixelwise(data[100:],gmms,predict_fn)\n",
    "        print 'save'\n",
    "        imgs = imgs[100:]\n",
    "        masks = masks[100:]      \n",
    "        prediction = (prediction*255).astype(np.uint8)\n",
    "        for i in range(len(imgs)):\n",
    "            cv2.imwrite(folder+'/'+str(i)+'.png',prediction[i])\n",
    "            cv2.imwrite(folder+'/'+str(i)+'_true.png',masks[i])\n",
    "            cv2.imwrite(folder+'/'+str(i)+'_input.jpg',imgs[i])\n",
    "    print 'test complit'"
   ]
  },
  {
   "cell_type": "code",
   "execution_count": 34,
   "metadata": {
    "collapsed": false
   },
   "outputs": [
    {
     "name": "stdout",
     "output_type": "stream",
     "text": [
      "\n",
      "In -->     Layer    --> Out    Description              \n",
      "-------    -----    -------    -----------              \n",
      "[]         0        []         data(None, 3, None, None)\n"
     ]
    }
   ],
   "source": [
    "data=T.tensor4()\n",
    "feature_sym = FCN(data,model_name='')[1]#models/%s%03d'%(cfg.NAME,0))[1]\n",
    "feature_fn = theano.function([data],feature_sym,allow_input_downcast=True)"
   ]
  },
  {
   "cell_type": "code",
   "execution_count": 50,
   "metadata": {
    "collapsed": true
   },
   "outputs": [],
   "source": [
    "data,m,c,w=T.matrix(),T.matrix(),T.matrix(),T.vector()\n",
    "predict_fn = theano.function([data,m,c,w],soft_predict_sym(data,m,c,w),allow_input_downcast=True)"
   ]
  },
  {
   "cell_type": "code",
   "execution_count": 51,
   "metadata": {
    "collapsed": false
   },
   "outputs": [
    {
     "name": "stdout",
     "output_type": "stream",
     "text": [
      "results/no_params/badWeather/blizzard generate_features, fit gmms, predict, save\n",
      "results/no_params/baseline/highway generate_features, fit gmms, predict, save\n",
      "results/no_params/cameraJitter/badminton generate_features, fit gmms, predict, save\n",
      "results/no_params/dynamicBackground/boats generate_features, fit gmms, predict, save\n",
      "results/no_params/shadow/backdoor generate_features, fit gmms, predict, save\n",
      "results/no_params/thermal/corridor generate_features, fit gmms, predict, save\n",
      "test complit\n"
     ]
    }
   ],
   "source": [
    "make_test(feature_fn,predict_fn)"
   ]
  },
  {
   "cell_type": "markdown",
   "metadata": {},
   "source": [
    "# Calc metric"
   ]
  },
  {
   "cell_type": "code",
   "execution_count": 66,
   "metadata": {
    "collapsed": false
   },
   "outputs": [
    {
     "name": "stdout",
     "output_type": "stream",
     "text": [
      "results/no_params/badWeather/blizzard 0.502382895721\n",
      "results/no_params/baseline/highway 0.828983140714\n",
      "results/no_params/cameraJitter/badminton 0.909376886129\n",
      "results/no_params/dynamicBackground/boats 0.915358261752\n",
      "results/no_params/shadow/backdoor 0.83113477353\n",
      "results/no_params/thermal/corridor 0.568385242147\n"
     ]
    },
    {
     "data": {
      "text/plain": [
       "0.75927019999885459"
      ]
     },
     "execution_count": 66,
     "metadata": {},
     "output_type": "execute_result"
    }
   ],
   "source": [
    "from sklearn.metrics import average_precision_score\n",
    "\n",
    "def calc_metrics_img(predict,label):\n",
    "    mask = (label.flatten()>230)|(label.flatten() < 50)\n",
    "    def prepare(x):\n",
    "        res = np.zeros_like(x,dtype=np.float32)\n",
    "        res/=255.\n",
    "        return res[mask].flatten()\n",
    "    p = (predict.astype(np.float32)/255.).flatten()[mask]\n",
    "    y = (label.astype(np.float32)/255.).flatten()[mask]\n",
    "    y[y>0.5] = 1.\n",
    "    y[y<=0.5] = 0.\n",
    "    return average_precision_score(y,p)\n",
    "\n",
    "def calc_metrics_folder(data_dir):\n",
    "    res = []\n",
    "    for j in os.listdir(data_dir)[:10]:\n",
    "        if(j.find('true')>=0 or j.find('input')>=0):\n",
    "            continue\n",
    "        pred = cv2.imread(data_dir+'/'+j)\n",
    "        if(pred.mean() > 240):\n",
    "            continue\n",
    "        true = cv2.imread(data_dir+'/'+j[:-4]+'_true.png')\n",
    "        res.append(calc_metrics_img(pred,true))\n",
    "    if(len(res) == 0):\n",
    "        return None\n",
    "    return np.array(res).mean(0)\n",
    "\n",
    "def calc_metric_all_folders(data_dir):\n",
    "    res = []\n",
    "    f = open('results/'+cfg.NAME+'.txt','w')\n",
    "    for j in os.listdir(data_dir):\n",
    "        folder = data_dir+'/'+j+'/'+os.listdir(data_dir+'/'+j)[0]\n",
    "        metric = calc_metrics_folder(folder)\n",
    "        if not (metric is None):\n",
    "            res.append(metric)\n",
    "            f.write(folder+' ' +str(res[-1])+'\\n')\n",
    "            print folder,res[-1]\n",
    "    f.write(str(np.array(res).mean(0)))\n",
    "    f.close()\n",
    "    return np.array(res).mean(0)\n",
    "\n",
    "\n",
    "calc_metric_all_folders('results/'+cfg.NAME)"
   ]
  },
  {
   "cell_type": "code",
   "execution_count": 67,
   "metadata": {
    "collapsed": false
   },
   "outputs": [
    {
     "data": {
      "text/plain": [
       "\"{'ndim': 3, 'NAME': 'no_params', 'LABELS': [0, 0, 0, 0, 1], 'SEQ_LENGTH': 250, 'IS_COLOR': True, 'LABEL_NUM': 2, 'TRAIN': {'EPOCH': 0, 'EPOCH_NUM': 1000, 'BATCH_SIZE': 2, 'EPOCH_SIZE': 100}, 'MOTION_RATE': 0.9, 'gm_num': 4, 'OUT_SIZE': [1, 1], 'TILE_SIZE': [16, 16], 'LABEL_VALUES': [0, 50, 85, 170, 255]}\""
      ]
     },
     "execution_count": 67,
     "metadata": {},
     "output_type": "execute_result"
    }
   ],
   "source": [
    "str(cfg)"
   ]
  },
  {
   "cell_type": "code",
   "execution_count": null,
   "metadata": {
    "collapsed": true
   },
   "outputs": [],
   "source": []
  }
 ],
 "metadata": {
  "anaconda-cloud": {},
  "kernelspec": {
   "display_name": "Python 2",
   "language": "python",
   "name": "python2"
  },
  "language_info": {
   "codemirror_mode": {
    "name": "ipython",
    "version": 2
   },
   "file_extension": ".py",
   "mimetype": "text/x-python",
   "name": "python",
   "nbconvert_exporter": "python",
   "pygments_lexer": "ipython2",
   "version": "2.7.12"
  }
 },
 "nbformat": 4,
 "nbformat_minor": 2
}
