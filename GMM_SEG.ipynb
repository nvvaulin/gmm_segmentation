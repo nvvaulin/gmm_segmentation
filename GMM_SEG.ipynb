{
 "cells": [
  {
   "cell_type": "code",
   "execution_count": 1,
   "metadata": {
    "collapsed": false
   },
   "outputs": [],
   "source": [
    "import matplotlib.pyplot as plt\n",
    "%matplotlib inline\n",
    "import numpy as np\n",
    "import cv2"
   ]
  },
  {
   "cell_type": "code",
   "execution_count": 2,
   "metadata": {
    "collapsed": false
   },
   "outputs": [],
   "source": [
    "from config import cfg\n",
    "cfg.SEQ_LENGTH = 250\n",
    "cfg.TILE_SIZE = (16,16)\n",
    "cfg.OUT_SIZE = (1,1)\n",
    "cfg.TRAIN.EPOCH = 0\n",
    "cfg.TRAIN.EPOCH_NUM = 1000\n",
    "cfg.gm_num = 5\n",
    "cfg.ndim = 3\n",
    "cfg.NAME = 'baseline_ndim%d_gm_num%d_fit_all'%(cfg.ndim ,cfg.gm_num)"
   ]
  },
  {
   "cell_type": "code",
   "execution_count": 3,
   "metadata": {
    "collapsed": false
   },
   "outputs": [],
   "source": [
    "from loader import TieLoader,GMMDataLoader,draw_sample\n",
    "train_loader = GMMDataLoader(TieLoader('/media/data/Programming/motion_segmentation/gmm_segmentation/train',\n",
    "                                    cols=16,rows=16,t_size=48),\\\n",
    "                           cfg.TILE_SIZE,cfg.OUT_SIZE,cfg.SEQ_LENGTH,min_r=0.1,max_r=0.3)"
   ]
  },
  {
   "cell_type": "code",
   "execution_count": 4,
   "metadata": {
    "collapsed": false
   },
   "outputs": [
    {
     "name": "stdout",
     "output_type": "stream",
     "text": [
      "(250, 3, 16, 16)\n"
     ]
    },
    {
     "data": {
      "image/png": "[encoded data removed]",
      "text/plain": [
       "<matplotlib.figure.Figure at 0x7f8a55ceab50>"
      ]
     },
     "metadata": {},
     "output_type": "display_data"
    }
   ],
   "source": [
    "def data_generator(gmm_loader,\n",
    "                   tile_size = cfg.TILE_SIZE,\n",
    "                   epoch_size = cfg.TRAIN.EPOCH_SIZE):\n",
    "    for i in range(epoch_size):        \n",
    "        yield gmm_loader.load_random()\n",
    "        \n",
    "for x,y in data_generator(train_loader,epoch_size=1):\n",
    "    print x.shape\n",
    "    draw_sample(x,y,8,cfg.SEQ_LENGTH//8)\n",
    "    break"
   ]
  },
  {
   "cell_type": "code",
   "execution_count": 5,
   "metadata": {
    "collapsed": false
   },
   "outputs": [
    {
     "data": {
      "image/png": "[encoded data removed]",
      "text/plain": [
       "<matplotlib.figure.Figure at 0x7f8a31447a90>"
      ]
     },
     "metadata": {},
     "output_type": "display_data"
    }
   ],
   "source": [
    "import os\n",
    "class TestLoader(TieLoader):\n",
    "    def __init__(self,out_size,label_size,min_r,max_r,path='test',cols = 16,rows=16,t_size=48):\n",
    "        self.t_size = t_size\n",
    "        self.out_size = out_size\n",
    "        self.label_size = label_size\n",
    "        self.cols = cols\n",
    "        self.rows = rows\n",
    "        self.min_r = min_r\n",
    "        self.max_r = max_r\n",
    "        if(os.path.exists(path+'/list.txt') and os.path.exists(path+'/motion.txt')):\n",
    "            self.img_list = [i[:-1] for i in open(path+'/list.txt')]\n",
    "            self.motion_list = [i[:-1] for i in open(path+'/motion.txt')]\n",
    "        else:\n",
    "            all_img = self.list_files(path)\n",
    "            self.img_list = [i for i in all_img if i[i.rfind('/'):].find('motion') < 0]\n",
    "            f = open(path+'/list.txt','w')\n",
    "            for i in self.img_list:\n",
    "                f.write(i+'\\n')\n",
    "            f.close()\n",
    "            \n",
    "    def list_files(self,path):\n",
    "        res = []\n",
    "        for i in os.listdir(path):\n",
    "            if(os.path.isdir(path+'/'+i)):\n",
    "                res = res+ self.list_files(path+'/'+i)\n",
    "            elif(i[-3:] == 'jpg'):\n",
    "                return [path+'/'+j[:j.rfind('_')] for j in os.listdir(path)]\n",
    "        return res\n",
    "    \n",
    "    def iterate_data(self):\n",
    "        for i in range(len(self.img_list)):\n",
    "            im = cv2.imread(self.img_list[i]+'_input.jpg')\n",
    "            mask = cv2.imread(self.img_list[i]+'_mask.jpg',0)\n",
    "            h,w = im.shape[0]//self.rows,im.shape[1]//self.cols\n",
    "            data  = np.zeros((self.cols*self.rows,4,h,w),dtype=np.uint8)\n",
    "            for c in range(self.cols):\n",
    "                for r in range(self.rows):\n",
    "                    if(r*self.cols+c < len(data)):\n",
    "                        data[r*self.cols+c,1:] = np.transpose(im[r*h:r*h+h,c*w:c*w+w,:],(2,0,1))\n",
    "                        data[r*self.cols+c,0] = mask[r*h:r*h+h,c*w:c*w+w]\n",
    "            X = data[:,1:,:self.out_size[0],:self.out_size[1]].astype(np.float32)\n",
    "            Y = data[:,0,:self.out_size[0],:self.out_size[1]].astype(np.float32)/255.\n",
    "            Y[Y>0.5] = 1.\n",
    "            Y[Y<=0.5] = 0\n",
    "            Y = Y[:,(self.out_size[1]-self.label_size[1])//2:(self.out_size[1]-self.label_size[1])//2+self.label_size[1],\\\n",
    "                    (self.out_size[0]-self.label_size[0])//2:(self.out_size[0]-self.label_size[0])//2+self.label_size[0]]\n",
    "            if(Y.mean() > self.max_r or Y.mean() < self.min_r):\n",
    "                continue\n",
    "            yield X,Y\n",
    "\n",
    "test_loader = TestLoader(cfg.TILE_SIZE,cfg.OUT_SIZE,min_r=0.0001,max_r=0.5)\n",
    "            \n",
    "def test_generator(test_loader):\n",
    "    for x,y in test_loader.iterate_data():        \n",
    "        yield x,y\n",
    "   \n",
    "for x,y in test_generator(test_loader):\n",
    "    if(len(y[y>0.9]) <= 10 or len(y[y<0.1]) < 50):\n",
    "        draw_sample(x,y,8,cfg.SEQ_LENGTH//8)\n",
    "        break"
   ]
  },
  {
   "cell_type": "code",
   "execution_count": 6,
   "metadata": {
    "collapsed": false
   },
   "outputs": [
    {
     "name": "stderr",
     "output_type": "stream",
     "text": [
      "Using cuDNN version 5105 on context None\n",
      "Mapped name None to device cuda: GeForce GT 740M (0000:01:00.0)\n"
     ]
    }
   ],
   "source": [
    "import theano\n",
    "import theano.tensor as T"
   ]
  },
  {
   "cell_type": "markdown",
   "metadata": {},
   "source": [
    "# Build model"
   ]
  },
  {
   "cell_type": "code",
   "execution_count": 7,
   "metadata": {
    "collapsed": false
   },
   "outputs": [],
   "source": [
    "\n",
    "from utils import get_network_str,save_weights,load_weights\n",
    "import lasagne\n",
    "from lasagne import layers as L\n",
    "from lasagne.nonlinearities import rectify\n",
    "from theano_utils import histogram_loss\n",
    "from lasagne.regularization import regularize_network_params,l2\n",
    "from gmm_op import get_gmm,calc_log_prob_gmm,calc_log_prob_gmm_componetwise\n",
    "from theano_utils import split\n",
    "\n",
    "data = T.tensor4(name='data')\n",
    "label = T.tensor3(name='label')\n",
    "\n",
    "def make_conv(data,num_filters,name,nonl = rectify):\n",
    "    return L.Conv2DLayer(data,filter_size=(3,3),num_filters=num_filters,\n",
    "                        nonlinearity=nonl,pad='same',\n",
    "                        name='conv'+str(name))\n",
    "    \n",
    "def make_deconv(data,num_filters,name):\n",
    "    return  L.Deconv2DLayer(data,12,2,2,crop='valid',name='deconv'+str(name),nonlinearity=rectify)\n",
    "\n",
    "def FCN(data,ndim=cfg.ndim,verbose=True,model_name=''):\n",
    "    res = L.InputLayer((None,3,None,None)\n",
    "                           ,data\n",
    "                           ,name='data')\n",
    "    \n",
    "    res = make_conv(res,12,1)\n",
    "    conv1 = res\n",
    "    res = L.Pool2DLayer(res,2,name='pool1')\n",
    "    res = make_conv(res,12,2)\n",
    "    conv2 = res\n",
    "    res = L.Pool2DLayer(res,2,name='pool2')\n",
    "    res = make_conv(res,24,3)\n",
    "    res = make_deconv(res,12,1)\n",
    "    res = L.ElemwiseMergeLayer([res,conv2],T.add)\n",
    "    res = make_deconv(res,12,2)\n",
    "    res = L.ElemwiseMergeLayer([res,conv1],T.add)\n",
    "    res = make_conv(res,cfg.ndim,'out',None)    \n",
    "    \n",
    "    if(model_name != ''):\n",
    "        load_weights(res,model_name)\n",
    "    print get_network_str(res,incomings=True,outgoings=True)\n",
    "    sym = lasagne.layers.get_output(res)\n",
    "    sym = T.transpose(sym,(0,2,3,1))\n",
    "    sym = sym/(T.sqrt(T.square(sym).sum(-1)+1e-8)[:,:,:,None])\n",
    "    params = lasagne.layers.get_all_params(res, trainable=True)\n",
    "    l2_loss = 1e-4 * regularize_network_params(res, l2)\n",
    "    return res,sym,params,l2_loss\n",
    "               \n",
    "\n",
    "def soft_predict_sym(features,means,covars,weights):\n",
    "    return 1.-T.nnet.sigmoid(calc_log_prob_gmm(features,means,covars,weights))"
   ]
  },
  {
   "cell_type": "markdown",
   "metadata": {},
   "source": [
    "# Train"
   ]
  },
  {
   "cell_type": "code",
   "execution_count": 8,
   "metadata": {
    "collapsed": false
   },
   "outputs": [
    {
     "name": "stdout",
     "output_type": "stream",
     "text": [
      "\n",
      "In -->     Layer    --> Out    Description                  \n",
      "-------    -----    -------    -----------                  \n",
      "[]         0        [1]        data(None, 3, None, None)    \n",
      "[0]        1        [2, 9]     conv1(None, 12, None, None)  \n",
      "[1]        2        [3]        pool1(None, 12, None, None)  \n",
      "[2]        3        [4, 7]     conv2(None, 12, None, None)  \n",
      "[3]        4        [5]        pool2(None, 12, None, None)  \n",
      "[4]        5        [6]        conv3(None, 24, None, None)  \n",
      "[5]        6        [7]        deconv1(None, 12, None, None)\n",
      "[6, 3]     7        [8]        None(None, 12, None, None)   \n",
      "[7]        8        [9]        deconv2(None, 12, None, None)\n",
      "[8, 1]     9        [10]       None(None, 12, None, None)   \n",
      "[9]        10       []         convout(None, 3, None, None) \n",
      "train_fn compiled\n"
     ]
    }
   ],
   "source": [
    "def get_output(X,t_size=cfg.TILE_SIZE,o_size=cfg.OUT_SIZE):\n",
    "    return X[:,:,(t_size[1]-o_size[1])//2:(t_size[1]+o_size[1])//2,\\\n",
    "              (t_size[0]-o_size[0])//2:(t_size[0]+o_size[0])//2]\n",
    "\n",
    "\n",
    "def make_train_fn(model_name=''):\n",
    "    def split_tr_p_n(x,y):\n",
    "        x_tr_p,x_n = split(x,y)\n",
    "        x_p = x_tr_p[100:]\n",
    "        x_tr = x_tr_p[:100]\n",
    "        return x_tr,x_p,x_n\n",
    "    \n",
    "    data = T.tensor4(name='data')\n",
    "    label = T.tensor3(name='label')\n",
    "    net,X,params,l2_loss = FCN(data,ndim=cfg.ndim,model_name=model_name)\n",
    "    X = X[:,X.shape[1]//2:X.shape[1]//2+1,X.shape[2]//2:X.shape[2]//2+1,:]\n",
    "    X = X.reshape((-1,X.shape[-1]))\n",
    "    x_tr,x_p,x_n = split_tr_p_n(X,label.flatten())\n",
    "    m,c,w = get_gmm(x_tr,cfg.gm_num,cfg.ndim)\n",
    "    p_n = calc_log_prob_gmm(x_n,m,c,w)\n",
    "    p_p = calc_log_prob_gmm(x_p,m,c,w)\n",
    "    loss = histogram_loss(p_n,p_p,1e-4,100)[0]+l2_loss\n",
    "    prediction = T.nnet.sigmoid(T.concatenate([p_p,p_n],axis=0))\n",
    "    Y = T.concatenate([T.ones_like(p_p),T.zeros_like(p_n)],axis=0)\n",
    "    G_lr = theano.shared(np.array(0.001, dtype=theano.config.floatX))\n",
    "    updates = lasagne.updates.adam(loss,params,G_lr)\n",
    "    train_fn = theano.function([data, label], [loss,X,Y,prediction,m,c,w],\\\n",
    "                               allow_input_downcast=True, updates=updates)\n",
    "    test_fn =  theano.function([data, label], [loss,X,Y,prediction,m,c,w],\\\n",
    "                               allow_input_downcast=True)\n",
    "    print 'train_fn compiled'\n",
    "    return train_fn,test_fn,G_lr,net\n",
    "\n",
    "train_fn,test_fn,G_lr,net=make_train_fn()"
   ]
  },
  {
   "cell_type": "code",
   "execution_count": 9,
   "metadata": {
    "collapsed": false
   },
   "outputs": [],
   "source": [
    "G_lr.set_value(np.float32(0.1))"
   ]
  },
  {
   "cell_type": "code",
   "execution_count": 10,
   "metadata": {
    "collapsed": true
   },
   "outputs": [],
   "source": [
    "from sklearn.metrics import average_precision_score\n",
    "def train_net(train_fn,train_loader,net,epoch_size=100,num_epochs = 15,with_hnm=False):\n",
    "    hard = []\n",
    "    cur = 0\n",
    "    models_acc = []\n",
    "    for j in range(0,num_epochs):\n",
    "        train_loss=0\n",
    "        train_acc=0\n",
    "        for i,batch in enumerate(data_generator(train_loader,epoch_size=epoch_size)):\n",
    "            res = train_fn(*batch)\n",
    "            acc = average_precision_score(res[2],res[3])\n",
    "            train_acc +=acc\n",
    "            train_loss+=res[0]\n",
    "            if(with_hnm):\n",
    "                if(res[0] > 10):\n",
    "                    if( len(hard) < 1000):\n",
    "                        hard.append(batch)\n",
    "                    else:\n",
    "                        hard[cur] = batch\n",
    "                        cur = (cur+1) % len(hard)\n",
    "                for k in range(min(3,len(hard))):\n",
    "                    batch = hard[np.random.randint(0,len(hard))]\n",
    "                    res = train_fn(*batch)\n",
    "            print '\\r epoch %i batch %i loss=%.2f ,acc=%.2f l=%.2f a=%.2f,%.2f'%(j,i,train_loss/float(i+1),train_acc/float(i+1),res[0],acc,res[-1]),\n",
    "        print ''\n",
    "        models_acc.append(acc)\n",
    "        save_weights(net,'models/%s%03d'%(cfg.NAME,j))\n",
    "        if(j == 50):\n",
    "            G_lr.set_value(np.float32(0.0001))\n",
    "        print ''\n",
    "    return models_acc"
   ]
  },
  {
   "cell_type": "code",
   "execution_count": 36,
   "metadata": {
    "collapsed": false
   },
   "outputs": [
    {
     "name": "stdout",
     "output_type": "stream",
     "text": [
      " epoch 0 batch 99 loss=809.79 ,acc=0.99 l=130.68 a=1.00                                                                                        \n",
      " test batch 683 loss=1527.69 ,acc=0.96 l=2536.72 a=0.94,                                                                                                                                                        \n",
      "checkpoint models/baseline_ndim3_gm_num5_fit_all000.npz\n",
      "\n",
      " epoch 1 batch 99 loss=1103.69 ,acc=0.99 l=1556.90 a=0.98                                                                          \n",
      " test batch 683 loss=1255.53 ,acc=0.97 l=5291.13 a=0.88,                                                                                                                                   \n",
      "checkpoint models/baseline_ndim3_gm_num5_fit_all001.npz\n",
      "\n",
      " epoch 2 batch 99 loss=887.13 ,acc=0.99 l=2395.46 a=0.99                                                                              \n",
      " test batch 683 loss=1277.08 ,acc=0.97 l=7524.96 a=0.83,                                                                                                                                              \n",
      "checkpoint models/baseline_ndim3_gm_num5_fit_all002.npz\n",
      "\n",
      " epoch 3 batch 99 loss=811.57 ,acc=0.99 l=3081.27 a=1.00                                                                              \n",
      " test batch 683 loss=1424.44 ,acc=0.97 l=13085.20 a=0.65,                                                                                                                                                    \n",
      "checkpoint models/baseline_ndim3_gm_num5_fit_all003.npz\n",
      "\n",
      " epoch 4 batch 99 loss=1145.43 ,acc=0.98 l=1204.34 a=1.00                                                                              \n",
      " test batch 683 loss=1739.35 ,acc=0.95 l=3028.23 a=0.94,                                                                                                                                         \n",
      "checkpoint models/baseline_ndim3_gm_num5_fit_all004.npz\n",
      "\n",
      " epoch 5 batch 99 loss=1152.61 ,acc=0.98 l=1805.83 a=1.00                                                                            \n",
      " test batch 683 loss=1418.06 ,acc=0.96 l=4026.74 a=0.91,                                                                                                                                               \n",
      "checkpoint models/baseline_ndim3_gm_num5_fit_all005.npz\n",
      "\n",
      " epoch 6 batch 99 loss=846.24 ,acc=0.99 l=1608.97 a=1.00                                                               \n",
      " test batch 683 loss=1291.22 ,acc=0.97 l=3393.07 a=0.92,                                                                                                                           \n",
      "checkpoint models/baseline_ndim3_gm_num5_fit_all006.npz\n",
      "\n",
      " epoch 7 batch 99 loss=893.42 ,acc=0.99 l=1321.94 a=1.00                                                                       \n",
      " test batch 683 loss=1536.08 ,acc=0.96 l=10109.99 a=0.73,                                                                                                                          \n",
      "checkpoint models/baseline_ndim3_gm_num5_fit_all007.npz\n",
      "\n",
      " epoch 8 batch 99 loss=926.44 ,acc=0.99 l=1533.32 a=1.00                                                                     \n",
      " test batch 683 loss=1360.46 ,acc=0.96 l=17520.89 a=0.46,                                                                                                                               \n",
      "checkpoint models/baseline_ndim3_gm_num5_fit_all008.npz\n",
      "\n",
      " epoch 9 batch 99 loss=832.63 ,acc=0.99 l=691.59 a=1.00                                                                     \n",
      " test batch 683 loss=1589.81 ,acc=0.96 l=14968.18 a=0.53,                                                                                                                               \n",
      "checkpoint models/baseline_ndim3_gm_num5_fit_all009.npz\n",
      "\n",
      " epoch 10 batch 99 loss=1228.07 ,acc=0.98 l=1568.13 a=0.94                                                                    \n",
      " test batch 683 loss=1665.21 ,acc=0.96 l=18176.94 a=0.49,                                                                                                                               \n",
      "checkpoint models/baseline_ndim3_gm_num5_fit_all010.npz\n",
      "\n",
      " epoch 11 batch 99 loss=1046.92 ,acc=0.98 l=686.35 a=0.98                                                                     \n",
      " test batch 40 loss=1736.59 ,acc=0.96 l=1866.12 a=0.98,      "
     ]
    },
    {
     "ename": "KeyboardInterrupt",
     "evalue": "",
     "output_type": "error",
     "traceback": [
      "\u001b[0;31m---------------------------------------------------------------------------\u001b[0m",
      "\u001b[0;31mKeyboardInterrupt\u001b[0m                         Traceback (most recent call last)",
      "\u001b[0;32m<ipython-input-36-7618c356b3ad>\u001b[0m in \u001b[0;36m<module>\u001b[0;34m()\u001b[0m\n\u001b[1;32m     26\u001b[0m     \u001b[0mtrain_acc\u001b[0m\u001b[0;34m=\u001b[0m\u001b[0;36m0\u001b[0m\u001b[0;34m\u001b[0m\u001b[0m\n\u001b[1;32m     27\u001b[0m     \u001b[0;32mfor\u001b[0m \u001b[0mi\u001b[0m\u001b[0;34m,\u001b[0m\u001b[0mbatch\u001b[0m \u001b[0;32min\u001b[0m \u001b[0menumerate\u001b[0m\u001b[0;34m(\u001b[0m\u001b[0mtest_generator\u001b[0m\u001b[0;34m(\u001b[0m\u001b[0mtest_loader\u001b[0m\u001b[0;34m)\u001b[0m\u001b[0;34m)\u001b[0m\u001b[0;34m:\u001b[0m\u001b[0;34m\u001b[0m\u001b[0m\n\u001b[0;32m---> 28\u001b[0;31m         \u001b[0mres\u001b[0m \u001b[0;34m=\u001b[0m \u001b[0mtest_fn\u001b[0m\u001b[0;34m(\u001b[0m\u001b[0;34m*\u001b[0m\u001b[0mbatch\u001b[0m\u001b[0;34m)\u001b[0m\u001b[0;34m\u001b[0m\u001b[0m\n\u001b[0m\u001b[1;32m     29\u001b[0m         \u001b[0mmask\u001b[0m \u001b[0;34m=\u001b[0m \u001b[0;34m(\u001b[0m\u001b[0mres\u001b[0m\u001b[0;34m[\u001b[0m\u001b[0;36m2\u001b[0m\u001b[0;34m]\u001b[0m\u001b[0;34m>\u001b[0m\u001b[0;36m0.9\u001b[0m\u001b[0;34m)\u001b[0m \u001b[0;34m|\u001b[0m \u001b[0;34m(\u001b[0m\u001b[0mres\u001b[0m\u001b[0;34m[\u001b[0m\u001b[0;36m2\u001b[0m\u001b[0;34m]\u001b[0m\u001b[0;34m<\u001b[0m\u001b[0;36m0.1\u001b[0m\u001b[0;34m)\u001b[0m\u001b[0;34m\u001b[0m\u001b[0m\n\u001b[1;32m     30\u001b[0m         \u001b[0macc\u001b[0m \u001b[0;34m=\u001b[0m \u001b[0maverage_precision_score\u001b[0m\u001b[0;34m(\u001b[0m\u001b[0mres\u001b[0m\u001b[0;34m[\u001b[0m\u001b[0;36m2\u001b[0m\u001b[0;34m]\u001b[0m\u001b[0;34m[\u001b[0m\u001b[0mmask\u001b[0m\u001b[0;34m]\u001b[0m\u001b[0;34m,\u001b[0m\u001b[0mres\u001b[0m\u001b[0;34m[\u001b[0m\u001b[0;36m3\u001b[0m\u001b[0;34m]\u001b[0m\u001b[0;34m[\u001b[0m\u001b[0mmask\u001b[0m\u001b[0;34m]\u001b[0m\u001b[0;34m)\u001b[0m\u001b[0;34m\u001b[0m\u001b[0m\n",
      "\u001b[0;32m/usr/local/lib/python2.7/dist-packages/theano/compile/function_module.pyc\u001b[0m in \u001b[0;36m__call__\u001b[0;34m(self, *args, **kwargs)\u001b[0m\n\u001b[1;32m    882\u001b[0m         \u001b[0;32mtry\u001b[0m\u001b[0;34m:\u001b[0m\u001b[0;34m\u001b[0m\u001b[0m\n\u001b[1;32m    883\u001b[0m             \u001b[0moutputs\u001b[0m \u001b[0;34m=\u001b[0m\u001b[0;31m\\\u001b[0m\u001b[0;34m\u001b[0m\u001b[0m\n\u001b[0;32m--> 884\u001b[0;31m                 \u001b[0mself\u001b[0m\u001b[0;34m.\u001b[0m\u001b[0mfn\u001b[0m\u001b[0;34m(\u001b[0m\u001b[0;34m)\u001b[0m \u001b[0;32mif\u001b[0m \u001b[0moutput_subset\u001b[0m \u001b[0;32mis\u001b[0m \u001b[0mNone\u001b[0m \u001b[0;32melse\u001b[0m\u001b[0;31m\\\u001b[0m\u001b[0;34m\u001b[0m\u001b[0m\n\u001b[0m\u001b[1;32m    885\u001b[0m                 \u001b[0mself\u001b[0m\u001b[0;34m.\u001b[0m\u001b[0mfn\u001b[0m\u001b[0;34m(\u001b[0m\u001b[0moutput_subset\u001b[0m\u001b[0;34m=\u001b[0m\u001b[0moutput_subset\u001b[0m\u001b[0;34m)\u001b[0m\u001b[0;34m\u001b[0m\u001b[0m\n\u001b[1;32m    886\u001b[0m         \u001b[0;32mexcept\u001b[0m \u001b[0mException\u001b[0m\u001b[0;34m:\u001b[0m\u001b[0;34m\u001b[0m\u001b[0m\n",
      "\u001b[0;32m/usr/local/lib/python2.7/dist-packages/theano/gof/op.pyc\u001b[0m in \u001b[0;36mrval\u001b[0;34m(p, i, o, n)\u001b[0m\n\u001b[1;32m    869\u001b[0m         \u001b[0;32mif\u001b[0m \u001b[0mparams\u001b[0m \u001b[0;32mis\u001b[0m \u001b[0mgraph\u001b[0m\u001b[0;34m.\u001b[0m\u001b[0mNoParams\u001b[0m\u001b[0;34m:\u001b[0m\u001b[0;34m\u001b[0m\u001b[0m\n\u001b[1;32m    870\u001b[0m             \u001b[0;31m# default arguments are stored in the closure of `rval`\u001b[0m\u001b[0;34m\u001b[0m\u001b[0;34m\u001b[0m\u001b[0m\n\u001b[0;32m--> 871\u001b[0;31m             \u001b[0;32mdef\u001b[0m \u001b[0mrval\u001b[0m\u001b[0;34m(\u001b[0m\u001b[0mp\u001b[0m\u001b[0;34m=\u001b[0m\u001b[0mp\u001b[0m\u001b[0;34m,\u001b[0m \u001b[0mi\u001b[0m\u001b[0;34m=\u001b[0m\u001b[0mnode_input_storage\u001b[0m\u001b[0;34m,\u001b[0m \u001b[0mo\u001b[0m\u001b[0;34m=\u001b[0m\u001b[0mnode_output_storage\u001b[0m\u001b[0;34m,\u001b[0m \u001b[0mn\u001b[0m\u001b[0;34m=\u001b[0m\u001b[0mnode\u001b[0m\u001b[0;34m)\u001b[0m\u001b[0;34m:\u001b[0m\u001b[0;34m\u001b[0m\u001b[0m\n\u001b[0m\u001b[1;32m    872\u001b[0m                 \u001b[0mr\u001b[0m \u001b[0;34m=\u001b[0m \u001b[0mp\u001b[0m\u001b[0;34m(\u001b[0m\u001b[0mn\u001b[0m\u001b[0;34m,\u001b[0m \u001b[0;34m[\u001b[0m\u001b[0mx\u001b[0m\u001b[0;34m[\u001b[0m\u001b[0;36m0\u001b[0m\u001b[0;34m]\u001b[0m \u001b[0;32mfor\u001b[0m \u001b[0mx\u001b[0m \u001b[0;32min\u001b[0m \u001b[0mi\u001b[0m\u001b[0;34m]\u001b[0m\u001b[0;34m,\u001b[0m \u001b[0mo\u001b[0m\u001b[0;34m)\u001b[0m\u001b[0;34m\u001b[0m\u001b[0m\n\u001b[1;32m    873\u001b[0m                 \u001b[0;32mfor\u001b[0m \u001b[0mo\u001b[0m \u001b[0;32min\u001b[0m \u001b[0mnode\u001b[0m\u001b[0;34m.\u001b[0m\u001b[0moutputs\u001b[0m\u001b[0;34m:\u001b[0m\u001b[0;34m\u001b[0m\u001b[0m\n",
      "\u001b[0;31mKeyboardInterrupt\u001b[0m: "
     ]
    }
   ],
   "source": [
    "\n",
    "models_acc = []\n",
    "for j in range(0,15):\n",
    "    train_loss=0\n",
    "    train_acc=0\n",
    "    \n",
    "    for i,batch in enumerate(test_generator(test_loader)):\n",
    "        res = test_fn(*batch)\n",
    "        mask = (res[2]>0.9) | (res[2]<0.1)\n",
    "        acc = average_precision_score(res[2][mask],res[3][mask])\n",
    "        train_acc +=acc\n",
    "        train_loss+=res[0]\n",
    "        print '\\r test batch %i loss=%.2f ,acc=%.2f l=%.2f a=%.2f,'%(i,train_loss/float(i+1),train_acc/float(i+1),res[0],acc),\n",
    "    print ''\n",
    "    break\n",
    "    for i,batch in enumerate(data_generator(train_loader,epoch_size=100)):\n",
    "        \n",
    "        res = train_fn(*batch)\n",
    "        mask = (res[2]>0.9) | (res[2]<0.1)\n",
    "        acc = average_precision_score(res[2][mask],res[3][mask])\n",
    "        train_acc +=acc\n",
    "        train_loss+=res[0]\n",
    "#         if(res[1] < .8):\n",
    "#             if( len(hard) < 1000):\n",
    "#                 hard.append(batch)\n",
    "#             else:\n",
    "#                 hard[cur] = batch\n",
    "#                 cur = (cur+1) % len(hard)\n",
    "#         for k in range(min(3,len(hard))):\n",
    "#             batch = hard[np.random.randint(0,len(hard))]\n",
    "#             res = train_fn(*batch)\n",
    "        print '\\r epoch %i batch %i loss=%.2f ,acc=%.2f l=%.2f a=%.2f'%(j,i,train_loss/float(i+1),train_acc/float(i+1),res[0],acc),\n",
    "    print ''\n",
    "    models_acc.append(acc)\n",
    "    \n",
    "    train_loss=0\n",
    "    train_acc=0\n",
    "    for i,batch in enumerate(test_generator(test_loader)):\n",
    "        res = test_fn(*batch)\n",
    "        mask = (res[2]>0.9) | (res[2]<0.1)\n",
    "        acc = average_precision_score(res[2][mask],res[3][mask])\n",
    "        train_acc +=acc\n",
    "        train_loss+=res[0]\n",
    "        print '\\r test batch %i loss=%.2f ,acc=%.2f l=%.2f a=%.2f,'%(i,train_loss/float(i+1),train_acc/float(i+1),res[0],acc),\n",
    "    print ''\n",
    "    \n",
    "    save_weights(net,'models/%s%03d'%(cfg.NAME,j))\n",
    "    if(j == 50):\n",
    "        G_lr.set_value(np.float32(0.0001))\n",
    "    print ''"
   ]
  },
  {
   "cell_type": "markdown",
   "metadata": {},
   "source": [
    "# Evaluate model"
   ]
  },
  {
   "cell_type": "code",
   "execution_count": 33,
   "metadata": {
    "collapsed": false
   },
   "outputs": [],
   "source": [
    "from test_tools import iretate_test_dataset,make_features,make_gmms,fit_gmms,predict_pixelwise\n",
    "from sklearn import mixture\n",
    "\n",
    "def make_test(feature_fn,predict_fn,out_dir='results/'+cfg.NAME,dataset='dataset',max_frames=300,im_size = (320//2,240//2)):\n",
    "    for folder,imgs,masks in iretate_test_dataset(out_dir,dataset,max_frames,im_size):        \n",
    "        print folder,'generate_features,',\n",
    "        data = make_features(feature_fn,imgs)\n",
    "        gmms = make_gmms(imgs.shape[1:-1],cfg.gm_num)\n",
    "        print 'fit gmms,',\n",
    "        fit_gmms(data[:100],gmms,masks[:100])\n",
    "        print 'predict,',\n",
    "        prediction = predict_pixelwise(data[100:],gmms,predict_fn)\n",
    "        print 'save'\n",
    "        imgs = imgs[100:]\n",
    "        masks = masks[100:]      \n",
    "        prediction = (prediction*255).astype(np.uint8)\n",
    "        for i in range(len(imgs)):\n",
    "            cv2.imwrite(folder+'/'+str(i)+'.png',prediction[i])\n",
    "            cv2.imwrite(folder+'/'+str(i)+'_true.png',masks[i])\n",
    "            cv2.imwrite(folder+'/'+str(i)+'_input.jpg',imgs[i])\n",
    "    print 'test complete'"
   ]
  },
  {
   "cell_type": "code",
   "execution_count": 34,
   "metadata": {
    "collapsed": false
   },
   "outputs": [
    {
     "name": "stdout",
     "output_type": "stream",
     "text": [
      "\n",
      "In -->     Layer    --> Out    Description                  \n",
      "-------    -----    -------    -----------                  \n",
      "[]         0        [1]        data(None, 3, None, None)    \n",
      "[0]        1        [2, 9]     conv1(None, 12, None, None)  \n",
      "[1]        2        [3]        pool1(None, 12, None, None)  \n",
      "[2]        3        [4, 7]     conv2(None, 12, None, None)  \n",
      "[3]        4        [5]        pool2(None, 12, None, None)  \n",
      "[4]        5        [6]        conv3(None, 24, None, None)  \n",
      "[5]        6        [7]        deconv1(None, 12, None, None)\n",
      "[6, 3]     7        [8]        None(None, 12, None, None)   \n",
      "[7]        8        [9]        deconv2(None, 12, None, None)\n",
      "[8, 1]     9        [10]       None(None, 12, None, None)   \n",
      "[9]        10       []         convout(None, 12, None, None)\n"
     ]
    }
   ],
   "source": [
    "data=T.tensor4()\n",
    "feature_sym = FCN(data,model_name='models/%s%03d'%(cfg.NAME,np.array(models_acc).argmax()))[1]\n",
    "feature_fn = theano.function([data],feature_sym,allow_input_downcast=True)"
   ]
  },
  {
   "cell_type": "code",
   "execution_count": 35,
   "metadata": {
    "collapsed": true
   },
   "outputs": [],
   "source": [
    "data,m,c,w=T.matrix(),T.matrix(),T.matrix(),T.vector()\n",
    "predict_fn = theano.function([data,m,c,w],soft_predict_sym(data,m,c,w),allow_input_downcast=True)"
   ]
  },
  {
   "cell_type": "code",
   "execution_count": 36,
   "metadata": {
    "collapsed": false
   },
   "outputs": [
    {
     "name": "stdout",
     "output_type": "stream",
     "text": [
      "results/conv_net_no_bn_ndim12_gm_num4_with_bn_/badWeather/blizzard generate_features, fit gmms, predict, save\n",
      "results/conv_net_no_bn_ndim12_gm_num4_with_bn_/baseline/highway generate_features, fit gmms, predict, save\n",
      "results/conv_net_no_bn_ndim12_gm_num4_with_bn_/cameraJitter/badminton generate_features, fit gmms, predict, save\n",
      "results/conv_net_no_bn_ndim12_gm_num4_with_bn_/dynamicBackground/boats generate_features, fit gmms, predict, save\n",
      "results/conv_net_no_bn_ndim12_gm_num4_with_bn_/shadow/backdoor generate_features, fit gmms, predict, save\n",
      "results/conv_net_no_bn_ndim12_gm_num4_with_bn_/thermal/corridor generate_features, fit gmms, predict, save\n",
      "test complete\n"
     ]
    }
   ],
   "source": [
    "make_test(feature_fn,predict_fn)"
   ]
  },
  {
   "cell_type": "markdown",
   "metadata": {},
   "source": [
    "# Calc metric"
   ]
  },
  {
   "cell_type": "code",
   "execution_count": 37,
   "metadata": {
    "collapsed": false
   },
   "outputs": [
    {
     "name": "stdout",
     "output_type": "stream",
     "text": [
      "results/conv_net_no_bn_ndim12_gm_num4_with_bn_/badWeather/blizzard\n",
      "AveragePrecision: 0.755071655427\n",
      "FNR: 0.211823\n",
      "Recall: 0.788177\n",
      "Sp: 0.985071\n",
      "Precision: 0.703297\n",
      "PWC: 2.33885896702\n",
      "FPR: 0.0149286\n",
      "F_Measure: 0.743321716143\n",
      "\n",
      "results/conv_net_no_bn_ndim12_gm_num4_with_bn_/baseline/highway\n",
      "AveragePrecision: 0.778023391136\n",
      "FNR: 0.149002\n",
      "Recall: 0.850998\n",
      "Sp: 0.984944\n",
      "Precision: 0.671515\n",
      "PWC: 1.97309090051\n",
      "FPR: 0.0150556\n",
      "F_Measure: 0.750677515267\n",
      "\n",
      "results/conv_net_no_bn_ndim12_gm_num4_with_bn_/cameraJitter/badminton\n",
      "AveragePrecision: 0.779102416784\n",
      "FNR: 0.170129\n",
      "Recall: 0.829871\n",
      "Sp: 0.979888\n",
      "Precision: 0.701505\n",
      "PWC: 2.81953765126\n",
      "FPR: 0.0201116\n",
      "F_Measure: 0.760308134169\n",
      "\n",
      "results/conv_net_no_bn_ndim12_gm_num4_with_bn_/dynamicBackground/boats\n",
      "AveragePrecision: 0.855408692523\n",
      "FNR: 0.18123\n",
      "Recall: 0.81877\n",
      "Sp: 0.99476\n",
      "Precision: 0.834984\n",
      "PWC: 1.07603667674\n",
      "FPR: 0.00524001\n",
      "F_Measure: 0.826797401662\n",
      "\n",
      "results/conv_net_no_bn_ndim12_gm_num4_with_bn_/shadow/backdoor\n",
      "AveragePrecision: 0.786612053117\n",
      "FNR: 0.0\n",
      "Recall: 1.0\n",
      "Sp: 0.963614\n",
      "Precision: 0.547044\n",
      "PWC: 3.48540878036\n",
      "FPR: 0.0363857\n",
      "F_Measure: 0.707212079448\n",
      "\n",
      "results/conv_net_no_bn_ndim12_gm_num4_with_bn_/thermal/corridor\n",
      "AveragePrecision: 0.797312475119\n",
      "FNR: 0.335979\n",
      "Recall: 0.664021\n",
      "Sp: 0.97509\n",
      "Precision: 0.858283\n",
      "PWC: 8.24988338061\n",
      "FPR: 0.0249098\n",
      "F_Measure: 0.748757028573\n",
      "\n",
      "total result\n",
      "AveragePrecision: 0.791921780684\n",
      "FNR: 0.174694\n",
      "Recall: 0.825306\n",
      "Sp: 0.980561\n",
      "Precision: 0.719438\n",
      "PWC: 3.32380272608\n",
      "FPR: 0.0194386\n",
      "F_Measure: 0.75617897921\n",
      "\n"
     ]
    }
   ],
   "source": [
    "from sklearn.metrics import average_precision_score\n",
    "import os\n",
    "\n",
    "\n",
    "def calc_metrics_imgs(predict,label):\n",
    "    predict,label = predict.flatten(),label.flatten()\n",
    "    mask = (label>230)|(label < 50)\n",
    "    p = (predict.astype(np.float32)/255.)[mask]\n",
    "    y = (label.astype(np.float32)/255.)[mask]\n",
    "    y[y>0.5] = 1.\n",
    "    y[y<=0.5] = 0.\n",
    "    bp = np.zeros_like(p)\n",
    "    bp[p>0.5] = 1.\n",
    "    TP = (bp*y).sum()\n",
    "    TN = ((1-bp)*(1-y)).sum()\n",
    "    FP = (bp*(1.0-y)).sum()\n",
    "    FN = ((1.0-bp)*y).sum()\n",
    "    results = dict( AveragePrecision = average_precision_score(y,p),\\\n",
    "                    Recall = TP / (TP + FN),\\\n",
    "                    Sp = TN / (TN + FP),\\\n",
    "                    FPR = FP / (FP + TN),\\\n",
    "                    FNR = FN / (TP + FN),\\\n",
    "                    PWC =  100 * (FN + FP) / (TP + FN + FP + TN),\\\n",
    "                    F_Measure  =  (2 * (TP / (TP + FP)) * (TP / (TP + FN))) / (TP / (TP + FP) +  TP / (TP + FN)),\\\n",
    "                    Precision  = TP / (TP + FP))\n",
    "    \n",
    "    return results\n",
    "\n",
    "def print_results(results):\n",
    "    s = ''\n",
    "    for k in results.keys():\n",
    "        s=s+k+str(': ')+str(results[k])+'\\n'\n",
    "    return s\n",
    "\n",
    "def calc_metrics_folder(data_dir):\n",
    "    pred = []\n",
    "    masks = []\n",
    "    for i in range(1000):\n",
    "        m = cv2.imread(data_dir+'/%i_true.png'%(j))\n",
    "        p = cv2.imread(data_dir+'/%i.png'%(j))\n",
    "        if not (p is None):\n",
    "            pred.append(p)\n",
    "            masks.append(m)\n",
    "        else:\n",
    "            break\n",
    "    if(len(pred)>0):\n",
    "        pred = np.array(pred)\n",
    "        masks = np.array(masks)\n",
    "        res = calc_metrics_imgs(pred,masks)\n",
    "        print data_dir\n",
    "        print print_results(res)\n",
    "        return res\n",
    "    return None\n",
    "\n",
    "def calc_metric_all_folders(data_dir):\n",
    "    res = []\n",
    "    f = open('results/'+cfg.NAME+'.txt','w')\n",
    "    for j in os.listdir(data_dir):\n",
    "        folder = data_dir+'/'+j+'/'+os.listdir(data_dir+'/'+j)[0]\n",
    "        results = calc_metrics_folder(folder)\n",
    "        if not (results is None):\n",
    "            res.append(results)\n",
    "            f.write(folder+'\\n')\n",
    "            f.write(print_results(results))\n",
    "    results = dict()\n",
    "    for k in res[0].keys():\n",
    "        results[k] = np.array([i[k] for i in res]).mean()\n",
    "    f.write('total result\\n')\n",
    "    f.write(print_results(results))\n",
    "    f.close()\n",
    "    print 'total result'\n",
    "    print print_results(results)\n",
    "\n",
    "calc_metric_all_folders('results/'+cfg.NAME)"
   ]
  },
  {
   "cell_type": "code",
   "execution_count": null,
   "metadata": {
    "collapsed": true
   },
   "outputs": [],
   "source": [
    "def make_full_test(models_acc):\n",
    "    data=T.tensor4()\n",
    "    feature_sym = FCN(data,model_name='models/%s%03d'%(cfg.NAME,np.array(models_acc).argmax()))[1]\n",
    "    feature_fn = theano.function([data],feature_sym,allow_input_downcast=True)\n",
    "    data,m,c,w=T.matrix(),T.matrix(),T.matrix(),T.vector()\n",
    "    predict_fn = theano.function([data,m,c,w],soft_predict_sym(data,m,c,w),allow_input_downcast=True)\n",
    "    make_test(feature_fn,predict_fn)\n",
    "\n",
    "def make_all_experement(ndim,gm_num):\n",
    "    cfg.gm_num = 4\n",
    "    cfg.ndim = 6\n",
    "    cfg.NAME = 'conv_net_no_bn_ndim%d_gm_num%d_'%(cfg.ndim ,cfg.gm_num)\n",
    "    print 'build train fn'\n",
    "    train_fn,G_lr,net=make_train_fn()\n",
    "    print 'train network'\n",
    "    models_acc = train_net(train_fn,train_loader,net,epoch_size=100,num_epochs = 15,with_hnm=False)\n",
    "    print 'test network'\n",
    "    make_full_test(models_acc)\n",
    "    print 'score model'\n",
    "    calc_metric_all_folders('results/'+cfg.NAME)\n",
    "    "
   ]
  }
 ],
 "metadata": {
  "anaconda-cloud": {},
  "kernelspec": {
   "display_name": "Python 2",
   "language": "python",
   "name": "python2"
  },
  "language_info": {
   "codemirror_mode": {
    "name": "ipython",
    "version": 2
   },
   "file_extension": ".py",
   "mimetype": "text/x-python",
   "name": "python",
   "nbconvert_exporter": "python",
   "pygments_lexer": "ipython2",
   "version": "2.7.12"
  }
 },
 "nbformat": 4,
 "nbformat_minor": 2
}
