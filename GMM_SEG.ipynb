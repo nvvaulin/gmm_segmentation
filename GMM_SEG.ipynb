{
 "cells": [
  {
   "cell_type": "code",
   "execution_count": 1,
   "metadata": {
    "collapsed": false
   },
   "outputs": [],
   "source": [
    "import matplotlib.pyplot as plt\n",
    "%matplotlib inline\n",
    "import numpy as np\n",
    "import cv2"
   ]
  },
  {
   "cell_type": "code",
   "execution_count": 2,
   "metadata": {
    "collapsed": false
   },
   "outputs": [],
   "source": [
    "from config import cfg\n",
    "cfg.SEQ_LENGTH = 250\n",
    "cfg.TILE_SIZE = (16,16)\n",
    "cfg.OUT_SIZE = (1,1)\n",
    "cfg.TRAIN.EPOCH = 0\n",
    "cfg.TRAIN.EPOCH_NUM = 1000\n",
    "cfg.gm_num = 4\n",
    "cfg.ndim = 6\n",
    "cfg.NAME = 'conv_net_no_bn_ndim%d_gm_num%d_'%(cfg.ndim ,cfg.gm_num)"
   ]
  },
  {
   "cell_type": "code",
   "execution_count": 3,
   "metadata": {
    "collapsed": false
   },
   "outputs": [],
   "source": [
    "from loader import TieLoader,GMMDataLoader,draw_sample\n",
    "train_loader = GMMDataLoader(TieLoader('/media/data/Programming/motion_segmentation/gmm_segmentation/ties256',\n",
    "                                    cols=16,rows=16,t_size=48),\\\n",
    "                           cfg.TILE_SIZE,cfg.OUT_SIZE,cfg.SEQ_LENGTH,min_r=0.1,max_r=0.3)"
   ]
  },
  {
   "cell_type": "code",
   "execution_count": 4,
   "metadata": {
    "collapsed": false
   },
   "outputs": [
    {
     "name": "stdout",
     "output_type": "stream",
     "text": [
      "(250, 3, 16, 16)\n"
     ]
    },
    {
     "data": {
      "image/png": "[encoded data removed]",
      "text/plain": [
       "<matplotlib.figure.Figure at 0x7f4689585c10>"
      ]
     },
     "metadata": {},
     "output_type": "display_data"
    }
   ],
   "source": [
    "def data_generator(gmm_loader,\n",
    "                   tile_size = cfg.TILE_SIZE,\n",
    "                   epoch_size = cfg.TRAIN.EPOCH_SIZE):\n",
    "    iter = 0\n",
    "    for i in range(epoch_size):        \n",
    "        yield gmm_loader.load_random()\n",
    "        \n",
    "for x,y in data_generator(train_loader,epoch_size=1):\n",
    "    print x.shape\n",
    "    draw_sample(x,y,8,cfg.SEQ_LENGTH//8)\n",
    "    break"
   ]
  },
  {
   "cell_type": "code",
   "execution_count": 5,
   "metadata": {
    "collapsed": false
   },
   "outputs": [
    {
     "name": "stderr",
     "output_type": "stream",
     "text": [
      "Using cuDNN version 5105 on context None\n",
      "Mapped name None to device cuda: GeForce GT 740M (0000:01:00.0)\n"
     ]
    }
   ],
   "source": [
    "import theano\n",
    "import theano.tensor as T"
   ]
  },
  {
   "cell_type": "markdown",
   "metadata": {},
   "source": [
    "# Build model"
   ]
  },
  {
   "cell_type": "code",
   "execution_count": 6,
   "metadata": {
    "collapsed": false
   },
   "outputs": [],
   "source": [
    "from utils import get_network_str,save_weights,load_weights\n",
    "import lasagne\n",
    "from lasagne import layers as L\n",
    "from lasagne.nonlinearities import rectify\n",
    "from theano_utils import histogram_loss\n",
    "from lasagne.regularization import regularize_network_params,l2\n",
    "from gmm_op import get_gmm,calc_log_prob_gmm,calc_log_prob_gmm_componetwise\n",
    "from theano_utils import split\n",
    "\n",
    "data = T.tensor4(name='data')\n",
    "label = T.tensor3(name='label')\n",
    "\n",
    "def FCN(data,ndim=cfg.ndim,verbose=True,model_name=''):\n",
    "    res = L.InputLayer((None,3,None,None)\n",
    "                           ,data\n",
    "                           ,name='data')\n",
    "    res = L.Conv2DLayer(res,filter_size=(3,3),num_filters=6,\n",
    "                        nonlinearity=rectify,pad='same',\n",
    "                        name='conv1')\n",
    "    res = L.Conv2DLayer(res,filter_size=(3,3),num_filters=12,\n",
    "                        nonlinearity=rectify,pad='same',\n",
    "                        name='conv2')\n",
    "    res = L.Conv2DLayer(res,filter_size=(3,3),num_filters=ndim,\n",
    "                        nonlinearity=None,pad='same',\n",
    "                        name='conv3')\n",
    "    if(model_name != ''):\n",
    "        load_weights(res,model_name)\n",
    "    print get_network_str(res,incomings=True,outgoings=True)\n",
    "    sym = lasagne.layers.get_output(res)\n",
    "    sym = T.transpose(sym,(0,2,3,1))\n",
    "    sym = sym/(T.sqrt(T.square(sym).sum(-1)+1e-8)[:,:,:,None])\n",
    "    params = lasagne.layers.get_all_params(res, trainable=True)\n",
    "    l2_loss = 1e-4 * regularize_network_params(res, l2)\n",
    "    return res,sym,params,l2_loss\n",
    "               \n",
    "\n",
    "def soft_predict_sym(features,means,covars,weights):\n",
    "    return 1.-T.nnet.sigmoid(calc_log_prob_gmm(features,means,covars,weights))\n"
   ]
  },
  {
   "cell_type": "markdown",
   "metadata": {},
   "source": [
    "# Train"
   ]
  },
  {
   "cell_type": "code",
   "execution_count": 7,
   "metadata": {
    "collapsed": false
   },
   "outputs": [
    {
     "name": "stdout",
     "output_type": "stream",
     "text": [
      "\n",
      "In -->     Layer    --> Out    Description                \n",
      "-------    -----    -------    -----------                \n",
      "[]         0        [1]        data(None, 3, None, None)  \n",
      "[0]        1        [2]        conv1(None, 6, None, None) \n",
      "[1]        2        [3]        conv2(None, 12, None, None)\n",
      "[2]        3        []         conv3(None, 6, None, None) \n",
      "train_fn compiled\n"
     ]
    }
   ],
   "source": [
    "def get_output(X,t_size=cfg.TILE_SIZE,o_size=cfg.OUT_SIZE):\n",
    "    return X[:,:,(t_size[1]-o_size[1])//2:(t_size[1]+o_size[1])//2,\\\n",
    "              (t_size[0]-o_size[0])//2:(t_size[0]+o_size[0])//2]\n",
    "\n",
    "\n",
    "def make_train_fn(model_name=''):\n",
    "    def split_tr_p_n(x,y):\n",
    "        x_tr_p,x_n = split(x,y)\n",
    "        x_p = x_tr_p[-x_n.shape[0]:]\n",
    "        x_tr = x_tr_p[:-x_n.shape[0]]\n",
    "        return x_tr,x_p,x_n\n",
    "    \n",
    "    data = T.tensor4(name='data')\n",
    "    label = T.tensor3(name='label')\n",
    "    net,X,params,l2_loss = FCN(data,ndim=cfg.ndim,model_name=model_name)\n",
    "    X = X[:,X.shape[1]//2:X.shape[1]//2+1,X.shape[2]//2:X.shape[2]//2+1,:]\n",
    "    X = X.reshape((-1,X.shape[-1]))\n",
    "    x_tr,x_p,x_n = split_tr_p_n(X,label.flatten())\n",
    "    m,c,w = get_gmm(x_tr,cfg.gm_num,cfg.ndim)\n",
    "    p_n = calc_log_prob_gmm(x_n,m,c,w)\n",
    "    p_p = calc_log_prob_gmm(x_p,m,c,w)\n",
    "    loss = histogram_loss(p_n,p_p,1e-4,100)[0]+l2_loss\n",
    "    prediction = T.nnet.sigmoid(T.concatenate([p_p,p_n],axis=0))\n",
    "    Y = T.concatenate([T.ones_like(p_p),T.zeros_like(p_n)],axis=0)\n",
    "    G_lr = theano.shared(np.array(0.001, dtype=theano.config.floatX))\n",
    "    updates = lasagne.updates.adam(loss,params,G_lr)\n",
    "    train_fn = theano.function([data, label], [loss,X,Y,prediction,m,c,w],\\\n",
    "                               allow_input_downcast=True, updates=updates)\n",
    "    print 'train_fn compiled'\n",
    "    return train_fn,G_lr,net\n",
    "\n",
    "train_fn,G_lr,net=make_train_fn()"
   ]
  },
  {
   "cell_type": "code",
   "execution_count": 8,
   "metadata": {
    "collapsed": false
   },
   "outputs": [],
   "source": [
    "G_lr.set_value(np.float32(0.001))"
   ]
  },
  {
   "cell_type": "code",
   "execution_count": 18,
   "metadata": {
    "collapsed": true
   },
   "outputs": [],
   "source": [
    "from sklearn.metrics import average_precision_score\n",
    "def train_net(train_fn,train_loader,net,epoch_size=100,num_epochs = 15,with_hnm=False):\n",
    "    hard = []\n",
    "    cur = 0\n",
    "    models_acc = []\n",
    "    for j in range(0,num_epochs):\n",
    "        train_loss=0\n",
    "        train_acc=0\n",
    "        for i,batch in enumerate(data_generator(train_loader,epoch_size=epoch_size)):\n",
    "            res = train_fn(*batch)\n",
    "            acc = average_precision_score(res[2],res[3])\n",
    "            train_acc +=acc\n",
    "            train_loss+=res[0]\n",
    "            if(with_hnm):\n",
    "                if(res[0] > 10):\n",
    "                    if( len(hard) < 1000):\n",
    "                        hard.append(batch)\n",
    "                    else:\n",
    "                        hard[cur] = batch\n",
    "                        cur = (cur+1) % len(hard)\n",
    "                for k in range(min(3,len(hard))):\n",
    "                    batch = hard[np.random.randint(0,len(hard))]\n",
    "                    res = train_fn(*batch)\n",
    "            print '\\r epoch %i batch %i loss=%.2f ,acc=%.2f l=%.2f a=%.2f'%(j,i,train_loss/float(i+1),train_acc/float(i+1),res[0],acc),\n",
    "        print ''\n",
    "        models_acc.append(acc)\n",
    "        save_weights(net,'models/%s%03d'%(cfg.NAME,j))\n",
    "        if(j == 50):\n",
    "            G_lr.set_value(np.float32(0.0001))\n",
    "        print ''\n",
    "    return models_acc"
   ]
  },
  {
   "cell_type": "code",
   "execution_count": 10,
   "metadata": {
    "collapsed": false
   },
   "outputs": [
    {
     "name": "stdout",
     "output_type": "stream",
     "text": [
      " epoch 0 batch 99 loss=127.52 ,acc=0.96 l=10.27 a=1.00                                                                                       \n",
      "checkpoint models/conv_net_no_bn_ndim6_gm_num4_000.npz\n",
      "\n",
      " epoch 1 batch 99 loss=271.03 ,acc=0.94 l=55.51 a=1.00 4                                                                               \n",
      "checkpoint models/conv_net_no_bn_ndim6_gm_num4_001.npz\n",
      "\n",
      " epoch 2 batch 99 loss=164.69 ,acc=0.96 l=11.91 a=1.00 8                                                                             \n",
      "checkpoint models/conv_net_no_bn_ndim6_gm_num4_002.npz\n",
      "\n",
      " epoch 3 batch 99 loss=203.76 ,acc=0.94 l=302.69 a=0.83                                                                            \n",
      "checkpoint models/conv_net_no_bn_ndim6_gm_num4_003.npz\n",
      "\n",
      " epoch 4 batch 99 loss=173.25 ,acc=0.96 l=51.99 a=1.00                                                                               \n",
      "checkpoint models/conv_net_no_bn_ndim6_gm_num4_004.npz\n",
      "\n",
      " epoch 5 batch 99 loss=175.68 ,acc=0.94 l=24.70 a=0.97                                                                         \n",
      "checkpoint models/conv_net_no_bn_ndim6_gm_num4_005.npz\n",
      "\n",
      " epoch 6 batch 99 loss=141.80 ,acc=0.96 l=59.73 a=1.00 2                                                                          \n",
      "checkpoint models/conv_net_no_bn_ndim6_gm_num4_006.npz\n",
      "\n",
      " epoch 7 batch 99 loss=304.57 ,acc=0.93 l=0.00 a=1.00 3                                                                              \n",
      "checkpoint models/conv_net_no_bn_ndim6_gm_num4_007.npz\n",
      "\n",
      " epoch 8 batch 99 loss=198.33 ,acc=0.94 l=26.26 a=1.00                                                                             \n",
      "checkpoint models/conv_net_no_bn_ndim6_gm_num4_008.npz\n",
      "\n",
      " epoch 9 batch 99 loss=183.90 ,acc=0.94 l=117.72 a=0.93                                                                                  \n",
      "checkpoint models/conv_net_no_bn_ndim6_gm_num4_009.npz\n",
      "\n",
      " epoch 10 batch 99 loss=341.57 ,acc=0.95 l=0.76 a=1.00 3                                                                           \n",
      "checkpoint models/conv_net_no_bn_ndim6_gm_num4_010.npz\n",
      "\n",
      " epoch 11 batch 99 loss=499.37 ,acc=0.94 l=502.52 a=0.86                                                                      \n",
      "checkpoint models/conv_net_no_bn_ndim6_gm_num4_011.npz\n",
      "\n",
      " epoch 12 batch 99 loss=164.75 ,acc=0.97 l=65.33 a=1.00                                                                              \n",
      "checkpoint models/conv_net_no_bn_ndim6_gm_num4_012.npz\n",
      "\n",
      " epoch 13 batch 99 loss=381.49 ,acc=0.95 l=416.14 a=0.92                                                                            \n",
      "checkpoint models/conv_net_no_bn_ndim6_gm_num4_013.npz\n",
      "\n",
      " epoch 14 batch 99 loss=243.83 ,acc=0.95 l=0.00 a=1.00 91                                                                              \n",
      "checkpoint models/conv_net_no_bn_ndim6_gm_num4_014.npz\n",
      "\n"
     ]
    }
   ],
   "source": [
    "\n",
    "models_acc = []\n",
    "for j in range(0,15):\n",
    "    train_loss=0\n",
    "    train_acc=0\n",
    "    for i,batch in enumerate(data_generator(train_loader,epoch_size=100)):\n",
    "        res = train_fn(*batch)\n",
    "        acc = average_precision_score(res[2],res[3])\n",
    "        train_acc +=acc\n",
    "        train_loss+=res[0]\n",
    "#         if(res[1] < .8):\n",
    "#             if( len(hard) < 1000):\n",
    "#                 hard.append(batch)\n",
    "#             else:\n",
    "#                 hard[cur] = batch\n",
    "#                 cur = (cur+1) % len(hard)\n",
    "#         for k in range(min(3,len(hard))):\n",
    "#             batch = hard[np.random.randint(0,len(hard))]\n",
    "#             res = train_fn(*batch)\n",
    "        print '\\r epoch %i batch %i loss=%.2f ,acc=%.2f l=%.2f a=%.2f'%(j,i,train_loss/float(i+1),train_acc/float(i+1),res[0],acc),\n",
    "    print ''\n",
    "    models_acc.append(acc)\n",
    "    save_weights(net,'models/%s%03d'%(cfg.NAME,j))\n",
    "    if(j == 50):\n",
    "        G_lr.set_value(np.float32(0.0001))\n",
    "    print ''"
   ]
  },
  {
   "cell_type": "markdown",
   "metadata": {},
   "source": [
    "# Evaluate model"
   ]
  },
  {
   "cell_type": "code",
   "execution_count": 11,
   "metadata": {
    "collapsed": false
   },
   "outputs": [],
   "source": [
    "from test_tools import iretate_test_dataset,make_features,make_gmms,fit_gmms,predict_pixelwise\n",
    "from sklearn import mixture\n",
    "\n",
    "def make_test(feature_fn,predict_fn,out_dir='results/'+cfg.NAME,dataset='dataset',max_frames=300,im_size = (320//2,240//2)):\n",
    "    for folder,imgs,masks in iretate_test_dataset(out_dir,dataset,max_frames,im_size):        \n",
    "        print folder,'generate_features,',\n",
    "        data = make_features(feature_fn,imgs)\n",
    "        gmms = make_gmms(imgs.shape[1:-1],cfg.gm_num)\n",
    "        print 'fit gmms,',\n",
    "        fit_gmms(data[:100],gmms,masks[:100])\n",
    "        print 'predict,',\n",
    "        prediction = predict_pixelwise(data[100:],gmms,predict_fn)\n",
    "        print 'save'\n",
    "        imgs = imgs[100:]\n",
    "        masks = masks[100:]      \n",
    "        prediction = (prediction*255).astype(np.uint8)\n",
    "        for i in range(len(imgs)):\n",
    "            cv2.imwrite(folder+'/'+str(i)+'.png',prediction[i])\n",
    "            cv2.imwrite(folder+'/'+str(i)+'_true.png',masks[i])\n",
    "            cv2.imwrite(folder+'/'+str(i)+'_input.jpg',imgs[i])\n",
    "    print 'test complete'"
   ]
  },
  {
   "cell_type": "code",
   "execution_count": 14,
   "metadata": {
    "collapsed": false
   },
   "outputs": [
    {
     "name": "stdout",
     "output_type": "stream",
     "text": [
      "\n",
      "In -->     Layer    --> Out    Description                \n",
      "-------    -----    -------    -----------                \n",
      "[]         0        [1]        data(None, 3, None, None)  \n",
      "[0]        1        [2]        conv1(None, 6, None, None) \n",
      "[1]        2        [3]        conv2(None, 12, None, None)\n",
      "[2]        3        []         conv3(None, 6, None, None) \n"
     ]
    }
   ],
   "source": [
    "data=T.tensor4()\n",
    "feature_sym = FCN(data,model_name='models/%s%03d'%(cfg.NAME,np.array(models_acc).argmax()))[1]\n",
    "feature_fn = theano.function([data],feature_sym,allow_input_downcast=True)"
   ]
  },
  {
   "cell_type": "code",
   "execution_count": 15,
   "metadata": {
    "collapsed": true
   },
   "outputs": [],
   "source": [
    "data,m,c,w=T.matrix(),T.matrix(),T.matrix(),T.vector()\n",
    "predict_fn = theano.function([data,m,c,w],soft_predict_sym(data,m,c,w),allow_input_downcast=True)"
   ]
  },
  {
   "cell_type": "code",
   "execution_count": 16,
   "metadata": {
    "collapsed": false
   },
   "outputs": [
    {
     "name": "stdout",
     "output_type": "stream",
     "text": [
      "results/conv_net_no_bn_ndim6_gm_num4_/badWeather/blizzard generate_features, fit gmms, predict, save\n",
      "results/conv_net_no_bn_ndim6_gm_num4_/baseline/highway generate_features, fit gmms, predict, save\n",
      "results/conv_net_no_bn_ndim6_gm_num4_/cameraJitter/badminton generate_features, fit gmms, predict, save\n",
      "results/conv_net_no_bn_ndim6_gm_num4_/dynamicBackground/boats generate_features, fit gmms, predict, save\n",
      "results/conv_net_no_bn_ndim6_gm_num4_/shadow/backdoor generate_features, fit gmms, predict, save\n",
      "results/conv_net_no_bn_ndim6_gm_num4_/thermal/corridor generate_features, fit gmms, predict, save\n",
      "test complete\n"
     ]
    }
   ],
   "source": [
    "make_test(feature_fn,predict_fn)"
   ]
  },
  {
   "cell_type": "markdown",
   "metadata": {},
   "source": [
    "# Calc metric"
   ]
  },
  {
   "cell_type": "code",
   "execution_count": 17,
   "metadata": {
    "collapsed": false
   },
   "outputs": [
    {
     "name": "stdout",
     "output_type": "stream",
     "text": [
      "results/conv_net_no_bn_ndim6_gm_num4_/badWeather/blizzard\n",
      "AveragePrecision: 0.703655941089\n",
      "FNR: 0.17734\n",
      "Recall: 0.82266\n",
      "Sp: 0.967323\n",
      "Precision: 0.53058\n",
      "PWC: 3.88925956894\n",
      "FPR: 0.0326768\n",
      "F_Measure: 0.645098968231\n",
      "\n",
      "results/conv_net_no_bn_ndim6_gm_num4_/baseline/highway\n",
      "AveragePrecision: 0.715209366494\n",
      "FNR: 0.156682\n",
      "Recall: 0.843318\n",
      "Sp: 0.968222\n",
      "Precision: 0.489741\n",
      "PWC: 3.61371728478\n",
      "FPR: 0.0317775\n",
      "F_Measure: 0.619638810422\n",
      "\n",
      "results/conv_net_no_bn_ndim6_gm_num4_/cameraJitter/badminton\n",
      "AveragePrecision: 0.766314372296\n",
      "FNR: 0.122651\n",
      "Recall: 0.877349\n",
      "Sp: 0.969748\n",
      "Precision: 0.622893\n",
      "PWC: 3.52306554387\n",
      "FPR: 0.0302517\n",
      "F_Measure: 0.72854206881\n",
      "\n",
      "results/conv_net_no_bn_ndim6_gm_num4_/dynamicBackground/boats\n",
      "AveragePrecision: 0.754301151443\n",
      "FNR: 0.158576\n",
      "Recall: 0.841424\n",
      "Sp: 0.967826\n",
      "Precision: 0.458554\n",
      "PWC: 3.61384508718\n",
      "FPR: 0.0321735\n",
      "F_Measure: 0.593607273166\n",
      "\n",
      "results/conv_net_no_bn_ndim6_gm_num4_/shadow/backdoor\n",
      "AveragePrecision: 0.81177264719\n",
      "FNR: 0.00456621\n",
      "Recall: 0.995434\n",
      "Sp: 0.965019\n",
      "Precision: 0.55565\n",
      "PWC: 3.37006778407\n",
      "FPR: 0.0349809\n",
      "F_Measure: 0.713195161247\n",
      "\n",
      "results/conv_net_no_bn_ndim6_gm_num4_/thermal/corridor\n",
      "AveragePrecision: 0.870271369335\n",
      "FNR: 0.167842\n",
      "Recall: 0.832158\n",
      "Sp: 0.967611\n",
      "Precision: 0.853739\n",
      "PWC: 5.74661018929\n",
      "FPR: 0.0323894\n",
      "F_Measure: 0.842810356853\n",
      "\n",
      "total result\n",
      "AveragePrecision: 0.770254141308\n",
      "FNR: 0.131276\n",
      "Recall: 0.868724\n",
      "Sp: 0.967625\n",
      "Precision: 0.585193\n",
      "PWC: 3.95942757635\n",
      "FPR: 0.032375\n",
      "F_Measure: 0.690482106455\n",
      "\n"
     ]
    }
   ],
   "source": [
    "from sklearn.metrics import average_precision_score\n",
    "import os\n",
    "\n",
    "\n",
    "def calc_metrics_imgs(predict,label):\n",
    "    predict,label = predict.flatten(),label.flatten()\n",
    "    mask = (label>230)|(label < 50)\n",
    "    p = (predict.astype(np.float32)/255.)[mask]\n",
    "    y = (label.astype(np.float32)/255.)[mask]\n",
    "    y[y>0.5] = 1.\n",
    "    y[y<=0.5] = 0.\n",
    "    bp = np.zeros_like(p)\n",
    "    bp[p>0.5] = 1.\n",
    "    TP = (bp*y).sum()\n",
    "    TN = ((1-bp)*(1-y)).sum()\n",
    "    FP = (bp*(1.0-y)).sum()\n",
    "    FN = ((1.0-bp)*y).sum()\n",
    "    results = dict( AveragePrecision = average_precision_score(y,p),\\\n",
    "                    Recall = TP / (TP + FN),\\\n",
    "                    Sp = TN / (TN + FP),\\\n",
    "                    FPR = FP / (FP + TN),\\\n",
    "                    FNR = FN / (TP + FN),\\\n",
    "                    PWC =  100 * (FN + FP) / (TP + FN + FP + TN),\\\n",
    "                    F_Measure  =  (2 * (TP / (TP + FP)) * (TP / (TP + FN))) / (TP / (TP + FP) +  TP / (TP + FN)),\\\n",
    "                    Precision  = TP / (TP + FP))\n",
    "    \n",
    "    return results\n",
    "\n",
    "def print_results(results):\n",
    "    s = ''\n",
    "    for k in results.keys():\n",
    "        s=s+k+str(': ')+str(results[k])+'\\n'\n",
    "    return s\n",
    "\n",
    "def calc_metrics_folder(data_dir):\n",
    "    pred = []\n",
    "    masks = []\n",
    "    for i in range(1000):\n",
    "        m = cv2.imread(data_dir+'/%i_true.png'%(j))\n",
    "        p = cv2.imread(data_dir+'/%i.png'%(j))\n",
    "        if not (p is None):\n",
    "            pred.append(p)\n",
    "            masks.append(m)\n",
    "        else:\n",
    "            break\n",
    "    if(len(pred)>0):\n",
    "        pred = np.array(pred)\n",
    "        masks = np.array(masks)\n",
    "        res = calc_metrics_imgs(pred,masks)\n",
    "        print data_dir\n",
    "        print print_results(res)\n",
    "        return res\n",
    "    return None\n",
    "\n",
    "def calc_metric_all_folders(data_dir):\n",
    "    res = []\n",
    "    f = open('results/'+cfg.NAME+'.txt','w')\n",
    "    for j in os.listdir(data_dir):\n",
    "        folder = data_dir+'/'+j+'/'+os.listdir(data_dir+'/'+j)[0]\n",
    "        results = calc_metrics_folder(folder)\n",
    "        if not (results is None):\n",
    "            res.append(results)\n",
    "            f.write(folder+'\\n')\n",
    "            f.write(print_results(results))\n",
    "    results = dict()\n",
    "    for k in res[0].keys():\n",
    "        results[k] = np.array([i[k] for i in res]).mean()\n",
    "    f.write('total result\\n')\n",
    "    f.write(print_results(results))\n",
    "    f.close()\n",
    "    print 'total result'\n",
    "    print print_results(results)\n",
    "\n",
    "calc_metric_all_folders('results/'+cfg.NAME)"
   ]
  },
  {
   "cell_type": "code",
   "execution_count": null,
   "metadata": {
    "collapsed": true
   },
   "outputs": [],
   "source": [
    "def make_full_test(models_acc):\n",
    "    data=T.tensor4()\n",
    "    feature_sym = FCN(data,model_name='models/%s%03d'%(cfg.NAME,np.array(models_acc).argmax()))[1]\n",
    "    feature_fn = theano.function([data],feature_sym,allow_input_downcast=True)\n",
    "    data,m,c,w=T.matrix(),T.matrix(),T.matrix(),T.vector()\n",
    "    predict_fn = theano.function([data,m,c,w],soft_predict_sym(data,m,c,w),allow_input_downcast=True)\n",
    "    make_test(feature_fn,predict_fn)\n",
    "\n",
    "def make_all_experement(ndim,gm_num):\n",
    "    cfg.gm_num = 4\n",
    "    cfg.ndim = 6\n",
    "    cfg.NAME = 'conv_net_no_bn_ndim%d_gm_num%d_'%(cfg.ndim ,cfg.gm_num)\n",
    "    print 'build train fn'\n",
    "    train_fn,G_lr,net=make_train_fn()\n",
    "    print 'train network'\n",
    "    models_acc = train_net(train_fn,train_loader,net,epoch_size=100,num_epochs = 15,with_hnm=False)\n",
    "    print 'test network'\n",
    "    make_full_test(models_acc)\n",
    "    print 'score model'\n",
    "    calc_metric_all_folders('results/'+cfg.NAME)\n",
    "    "
   ]
  }
 ],
 "metadata": {
  "anaconda-cloud": {},
  "kernelspec": {
   "display_name": "Python 2",
   "language": "python",
   "name": "python2"
  },
  "language_info": {
   "codemirror_mode": {
    "name": "ipython",
    "version": 2
   },
   "file_extension": ".py",
   "mimetype": "text/x-python",
   "name": "python",
   "nbconvert_exporter": "python",
   "pygments_lexer": "ipython2",
   "version": "2.7.12"
  }
 },
 "nbformat": 4,
 "nbformat_minor": 2
}
