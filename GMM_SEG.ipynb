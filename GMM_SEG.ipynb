{
 "cells": [
  {
   "cell_type": "code",
   "execution_count": 1,
   "metadata": {
    "collapsed": false
   },
   "outputs": [],
   "source": [
    "import os\n",
    "import pandas as pd\n",
    "import cv2\n",
    "import numpy as np\n",
    "\n",
    "def make_path(p):\n",
    "    dirs = p.split('/')\n",
    "    tmp = ''\n",
    "    for i in range(len(dirs)):\n",
    "        tmp = tmp+dirs[i]+'/'\n",
    "        if not(os.path.exists(tmp)):\n",
    "            os.mkdir(tmp)    \n",
    "\n",
    "def save_tie(t_im,t_mask,prefix):\n",
    "    assert(len(t_im) == max_length)\n",
    "    cols = int(np.sqrt(len(t_im)))\n",
    "    rows = int(np.ceil(len(t_im)/float(cols)))\n",
    "    \n",
    "    w = t_im.shape[2]\n",
    "    h = t_im.shape[1]\n",
    "    res_im = np.zeros((rows*h,cols*w,3),dtype=np.uint8)\n",
    "    res_mask = np.zeros((rows*h,cols*w),dtype=np.uint8)\n",
    "    for c in range(cols):\n",
    "        for r in range(rows):\n",
    "            if(r*cols+c < len(t_im)):\n",
    "                res_im[r*h:r*h+h,c*w:c*w+w,:] = t_im[r*cols+c,:]\n",
    "                res_mask[r*h:r*h+h,c*w:c*w+w] = t_mask[r*cols+c]\n",
    "    cv2.imwrite(prefix+'_input.jpg',res_im)\n",
    "    cv2.imwrite(prefix+'_mask.jpg',res_mask)\n",
    "    \n",
    "def iterate_video(d):\n",
    "    d = d[(d.r1<0.9)&(d.r2<0.9)]\n",
    "    if(len(d) > 0):\n",
    "        im_shape = cv2.imread(d.x.values[0]).shape\n",
    "    for i in range(len(d)):\n",
    "        yield cv2.imread(d.x.values[i]), cv2.imread(d.y.values[i],0)\n",
    "    \n",
    "def iterate_img(img,mask,t_size):\n",
    "    for i in range(img.shape[0]//t_size):\n",
    "        for j in range(img.shape[1]//t_size):\n",
    "            lo = (i*t_size),(j*t_size)\n",
    "            hi = (i+1)*t_size if (i+2)*t_size < img.shape[0] else None,\\\n",
    "                 (j+1)*t_size if (j+2)*t_size < img.shape[1] else None\n",
    "            tie_mask = mask[lo[0]:hi[0],lo[1]:hi[1]]\n",
    "            tie_img  = img[lo[0]:hi[0],lo[1]:hi[1]]\n",
    "            yield tie_img,tie_mask\n",
    "        \n",
    "def process_tie(ties,tie_mask):\n",
    "        r0 = np.zeros_like(tie_mask,dtype=np.float32)\n",
    "        r1 = np.zeros_like(tie_mask,dtype=np.float32)\n",
    "        r3 = np.zeros_like(tie_mask,dtype=np.float32)\n",
    "        r0[tie_mask < 10] = 1.\n",
    "        r1[(tie_mask > 10)&(tie_mask < 240)] = 1.\n",
    "        r3[tie_mask > 240] = 1.\n",
    "        if(r1.mean() > 0.7):\n",
    "            return False\n",
    "        if(r3.mean() > 0.001):\n",
    "            return True\n",
    "        return False\n",
    "    \n",
    "def create_dataset(path = 'dataset',out_dir='ties256',t_size=64,max_length=256):\n",
    "    data = pd.read_csv(path+'/data.csv')\n",
    "    for video_num,d in enumerate(data.groupby('id')):\n",
    "        if(video_num < 19):\n",
    "            continue\n",
    "        ties = []\n",
    "        count = 0\n",
    "        video_path = (out_dir+'/'+d[1].x.values[0])[:(out_dir+'/'+d[1].x.values[0]).rfind('/input')]\n",
    "        make_path(video_path)\n",
    "        for frame_num,(img,mask) in enumerate(iterate_video(d[1])):\n",
    "            for i,(tie_img,tie_mask) in enumerate(iterate_img(img,mask,t_size)):\n",
    "                if(len(ties)<=i):\n",
    "                    ties.append([[tie_img],[tie_mask]])\n",
    "                else:\n",
    "                    ties[i][0].append(tie_img)\n",
    "                    ties[i][1].append(tie_mask)\n",
    "                if(len(ties[i][0]) >= max_length):\n",
    "                    tie_img = np.array(ties[i][0],dtype=np.uint8)\n",
    "                    tie_mask = np.array(ties[i][1],dtype=np.uint8)\n",
    "                    if(process_tie(tie_img,tie_mask)):            \n",
    "                        save_tie(tie_img,tie_mask,video_path+'/'+str(count))\n",
    "                        count = count+1\n",
    "                    ties[i] = [[],[]]\n",
    "            print \"\\rvideo: %i frame: %i proper_ties: %i\"%(video_num,frame_num,count),\n",
    "        print \"\"\n",
    "    \n",
    "class TieLoader:\n",
    "    def __init__(self,path='train_ties'):\n",
    "        self.cols = 16\n",
    "        self.rows = 16\n",
    "        if(os.path.exists(path+'/list.txt')):\n",
    "            self.img_list = [i[:-1] for i in open(path+'/list.txt')]\n",
    "        else:\n",
    "            self.img_list = self.list_files(path)\n",
    "            f = open(path+'/list.txt','w')\n",
    "            for i in self.img_list:\n",
    "                f.write(i+'\\n')\n",
    "            f.close()\n",
    "    \n",
    "    def list_files(self,path):\n",
    "        res = []\n",
    "        for i in os.listdir(path):\n",
    "            if(os.path.isdir(path+'/'+i)):\n",
    "                res = res+ self.list_files(path+'/'+i)\n",
    "            elif(i[-3:] == 'jpg'):\n",
    "                return [path+'/'+str(j) for j in [ int(k[:k.rfind('_')]) for k in os.listdir(path)]]\n",
    "        return res\n",
    "    \n",
    "    def load_random(self):\n",
    "        i = int(np.random.randint(0,len(self.img_list)))\n",
    "        im = cv2.imread(self.img_list[i]+'_input.jpg')\n",
    "        mask = cv2.imread(self.img_list[i]+'_mask.jpg',0)\n",
    "        h,w = im.shape[0]//self.rows,im.shape[1]//self.cols\n",
    "        data  = np.zeros((self.cols*self.rows,4,h,w),dtype=np.uint8)\n",
    "        for c in range(self.cols):\n",
    "            for r in range(self.rows):\n",
    "                if(r*self.cols+c < len(data)):\n",
    "                    data[r*self.cols+c,1:] = np.transpose(im[r*h:r*h+h,c*w:c*w+w,:],(2,0,1))\n",
    "                    data[r*self.cols+c,0] = mask[r*h:r*h+h,c*w:c*w+w]\n",
    "        return data\n",
    "        "
   ]
  },
  {
   "cell_type": "code",
   "execution_count": 2,
   "metadata": {
    "collapsed": false
   },
   "outputs": [],
   "source": [
    "import matplotlib.pyplot as plt\n",
    "%matplotlib inline\n",
    "import numpy as np\n",
    "import cv2 "
   ]
  },
  {
   "cell_type": "code",
   "execution_count": 3,
   "metadata": {
    "collapsed": false
   },
   "outputs": [],
   "source": [
    "from config import cfg\n",
    "cfg.SEQ_LENGTH = 64\n",
    "cfg.TILE_SIZE = (24,24)\n",
    "cfg.TRAIN.BATCH_SIZE = 1\n",
    "cfg.TRAIN.EPOCH_SIZE = 1000\n",
    "cfg.NAME = 'gmm'\n",
    "cfg.TRAIN.EPOCH = 0\n",
    "cfg.TRAIN.EPOCH_NUM = 1000"
   ]
  },
  {
   "cell_type": "code",
   "execution_count": 4,
   "metadata": {
    "collapsed": false
   },
   "outputs": [],
   "source": [
    "from numpy import random as rnd\n",
    "from numba import jit\n",
    "@jit\n",
    "def transform(data,tile_size=cfg.TILE_SIZE,scale_range = [0.9,1.1],rot_range = 360.):\n",
    "    scale_range = [0.9,1.1]\n",
    "    rot_range = 360.\n",
    "    w,h = tile_size\n",
    "    res = np.empty((data.shape[0],data.shape[1],h,w),dtype=np.float32)\n",
    "    angle = rot_range*(0.5-np.random.rand())\n",
    "    scale = scale_range[0]+(scale_range[1]-scale_range[0])*rnd.rand() \n",
    "    flip_code = rnd.randint(4)-2\n",
    "    center = rnd.randint(w/2)+w/2,rnd.randint(h/2)+h/2\n",
    "    rot = cv2.getRotationMatrix2D(center,angle,scale)\n",
    "    rot[0,2] -= center[0]-w/2.\n",
    "    rot[1,2] -= center[1]-h/2.\n",
    "    for i in range(data.shape[0]):\n",
    "        for j in range(data.shape[1]):\n",
    "            res[i,j] = cv2.warpAffine(data[i,j].astype(np.float32),rot,(h,w))\n",
    "            if(flip_code != -2):\n",
    "                res[i,j] = cv2.flip(res[i,j],flip_code)\n",
    "    return res\n",
    "\n",
    "class GMMDataLoader():\n",
    "    def __init__(self,dl,tile_size=cfg.TILE_SIZE,min_r= 0.25,max_r=0.4,seq_length=cfg.SEQ_LENGTH):\n",
    "        self.dl = dl\n",
    "        self.data = np.load('data.npz')[\"arr_0\"]\n",
    "        self.tile_size = tile_size\n",
    "        self.seq_length = seq_length\n",
    "        self.min_r = min_r\n",
    "        self.max_r = max_r\n",
    "    \n",
    "    def load_from_dl(self):\n",
    "        y = np.zeros((self.seq_length,  self.tile_size[1],self.tile_size[0]),dtype=np.float32)+0.5\n",
    "        data = self.dl.load_random()\n",
    "        lo = np.random.randint(0,len(data)-self.seq_length)\n",
    "        tmp = data[lo:lo+self.seq_length]\n",
    "        tmp = transform(tmp,self.tile_size)        \n",
    "        X = tmp[:,1:,:,:]\n",
    "        y[tmp[:,0] > 250] = 1.\n",
    "        y[tmp[:,0] <= 20] = 0.\n",
    "        return X,y\n",
    "    \n",
    "    \n",
    "    def load_random(self):\n",
    "        while(1):\n",
    "            X,y =self.load_from_dl()\n",
    "            means = y.mean((1,2))\n",
    "            inx = means.argsort()\n",
    "            if(means[inx[0]] < 0.1) and (y[(y>0.1)&(y<0.9)].size < 0.1*y.size):\n",
    "                break\n",
    "        if(means.mean() < self.min_r):\n",
    "            for i in range(len(inx)//2):\n",
    "                X[inx[i]] = self.data[np.random.randint(len(self.data))][:,:self.tile_size[1],:self.tile_size[0]]\n",
    "                y[inx[i]] = 1.\n",
    "                if((means[inx[i:]].sum()+i+1)/len(means) > self.min_r):\n",
    "                    break\n",
    "        elif(means.mean() > self.max_r):\n",
    "            for i in range(1,len(inx)//2):\n",
    "                X[inx[-i]] = X[inx[0]]\n",
    "                y[inx[-i]] = y[inx[0]]\n",
    "                if((means[inx[:-i]].sum()+means[inx[0]]*i)/len(means) < self.max_r):\n",
    "                    break\n",
    "        means = y.mean((1,2))\n",
    "        inx = means.argsort()\n",
    "        return X[inx],y[inx]\n",
    "\n",
    "    def create_data(self):\n",
    "        all_imgs = None        \n",
    "        for i,sample in enumerate(self.iterate_all_imgs()):\n",
    "            imgs = self.get_move_tile(sample,self.tile_size)\n",
    "            if(all_imgs is None):\n",
    "                all_imgs = imgs\n",
    "            else:\n",
    "                all_imgs = np.concatenate((all_imgs,imgs),0)\n",
    "            print '\\r',i,len(all_imgs),\n",
    "        np.savez(\"data.npz\",all_imgs)\n",
    "\n",
    "    def iterate_all_imgs(self):\n",
    "        data = self.vl.data[self.vl.data.r4 > 0.05]\n",
    "        for i in data.index:\n",
    "            sample = self.vl.load_data(data[data.index == i],is_color=True)\n",
    "            yield sample[1]\n",
    "    \n",
    "    def get_move_tile(self,sample,t_size):\n",
    "        mask = np.zeros_like(sample[0],dtype=np.float32)\n",
    "        mask[sample[0] > 240] = 1.\n",
    "        mask = np.cumsum(mask,1)\n",
    "        mask = np.cumsum(mask,0)\n",
    "        w,h = t_size\n",
    "        mask = (mask[h:,w:]+mask[:-h,:-w] - mask[h:,:-w] - mask[:-h,w:])/(t_size[0]*t_size[1])\n",
    "        mask = mask[::t_size[1],::t_size[0]]\n",
    "        inx = np.arange(0,mask.size,dtype=np.int)\n",
    "        inx = inx[mask.flatten() > 0.93]\n",
    "        lo_y,lo_x = np.unravel_index(inx,mask.shape)\n",
    "        lo_y*=t_size[1]\n",
    "        lo_x*=t_size[0]\n",
    "        hi_x=lo_x+w\n",
    "        hi_y=lo_y+h\n",
    "        mask = (hi_x<=mask.shape[1]*t_size[0])&(hi_y<=mask.shape[0]*t_size[1])\n",
    "        hi_x = hi_x[mask]\n",
    "        hi_y = hi_y[mask]\n",
    "        lo_x = lo_x[mask]\n",
    "        lo_y = lo_y[mask]\n",
    "        imgs = np.zeros((len(lo_x),3,t_size[1],t_size[0]),dtype=np.uint8)\n",
    "        for i in range(len(imgs)):\n",
    "            imgs[i] = sample[1:,lo_y[i]:hi_y[i],lo_x[i]:hi_x[i]]\n",
    "        return imgs"
   ]
  },
  {
   "cell_type": "code",
   "execution_count": 5,
   "metadata": {
    "collapsed": false
   },
   "outputs": [],
   "source": [
    "def draw_sample(X,y,cols=10,rows=10):\n",
    "    _,_,h,w = X.shape\n",
    "    res = np.zeros((h*rows,w*cols,3))\n",
    "    mask = np.zeros((h*rows,w*cols,3))\n",
    "    inx = np.arange(0,len(X),dtype=np.int)[:cols*rows]\n",
    "    print(y.mean())\n",
    "    for i in range(cols):\n",
    "        for j in range(rows):\n",
    "            if(i*cols+j < len(X)):\n",
    "                tmp = np.transpose(X[inx[i*cols+j]],(1,2,0))\n",
    "                res[j*h:j*h+h,i*w:i*w+w,:] = tmp\n",
    "                tmp= y[inx[i*cols+j]]*255\n",
    "                mask[j*h:j*h+h,i*w:i*w+w,:] = tmp[:,:,None]\n",
    "    plt.figure(figsize=(10,10))\n",
    "    plt.imshow(np.concatenate((res.astype(np.uint8),mask.astype(np.uint8)),axis=1))\n",
    "    plt.show()\n"
   ]
  },
  {
   "cell_type": "code",
   "execution_count": 6,
   "metadata": {
    "collapsed": false
   },
   "outputs": [],
   "source": [
    "def data_generator(gmm_loader,batch_size = cfg.TRAIN.BATCH_SIZE,\n",
    "                   tile_size = cfg.TILE_SIZE,\n",
    "                   epoch_size = cfg.TRAIN.EPOCH_SIZE):\n",
    "    iter = 0\n",
    "    for i in range(epoch_size):        \n",
    "        yield gmm_loader.load_random()"
   ]
  },
  {
   "cell_type": "code",
   "execution_count": 7,
   "metadata": {
    "collapsed": false
   },
   "outputs": [],
   "source": [
    "gmm_loader = GMMDataLoader(TieLoader('train_ties'))"
   ]
  },
  {
   "cell_type": "code",
   "execution_count": 8,
   "metadata": {
    "collapsed": false
   },
   "outputs": [
    {
     "name": "stdout",
     "output_type": "stream",
     "text": [
      "0.265625\n"
     ]
    },
    {
     "data": {
      "image/png": "[encoded data removed]",
      "text/plain": [
       "<matplotlib.figure.Figure at 0x7fc900094090>"
      ]
     },
     "metadata": {},
     "output_type": "display_data"
    }
   ],
   "source": [
    "\n",
    "for x,y in data_generator(gmm_loader,1,epoch_size=1):\n",
    "    draw_sample(x,y,8,8)\n",
    "    break"
   ]
  },
  {
   "cell_type": "code",
   "execution_count": 9,
   "metadata": {
    "collapsed": false
   },
   "outputs": [
    {
     "name": "stderr",
     "output_type": "stream",
     "text": [
      "Using cuDNN version 5110 on context None\n",
      "Mapped name None to device cuda0: GeForce GTX 660 Ti (0000:01:00.0)\n"
     ]
    }
   ],
   "source": [
    "import theano"
   ]
  },
  {
   "cell_type": "code",
   "execution_count": 10,
   "metadata": {
    "collapsed": true
   },
   "outputs": [],
   "source": [
    "from sklearn import mixture\n",
    "class GMMGradOp(theano.Op):\n",
    "    def __init__(self, gaussLLHistModel):\n",
    "        super(GMMGradOp, self).__init__()\n",
    "        self.gaussLLHistModel = gaussLLHistModel\n",
    "        self.otypes = [T.fmatrix,T.fvector]\n",
    "        self.itypes = [T.fmatrix,T.fvector]\n",
    "        \n",
    "    def split(self,X,Y):\n",
    "        p = X[Y < 0.1]\n",
    "        n = X[Y > 0.9]\n",
    "        num = self.gaussLLHistModel.sample_num\n",
    "        return p[:-num],p[-num:],n[:num]\n",
    "    \n",
    "    def merge(self, x,yp,yn,Y):\n",
    "        out = np.zeros((len(Y),x.shape[1]),dtype=np.float32)\n",
    "        num = self.gaussLLHistModel.sample_num\n",
    "        out[Y>0.9][:num] = yn\n",
    "        out[Y <0.1]= np.concatenate((x,yp),axis=0)\n",
    "        return out\n",
    "        \n",
    "\n",
    "    def perform(self, node, (X,Y), output_storage):\n",
    "        x,yp,yn = self.split(X,Y)\n",
    "        dX,dY = output_storage[0],output_storage[1]\n",
    "        fdx,fdyp,fdyn = self.gaussLLHistModel.backward(x,yp,yn)\n",
    "        dY[0] = np.zeros_like(Y,dtype=np.float32)\n",
    "        dX[0] = self.merge(fdx,fdyp,fdyn,Y)\n",
    "        \n",
    "\n",
    "class GMMOp(theano.Op):\n",
    "    def __init__(self, gaussLLHistModel):\n",
    "        super(GMMOp, self).__init__()\n",
    "        self.gaussLLHistModel = gaussLLHistModel\n",
    "        self.otypes = [T.scalar]\n",
    "        self.itypes = [T.fmatrix,T.fvector]\n",
    "\n",
    "    def split(self,X,Y):\n",
    "        p = X[Y < 0.1]\n",
    "        n = X[Y > 0.9]\n",
    "        num = self.gaussLLHistModel.sample_num\n",
    "        return p[:-num],p[-num:],n[:num]\n",
    "    \n",
    "    def perform(self, node, (X,Y), output_storage):\n",
    "        z = output_storage[0]        \n",
    "        x,yp,yn = self.split(X,Y)\n",
    "        z[0] = self.gaussLLHistModel.forward(x,yp,yn).astype(np.float32)\n",
    "        \n",
    "    def grad(self, (X,Y), output_grads):\n",
    "        return GMMGradOp(self.gaussLLHistModel)(X,Y)\n",
    "    \n",
    "    \n",
    "class GMMAccuracyOp(theano.Op):\n",
    "    def __init__(self):\n",
    "        super(GMMAccuracyOp, self).__init__()\n",
    "        self.otypes = [T.scalar]\n",
    "        self.itypes = [T.fmatrix,T.fvector]\n",
    "        \n",
    "    def gmm_prob(self,Y,means,covars,weights):\n",
    "        d = Y.shape[1]\n",
    "        prob = (-.5*d*np.log(2*np.pi)-.5*np.log(covars).sum(1))[None,:]\\\n",
    "                -0.5*((Y[:,None,:]-means[None,])**2/covars[None,:,:]).sum(2)\\\n",
    "                +np.log(weights)[None,:]\n",
    "        return np.exp(prob).sum(1)\n",
    "    \n",
    "    def split(self,X,Y):\n",
    "        p = X[Y < 0.1]\n",
    "        n = X[Y > 0.9]\n",
    "        return p[:len(p)/2],p[:len(p)/2],n\n",
    "\n",
    "    def build_gmm(self,X, gm_num):\n",
    "        gmm = mixture.GaussianMixture(covariance_type='diag',n_components=gm_num, max_iter=10000)\n",
    "        gmm.fit(X)\n",
    "        return np.copy(gmm.means_), np.copy(gmm.covariances_), np.copy(gmm.weights_)\n",
    "\n",
    "    def classify(self,X,Y,gm_num):\n",
    "        Yll = self.gmm_prob(Y,*self.build_gmm(X,gm_num))\n",
    "        mask = np.zeros_like(Yll)\n",
    "        mask[Yll > 0.5] = 1.\n",
    "        return mask\n",
    "\n",
    "    def accuracy(self,X,Yp,Yn,gm_num):\n",
    "        cl = self.classify(X,np.concatenate((Yp,Yn)),gm_num)\n",
    "        return (cl[:len(Yp)].sum()+len(Yn)-cl[len(Yp):].sum())/len(cl)\n",
    "\n",
    "\n",
    "    def perform(self, node, (X,Y), output_storage):\n",
    "        z = output_storage[0]        \n",
    "        x,yp,yn = self.split(X,Y)\n",
    "        z[0] = self.accuracy(x,yp,yn,5)"
   ]
  },
  {
   "cell_type": "code",
   "execution_count": 11,
   "metadata": {
    "collapsed": false
   },
   "outputs": [],
   "source": [
    "import theano.tensor as T\n",
    "import lasagne\n",
    "from lasagne import layers as L\n",
    "from broadcast import BroadcastLayer,UnbroadcastLayer\n",
    "from lasagne.nonlinearities import rectify\n",
    "from lasagne.init import HeNormal,Constant"
   ]
  },
  {
   "cell_type": "code",
   "execution_count": 12,
   "metadata": {
    "collapsed": false
   },
   "outputs": [],
   "source": [
    "from symbols import make_conv,BroadcastLayer,res_unit\n",
    "\n",
    "def gen_unet1(data,num_filters,deep,name='unet',first=True):    \n",
    "    name = name+str(deep)\n",
    "    res1 = make_conv(data,num_filters,3,name=name+'_in')   \n",
    "    \n",
    "    if(deep == 1):\n",
    "        return res1\n",
    "    \n",
    "    res2 = L.Pool2DLayer(res1,2,name=name+'_pool')\n",
    "    res2 = gen_unet1(res2,num_filters*2,deep-1,name[:-1],False)\n",
    "    res2 = L.Deconv2DLayer(res2,num_filters*((2**(deep-1))-1),2,2,crop='valid',nonlinearity=None,name=name+'_deconv')\n",
    "    res2 = L.BatchNormLayer(res2,name=name+'_deconv_bn')\n",
    "    res2 = L.NonlinearityLayer(res2,rectify,name=name+'_deconv_rectify')\n",
    "    res = L.ConcatLayer([res2,res1],axis=1, cropping=(None, None, \"center\", \"center\"),name=name+'_concat')\n",
    "    if(first ):\n",
    "        res = L.Conv2DLayer(res,num_filters*(2**(deep-1)),3,nonlinearity=None,name=name+'_conv',pad='same')\n",
    "    else:\n",
    "        res = make_conv(res,num_filters*(2**(deep-1)),3,name=name+'_out')   \n",
    "    return res\n",
    "\n",
    "\n",
    "def make_net(input_tensor):\n",
    "    data_l = L.InputLayer((cfg.SEQ_LENGTH,3,cfg.TILE_SIZE[1],cfg.TILE_SIZE[0])\n",
    "                           ,input_tensor\n",
    "                           ,name='data')\n",
    "    unet = gen_unet1(data_l,6,3,name='unet')\n",
    "    flatten = BroadcastLayer(unet,(0,2,3))\n",
    "    return flatten,unet\n",
    "    "
   ]
  },
  {
   "cell_type": "code",
   "execution_count": 13,
   "metadata": {
    "collapsed": false
   },
   "outputs": [
    {
     "name": "stdout",
     "output_type": "stream",
     "text": [
      "\n",
      "In -->     Layer    --> Out    Description                         \n",
      "-------    -----    -------    -----------                         \n",
      "[]         0        [1]        data(64, 3, 24, 24)                 \n",
      "[0]        1        [2]        unet3_in_conv(3)(64, 6, 24, 24)     \n",
      "[1]        2        [3]        unet3_in_bn(64, 6, 24, 24)          \n",
      "[2]        3        [4, 22]    unet3_in_relu(64, 6, 24, 24)        \n",
      "[3]        4        [5]        unet3_pool(64, 6, 12, 12)           \n",
      "[4]        5        [6]        unet2_in_conv(3)(64, 12, 12, 12)    \n",
      "[5]        6        [7]        unet2_in_bn(64, 12, 12, 12)         \n",
      "[6]        7        [8, 15]    unet2_in_relu(64, 12, 12, 12)       \n",
      "[7]        8        [9]        unet2_pool(64, 12, 6, 6)            \n",
      "[8]        9        [10]       unet1_in_conv(3)(64, 24, 6, 6)      \n",
      "[9]        10       [11]       unet1_in_bn(64, 24, 6, 6)           \n",
      "[10]       11       [12]       unet1_in_relu(64, 24, 6, 6)         \n",
      "[11]       12       [13]       unet2_deconv(64, 12, 12, 12)        \n",
      "[12]       13       [14]       unet2_deconv_bn(64, 12, 12, 12)     \n",
      "[13]       14       [15]       unet2_deconv_rectify(64, 12, 12, 12)\n",
      "[14, 7]    15       [16]       unet2_concat(64, 24, 12, 12)        \n",
      "[15]       16       [17]       unet2_out_conv(3)(64, 24, 12, 12)   \n",
      "[16]       17       [18]       unet2_out_bn(64, 24, 12, 12)        \n",
      "[17]       18       [19]       unet2_out_relu(64, 24, 12, 12)      \n",
      "[18]       19       [20]       unet3_deconv(64, 18, 24, 24)        \n",
      "[19]       20       [21]       unet3_deconv_bn(64, 18, 24, 24)     \n",
      "[20]       21       [22]       unet3_deconv_rectify(64, 18, 24, 24)\n",
      "[21, 3]    22       [23]       unet3_concat(64, 24, 24, 24)        \n",
      "[22]       23       []         unet3_conv(64, 24, 24, 24)          \n"
     ]
    }
   ],
   "source": [
    "from utils import get_network_str,save_weights,load_weights\n",
    "\n",
    "data = T.tensor4(name='data')\n",
    "flatten, net = make_net(data)\n",
    "print get_network_str(net,incomings=True,outgoings=True)"
   ]
  },
  {
   "cell_type": "code",
   "execution_count": 58,
   "metadata": {
    "collapsed": false
   },
   "outputs": [
    {
     "name": "stdout",
     "output_type": "stream",
     "text": [
      "\n"
     ]
    }
   ],
   "source": [
    "from gauss_ll_hist import GaussLLHistModel\n",
    "gmm = GaussLLHistModel(cfg.SEQ_LENGTH//4*cfg.TILE_SIZE[0]*cfg.TILE_SIZE[1],2,10)"
   ]
  },
  {
   "cell_type": "code",
   "execution_count": 59,
   "metadata": {
    "collapsed": false
   },
   "outputs": [],
   "source": [
    "def center_loss(_X,_Y):\n",
    "    _X = _X/(0.001+T.sqrt(T.sqr(_X).sum(1))[:,None])\n",
    "    tX = _X[:64*24*24//2]\n",
    "    tY = 1.-_Y[:64*24*24//2]\n",
    "    Y = 1.- _Y[64*24*24//2:]\n",
    "    X = _X[64*24*24//2:]\n",
    "    center = (tX*tY[:,None]).sum(0)/(0.001+tY.sum())\n",
    "    Y = 2.*Y-1.\n",
    "    return (T.sqr(center[None,:]-X)*Y[:,None]).mean()*100.\n",
    "\n",
    "def center_accuracy(X,Y):\n",
    "    Tr = X[:len(X)//2][Y[:len(X)//2] < 0.1]\n",
    "    Xp = X[len(X)//2:][Y[len(X)//2:] < 0.1]\n",
    "    Xn = X[len(X)//2:][Y[len(X)//2:] > 0.9]\n",
    "    c = Tr.mean(0)\n",
    "    d = np.std(Tr,axis=0).sum()\n",
    "    tp = Xp[np.square(Xp-c).sum(1) < d**2]\n",
    "    tn = Xn[np.square(Xn-c).sum(1) > d**2]\n",
    "    return (len(tp)+len(tn))/float(len(Xp)+len(Xn)),d"
   ]
  },
  {
   "cell_type": "code",
   "execution_count": 60,
   "metadata": {
    "collapsed": false
   },
   "outputs": [],
   "source": [
    "from lasagne.regularization import regularize_network_params,l2\n",
    "\n",
    "params = lasagne.layers.get_all_params(net, trainable=True)\n",
    "X = lasagne.layers.get_output(flatten)\n",
    "X = X/T.sqrt(T.square(X).sum(1)[:,None])\n",
    "label = T.tensor3(name='label')\n",
    "Y = label.flatten()\n",
    "l2_loss = 1e-4 * regularize_network_params(net, l2)\n",
    "loss = l2_loss+GMMOp(gmm)(X,Y)#center_loss(X,Y)+\n",
    "G_lr = theano.shared(np.array(0.001, dtype=theano.config.floatX))\n",
    "\n",
    "\n",
    "MAX_GRAD_NORM = 15\n",
    "all_grads = T.grad(loss, params)\n",
    "all_grads = [T.clip(g, -.1, .1) for g in all_grads]\n",
    "all_grads, norm = lasagne.updates.total_norm_constraint(all_grads, MAX_GRAD_NORM, return_norm=True)\n",
    "updates = lasagne.updates.adam(all_grads,params,G_lr)\n"
   ]
  },
  {
   "cell_type": "code",
   "execution_count": 61,
   "metadata": {
    "collapsed": false
   },
   "outputs": [
    {
     "name": "stdout",
     "output_type": "stream",
     "text": [
      "train_fn compiled\n"
     ]
    }
   ],
   "source": [
    "train_fn = theano.function([data, label], [loss,X], allow_input_downcast=True, updates=updates)\n",
    "print 'train_fn compiled'"
   ]
  },
  {
   "cell_type": "code",
   "execution_count": 63,
   "metadata": {
    "collapsed": false
   },
   "outputs": [],
   "source": [
    "G_lr.set_value(np.float32(0.01))"
   ]
  },
  {
   "cell_type": "code",
   "execution_count": 64,
   "metadata": {
    "collapsed": false,
    "scrolled": true
   },
   "outputs": [],
   "source": [
    "load_weights(net,'models/gmm007_loss63287913.92')"
   ]
  },
  {
   "cell_type": "code",
   "execution_count": 85,
   "metadata": {
    "collapsed": false
   },
   "outputs": [
    {
     "name": "stdout",
     "output_type": "stream",
     "text": [
      " epoch 5 batch 99 loss=65865567.60 , 67949224.00                                                                                                  \n",
      "checkpoint models/gmm005_loss65865567.60.npz\n",
      " epoch 6 batch 30 loss=65537653.81 , 57694112.00                             "
     ]
    },
    {
     "ename": "KeyboardInterrupt",
     "evalue": "",
     "output_type": "error",
     "traceback": [
      "\u001b[0;31m---------------------------------------------------------------------------\u001b[0m",
      "\u001b[0;31mKeyboardInterrupt\u001b[0m                         Traceback (most recent call last)",
      "\u001b[0;32m<ipython-input-85-291af4f2c762>\u001b[0m in \u001b[0;36m<module>\u001b[0;34m()\u001b[0m\n\u001b[1;32m     10\u001b[0m \u001b[0;31m#             batch[1][int(len(batch[0])*0.7):] = 1.\u001b[0m\u001b[0;34m\u001b[0m\u001b[0;34m\u001b[0m\u001b[0m\n\u001b[1;32m     11\u001b[0m         \u001b[0;31m#batch[1][(batch[1] > 0.1 )&(batch[1] < 0.9)] = 0.\u001b[0m\u001b[0;34m\u001b[0m\u001b[0;34m\u001b[0m\u001b[0m\n\u001b[0;32m---> 12\u001b[0;31m         \u001b[0mres\u001b[0m \u001b[0;34m=\u001b[0m \u001b[0mtrain_fn\u001b[0m\u001b[0;34m(\u001b[0m\u001b[0;34m*\u001b[0m\u001b[0mbatch\u001b[0m\u001b[0;34m)\u001b[0m\u001b[0;34m\u001b[0m\u001b[0m\n\u001b[0m\u001b[1;32m     13\u001b[0m         \u001b[0mtrain_loss\u001b[0m\u001b[0;34m+=\u001b[0m\u001b[0mres\u001b[0m\u001b[0;34m[\u001b[0m\u001b[0;36m0\u001b[0m\u001b[0;34m]\u001b[0m\u001b[0;34m\u001b[0m\u001b[0m\n\u001b[1;32m     14\u001b[0m         \u001b[0;31m#acc,disp = center_accuracy(res[1],batch[1].flatten())\u001b[0m\u001b[0;34m\u001b[0m\u001b[0;34m\u001b[0m\u001b[0m\n",
      "\u001b[0;32m/home/vaulin/Theano/theano/compile/function_module.pyc\u001b[0m in \u001b[0;36m__call__\u001b[0;34m(self, *args, **kwargs)\u001b[0m\n\u001b[1;32m    881\u001b[0m         \u001b[0;32mtry\u001b[0m\u001b[0;34m:\u001b[0m\u001b[0;34m\u001b[0m\u001b[0m\n\u001b[1;32m    882\u001b[0m             \u001b[0moutputs\u001b[0m \u001b[0;34m=\u001b[0m\u001b[0;31m\\\u001b[0m\u001b[0;34m\u001b[0m\u001b[0m\n\u001b[0;32m--> 883\u001b[0;31m                 \u001b[0mself\u001b[0m\u001b[0;34m.\u001b[0m\u001b[0mfn\u001b[0m\u001b[0;34m(\u001b[0m\u001b[0;34m)\u001b[0m \u001b[0;32mif\u001b[0m \u001b[0moutput_subset\u001b[0m \u001b[0;32mis\u001b[0m \u001b[0mNone\u001b[0m \u001b[0;32melse\u001b[0m\u001b[0;31m\\\u001b[0m\u001b[0;34m\u001b[0m\u001b[0m\n\u001b[0m\u001b[1;32m    884\u001b[0m                 \u001b[0mself\u001b[0m\u001b[0;34m.\u001b[0m\u001b[0mfn\u001b[0m\u001b[0;34m(\u001b[0m\u001b[0moutput_subset\u001b[0m\u001b[0;34m=\u001b[0m\u001b[0moutput_subset\u001b[0m\u001b[0;34m)\u001b[0m\u001b[0;34m\u001b[0m\u001b[0m\n\u001b[1;32m    885\u001b[0m         \u001b[0;32mexcept\u001b[0m \u001b[0mException\u001b[0m\u001b[0;34m:\u001b[0m\u001b[0;34m\u001b[0m\u001b[0m\n",
      "\u001b[0;32m/home/vaulin/Theano/theano/gof/op.pyc\u001b[0m in \u001b[0;36mrval\u001b[0;34m(p, i, o, n)\u001b[0m\n\u001b[1;32m    890\u001b[0m             \u001b[0;31m# default arguments are stored in the closure of `rval`\u001b[0m\u001b[0;34m\u001b[0m\u001b[0;34m\u001b[0m\u001b[0m\n\u001b[1;32m    891\u001b[0m             \u001b[0;32mdef\u001b[0m \u001b[0mrval\u001b[0m\u001b[0;34m(\u001b[0m\u001b[0mp\u001b[0m\u001b[0;34m=\u001b[0m\u001b[0mp\u001b[0m\u001b[0;34m,\u001b[0m \u001b[0mi\u001b[0m\u001b[0;34m=\u001b[0m\u001b[0mnode_input_storage\u001b[0m\u001b[0;34m,\u001b[0m \u001b[0mo\u001b[0m\u001b[0;34m=\u001b[0m\u001b[0mnode_output_storage\u001b[0m\u001b[0;34m,\u001b[0m \u001b[0mn\u001b[0m\u001b[0;34m=\u001b[0m\u001b[0mnode\u001b[0m\u001b[0;34m)\u001b[0m\u001b[0;34m:\u001b[0m\u001b[0;34m\u001b[0m\u001b[0m\n\u001b[0;32m--> 892\u001b[0;31m                 \u001b[0mr\u001b[0m \u001b[0;34m=\u001b[0m \u001b[0mp\u001b[0m\u001b[0;34m(\u001b[0m\u001b[0mn\u001b[0m\u001b[0;34m,\u001b[0m \u001b[0;34m[\u001b[0m\u001b[0mx\u001b[0m\u001b[0;34m[\u001b[0m\u001b[0;36m0\u001b[0m\u001b[0;34m]\u001b[0m \u001b[0;32mfor\u001b[0m \u001b[0mx\u001b[0m \u001b[0;32min\u001b[0m \u001b[0mi\u001b[0m\u001b[0;34m]\u001b[0m\u001b[0;34m,\u001b[0m \u001b[0mo\u001b[0m\u001b[0;34m)\u001b[0m\u001b[0;34m\u001b[0m\u001b[0m\n\u001b[0m\u001b[1;32m    893\u001b[0m                 \u001b[0;32mfor\u001b[0m \u001b[0mo\u001b[0m \u001b[0;32min\u001b[0m \u001b[0mnode\u001b[0m\u001b[0;34m.\u001b[0m\u001b[0moutputs\u001b[0m\u001b[0;34m:\u001b[0m\u001b[0;34m\u001b[0m\u001b[0m\n\u001b[1;32m    894\u001b[0m                     \u001b[0mcompute_map\u001b[0m\u001b[0;34m[\u001b[0m\u001b[0mo\u001b[0m\u001b[0;34m]\u001b[0m\u001b[0;34m[\u001b[0m\u001b[0;36m0\u001b[0m\u001b[0;34m]\u001b[0m \u001b[0;34m=\u001b[0m \u001b[0mTrue\u001b[0m\u001b[0;34m\u001b[0m\u001b[0m\n",
      "\u001b[0;32m<ipython-input-10-27fc62816777>\u001b[0m in \u001b[0;36mperform\u001b[0;34m(self, node, (X, Y), output_storage)\u001b[0m\n\u001b[1;32m     24\u001b[0m         \u001b[0mx\u001b[0m\u001b[0;34m,\u001b[0m\u001b[0myp\u001b[0m\u001b[0;34m,\u001b[0m\u001b[0myn\u001b[0m \u001b[0;34m=\u001b[0m \u001b[0mself\u001b[0m\u001b[0;34m.\u001b[0m\u001b[0msplit\u001b[0m\u001b[0;34m(\u001b[0m\u001b[0mX\u001b[0m\u001b[0;34m,\u001b[0m\u001b[0mY\u001b[0m\u001b[0;34m)\u001b[0m\u001b[0;34m\u001b[0m\u001b[0m\n\u001b[1;32m     25\u001b[0m         \u001b[0mdX\u001b[0m\u001b[0;34m,\u001b[0m\u001b[0mdY\u001b[0m \u001b[0;34m=\u001b[0m \u001b[0moutput_storage\u001b[0m\u001b[0;34m[\u001b[0m\u001b[0;36m0\u001b[0m\u001b[0;34m]\u001b[0m\u001b[0;34m,\u001b[0m\u001b[0moutput_storage\u001b[0m\u001b[0;34m[\u001b[0m\u001b[0;36m1\u001b[0m\u001b[0;34m]\u001b[0m\u001b[0;34m\u001b[0m\u001b[0m\n\u001b[0;32m---> 26\u001b[0;31m         \u001b[0mfdx\u001b[0m\u001b[0;34m,\u001b[0m\u001b[0mfdyp\u001b[0m\u001b[0;34m,\u001b[0m\u001b[0mfdyn\u001b[0m \u001b[0;34m=\u001b[0m \u001b[0mself\u001b[0m\u001b[0;34m.\u001b[0m\u001b[0mgaussLLHistModel\u001b[0m\u001b[0;34m.\u001b[0m\u001b[0mbackward\u001b[0m\u001b[0;34m(\u001b[0m\u001b[0mx\u001b[0m\u001b[0;34m,\u001b[0m\u001b[0myp\u001b[0m\u001b[0;34m,\u001b[0m\u001b[0myn\u001b[0m\u001b[0;34m)\u001b[0m\u001b[0;34m\u001b[0m\u001b[0m\n\u001b[0m\u001b[1;32m     27\u001b[0m         \u001b[0mdY\u001b[0m\u001b[0;34m[\u001b[0m\u001b[0;36m0\u001b[0m\u001b[0;34m]\u001b[0m \u001b[0;34m=\u001b[0m \u001b[0mnp\u001b[0m\u001b[0;34m.\u001b[0m\u001b[0mzeros_like\u001b[0m\u001b[0;34m(\u001b[0m\u001b[0mY\u001b[0m\u001b[0;34m,\u001b[0m\u001b[0mdtype\u001b[0m\u001b[0;34m=\u001b[0m\u001b[0mnp\u001b[0m\u001b[0;34m.\u001b[0m\u001b[0mfloat32\u001b[0m\u001b[0;34m)\u001b[0m\u001b[0;34m\u001b[0m\u001b[0m\n\u001b[1;32m     28\u001b[0m         \u001b[0mdX\u001b[0m\u001b[0;34m[\u001b[0m\u001b[0;36m0\u001b[0m\u001b[0;34m]\u001b[0m \u001b[0;34m=\u001b[0m \u001b[0mself\u001b[0m\u001b[0;34m.\u001b[0m\u001b[0mmerge\u001b[0m\u001b[0;34m(\u001b[0m\u001b[0mfdx\u001b[0m\u001b[0;34m,\u001b[0m\u001b[0mfdyp\u001b[0m\u001b[0;34m,\u001b[0m\u001b[0mfdyn\u001b[0m\u001b[0;34m,\u001b[0m\u001b[0mY\u001b[0m\u001b[0;34m)\u001b[0m\u001b[0;34m\u001b[0m\u001b[0m\n",
      "\u001b[0;32m/media/vaulin/FC361E52361E0E70/Projects/movements/gmm_seg/gauss_ll_hist.pyc\u001b[0m in \u001b[0;36mbackward\u001b[0;34m(self, X, Yp, Yn)\u001b[0m\n\u001b[1;32m    170\u001b[0m         \u001b[0;32mif\u001b[0m\u001b[0;34m(\u001b[0m\u001b[0;32mnot\u001b[0m \u001b[0mpass_foward\u001b[0m\u001b[0;34m)\u001b[0m\u001b[0;34m:\u001b[0m\u001b[0;34m\u001b[0m\u001b[0m\n\u001b[1;32m    171\u001b[0m             \u001b[0mself\u001b[0m\u001b[0;34m.\u001b[0m\u001b[0mforward\u001b[0m\u001b[0;34m(\u001b[0m\u001b[0mX\u001b[0m\u001b[0;34m,\u001b[0m\u001b[0mYp\u001b[0m\u001b[0;34m,\u001b[0m\u001b[0mYn\u001b[0m\u001b[0;34m)\u001b[0m\u001b[0;34m\u001b[0m\u001b[0m\n\u001b[0;32m--> 172\u001b[0;31m         \u001b[0mdYp\u001b[0m\u001b[0;34m,\u001b[0m\u001b[0mdYn\u001b[0m\u001b[0;34m,\u001b[0m\u001b[0mdX\u001b[0m \u001b[0;34m=\u001b[0m \u001b[0mself\u001b[0m\u001b[0;34m.\u001b[0m\u001b[0mcalc_gmm_probs_dif\u001b[0m\u001b[0;34m(\u001b[0m\u001b[0mself\u001b[0m\u001b[0;34m.\u001b[0m\u001b[0mX\u001b[0m\u001b[0;34m,\u001b[0m\u001b[0mself\u001b[0m\u001b[0;34m.\u001b[0m\u001b[0mYp\u001b[0m\u001b[0;34m,\u001b[0m\u001b[0mself\u001b[0m\u001b[0;34m.\u001b[0m\u001b[0mYn\u001b[0m\u001b[0;34m,\u001b[0m\u001b[0mself\u001b[0m\u001b[0;34m.\u001b[0m\u001b[0mmean\u001b[0m\u001b[0;34m,\u001b[0m\u001b[0mself\u001b[0m\u001b[0;34m.\u001b[0m\u001b[0mcov\u001b[0m\u001b[0;34m,\u001b[0m\u001b[0mself\u001b[0m\u001b[0;34m.\u001b[0m\u001b[0mweights\u001b[0m\u001b[0;34m)\u001b[0m\u001b[0;34m\u001b[0m\u001b[0m\n\u001b[0m\u001b[1;32m    173\u001b[0m         \u001b[0;32mreturn\u001b[0m \u001b[0mdX\u001b[0m\u001b[0;34m.\u001b[0m\u001b[0mreshape\u001b[0m\u001b[0;34m(\u001b[0m\u001b[0mself\u001b[0m\u001b[0;34m.\u001b[0m\u001b[0mX\u001b[0m\u001b[0;34m.\u001b[0m\u001b[0mshape\u001b[0m\u001b[0;34m)\u001b[0m\u001b[0;34m,\u001b[0m\u001b[0mdYp\u001b[0m\u001b[0;34m,\u001b[0m\u001b[0mdYn\u001b[0m\u001b[0;34m\u001b[0m\u001b[0m\n\u001b[1;32m    174\u001b[0m \u001b[0;34m\u001b[0m\u001b[0m\n",
      "\u001b[0;32m/media/vaulin/FC361E52361E0E70/Projects/movements/gmm_seg/gauss_ll_hist.pyc\u001b[0m in \u001b[0;36mcalc_gmm_probs_dif\u001b[0;34m(self, X, Yp, Yn, meansvec, covarsvec, weights)\u001b[0m\n\u001b[1;32m    324\u001b[0m         \u001b[0;31m# covarsvec = np.reshape(covars, np.prod(covars.shape))\u001b[0m\u001b[0;34m\u001b[0m\u001b[0;34m\u001b[0m\u001b[0m\n\u001b[1;32m    325\u001b[0m \u001b[0;34m\u001b[0m\u001b[0m\n\u001b[0;32m--> 326\u001b[0;31m         \u001b[0mdX\u001b[0m \u001b[0;34m=\u001b[0m \u001b[0msolve_lin_sys_for_gmm\u001b[0m\u001b[0;34m(\u001b[0m\u001b[0mXvec\u001b[0m\u001b[0;34m,\u001b[0m \u001b[0mmeansvec\u001b[0m\u001b[0;34m,\u001b[0m \u001b[0mcovarsvec\u001b[0m\u001b[0;34m,\u001b[0m \u001b[0mweights\u001b[0m\u001b[0;34m,\u001b[0m\u001b[0mself\u001b[0m\u001b[0;34m.\u001b[0m\u001b[0mgmm_hm\u001b[0m\u001b[0;34m,\u001b[0m\u001b[0mself\u001b[0m\u001b[0;34m.\u001b[0m\u001b[0mgmm_hc\u001b[0m\u001b[0;34m,\u001b[0m\u001b[0mself\u001b[0m\u001b[0;34m.\u001b[0m\u001b[0mgmm_hw\u001b[0m\u001b[0;34m,\u001b[0m\u001b[0mself\u001b[0m\u001b[0;34m.\u001b[0m\u001b[0mreg_coef\u001b[0m\u001b[0;34m)\u001b[0m\u001b[0;34m\u001b[0m\u001b[0m\n\u001b[0m\u001b[1;32m    327\u001b[0m \u001b[0;34m\u001b[0m\u001b[0m\n\u001b[1;32m    328\u001b[0m         \u001b[0mdf\u001b[0m \u001b[0;34m=\u001b[0m \u001b[0mself\u001b[0m\u001b[0;34m.\u001b[0m\u001b[0mgmmhist_df\u001b[0m\u001b[0;34m(\u001b[0m\u001b[0mmeansvec\u001b[0m\u001b[0;34m,\u001b[0m \u001b[0mcovarsvec\u001b[0m\u001b[0;34m,\u001b[0m \u001b[0mweights\u001b[0m\u001b[0;34m,\u001b[0m \u001b[0mYp\u001b[0m\u001b[0;34m,\u001b[0m \u001b[0mYn\u001b[0m\u001b[0;34m)\u001b[0m\u001b[0;34m\u001b[0m\u001b[0m\n",
      "\u001b[0;32m/usr/local/lib/python2.7/dist-packages/numpy/lib/twodim_base.pyc\u001b[0m in \u001b[0;36mdiag\u001b[0;34m(v, k)\u001b[0m\n\u001b[1;32m    189\u001b[0m \u001b[0;34m\u001b[0m\u001b[0m\n\u001b[1;32m    190\u001b[0m \u001b[0;34m\u001b[0m\u001b[0m\n\u001b[0;32m--> 191\u001b[0;31m \u001b[0;32mdef\u001b[0m \u001b[0mdiag\u001b[0m\u001b[0;34m(\u001b[0m\u001b[0mv\u001b[0m\u001b[0;34m,\u001b[0m \u001b[0mk\u001b[0m\u001b[0;34m=\u001b[0m\u001b[0;36m0\u001b[0m\u001b[0;34m)\u001b[0m\u001b[0;34m:\u001b[0m\u001b[0;34m\u001b[0m\u001b[0m\n\u001b[0m\u001b[1;32m    192\u001b[0m     \"\"\"\n\u001b[1;32m    193\u001b[0m     \u001b[0mExtract\u001b[0m \u001b[0ma\u001b[0m \u001b[0mdiagonal\u001b[0m \u001b[0;32mor\u001b[0m \u001b[0mconstruct\u001b[0m \u001b[0ma\u001b[0m \u001b[0mdiagonal\u001b[0m \u001b[0marray\u001b[0m\u001b[0;34m.\u001b[0m\u001b[0;34m\u001b[0m\u001b[0m\n",
      "\u001b[0;31mKeyboardInterrupt\u001b[0m: "
     ]
    }
   ],
   "source": [
    "\n",
    "\n",
    "for j in range(5,cfg.TRAIN.EPOCH_NUM):\n",
    "    train_loss=0\n",
    "    train_acc=0\n",
    "    for i,batch in enumerate(data_generator(gmm_loader,epoch_size=100)):\n",
    "#             batch[0][:int(len(batch[0])*0.7)] = 0.\n",
    "#             batch[0][int(len(batch[0])*0.7):] = 255.\n",
    "#             batch[1][:int(len(batch[0])*0.7)] = 0.\n",
    "#             batch[1][int(len(batch[0])*0.7):] = 1.\n",
    "        #batch[1][(batch[1] > 0.1 )&(batch[1] < 0.9)] = 0.\n",
    "        res = train_fn(*batch)\n",
    "        train_loss+=res[0]\n",
    "        #acc,disp = center_accuracy(res[1],batch[1].flatten())\n",
    "        #train_acc+=acc\n",
    "        print '\\r epoch %i batch %i loss=%.2f , %.2f'%(j,i,train_loss/float(i+1),res[0]),\n",
    "    print ''\n",
    "    save_weights(net,'models/%s%03i_loss%05.2f'%\\\n",
    "                 (cfg.NAME,j,train_loss/float(i+1)))\n",
    "#     print ''\n",
    "#     for i,batch in enumerate(data_generator(gmm_loader,epoch_size=10)):\n",
    "#         res = test_fn(*batch)\n",
    "#         train_acc+=res[0]\n",
    "#     print 'accuracy ',res[0]/10"
   ]
  },
  {
   "cell_type": "code",
   "execution_count": 66,
   "metadata": {
    "collapsed": false
   },
   "outputs": [
    {
     "name": "stdout",
     "output_type": "stream",
     "text": [
      " test_fn compiled\n"
     ]
    }
   ],
   "source": [
    "\n",
    "accyracy = GMMAccuracyOp()(X,Y)\n",
    "test_fn  = theano.function([data, label],[accyracy,X], allow_input_downcast=True)\n",
    "print 'test_fn compiled'"
   ]
  },
  {
   "cell_type": "markdown",
   "metadata": {},
   "source": [
    "# Draw Histogram"
   ]
  },
  {
   "cell_type": "code",
   "execution_count": 84,
   "metadata": {
    "collapsed": false
   },
   "outputs": [
    {
     "data": {
      "image/png": "[encoded data removed]",
      "text/plain": [
       "<matplotlib.figure.Figure at 0x7fc83dd17190>"
      ]
     },
     "metadata": {},
     "output_type": "display_data"
    }
   ],
   "source": [
    "     \n",
    "def gmm_prob(Y,means,covars,weights):\n",
    "    d = Y.shape[1]\n",
    "    prob = (-.5*d*np.log(2*np.pi)-.5*np.log(covars).sum(1))[None,:]\\\n",
    "            -0.5*((Y[:,None,:]-means[None,])**2/covars[None,:,:]).sum(2)\\\n",
    "            +np.log(weights)[None,:]\n",
    "    return np.exp(prob).sum(1)\n",
    "\n",
    "def split(X,Y):\n",
    "    p = X[Y < 0.1]\n",
    "    n = X[Y > 0.9]\n",
    "    return p[:len(p)/2],p[:len(p)/2],n\n",
    "\n",
    "def build_gmm(X, gm_num):\n",
    "    gmm = mixture.GaussianMixture(covariance_type='diag',n_components=gm_num, max_iter=10000)\n",
    "    gmm.fit(X)\n",
    "    return np.copy(gmm.means_), np.copy(gmm.covariances_), np.copy(gmm.weights_)\n",
    "\n",
    "\n",
    "def build_hist(X,Y,gm_num):\n",
    "    x,yp,yn = split(X,Y)\n",
    "    model = build_gmm(x,gm_num)\n",
    "    p = gmm_prob(yp,*model)\n",
    "    n = gmm_prob(yn,*model)\n",
    "    plt.hist(p,bins=40,label='positive')\n",
    "    plt.hist(n,bins=40,label='negative')\n",
    "    plt.legend()\n",
    "    plt.show()\n",
    "    \n",
    "for i,batch in enumerate(data_generator(gmm_loader,epoch_size=10)):\n",
    "    res = train_fn(*batch)\n",
    "    build_hist(res[1],batch[1].flatten(),2)\n",
    "    break"
   ]
  },
  {
   "cell_type": "code",
   "execution_count": null,
   "metadata": {
    "collapsed": true
   },
   "outputs": [],
   "source": [
    "         \n",
    "def load_weights(network,name ):\n",
    "    f = np.load(name+\".npz\")\n",
    "    params = [f[\"param%d\" % i] for i in range(len(f.files))]\n",
    "    f.close()\n",
    "    L.set_all_param_values(network,params)\n"
   ]
  },
  {
   "cell_type": "code",
   "execution_count": null,
   "metadata": {
    "collapsed": true
   },
   "outputs": [],
   "source": []
  }
 ],
 "metadata": {
  "anaconda-cloud": {},
  "kernelspec": {
   "display_name": "Python 2",
   "language": "python",
   "name": "python2"
  },
  "language_info": {
   "codemirror_mode": {
    "name": "ipython",
    "version": 2
   },
   "file_extension": ".py",
   "mimetype": "text/x-python",
   "name": "python",
   "nbconvert_exporter": "python",
   "pygments_lexer": "ipython2",
   "version": "2.7.12"
  }
 },
 "nbformat": 4,
 "nbformat_minor": 2
}
