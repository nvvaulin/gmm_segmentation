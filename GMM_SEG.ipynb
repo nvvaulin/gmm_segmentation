{
 "cells": [
  {
   "cell_type": "code",
   "execution_count": null,
   "metadata": {
    "collapsed": false
   },
   "outputs": [
    {
     "name": "stderr",
     "output_type": "stream",
     "text": [
      "/usr/local/lib/python2.7/dist-packages/theano/gpuarray/dnn.py:135: UserWarning: Your cuDNN version is more recent than Theano. If you encounter problems, try updating Theano or downgrading cuDNN to version 5.1.\n",
      "  warnings.warn(\"Your cuDNN version is more recent than \"\n"
     ]
    }
   ],
   "source": [
    "import theano\n",
    "import theano.tensor as T\n",
    "import numpy as np\n",
    "import cv2\n",
    "import sys\n",
    "from loader import TieLoader"
   ]
  },
  {
   "cell_type": "code",
   "execution_count": 3,
   "metadata": {
    "collapsed": false
   },
   "outputs": [],
   "source": [
    "from easydict import EasyDict\n",
    "cfg = EasyDict()\n",
    "cfg.SEQ_LENGTH = 250\n",
    "cfg.TILE_SIZE = 9\n",
    "cfg.OUT_SIZE = 1\n",
    "cfg.gm_num = 4\n",
    "cfg.ndim = 12\n",
    "cfg.NAME_PREFIX = ''\n",
    "cfg.NETWORK = 'conv4_net_dense'\n",
    "cfg.NAME=cfg.NAME_PREFIX+cfg.NETWORK+'%d'%(cfg.ndim)\n",
    "\n",
    "cfg.TRAIN = EasyDict()\n",
    "cfg.TRAIN.EPOCH = 0\n",
    "cfg.TRAIN.TRIN_EPOCH_SIZE = 1500\n",
    "cfg.TRAIN.TEST_EPOCH_SIZE = 750\n",
    "cfg.TRAIN.EPOCH_NUM = 20\n",
    "\n",
    "cfg.DATASET = EasyDict()\n",
    "cfg.DATASET.TRAIN_MINR = 0.2\n",
    "cfg.DATASET.TRAIN_MAXR = 0.3\n",
    "cfg.DATASET.TEST_MINR = 0.2\n",
    "cfg.DATASET.TEST_MAXR = 0.3\n",
    "cfg.DATASET.T_SIZE = 32\n",
    "cfg.DATASET.CASHE_SAMPLES = True"
   ]
  },
  {
   "cell_type": "code",
   "execution_count": 3,
   "metadata": {
    "collapsed": false
   },
   "outputs": [],
   "source": [
    "\n",
    "train_loader = TieLoader('data/train_ties%d'%cfg.DATASET.T_SIZE,\n",
    "                         cfg.DATASET.TRAIN_MINR,\n",
    "                         cfg.DATASET.TRAIN_MAXR,\n",
    "                         t_size=cfg.DATASET.T_SIZE,\n",
    "                         mask_size=cfg.OUT_SIZE,\n",
    "                         sample_size=cfg.TILE_SIZE,\n",
    "                         cache_samples=cfg.DATASET.CASHE_SAMPLES)\n",
    "test_loader = TieLoader('data/test_ties%d'%cfg.DATASET.T_SIZE,\n",
    "                        cfg.DATASET.TEST_MINR,\n",
    "                        cfg.DATASET.TEST_MAXR,\n",
    "                        t_size=cfg.DATASET.T_SIZE,\n",
    "                        mask_size=cfg.OUT_SIZE,\n",
    "                        sample_size=cfg.TILE_SIZE,\n",
    "                        cache_samples=cfg.DATASET.CASHE_SAMPLES)"
   ]
  },
  {
   "cell_type": "code",
   "execution_count": 4,
   "metadata": {
    "collapsed": false
   },
   "outputs": [
    {
     "name": "stdout",
     "output_type": "stream",
     "text": [
      "(256, 3, 9, 9)\n",
      "193.0 42.0\n"
     ]
    },
    {
     "data": {
      "image/png": "[encoded data removed]",
      "text/plain": [
       "<matplotlib.figure.Figure at 0x7fa5711c2d90>"
      ]
     },
     "metadata": {},
     "output_type": "display_data"
    }
   ],
   "source": [
    "from dataset_tools import draw\n",
    "from loader import data_generator\n",
    "import matplotlib.pyplot as plt\n",
    "%matplotlib inline\n",
    "for x,y in data_generator(test_loader,epoch_size=1,shuffle=False):\n",
    "    print x.shape\n",
    "    print np.ones_like(y)[y<0.1].sum(),np.ones_like(y)[y>0.9].sum()\n",
    "    x = np.transpose(x,(0,2,3,1)).astype(np.uint8)\n",
    "    y = (y*255.).astype(np.uint8)\n",
    "    _y = np.zeros(x.shape[:3],dtype=np.uint8)\n",
    "    \n",
    "    _y[:] = y[:,0,0][:,None,None]\n",
    "    draw(x,_y)"
   ]
  },
  {
   "cell_type": "markdown",
   "metadata": {},
   "source": [
    "# Build model"
   ]
  },
  {
   "cell_type": "code",
   "execution_count": 5,
   "metadata": {
    "collapsed": false
   },
   "outputs": [
    {
     "name": "stdout",
     "output_type": "stream",
     "text": [
      "load finction conv4_net_dense\n",
      "load model models/conv4_net_dense12000\n",
      "\n",
      "In -->     Layer    --> Out    Description                 \n",
      "-------    -----    -------    -----------                 \n",
      "[]         0        [1]        data(None, 3, 9, 9)         \n",
      "[0]        1        [2]        conv_1(None, 6, 9, 9)       \n",
      "[1]        2        [3]        bn_1(None, 6, 9, 9)         \n",
      "[2]        3        [4]        relu_1(None, 6, 9, 9)       \n",
      "[3]        4        [5]        conv_2(None, 12, 9, 9)      \n",
      "[4]        5        [6]        bn_2(None, 12, 9, 9)        \n",
      "[5]        6        [7]        relu_2(None, 12, 9, 9)      \n",
      "[6]        7        [8]        conv_3(None, 24, 9, 9)      \n",
      "[7]        8        [9]        bn_3(None, 24, 9, 9)        \n",
      "[8]        9        [10]       relu_3(None, 24, 9, 9)      \n",
      "[9]        10       [11]       conv_4(None, 11, 9, 9)      \n",
      "[10]       11       [12]       transpose(None, 9, 9, 11)   \n",
      "[11]       12       [13]       l2norm(None, 9, 9, 12)      \n",
      "[12]       13       []         normed_dense(None, 9, 9, 12)\n"
     ]
    }
   ],
   "source": [
    "from lasagne import layers as L\n",
    "from lasagne.nonlinearities import rectify,softmax\n",
    "from utils import NormedDense,L2NormLayer\n",
    "from utils import get_network_str,load_weights\n",
    "import lasagne\n",
    "import denseNet\n",
    "import uNet\n",
    "from networks import make_FCN\n",
    "\n",
    "data = T.tensor4(name='data')\n",
    "label = T.tensor3(name='label')\n",
    "net = make_FCN(cfg.NETWORK,data,\n",
    "               ndim=cfg.ndim,\n",
    "               model_name='%s%03d'%(cfg.NAME,cfg.TRAIN.EPOCH) if cfg.TRAIN.EPOCH > 0 else '',\n",
    "               input_shape = (None,3,cfg.TILE_SIZE,cfg.TILE_SIZE),\n",
    "               pad = 'same')"
   ]
  },
  {
   "cell_type": "markdown",
   "metadata": {},
   "source": [
    "# Train"
   ]
  },
  {
   "cell_type": "code",
   "execution_count": 7,
   "metadata": {
    "collapsed": false
   },
   "outputs": [
    {
     "name": "stdout",
     "output_type": "stream",
     "text": [
      "train_fn compiled\n",
      "test_fn compiled\n"
     ]
    }
   ],
   "source": [
    "from gmm_op import get_gmm,calc_log_prob_gmm\n",
    "from theano_utils import split,histogram_loss,split_tr_p_n\n",
    "\n",
    "\n",
    "def make_classifier(X,label,non_learn_params):\n",
    "    X = X.reshape((-1,X.shape[-1]))\n",
    "    x_tr,x_p,x_n = split_tr_p_n(X,label.flatten())\n",
    "    m,c,w = get_gmm(x_tr,\n",
    "                    gm_num = non_learn_params['gm_num'],\n",
    "                    ndims = non_learn_params['ndim'],\n",
    "                    use_approx_grad=non_learn_params['use_approx_grad'])\n",
    "    p_n = calc_log_prob_gmm(x_n,m,c,w)\n",
    "    p_p = calc_log_prob_gmm(x_p,m,c,w)\n",
    "    loss = histogram_loss(p_n,p_p,\n",
    "                          non_learn_params['min_cov'],\n",
    "                          non_learn_params['histogram_bins'],\n",
    "                          non_learn_params['width'])[0]\n",
    "    prediction = T.nnet.sigmoid(T.concatenate([p_p,p_n],axis=0))\n",
    "    Y = T.concatenate([T.ones_like(p_p),T.zeros_like(p_n)],axis=0)\n",
    "    return loss,X,Y,prediction,m,c,w,p_p,p_n\n",
    "\n",
    "def make_train(net,data,label,non_learn_params):\n",
    "    sym = L.get_output(net ,deterministic=False)\n",
    "    s = int((L.get_output_shape(net)[1]-1)/2)\n",
    "    sym = sym[:,s:s+1,s:s+1,:]\n",
    "    loss,X,Y,prediction,m,c,w,p_p,p_n = make_classifier(sym,label,non_learn_params)\n",
    "    params = L.get_all_params(net,trainable=True)\n",
    "    grads = T.grad(loss,params)\n",
    "    if( 'total_grad_constraint' in non_learn_params.keys()):\n",
    "        grads = lasagne.updates.total_norm_constraint(grads,non_learn_params['total_grad_constraint'])\n",
    "    updates = lasagne.updates.adam(grads,params,non_learn_params['lr'])\n",
    "    return theano.function([data, label], [loss,X,Y,prediction,m,c,w,p_n,p_p],\\\n",
    "                               allow_input_downcast=True, updates=updates)\n",
    "\n",
    "\n",
    "def make_test(net,data,label,non_learn_params):\n",
    "    sym = L.get_output(net ,deterministic=True)\n",
    "    s = int((L.get_output_shape(net)[1]-1)/2)\n",
    "    sym = sym[:,s:s+1,s:s+1]\n",
    "    loss,X,Y,prediction,m,c,w,p_p,p_n = make_classifier(sym,label,non_learn_params)\n",
    "    return theano.function([data, label], [loss,X,Y,prediction,m,c,w,p_n,p_p],\\\n",
    "                               allow_input_downcast=True)\n",
    "        \n",
    "\n",
    "non_learn_params={'min_cov' : theano.shared(1e-3),\n",
    "                  'lr' : theano.shared(np.array(1e-2, dtype=theano.config.floatX)),\n",
    "                  'width': theano.shared(4.),\n",
    "                  'total_grad_constraint': 10,\n",
    "                  'histogram_bins' : 100,\n",
    "                  'use_approx_grad' : True,\n",
    "                  'ndim' : cfg.ndim,\n",
    "                  'gm_num' : cfg.gm_num}\n",
    "\n",
    "train_fn = make_train(net,data,label,non_learn_params)\n",
    "print 'train_fn compiled'\n",
    "test_fn = make_test(net,data,label,non_learn_params)\n",
    "print 'test_fn compiled'"
   ]
  },
  {
   "cell_type": "code",
   "execution_count": null,
   "metadata": {
    "collapsed": false
   },
   "outputs": [
    {
     "name": "stdout",
     "output_type": "stream",
     "text": [
      "checkpoint models/conv4_net_dense12000.npz\n",
      "train\n",
      " epoch 0 batch 1499 loss=486.75 l=0.00 aps=0.982     \n",
      "checkpoint models/conv4_net_dense12000.npz\n",
      "test\n"
     ]
    }
   ],
   "source": [
    "from sklearn.metrics import average_precision_score\n",
    "import datetime\n",
    "from utils import get_pp_pn\n",
    "import os\n",
    "from train_tools import fit\n",
    "from test_tools import test_network\n",
    "\n",
    "metrix = { 'aps' : average_precision_score}\n",
    "\n",
    "def update_params(epoch,params):\n",
    "    if(epoch == 0):\n",
    "        params['min_cov'].set_value(1e-4)\n",
    "        params['lr'].set_value(5e-2)\n",
    "    if(epoch == 4):\n",
    "        params['min_cov'].set_value(1e-8)\n",
    "        params['lr'].set_value(5e-3)\n",
    "    if(epoch == 10):\n",
    "        params['lr'].set_value(1e-3)\n",
    "        \n",
    "fout = open(\"out.txt\",'a')\n",
    "fout.write('################### train network '+cfg.NAME+ ' ' + str(datetime.datetime.now())+'################\\n')    \n",
    "fout.write(str(cfg))\n",
    "fit(cfg.NAME,net,train_fn,test_fn,train_loader,test_loader,non_learn_params,\n",
    "    update_params=update_params,\n",
    "    metrix = metrix,\n",
    "    logger=fout,\n",
    "    train_esize = 1500,\n",
    "    test_esize = 750,\n",
    "    epochs=cfg.TRAIN.EPOCH_NUM-cfg.TRAIN.EPOCH)\n",
    "\n",
    "test_network(cfg.NAME,FCN,cfg.ndim,cfg.TRAIN.EPOCH_NUM-1,cfg.gm_num)\n",
    "fout.write('################### done #######################\\n')    "
   ]
  },
  {
   "cell_type": "code",
   "execution_count": 8,
   "metadata": {
    "collapsed": false
   },
   "outputs": [
    {
     "data": {
      "image/png": "[encoded data removed]",
      "text/plain": [
       "<matplotlib.figure.Figure at 0x7fe657329a10>"
      ]
     },
     "metadata": {},
     "output_type": "display_data"
    },
    {
     "data": {
      "image/png": "[encoded data removed]",
      "text/plain": [
       "<matplotlib.figure.Figure at 0x7fe65b45f6d0>"
      ]
     },
     "metadata": {},
     "output_type": "display_data"
    }
   ],
   "source": [
    "for i,batch in enumerate(data_generator(test_loader,epoch_size=100,shuffle=False)):\n",
    "    res = test_fn(*batch)\n",
    "    if(i == 0):\n",
    "        p =res[-1]\n",
    "        n = res[-2]\n",
    "    p = np.concatenate((p,res[-1]))\n",
    "    n = np.concatenate((n,res[-2]))\n",
    "plt.hist(np.clip(res[-1],-10,100),100,normed=True,label='positive')\n",
    "plt.hist(np.clip(res[-2],-10,100),100,normed=True,label='negative')\n",
    "plt.legend()\n",
    "plt.show()  \n",
    "plt.hist(np.clip(p,-20,100),100,normed=True,label='positive')\n",
    "plt.hist(np.clip(n,-20,100),100,normed=True,label='negative')\n",
    "plt.legend()\n",
    "plt.show()"
   ]
  },
  {
   "cell_type": "code",
   "execution_count": 28,
   "metadata": {
    "collapsed": false
   },
   "outputs": [
    {
     "data": {
      "text/plain": [
       "{'EPOCH': 0, 'EPOCH_NUM': 20, 'TEST_EPOCH_SIZE': 750, 'TRIN_EPOCH_SIZE': 1500}"
      ]
     },
     "execution_count": 28,
     "metadata": {},
     "output_type": "execute_result"
    }
   ],
   "source": [
    "cfg['TRAIN']"
   ]
  },
  {
   "cell_type": "code",
   "execution_count": 29,
   "metadata": {
    "collapsed": true
   },
   "outputs": [],
   "source": [
    "import argparse\n",
    "parser = argparse.ArgumentParser(description='Train gmm segmentation network')"
   ]
  },
  {
   "cell_type": "code",
   "execution_count": 33,
   "metadata": {
    "collapsed": false
   },
   "outputs": [
    {
     "data": {
      "text/plain": [
       "(['ndim',\n",
       "  'NETWORK',\n",
       "  'SEQ_LENGTH',\n",
       "  'DATASET.TEST_MINR',\n",
       "  'DATASET.CASHE_SAMPLES',\n",
       "  'DATASET.TRAIN_MAXR',\n",
       "  'DATASET.TRAIN_MINR',\n",
       "  'DATASET.T_SIZE',\n",
       "  'DATASET.TEST_MAXR',\n",
       "  'TRAIN.EPOCH',\n",
       "  'TRAIN.EPOCH_NUM',\n",
       "  'TRAIN.TRIN_EPOCH_SIZE',\n",
       "  'TRAIN.TEST_EPOCH_SIZE',\n",
       "  'gm_num',\n",
       "  'OUT_SIZE',\n",
       "  'TILE_SIZE',\n",
       "  'NAME_PREFIX',\n",
       "  'NAME'],\n",
       " [True,\n",
       "  True,\n",
       "  True,\n",
       "  True,\n",
       "  True,\n",
       "  True,\n",
       "  True,\n",
       "  True,\n",
       "  True,\n",
       "  True,\n",
       "  True,\n",
       "  True,\n",
       "  True,\n",
       "  True,\n",
       "  True,\n",
       "  True,\n",
       "  True,\n",
       "  True],\n",
       " [12,\n",
       "  'conv4_net_dense',\n",
       "  250,\n",
       "  0.2,\n",
       "  True,\n",
       "  0.3,\n",
       "  0.2,\n",
       "  32,\n",
       "  0.3,\n",
       "  0,\n",
       "  20,\n",
       "  1500,\n",
       "  750,\n",
       "  4,\n",
       "  1,\n",
       "  9,\n",
       "  '',\n",
       "  'conv4_net_dense12'])"
      ]
     },
     "execution_count": 33,
     "metadata": {},
     "output_type": "execute_result"
    }
   ],
   "source": [
    "\n",
    "# def iter_all_keys_in_dict(prefix,d):\n",
    "#     names = []\n",
    "#     optional = []\n",
    "#     default = []\n",
    "#     for k in d.keys():\n",
    "#         try:\n",
    "#             d[k].keys()\n",
    "#             n,o,dflt = iter_all_keys_in_dict((prefix+'_' if( len(prefix) > 0) else '')+k,d[k])\n",
    "#             names = names+n\n",
    "#             optional = optional+o\n",
    "#             default = default+dflt\n",
    "#         except:\n",
    "#             names.append((prefix+'.' if( len(prefix) > 0) else '')+k)\n",
    "#             optional.append(not (d[k] is None))\n",
    "#             default.append(d[k])\n",
    "            \n",
    "#     return names,optional,default\n",
    "        \n",
    "\n",
    "# parser = argparse.ArgumentParser(description='Train gmm segmentation network')\n",
    "# for name,optional,default in zip(iter_all_keys_in_dict('',cfg)):\n",
    "#     parser.add_argument('--'+name.lower(), type = type(default),default=default,optional=optional)\n",
    "\n",
    "\n",
    "# args = parser.parse_args()"
   ]
  },
  {
   "cell_type": "code",
   "execution_count": null,
   "metadata": {
    "collapsed": true
   },
   "outputs": [],
   "source": []
  }
 ],
 "metadata": {
  "anaconda-cloud": {},
  "kernelspec": {
   "display_name": "Python 2",
   "language": "python",
   "name": "python2"
  },
  "language_info": {
   "codemirror_mode": {
    "name": "ipython",
    "version": 2
   },
   "file_extension": ".py",
   "mimetype": "text/x-python",
   "name": "python",
   "nbconvert_exporter": "python",
   "pygments_lexer": "ipython2",
   "version": "2.7.12"
  }
 },
 "nbformat": 4,
 "nbformat_minor": 2
}
