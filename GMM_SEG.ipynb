{
 "cells": [
  {
   "cell_type": "code",
   "execution_count": 1,
   "metadata": {
    "collapsed": false
   },
   "outputs": [],
   "source": [
    "import matplotlib.pyplot as plt\n",
    "%matplotlib inline\n",
    "import numpy as np\n",
    "import cv2"
   ]
  },
  {
   "cell_type": "code",
   "execution_count": 2,
   "metadata": {
    "collapsed": false
   },
   "outputs": [],
   "source": [
    "from config import cfg\n",
    "cfg.SEQ_LENGTH = 128\n",
    "cfg.TILE_SIZE = (28,28)\n",
    "cfg.OUT_SIZE = (4,4)\n",
    "cfg.TRAIN.BATCH_SIZE = 1\n",
    "cfg.TRAIN.EPOCH_SIZE = 1000\n",
    "cfg.NAME = 'gmm'\n",
    "cfg.TRAIN.EPOCH = 0\n",
    "cfg.TRAIN.EPOCH_NUM = 1000\n",
    "cfg.gm_num = 4\n",
    "cfg.ndim = 24"
   ]
  },
  {
   "cell_type": "code",
   "execution_count": 3,
   "metadata": {
    "collapsed": false
   },
   "outputs": [],
   "source": [
    "from loader import TieLoader,GMMDataLoader,draw_sample\n",
    "gmm_loader = GMMDataLoader(TieLoader('/media/data/Programming/motion_segmentation/gmm_segmentation/ties256',\n",
    "                                    cols=16,rows=16,t_size=48),\\\n",
    "                           cfg.TILE_SIZE,cfg.OUT_SIZE,cfg.SEQ_LENGTH,min_r=0.4,max_r=0.5)"
   ]
  },
  {
   "cell_type": "code",
   "execution_count": 4,
   "metadata": {
    "collapsed": false
   },
   "outputs": [
    {
     "name": "stdout",
     "output_type": "stream",
     "text": [
      "(128, 3, 28, 28)\n"
     ]
    },
    {
     "data": {
      "image/png": "[encoded data removed]",
      "text/plain": [
       "<matplotlib.figure.Figure at 0x7f2e3967dbd0>"
      ]
     },
     "metadata": {},
     "output_type": "display_data"
    }
   ],
   "source": [
    "def data_generator(gmm_loader,batch_size = cfg.TRAIN.BATCH_SIZE,\n",
    "                   tile_size = cfg.TILE_SIZE,\n",
    "                   epoch_size = cfg.TRAIN.EPOCH_SIZE):\n",
    "    iter = 0\n",
    "    for i in range(epoch_size):        \n",
    "        yield gmm_loader.load_random()\n",
    "        \n",
    "for x,y in data_generator(gmm_loader,1,epoch_size=1):\n",
    "    print x.shape\n",
    "    draw_sample(x,y,8,cfg.SEQ_LENGTH//8)\n",
    "    break"
   ]
  },
  {
   "cell_type": "code",
   "execution_count": 5,
   "metadata": {
    "collapsed": false
   },
   "outputs": [
    {
     "name": "stderr",
     "output_type": "stream",
     "text": [
      "Using cuDNN version 5105 on context None\n",
      "Mapped name None to device cuda: GeForce GT 740M (0000:01:00.0)\n"
     ]
    }
   ],
   "source": [
    "import theano\n",
    "import theano.tensor as T\n",
    "import lasagne\n",
    "from lasagne import layers as L\n",
    "from broadcast import BroadcastLayer,UnbroadcastLayer\n",
    "from lasagne.nonlinearities import rectify\n",
    "from lasagne.init import HeNormal,Constant"
   ]
  },
  {
   "cell_type": "code",
   "execution_count": 6,
   "metadata": {
    "collapsed": false
   },
   "outputs": [],
   "source": [
    "from symbols import make_conv,BroadcastLayer,res_unit\n",
    "\n",
    "def make_deconv(data,num_filters,filter_size=2,nonl=rectify,name='no_name',with_batchnorm=False):\n",
    "    if(with_batchnorm):\n",
    "        res = L.Deconv2DLayer(data,num_filters,filter_size,2,crop='valid',nonlinearity=None,name=name+'_deconv')\n",
    "        res = L.BatchNormLayer(res,name=name+'_deconv_bn')\n",
    "        if not(nonl is  None):\n",
    "            res = L.NonlinearityLayer(res,nonl,name=name+'_nonl')\n",
    "        return res\n",
    "    else:\n",
    "        return L.Deconv2DLayer(data,num_filters,filter_size,2,crop='valid',nonlinearity=nonl,name=name+'_deconv_nonl')\n",
    "\n",
    "def gen_unet1(data,num_filters,deep,name='unet',first=True):    \n",
    "    name = name+str(deep)\n",
    "    res1 = make_conv(data,num_filters,3,name=name+'_in',with_batchnorm=True)   \n",
    "    \n",
    "    if(deep == 1):\n",
    "        return res1\n",
    "    \n",
    "    res2 = L.Pool2DLayer(res1,2,name=name+'_pool')\n",
    "    res2 = gen_unet1(res2,num_filters*2,deep-1,name[:-1],False)\n",
    "    res2 = make_deconv(res2,num_filters*((2**(deep-1))-1),name=name,with_batchnorm=True)\n",
    "    res = L.ConcatLayer([res2,res1],axis=1, cropping=(None, None, \"center\", \"center\"),name=name+'_concat')\n",
    "    if(first ):\n",
    "        res = L.Conv2DLayer(res,num_filters*(2**(deep-1)),3,nonlinearity=None,name=name+'_conv',pad='same')\n",
    "    else:\n",
    "        res = make_conv(res,num_filters*(2**(deep-1)),3,name=name+'_out',with_batchnorm=True)   \n",
    "    return res\n",
    "\n",
    "\n",
    "def make_net(input_tensor):\n",
    "    data_l = L.InputLayer((cfg.SEQ_LENGTH,3,cfg.TILE_SIZE[1],cfg.TILE_SIZE[0])\n",
    "                           ,input_tensor\n",
    "                           ,name='data')\n",
    "    unet = gen_unet1(data_l,6,3,name='unet')\n",
    "    \n",
    "    fetures = unet#L.Conv2DLayer(unet,cfg.ndim,(1,1),pad='same',name='features')\n",
    "    general_dist = make_conv(unet,12,name='general_dist_hid')\n",
    "    general_dist = L.Conv2DLayer(general_dist,1,(1,1),pad='same',name='general_dist')\n",
    "    net = L.concat([general_dist,fetures])\n",
    "    return net\n",
    "    "
   ]
  },
  {
   "cell_type": "code",
   "execution_count": 7,
   "metadata": {
    "collapsed": false
   },
   "outputs": [
    {
     "name": "stdout",
     "output_type": "stream",
     "text": [
      "\n",
      "In -->      Layer    --> Out     Description                                   \n",
      "-------     -----    -------     -----------                                   \n",
      "[]          0        [1]         data(128, 3, 28, 28)                          \n",
      "[0]         1        [2]         unet3_in_conv(3)(128, 6, 28, 28)              \n",
      "[1]         2        [3]         unet3_in_bn(128, 6, 28, 28)                   \n",
      "[2]         3        [4, 22]     unet3_in_relu(128, 6, 28, 28)                 \n",
      "[3]         4        [5]         unet3_pool(128, 6, 14, 14)                    \n",
      "[4]         5        [6]         unet2_in_conv(3)(128, 12, 14, 14)             \n",
      "[5]         6        [7]         unet2_in_bn(128, 12, 14, 14)                  \n",
      "[6]         7        [8, 15]     unet2_in_relu(128, 12, 14, 14)                \n",
      "[7]         8        [9]         unet2_pool(128, 12, 7, 7)                     \n",
      "[8]         9        [10]        unet1_in_conv(3)(128, 24, 7, 7)               \n",
      "[9]         10       [11]        unet1_in_bn(128, 24, 7, 7)                    \n",
      "[10]        11       [12]        unet1_in_relu(128, 24, 7, 7)                  \n",
      "[11]        12       [13]        unet2_deconv(128, 12, 14, 14)                 \n",
      "[12]        13       [14]        unet2_deconv_bn(128, 12, 14, 14)              \n",
      "[13]        14       [15]        unet2_nonl(128, 12, 14, 14)                   \n",
      "[14, 7]     15       [16]        unet2_concat(128, 24, 14, 14)                 \n",
      "[15]        16       [17]        unet2_out_conv(3)(128, 24, 14, 14)            \n",
      "[16]        17       [18]        unet2_out_bn(128, 24, 14, 14)                 \n",
      "[17]        18       [19]        unet2_out_relu(128, 24, 14, 14)               \n",
      "[18]        19       [20]        unet3_deconv(128, 18, 28, 28)                 \n",
      "[19]        20       [21]        unet3_deconv_bn(128, 18, 28, 28)              \n",
      "[20]        21       [22]        unet3_nonl(128, 18, 28, 28)                   \n",
      "[21, 3]     22       [23]        unet3_concat(128, 24, 28, 28)                 \n",
      "[22]        23       [24, 26]    unet3_conv(128, 24, 28, 28)                   \n",
      "[23]        24       [25]        general_dist_hid_conv(1)_nonl(128, 12, 28, 28)\n",
      "[24]        25       [26]        general_dist(128, 1, 28, 28)                  \n",
      "[25, 23]    26       []          None(128, 25, 28, 28)                         \n"
     ]
    }
   ],
   "source": [
    "from utils import get_network_str,save_weights,load_weights\n",
    "\n",
    "data = T.tensor4(name='data')\n",
    "label = T.tensor3(name='label')\n",
    "net = make_net(data)\n",
    "print get_network_str(net,incomings=True,outgoings=True)"
   ]
  },
  {
   "cell_type": "code",
   "execution_count": 8,
   "metadata": {
    "collapsed": true
   },
   "outputs": [],
   "source": [
    "from gmm_op import get_gmm,calc_log_prob_gmm,calc_log_prob_gmm_componetwise,GMM\n",
    "from theano_utils import histogram_loss,split,accuracy\n",
    "from lasagne.regularization import regularize_network_params,l2"
   ]
  },
  {
   "cell_type": "code",
   "execution_count": 9,
   "metadata": {
    "collapsed": false
   },
   "outputs": [],
   "source": [
    "def get_output(net,t_size=cfg.TILE_SIZE,o_size=cfg.OUT_SIZE):\n",
    "    X = lasagne.layers.get_output(net)\n",
    "    X = X[:,:,(t_size[1]-o_size[1])//2:(t_size[1]+o_size[1])//2,\\\n",
    "              (t_size[0]-o_size[0])//2:(t_size[0]+o_size[0])//2]\n",
    "    return T.transpose(X,(0,2,3,1)).reshape((-1,cfg.ndim+1))\n",
    "net_output = get_output(net)\n",
    "general_dist = net_output[:,:1]\n",
    "X = net_output[:,1:]\n",
    "X = X/T.sqrt(T.square(X).sum(1)+np.float32(1e-8))[:,None]\n",
    "means,covars,weights = get_gmm(X,cfg.gm_num,cfg.ndim,True)\n",
    "p = calc_log_prob_gmm_componetwise(X,means,covars,weights)\n",
    "p = T.nnet.softmax(T.concatenate([p,general_dist],axis=1))\n",
    "rate = weights/(T.mean(covars,1)+np.float32(1e-8))\n",
    "rate=rate#/(T.sum(rate)+np.float32(1e-8))\n",
    "rate_param = theano.shared(np.float32(10.),name='rate_param',allow_downcast=True)\n",
    "soft_sign = T.concatenate([T.tanh(rate-rate_param),-T.ones((1,))])\n",
    "Y = np.float32(1.)-np.float32(2.)*label.flatten()\n",
    "class_matrix = Y[:,None]*soft_sign[None,:]\n",
    "l2_loss = 1e-4 * regularize_network_params(net, l2)\n",
    "loss = -T.sum(p*class_matrix)+l2_loss\n",
    "\n",
    "\n",
    "\n",
    "prediction = T.max((1.+T.sgn(p-T.max(p,1)[:,None]+np.float32(1e-10)))*T.sgn(soft_sign)[None,:],1)-1.\n",
    "accuracy = T.sum((1.+T.sgn(prediction*Y))/2.)/abs(prediction).sum()"
   ]
  },
  {
   "cell_type": "code",
   "execution_count": 10,
   "metadata": {
    "collapsed": false
   },
   "outputs": [],
   "source": [
    "# outX,outYp,outYn = split(X,Y,int(cfg.SEQ_LENGTH*cfg.OUT_SIZE[0]*cfg.OUT_SIZE[1]*0.1))\n",
    "# means,covars,weights = get_gmm(outX,cfg.gm_num,24,True)\n",
    "# p_p = calc_log_prob_gmm(outYp,means,covars,weights)\n",
    "# p_n = calc_log_prob_gmm(outYn,means,covars,weights)\n",
    "# l2_loss = 1e-4 * regularize_network_params(net, l2)\n",
    "# loss = histogram_loss(p_n,p_p,0.0001,200)[0]+l2_loss"
   ]
  },
  {
   "cell_type": "code",
   "execution_count": 11,
   "metadata": {
    "collapsed": false
   },
   "outputs": [],
   "source": [
    "params = lasagne.layers.get_all_params(net, trainable=True)\n",
    "params.append(rate_param)\n",
    "G_lr = theano.shared(np.array(0.001, dtype=theano.config.floatX))\n",
    "MAX_GRAD_NORM = 15\n",
    "all_grads = T.grad(loss, params)\n",
    "all_grads = [T.clip(g, -.1, .1) for g in all_grads]\n",
    "all_grads, norm = lasagne.updates.total_norm_constraint(all_grads, MAX_GRAD_NORM, return_norm=True)\n",
    "updates = lasagne.updates.adam(all_grads,params,G_lr)"
   ]
  },
  {
   "cell_type": "code",
   "execution_count": 12,
   "metadata": {
    "collapsed": false
   },
   "outputs": [
    {
     "name": "stdout",
     "output_type": "stream",
     "text": [
      "train_fn compiled\n"
     ]
    }
   ],
   "source": [
    "train_fn = theano.function([data, label], [loss,accuracy,X,Y,class_matrix,rate,soft_sign,weights,covars,prediction,p*class_matrix], allow_input_downcast=True, updates=updates)\n",
    "print 'train_fn compiled'"
   ]
  },
  {
   "cell_type": "code",
   "execution_count": 53,
   "metadata": {
    "collapsed": false
   },
   "outputs": [
    {
     "name": "stdout",
     "output_type": "stream",
     "text": [
      " [  5.06190088e+03   4.34379578e-01   2.25758925e-01   2.67745227e-01]\n"
     ]
    }
   ],
   "source": [
    "print res[-4]/(res[-3].sum(1))"
   ]
  },
  {
   "cell_type": "code",
   "execution_count": 16,
   "metadata": {
    "collapsed": false
   },
   "outputs": [
    {
     "name": "stdout",
     "output_type": "stream",
     "text": [
      "\n"
     ]
    }
   ],
   "source": [
    "G_lr.set_value(np.float32(0.0001))"
   ]
  },
  {
   "cell_type": "code",
   "execution_count": 14,
   "metadata": {
    "collapsed": false
   },
   "outputs": [],
   "source": [
    "load_weights(net,'models/gmm006_loss-1360.14')#models/gmm000_loss17428.31"
   ]
  },
  {
   "cell_type": "code",
   "execution_count": 45,
   "metadata": {
    "collapsed": false
   },
   "outputs": [
    {
     "name": "stdout",
     "output_type": "stream",
     "text": [
      "\n"
     ]
    }
   ],
   "source": [
    "rate_param.set_value(0.5)"
   ]
  },
  {
   "cell_type": "code",
   "execution_count": 14,
   "metadata": {
    "collapsed": false
   },
   "outputs": [],
   "source": [
    "hard = []\n",
    "cur = 0"
   ]
  },
  {
   "cell_type": "code",
   "execution_count": 17,
   "metadata": {
    "collapsed": false
   },
   "outputs": [
    {
     "name": "stdout",
     "output_type": "stream",
     "text": [
      " epoch 0 batch 99 loss=-1678.34 ,acc=0.91 -1483.01 rate=10.54                                                                                                  \n",
      "checkpoint models/gmm000_loss-1678.34.npz\n",
      "\n",
      " epoch 1 batch 99 loss=-1752.97 ,acc=0.93 -1257.29 rate=10.54                                                                                                  \n",
      "checkpoint models/gmm001_loss-1752.97.npz\n",
      "\n",
      " epoch 2 batch 99 loss=-1847.18 ,acc=0.95 -1913.79 rate=10.54                                                                                                  \n",
      "checkpoint models/gmm002_loss-1847.18.npz\n",
      "\n",
      " epoch 3 batch 99 loss=-1766.34 ,acc=0.93 -1967.20 rate=10.54                                                                                                  \n",
      "checkpoint models/gmm003_loss-1766.34.npz\n",
      "\n",
      " epoch 4 batch 99 loss=-1736.75 ,acc=0.92 -2035.98 rate=10.54                                                                                                  \n",
      "checkpoint models/gmm004_loss-1736.75.npz\n",
      "\n",
      " epoch 5 batch 99 loss=-1784.00 ,acc=0.94 -2045.22 rate=10.55                                                                                                  \n",
      "checkpoint models/gmm005_loss-1784.00.npz\n",
      "\n",
      " epoch 6 batch 99 loss=-1822.52 ,acc=0.95 -1899.90 rate=10.55                                                                                                  \n",
      "checkpoint models/gmm006_loss-1822.52.npz\n",
      "\n",
      " epoch 7 batch 99 loss=-1788.43 ,acc=0.94 -1828.11 rate=10.55                                                                                                  \n",
      "checkpoint models/gmm007_loss-1788.43.npz\n",
      "\n",
      " epoch 8 batch 99 loss=-1839.53 ,acc=0.95 -2043.90 rate=10.55                                                                                                  \n",
      "checkpoint models/gmm008_loss-1839.53.npz\n",
      "\n",
      " epoch 9 batch 99 loss=-1825.20 ,acc=0.95 -1857.15 rate=10.55                                                                                                  \n",
      "checkpoint models/gmm009_loss-1825.20.npz\n",
      "\n",
      " epoch 10 batch 99 loss=-1739.51 ,acc=0.92 -1608.35 rate=10.56                                                                                                  \n",
      "checkpoint models/gmm010_loss-1739.51.npz\n",
      "\n",
      " epoch 11 batch 99 loss=-1834.03 ,acc=0.95 -1982.54 rate=10.56                                                                                                  \n",
      "checkpoint models/gmm011_loss-1834.03.npz\n",
      "\n",
      " epoch 12 batch 99 loss=-1859.76 ,acc=0.95 -2047.95 rate=10.56                                                                                                  \n",
      "checkpoint models/gmm012_loss-1859.76.npz\n",
      "\n",
      " epoch 13 batch 99 loss=-1884.42 ,acc=0.96 -2038.47 rate=10.56                                                                                                  \n",
      "checkpoint models/gmm013_loss-1884.42.npz\n",
      "\n",
      " epoch 14 batch 99 loss=-1819.90 ,acc=0.94 -2015.95 rate=10.57                                                                                                  \n",
      "checkpoint models/gmm014_loss-1819.90.npz\n",
      "\n",
      " epoch 15 batch 99 loss=-1769.21 ,acc=0.93 -1030.86 rate=10.57                                                                                                  \n",
      "checkpoint models/gmm015_loss-1769.21.npz\n",
      "\n",
      " epoch 16 batch 99 loss=-1772.68 ,acc=0.93 -133.42 rate=10.57                                                                                                   \n",
      "checkpoint models/gmm016_loss-1772.68.npz\n",
      "\n",
      " epoch 17 batch 99 loss=-1790.02 ,acc=0.94 -2044.70 rate=10.57                                                                                                  \n",
      "checkpoint models/gmm017_loss-1790.02.npz\n",
      "\n",
      " epoch 18 batch 99 loss=-1785.91 ,acc=0.94 -2006.42 rate=10.57                                                                                                \n",
      "checkpoint models/gmm018_loss-1785.91.npz\n",
      "\n",
      " epoch 19 batch 99 loss=-1821.18 ,acc=0.94 -1846.86 rate=10.57                                                                                                  \n",
      "checkpoint models/gmm019_loss-1821.18.npz\n",
      "\n",
      " epoch 20 batch 99 loss=-1809.12 ,acc=0.94 -1439.94 rate=10.57                                                                                                  \n",
      "checkpoint models/gmm020_loss-1809.12.npz\n",
      "\n",
      " epoch 21 batch 99 loss=-1777.76 ,acc=0.93 -1990.86 rate=10.58                                                                                                  \n",
      "checkpoint models/gmm021_loss-1777.76.npz\n",
      "\n",
      " epoch 22 batch 99 loss=-1717.00 ,acc=0.92 -1327.94 rate=10.58                                                                                                  \n",
      "checkpoint models/gmm022_loss-1717.00.npz\n",
      "\n",
      " epoch 23 batch 99 loss=-1843.86 ,acc=0.95 120.29 rate=10.58 8                                                                                                  \n",
      "checkpoint models/gmm023_loss-1843.86.npz\n",
      "\n",
      " epoch 24 batch 99 loss=-1809.41 ,acc=0.94 -1963.69 rate=10.58                                                                                                  \n",
      "checkpoint models/gmm024_loss-1809.41.npz\n",
      "\n",
      " epoch 25 batch 99 loss=-1864.54 ,acc=0.96 -2000.64 rate=10.58                                                                                                  \n",
      "checkpoint models/gmm025_loss-1864.54.npz\n",
      "\n",
      " epoch 26 batch 99 loss=-1815.71 ,acc=0.94 -2033.60 rate=10.59                                                                                                  \n",
      "checkpoint models/gmm026_loss-1815.71.npz\n",
      "\n",
      " epoch 27 batch 99 loss=-1888.08 ,acc=0.96 -1321.12 rate=10.59                                                                                                  \n",
      "checkpoint models/gmm027_loss-1888.08.npz\n",
      "\n",
      " epoch 28 batch 99 loss=-1812.35 ,acc=0.94 -2021.87 rate=10.59                                                                                                  \n",
      "checkpoint models/gmm028_loss-1812.35.npz\n",
      "\n",
      " epoch 29 batch 99 loss=-1905.71 ,acc=0.97 -1812.66 rate=10.59                                                                                                  \n",
      "checkpoint models/gmm029_loss-1905.71.npz\n",
      "\n",
      " epoch 30 batch 99 loss=-1822.97 ,acc=0.95 -2047.95 rate=10.59                                                                                                  \n",
      "checkpoint models/gmm030_loss-1822.97.npz\n",
      "\n",
      " epoch 31 batch 99 loss=-1773.58 ,acc=0.93 -1215.96 rate=10.60                                                                                                  \n",
      "checkpoint models/gmm031_loss-1773.58.npz\n",
      "\n",
      " epoch 32 batch 99 loss=-1812.37 ,acc=0.94 -2019.07 rate=10.60                                                                                                  \n",
      "checkpoint models/gmm032_loss-1812.37.npz\n",
      "\n",
      " epoch 33 batch 99 loss=-1862.43 ,acc=0.95 -1967.95 rate=10.60                                                                                                  \n",
      "checkpoint models/gmm033_loss-1862.43.npz\n",
      "\n",
      " epoch 34 batch 99 loss=-1862.09 ,acc=0.96 -734.01 rate=10.60                                                                                                   \n",
      "checkpoint models/gmm034_loss-1862.09.npz\n",
      "\n",
      " epoch 35 batch 98 loss=-1802.56 ,acc=0.94 -2032.46 rate=10.60                                                                                                 "
     ]
    },
    {
     "ename": "KeyboardInterrupt",
     "evalue": "",
     "output_type": "error",
     "traceback": [
      "\u001b[0;31m---------------------------------------------------------------------------\u001b[0m",
      "\u001b[0;31mKeyboardInterrupt\u001b[0m                         Traceback (most recent call last)",
      "\u001b[0;32m<ipython-input-17-8d087307743d>\u001b[0m in \u001b[0;36m<module>\u001b[0;34m()\u001b[0m\n\u001b[1;32m      4\u001b[0m     \u001b[0mtrain_loss\u001b[0m\u001b[0;34m=\u001b[0m\u001b[0;36m0\u001b[0m\u001b[0;34m\u001b[0m\u001b[0m\n\u001b[1;32m      5\u001b[0m     \u001b[0mtrain_acc\u001b[0m\u001b[0;34m=\u001b[0m\u001b[0;36m0\u001b[0m\u001b[0;34m\u001b[0m\u001b[0m\n\u001b[0;32m----> 6\u001b[0;31m     \u001b[0;32mfor\u001b[0m \u001b[0mi\u001b[0m\u001b[0;34m,\u001b[0m\u001b[0mbatch\u001b[0m \u001b[0;32min\u001b[0m \u001b[0menumerate\u001b[0m\u001b[0;34m(\u001b[0m\u001b[0mdata_generator\u001b[0m\u001b[0;34m(\u001b[0m\u001b[0mgmm_loader\u001b[0m\u001b[0;34m,\u001b[0m\u001b[0mepoch_size\u001b[0m\u001b[0;34m=\u001b[0m\u001b[0;36m100\u001b[0m\u001b[0;34m)\u001b[0m\u001b[0;34m)\u001b[0m\u001b[0;34m:\u001b[0m\u001b[0;34m\u001b[0m\u001b[0m\n\u001b[0m\u001b[1;32m      7\u001b[0m         \u001b[0mres\u001b[0m \u001b[0;34m=\u001b[0m \u001b[0mtrain_fn\u001b[0m\u001b[0;34m(\u001b[0m\u001b[0;34m*\u001b[0m\u001b[0mbatch\u001b[0m\u001b[0;34m)\u001b[0m\u001b[0;34m\u001b[0m\u001b[0m\n\u001b[1;32m      8\u001b[0m         \u001b[0mtrain_acc\u001b[0m \u001b[0;34m+=\u001b[0m \u001b[0mres\u001b[0m\u001b[0;34m[\u001b[0m\u001b[0;36m1\u001b[0m\u001b[0;34m]\u001b[0m\u001b[0;34m\u001b[0m\u001b[0m\n",
      "\u001b[0;32m<ipython-input-4-80d548b1cc59>\u001b[0m in \u001b[0;36mdata_generator\u001b[0;34m(gmm_loader, batch_size, tile_size, epoch_size)\u001b[0m\n\u001b[1;32m      4\u001b[0m     \u001b[0miter\u001b[0m \u001b[0;34m=\u001b[0m \u001b[0;36m0\u001b[0m\u001b[0;34m\u001b[0m\u001b[0m\n\u001b[1;32m      5\u001b[0m     \u001b[0;32mfor\u001b[0m \u001b[0mi\u001b[0m \u001b[0;32min\u001b[0m \u001b[0mrange\u001b[0m\u001b[0;34m(\u001b[0m\u001b[0mepoch_size\u001b[0m\u001b[0;34m)\u001b[0m\u001b[0;34m:\u001b[0m\u001b[0;34m\u001b[0m\u001b[0m\n\u001b[0;32m----> 6\u001b[0;31m         \u001b[0;32myield\u001b[0m \u001b[0mgmm_loader\u001b[0m\u001b[0;34m.\u001b[0m\u001b[0mload_random\u001b[0m\u001b[0;34m(\u001b[0m\u001b[0;34m)\u001b[0m\u001b[0;34m\u001b[0m\u001b[0m\n\u001b[0m\u001b[1;32m      7\u001b[0m \u001b[0;34m\u001b[0m\u001b[0m\n\u001b[1;32m      8\u001b[0m \u001b[0;32mfor\u001b[0m \u001b[0mx\u001b[0m\u001b[0;34m,\u001b[0m\u001b[0my\u001b[0m \u001b[0;32min\u001b[0m \u001b[0mdata_generator\u001b[0m\u001b[0;34m(\u001b[0m\u001b[0mgmm_loader\u001b[0m\u001b[0;34m,\u001b[0m\u001b[0;36m1\u001b[0m\u001b[0;34m,\u001b[0m\u001b[0mepoch_size\u001b[0m\u001b[0;34m=\u001b[0m\u001b[0;36m1\u001b[0m\u001b[0;34m)\u001b[0m\u001b[0;34m:\u001b[0m\u001b[0;34m\u001b[0m\u001b[0m\n",
      "\u001b[0;32m/media/data/Programming/motion_segmentation/gmm_segmentation/loader.pyc\u001b[0m in \u001b[0;36mload_random\u001b[0;34m(self)\u001b[0m\n\u001b[1;32m    113\u001b[0m     \u001b[0;32mdef\u001b[0m \u001b[0mload_random\u001b[0m\u001b[0;34m(\u001b[0m\u001b[0mself\u001b[0m\u001b[0;34m)\u001b[0m\u001b[0;34m:\u001b[0m\u001b[0;34m\u001b[0m\u001b[0m\n\u001b[1;32m    114\u001b[0m         \u001b[0;32mwhile\u001b[0m\u001b[0;34m(\u001b[0m\u001b[0;36m1\u001b[0m\u001b[0;34m)\u001b[0m\u001b[0;34m:\u001b[0m\u001b[0;34m\u001b[0m\u001b[0m\n\u001b[0;32m--> 115\u001b[0;31m             \u001b[0mX\u001b[0m\u001b[0;34m,\u001b[0m\u001b[0my\u001b[0m\u001b[0;34m,\u001b[0m\u001b[0mdata\u001b[0m \u001b[0;34m=\u001b[0m\u001b[0mself\u001b[0m\u001b[0;34m.\u001b[0m\u001b[0mload_from_dl\u001b[0m\u001b[0;34m(\u001b[0m\u001b[0;34m)\u001b[0m\u001b[0;34m\u001b[0m\u001b[0m\n\u001b[0m\u001b[1;32m    116\u001b[0m             \u001b[0mmeans\u001b[0m \u001b[0;34m=\u001b[0m \u001b[0my\u001b[0m\u001b[0;34m.\u001b[0m\u001b[0mmean\u001b[0m\u001b[0;34m(\u001b[0m\u001b[0;34m(\u001b[0m\u001b[0;36m1\u001b[0m\u001b[0;34m,\u001b[0m\u001b[0;36m2\u001b[0m\u001b[0;34m)\u001b[0m\u001b[0;34m)\u001b[0m\u001b[0;34m\u001b[0m\u001b[0m\n\u001b[1;32m    117\u001b[0m             \u001b[0minx\u001b[0m \u001b[0;34m=\u001b[0m \u001b[0mmeans\u001b[0m\u001b[0;34m.\u001b[0m\u001b[0margsort\u001b[0m\u001b[0;34m(\u001b[0m\u001b[0;34m)\u001b[0m\u001b[0;34m\u001b[0m\u001b[0m\n",
      "\u001b[0;32m/media/data/Programming/motion_segmentation/gmm_segmentation/loader.pyc\u001b[0m in \u001b[0;36mload_from_dl\u001b[0;34m(self)\u001b[0m\n\u001b[1;32m     98\u001b[0m     \u001b[0;32mdef\u001b[0m \u001b[0mload_from_dl\u001b[0m\u001b[0;34m(\u001b[0m\u001b[0mself\u001b[0m\u001b[0;34m)\u001b[0m\u001b[0;34m:\u001b[0m\u001b[0;34m\u001b[0m\u001b[0m\n\u001b[1;32m     99\u001b[0m         \u001b[0my\u001b[0m \u001b[0;34m=\u001b[0m \u001b[0mnp\u001b[0m\u001b[0;34m.\u001b[0m\u001b[0mzeros\u001b[0m\u001b[0;34m(\u001b[0m\u001b[0;34m(\u001b[0m\u001b[0mself\u001b[0m\u001b[0;34m.\u001b[0m\u001b[0mseq_length\u001b[0m\u001b[0;34m,\u001b[0m  \u001b[0mself\u001b[0m\u001b[0;34m.\u001b[0m\u001b[0mtile_size\u001b[0m\u001b[0;34m[\u001b[0m\u001b[0;36m1\u001b[0m\u001b[0;34m]\u001b[0m\u001b[0;34m,\u001b[0m\u001b[0mself\u001b[0m\u001b[0;34m.\u001b[0m\u001b[0mtile_size\u001b[0m\u001b[0;34m[\u001b[0m\u001b[0;36m0\u001b[0m\u001b[0;34m]\u001b[0m\u001b[0;34m)\u001b[0m\u001b[0;34m,\u001b[0m\u001b[0mdtype\u001b[0m\u001b[0;34m=\u001b[0m\u001b[0mnp\u001b[0m\u001b[0;34m.\u001b[0m\u001b[0mfloat32\u001b[0m\u001b[0;34m)\u001b[0m\u001b[0;34m+\u001b[0m\u001b[0;36m0.5\u001b[0m\u001b[0;34m\u001b[0m\u001b[0m\n\u001b[0;32m--> 100\u001b[0;31m         \u001b[0mdata\u001b[0m\u001b[0;34m,\u001b[0m\u001b[0mmotion\u001b[0m \u001b[0;34m=\u001b[0m \u001b[0mself\u001b[0m\u001b[0;34m.\u001b[0m\u001b[0mdl\u001b[0m\u001b[0;34m.\u001b[0m\u001b[0mload_random\u001b[0m\u001b[0;34m(\u001b[0m\u001b[0;34m)\u001b[0m\u001b[0;34m\u001b[0m\u001b[0m\n\u001b[0m\u001b[1;32m    101\u001b[0m         \u001b[0mlo\u001b[0m \u001b[0;34m=\u001b[0m \u001b[0mnp\u001b[0m\u001b[0;34m.\u001b[0m\u001b[0mrandom\u001b[0m\u001b[0;34m.\u001b[0m\u001b[0mrandint\u001b[0m\u001b[0;34m(\u001b[0m\u001b[0;36m0\u001b[0m\u001b[0;34m,\u001b[0m\u001b[0mlen\u001b[0m\u001b[0;34m(\u001b[0m\u001b[0mdata\u001b[0m\u001b[0;34m)\u001b[0m\u001b[0;34m-\u001b[0m\u001b[0mself\u001b[0m\u001b[0;34m.\u001b[0m\u001b[0mseq_length\u001b[0m\u001b[0;34m)\u001b[0m\u001b[0;34m\u001b[0m\u001b[0m\n\u001b[1;32m    102\u001b[0m         \u001b[0mtmp\u001b[0m \u001b[0;34m=\u001b[0m \u001b[0mdata\u001b[0m\u001b[0;34m[\u001b[0m\u001b[0mlo\u001b[0m\u001b[0;34m:\u001b[0m\u001b[0mlo\u001b[0m\u001b[0;34m+\u001b[0m\u001b[0mself\u001b[0m\u001b[0;34m.\u001b[0m\u001b[0mseq_length\u001b[0m\u001b[0;34m]\u001b[0m\u001b[0;34m\u001b[0m\u001b[0m\n",
      "\u001b[0;32m/media/data/Programming/motion_segmentation/gmm_segmentation/loader.pyc\u001b[0m in \u001b[0;36mload_random\u001b[0;34m(self)\u001b[0m\n\u001b[1;32m     63\u001b[0m                     \u001b[0mdata\u001b[0m\u001b[0;34m[\u001b[0m\u001b[0mr\u001b[0m\u001b[0;34m*\u001b[0m\u001b[0mself\u001b[0m\u001b[0;34m.\u001b[0m\u001b[0mcols\u001b[0m\u001b[0;34m+\u001b[0m\u001b[0mc\u001b[0m\u001b[0;34m,\u001b[0m\u001b[0;36m1\u001b[0m\u001b[0;34m:\u001b[0m\u001b[0;34m]\u001b[0m \u001b[0;34m=\u001b[0m \u001b[0mnp\u001b[0m\u001b[0;34m.\u001b[0m\u001b[0mtranspose\u001b[0m\u001b[0;34m(\u001b[0m\u001b[0mim\u001b[0m\u001b[0;34m[\u001b[0m\u001b[0mr\u001b[0m\u001b[0;34m*\u001b[0m\u001b[0mh\u001b[0m\u001b[0;34m:\u001b[0m\u001b[0mr\u001b[0m\u001b[0;34m*\u001b[0m\u001b[0mh\u001b[0m\u001b[0;34m+\u001b[0m\u001b[0mh\u001b[0m\u001b[0;34m,\u001b[0m\u001b[0mc\u001b[0m\u001b[0;34m*\u001b[0m\u001b[0mw\u001b[0m\u001b[0;34m:\u001b[0m\u001b[0mc\u001b[0m\u001b[0;34m*\u001b[0m\u001b[0mw\u001b[0m\u001b[0;34m+\u001b[0m\u001b[0mw\u001b[0m\u001b[0;34m,\u001b[0m\u001b[0;34m:\u001b[0m\u001b[0;34m]\u001b[0m\u001b[0;34m,\u001b[0m\u001b[0;34m(\u001b[0m\u001b[0;36m2\u001b[0m\u001b[0;34m,\u001b[0m\u001b[0;36m0\u001b[0m\u001b[0;34m,\u001b[0m\u001b[0;36m1\u001b[0m\u001b[0;34m)\u001b[0m\u001b[0;34m)\u001b[0m\u001b[0;34m\u001b[0m\u001b[0m\n\u001b[1;32m     64\u001b[0m                     \u001b[0mdata\u001b[0m\u001b[0;34m[\u001b[0m\u001b[0mr\u001b[0m\u001b[0;34m*\u001b[0m\u001b[0mself\u001b[0m\u001b[0;34m.\u001b[0m\u001b[0mcols\u001b[0m\u001b[0;34m+\u001b[0m\u001b[0mc\u001b[0m\u001b[0;34m,\u001b[0m\u001b[0;36m0\u001b[0m\u001b[0;34m]\u001b[0m \u001b[0;34m=\u001b[0m \u001b[0mmask\u001b[0m\u001b[0;34m[\u001b[0m\u001b[0mr\u001b[0m\u001b[0;34m*\u001b[0m\u001b[0mh\u001b[0m\u001b[0;34m:\u001b[0m\u001b[0mr\u001b[0m\u001b[0;34m*\u001b[0m\u001b[0mh\u001b[0m\u001b[0;34m+\u001b[0m\u001b[0mh\u001b[0m\u001b[0;34m,\u001b[0m\u001b[0mc\u001b[0m\u001b[0;34m*\u001b[0m\u001b[0mw\u001b[0m\u001b[0;34m:\u001b[0m\u001b[0mc\u001b[0m\u001b[0;34m*\u001b[0m\u001b[0mw\u001b[0m\u001b[0;34m+\u001b[0m\u001b[0mw\u001b[0m\u001b[0;34m]\u001b[0m\u001b[0;34m\u001b[0m\u001b[0m\n\u001b[0;32m---> 65\u001b[0;31m         \u001b[0;32mreturn\u001b[0m \u001b[0mdata\u001b[0m\u001b[0;34m,\u001b[0m\u001b[0mself\u001b[0m\u001b[0;34m.\u001b[0m\u001b[0mread_bg_for\u001b[0m\u001b[0;34m(\u001b[0m\u001b[0mself\u001b[0m\u001b[0;34m.\u001b[0m\u001b[0mimg_list\u001b[0m\u001b[0;34m[\u001b[0m\u001b[0mi\u001b[0m\u001b[0;34m]\u001b[0m\u001b[0;34m)\u001b[0m\u001b[0;34m\u001b[0m\u001b[0m\n\u001b[0m\u001b[1;32m     66\u001b[0m \u001b[0;34m\u001b[0m\u001b[0m\n\u001b[1;32m     67\u001b[0m \u001b[0;32mfrom\u001b[0m \u001b[0mnumpy\u001b[0m \u001b[0;32mimport\u001b[0m \u001b[0mrandom\u001b[0m \u001b[0;32mas\u001b[0m \u001b[0mrnd\u001b[0m\u001b[0;34m\u001b[0m\u001b[0m\n",
      "\u001b[0;32m/media/data/Programming/motion_segmentation/gmm_segmentation/loader.pyc\u001b[0m in \u001b[0;36mread_bg_for\u001b[0;34m(self, path)\u001b[0m\n\u001b[1;32m     38\u001b[0m             \u001b[0;32mfor\u001b[0m \u001b[0mr\u001b[0m \u001b[0;32min\u001b[0m \u001b[0mrange\u001b[0m\u001b[0;34m(\u001b[0m\u001b[0mrows\u001b[0m\u001b[0;34m)\u001b[0m\u001b[0;34m:\u001b[0m\u001b[0;34m\u001b[0m\u001b[0m\n\u001b[1;32m     39\u001b[0m                 \u001b[0;32mif\u001b[0m\u001b[0;34m(\u001b[0m\u001b[0mr\u001b[0m\u001b[0;34m*\u001b[0m\u001b[0mself\u001b[0m\u001b[0;34m.\u001b[0m\u001b[0mcols\u001b[0m\u001b[0;34m+\u001b[0m\u001b[0mc\u001b[0m \u001b[0;34m<\u001b[0m \u001b[0mlen\u001b[0m\u001b[0;34m(\u001b[0m\u001b[0mdata\u001b[0m\u001b[0;34m)\u001b[0m\u001b[0;34m)\u001b[0m\u001b[0;34m:\u001b[0m\u001b[0;34m\u001b[0m\u001b[0m\n\u001b[0;32m---> 40\u001b[0;31m                     \u001b[0mdata\u001b[0m\u001b[0;34m[\u001b[0m\u001b[0mr\u001b[0m\u001b[0;34m*\u001b[0m\u001b[0mself\u001b[0m\u001b[0;34m.\u001b[0m\u001b[0mcols\u001b[0m\u001b[0;34m+\u001b[0m\u001b[0mc\u001b[0m\u001b[0;34m,\u001b[0m\u001b[0;34m:\u001b[0m\u001b[0;34m]\u001b[0m \u001b[0;34m=\u001b[0m \u001b[0mnp\u001b[0m\u001b[0;34m.\u001b[0m\u001b[0mtranspose\u001b[0m\u001b[0;34m(\u001b[0m\u001b[0mim\u001b[0m\u001b[0;34m[\u001b[0m\u001b[0mr\u001b[0m\u001b[0;34m*\u001b[0m\u001b[0mh\u001b[0m\u001b[0;34m:\u001b[0m\u001b[0mr\u001b[0m\u001b[0;34m*\u001b[0m\u001b[0mh\u001b[0m\u001b[0;34m+\u001b[0m\u001b[0mh\u001b[0m\u001b[0;34m,\u001b[0m\u001b[0mc\u001b[0m\u001b[0;34m*\u001b[0m\u001b[0mw\u001b[0m\u001b[0;34m:\u001b[0m\u001b[0mc\u001b[0m\u001b[0;34m*\u001b[0m\u001b[0mw\u001b[0m\u001b[0;34m+\u001b[0m\u001b[0mw\u001b[0m\u001b[0;34m,\u001b[0m\u001b[0;34m:\u001b[0m\u001b[0;34m]\u001b[0m\u001b[0;34m,\u001b[0m\u001b[0;34m(\u001b[0m\u001b[0;36m2\u001b[0m\u001b[0;34m,\u001b[0m\u001b[0;36m0\u001b[0m\u001b[0;34m,\u001b[0m\u001b[0;36m1\u001b[0m\u001b[0;34m)\u001b[0m\u001b[0;34m)\u001b[0m\u001b[0;34m\u001b[0m\u001b[0m\n\u001b[0m\u001b[1;32m     41\u001b[0m         \u001b[0;32mreturn\u001b[0m \u001b[0mdata\u001b[0m\u001b[0;34m[\u001b[0m\u001b[0mdata\u001b[0m\u001b[0;34m.\u001b[0m\u001b[0mmean\u001b[0m\u001b[0;34m(\u001b[0m\u001b[0;34m(\u001b[0m\u001b[0;36m1\u001b[0m\u001b[0;34m,\u001b[0m\u001b[0;36m2\u001b[0m\u001b[0;34m,\u001b[0m\u001b[0;36m3\u001b[0m\u001b[0;34m)\u001b[0m\u001b[0;34m)\u001b[0m \u001b[0;34m>\u001b[0m \u001b[0;36m0.1\u001b[0m\u001b[0;34m]\u001b[0m\u001b[0;34m\u001b[0m\u001b[0m\n\u001b[1;32m     42\u001b[0m \u001b[0;34m\u001b[0m\u001b[0m\n",
      "\u001b[0;31mKeyboardInterrupt\u001b[0m: "
     ]
    }
   ],
   "source": [
    "\n",
    "\n",
    "for j in range(0,100):\n",
    "    train_loss=0\n",
    "    train_acc=0\n",
    "    for i,batch in enumerate(data_generator(gmm_loader,epoch_size=100)):\n",
    "        res = train_fn(*batch)\n",
    "        train_acc += res[1]\n",
    "        train_loss+=res[0]\n",
    "#         if(res[1] < .8):\n",
    "#             if( len(hard) < 1000):\n",
    "#                 hard.append(batch)\n",
    "#             else:\n",
    "#                 hard[cur] = batch\n",
    "#                 cur = (cur+1) % len(hard)\n",
    "#         for k in range(min(3,len(hard))):\n",
    "#             batch = hard[np.random.randint(0,len(hard))]\n",
    "#             res = train_fn(*batch)\n",
    "        print '\\r epoch %i batch %i loss=%.2f ,acc=%.2f %.2f rate=%.2f'%(j,i,train_loss/float(i+1),train_acc/float(i+1),res[0],rate_param.get_value()),\n",
    "    print ''\n",
    "    save_weights(net,'models/%s%03i_loss%05.2f'%\\\n",
    "                 (cfg.NAME,j,train_loss/float(i+1)))\n",
    "    if(j == 50):\n",
    "        G_lr.set_value(np.float32(0.0001))\n",
    "    print ''\n",
    "#     for i,batch in enumerate(data_generator(gmm_loader,epoch_size=10)):\n",
    "#         res = test_fn(*batch)\n",
    "#         train_acc+=res[0]\n",
    "#     print 'accuracy ',train_acc/10"
   ]
  },
  {
   "cell_type": "markdown",
   "metadata": {},
   "source": [
    "# Draw Histogram"
   ]
  },
  {
   "cell_type": "code",
   "execution_count": 23,
   "metadata": {
    "collapsed": false
   },
   "outputs": [
    {
     "data": {
      "image/png": "[encoded data removed]",
      "text/plain": [
       "<matplotlib.figure.Figure at 0x7f736439c9d0>"
      ]
     },
     "metadata": {},
     "output_type": "display_data"
    },
    {
     "name": "stdout",
     "output_type": "stream",
     "text": [
      "143.053151846 64.0065259933\n"
     ]
    },
    {
     "data": {
      "image/png": "[encoded data removed]",
      "text/plain": [
       "<matplotlib.figure.Figure at 0x7f733139fa10>"
      ]
     },
     "metadata": {},
     "output_type": "display_data"
    }
   ],
   "source": [
    "for i,batch in enumerate(data_generator(gmm_loader,epoch_size=10)):\n",
    "    #batch = hard[10]\n",
    "    draw_sample(batch[0],batch[1],8,cfg.SEQ_LENGTH//8)\n",
    "    res = train_fn(*batch)\n",
    "    plt.hist(res[2],bins=40,label='positive')\n",
    "    plt.hist(res[3],bins=40,label='negative')\n",
    "    print res[2].min(),res[3].max()\n",
    "    plt.legend()\n",
    "    plt.show()\n",
    "    break"
   ]
  },
  {
   "cell_type": "code",
   "execution_count": 83,
   "metadata": {
    "collapsed": false
   },
   "outputs": [
    {
     "name": "stdout",
     "output_type": "stream",
     "text": [
      "0.995500610501                                                        \n"
     ]
    }
   ],
   "source": [
    "test_acc = 0\n",
    "for i,batch in enumerate(data_generator(gmm_loader,epoch_size=100)):\n",
    "    res = test_fn(*batch)\n",
    "    test_acc += accuracy(res[0],res[1],50)\n",
    "    print '\\r', (test_acc/(i+1)),"
   ]
  },
  {
   "cell_type": "code",
   "execution_count": null,
   "metadata": {
    "collapsed": true
   },
   "outputs": [],
   "source": []
  }
 ],
 "metadata": {
  "anaconda-cloud": {},
  "kernelspec": {
   "display_name": "Python 2",
   "language": "python",
   "name": "python2"
  },
  "language_info": {
   "codemirror_mode": {
    "name": "ipython",
    "version": 2
   },
   "file_extension": ".py",
   "mimetype": "text/x-python",
   "name": "python",
   "nbconvert_exporter": "python",
   "pygments_lexer": "ipython2",
   "version": "2.7.12"
  }
 },
 "nbformat": 4,
 "nbformat_minor": 2
}
