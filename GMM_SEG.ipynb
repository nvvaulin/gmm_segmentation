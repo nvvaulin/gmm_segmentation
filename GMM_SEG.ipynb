{
 "cells": [
  {
   "cell_type": "code",
   "execution_count": 1,
   "metadata": {
    "collapsed": false
   },
   "outputs": [],
   "source": [
    "import matplotlib.pyplot as plt\n",
    "%matplotlib inline\n",
    "import numpy as np\n",
    "import cv2"
   ]
  },
  {
   "cell_type": "code",
   "execution_count": 2,
   "metadata": {
    "collapsed": false
   },
   "outputs": [],
   "source": [
    "from config import cfg\n",
    "cfg.SEQ_LENGTH = 250\n",
    "cfg.TILE_SIZE = (16,16)\n",
    "cfg.OUT_SIZE = (1,1)\n",
    "cfg.TRAIN.BATCH_SIZE = 1\n",
    "cfg.TRAIN.EPOCH_SIZE = 1000\n",
    "cfg.NAME = '2gmm'\n",
    "cfg.TRAIN.EPOCH = 0\n",
    "cfg.TRAIN.EPOCH_NUM = 1000\n",
    "cfg.gm_num = 3\n",
    "cfg.ndim = 24"
   ]
  },
  {
   "cell_type": "code",
   "execution_count": 3,
   "metadata": {
    "collapsed": false
   },
   "outputs": [],
   "source": [
    "from loader import TieLoader,GMMDataLoader,draw_sample\n",
    "gmm_loader = GMMDataLoader(TieLoader('/media/data/Programming/motion_segmentation/gmm_segmentation/ties256',\n",
    "                                    cols=16,rows=16,t_size=48),\\\n",
    "                           cfg.TILE_SIZE,cfg.OUT_SIZE,cfg.SEQ_LENGTH,min_r=0.4,max_r=0.5)"
   ]
  },
  {
   "cell_type": "code",
   "execution_count": 4,
   "metadata": {
    "collapsed": false
   },
   "outputs": [
    {
     "name": "stdout",
     "output_type": "stream",
     "text": [
      "(250, 3, 16, 16)\n"
     ]
    },
    {
     "data": {
      "image/png": "[encoded data removed]",
      "text/plain": [
       "<matplotlib.figure.Figure at 0x7fe540a690d0>"
      ]
     },
     "metadata": {},
     "output_type": "display_data"
    }
   ],
   "source": [
    "def data_generator(gmm_loader,batch_size = cfg.TRAIN.BATCH_SIZE,\n",
    "                   tile_size = cfg.TILE_SIZE,\n",
    "                   epoch_size = cfg.TRAIN.EPOCH_SIZE):\n",
    "    iter = 0\n",
    "    for i in range(epoch_size):        \n",
    "        yield gmm_loader.load_random()\n",
    "        \n",
    "for x,y in data_generator(gmm_loader,1,epoch_size=1):\n",
    "    print x.shape\n",
    "    draw_sample(x,y,8,cfg.SEQ_LENGTH//8)\n",
    "    break"
   ]
  },
  {
   "cell_type": "code",
   "execution_count": 5,
   "metadata": {
    "collapsed": false
   },
   "outputs": [
    {
     "name": "stderr",
     "output_type": "stream",
     "text": [
      "Using cuDNN version 5105 on context None\n",
      "Mapped name None to device cuda: GeForce GT 740M (0000:01:00.0)\n"
     ]
    }
   ],
   "source": [
    "import theano\n",
    "import theano.tensor as T\n",
    "import lasagne\n",
    "from lasagne import layers as L\n",
    "from broadcast import BroadcastLayer,UnbroadcastLayer\n",
    "from lasagne.nonlinearities import rectify\n",
    "from lasagne.init import HeNormal,Constant"
   ]
  },
  {
   "cell_type": "code",
   "execution_count": 6,
   "metadata": {
    "collapsed": false
   },
   "outputs": [],
   "source": [
    "from symbols import make_conv,BroadcastLayer,res_unit\n",
    "\n",
    "def make_deconv(data,num_filters,filter_size=2,nonl=rectify,name='no_name',with_batchnorm=False):\n",
    "    if(with_batchnorm):\n",
    "        res = L.Deconv2DLayer(data,num_filters,filter_size,2,crop='valid',nonlinearity=None,name=name+'_deconv')\n",
    "        res = L.BatchNormLayer(res,name=name+'_deconv_bn')\n",
    "        if not(nonl is  None):\n",
    "            res = L.NonlinearityLayer(res,nonl,name=name+'_nonl')\n",
    "        return res\n",
    "    else:\n",
    "        return L.Deconv2DLayer(data,num_filters,filter_size,2,crop='valid',nonlinearity=nonl,name=name+'_deconv_nonl')\n",
    "\n",
    "def gen_unet1(data,num_filters,deep,name='unet',first=True):    \n",
    "    name = name+str(deep)\n",
    "    res1 = make_conv(data,num_filters,3,name=name+'_in',with_batchnorm=True)   \n",
    "    \n",
    "    if(deep == 1):\n",
    "        return res1\n",
    "    \n",
    "    res2 = L.Pool2DLayer(res1,2,name=name+'_pool')\n",
    "    res2 = gen_unet1(res2,num_filters*2,deep-1,name[:-1],False)\n",
    "    res2 = make_deconv(res2,num_filters*((2**(deep-1))-1),name=name,with_batchnorm=True)\n",
    "    res = L.ConcatLayer([res2,res1],axis=1, cropping=(None, None, \"center\", \"center\"),name=name+'_concat')\n",
    "    if(first ):\n",
    "        res = L.Conv2DLayer(res,num_filters*(2**(deep-1)),3,nonlinearity=None,name=name+'_conv',pad='same')\n",
    "    else:\n",
    "        res = make_conv(res,num_filters*(2**(deep-1)),3,name=name+'_out',with_batchnorm=True)   \n",
    "    return res\n",
    "\n",
    "\n",
    "def make_net(input_tensor):\n",
    "    data_l = L.InputLayer((cfg.SEQ_LENGTH,3,cfg.TILE_SIZE[1],cfg.TILE_SIZE[0])\n",
    "                           ,input_tensor\n",
    "                           ,name='data')\n",
    "    unet = gen_unet1(data_l,6,3,name='unet')\n",
    "    \n",
    "    fetures = unet#L.Conv2DLayer(unet,cfg.ndim,(1,1),pad='same',name='features')\n",
    "    general_dist = make_conv(unet,12,name='general_dist_hid')\n",
    "    general_dist = L.Conv2DLayer(general_dist,1,(1,1),pad='same',name='general_dist')\n",
    "    net = L.concat([general_dist,fetures])\n",
    "    return net\n",
    "    "
   ]
  },
  {
   "cell_type": "code",
   "execution_count": 7,
   "metadata": {
    "collapsed": false
   },
   "outputs": [
    {
     "name": "stdout",
     "output_type": "stream",
     "text": [
      "\n",
      "In -->      Layer    --> Out     Description                                   \n",
      "-------     -----    -------     -----------                                   \n",
      "[]          0        [1]         data(250, 3, 16, 16)                          \n",
      "[0]         1        [2]         unet3_in_conv(3)(250, 6, 16, 16)              \n",
      "[1]         2        [3]         unet3_in_bn(250, 6, 16, 16)                   \n",
      "[2]         3        [4, 22]     unet3_in_relu(250, 6, 16, 16)                 \n",
      "[3]         4        [5]         unet3_pool(250, 6, 8, 8)                      \n",
      "[4]         5        [6]         unet2_in_conv(3)(250, 12, 8, 8)               \n",
      "[5]         6        [7]         unet2_in_bn(250, 12, 8, 8)                    \n",
      "[6]         7        [8, 15]     unet2_in_relu(250, 12, 8, 8)                  \n",
      "[7]         8        [9]         unet2_pool(250, 12, 4, 4)                     \n",
      "[8]         9        [10]        unet1_in_conv(3)(250, 24, 4, 4)               \n",
      "[9]         10       [11]        unet1_in_bn(250, 24, 4, 4)                    \n",
      "[10]        11       [12]        unet1_in_relu(250, 24, 4, 4)                  \n",
      "[11]        12       [13]        unet2_deconv(250, 12, 8, 8)                   \n",
      "[12]        13       [14]        unet2_deconv_bn(250, 12, 8, 8)                \n",
      "[13]        14       [15]        unet2_nonl(250, 12, 8, 8)                     \n",
      "[14, 7]     15       [16]        unet2_concat(250, 24, 8, 8)                   \n",
      "[15]        16       [17]        unet2_out_conv(3)(250, 24, 8, 8)              \n",
      "[16]        17       [18]        unet2_out_bn(250, 24, 8, 8)                   \n",
      "[17]        18       [19]        unet2_out_relu(250, 24, 8, 8)                 \n",
      "[18]        19       [20]        unet3_deconv(250, 18, 16, 16)                 \n",
      "[19]        20       [21]        unet3_deconv_bn(250, 18, 16, 16)              \n",
      "[20]        21       [22]        unet3_nonl(250, 18, 16, 16)                   \n",
      "[21, 3]     22       [23]        unet3_concat(250, 24, 16, 16)                 \n",
      "[22]        23       [24, 26]    unet3_conv(250, 24, 16, 16)                   \n",
      "[23]        24       [25]        general_dist_hid_conv(1)_nonl(250, 12, 16, 16)\n",
      "[24]        25       [26]        general_dist(250, 1, 16, 16)                  \n",
      "[25, 23]    26       []          None(250, 25, 16, 16)                         \n"
     ]
    }
   ],
   "source": [
    "from utils import get_network_str,save_weights,load_weights\n",
    "\n",
    "data = T.tensor4(name='data')\n",
    "label = T.tensor3(name='label')\n",
    "net = make_net(data)\n",
    "print get_network_str(net,incomings=True,outgoings=True)"
   ]
  },
  {
   "cell_type": "code",
   "execution_count": 8,
   "metadata": {
    "collapsed": true
   },
   "outputs": [],
   "source": [
    "from gmm_op import get_gmm,calc_log_prob_gmm,calc_log_prob_gmm_componetwise,GMM\n",
    "from theano_utils import histogram_loss,split,accuracy\n",
    "from lasagne.regularization import regularize_network_params,l2"
   ]
  },
  {
   "cell_type": "code",
   "execution_count": 18,
   "metadata": {
    "collapsed": false
   },
   "outputs": [],
   "source": [
    "def get_output(net,t_size=cfg.TILE_SIZE,o_size=cfg.OUT_SIZE):\n",
    "    X = lasagne.layers.get_output(net)\n",
    "    X = X[:,:,(t_size[1]-o_size[1])//2:(t_size[1]+o_size[1])//2,\\\n",
    "              (t_size[0]-o_size[0])//2:(t_size[0]+o_size[0])//2]\n",
    "    return T.transpose(X,(0,2,3,1)).reshape((-1,cfg.ndim+1))\n",
    "\n",
    "def get_hist_loss(Xp,Xn):\n",
    "    means,covars,weights = get_gmm(Xp,cfg.gm_num,cfg.ndim,True)\n",
    "    p_p = calc_log_prob_gmm(Xp,means,covars,weights)\n",
    "    p_n = calc_log_prob_gmm(Xn,means,covars,weights)\n",
    "    return T.sum(T.tanh(p_p))-T.sum(T.tanh(p_n))#histogram_loss(p_n,p_p,1e-3,100)[0]\n",
    "    \n",
    "net_output = get_output(net)\n",
    "Y = label.flatten()\n",
    "general_dist = net_output[:,:1]\n",
    "X = net_output[:,1:]\n",
    "X = X/T.sqrt(T.square(X).sum(1)+np.float32(1e-8))[:,None]\n",
    "Xp,Xn = split(X,Y)\n",
    "l2_loss = 1e-4 * regularize_network_params(net, l2)\n",
    "loss = get_hist_loss(Xp,Xn)+get_hist_loss(Xn,Xp)+l2_loss"
   ]
  },
  {
   "cell_type": "code",
   "execution_count": 19,
   "metadata": {
    "collapsed": false
   },
   "outputs": [],
   "source": [
    "params = lasagne.layers.get_all_params(net, trainable=True)\n",
    "#params.append(rate_param)\n",
    "G_lr = theano.shared(np.array(0.001, dtype=theano.config.floatX))\n",
    "MAX_GRAD_NORM = 15\n",
    "all_grads = T.grad(loss, params)\n",
    "all_grads = [T.clip(g, -.1, .1) for g in all_grads]\n",
    "all_grads, norm = lasagne.updates.total_norm_constraint(all_grads, MAX_GRAD_NORM, return_norm=True)\n",
    "updates = lasagne.updates.adam(all_grads,params,G_lr)"
   ]
  },
  {
   "cell_type": "code",
   "execution_count": 20,
   "metadata": {
    "collapsed": false
   },
   "outputs": [],
   "source": [
    "\n",
    "means,covars,weights = get_gmm(X,2*cfg.gm_num,cfg.ndim,True)\n",
    "p = calc_log_prob_gmm_componetwise(X,means,covars,weights)\n",
    "Y = np.float32(1.)-np.float32(2.)*label.flatten()\n",
    "prediction_component = (1.+T.sgn(p-T.max(p,1)[:,None]+np.float32(1e-10)))/2.\n",
    "cl_component = T.sgn(T.sum(prediction_component*Y[:,None],0))\n",
    "prediction = T.max(cl_component[None,:]*prediction_component,1)\n",
    "accuracy = T.sum(T.clip(prediction*Y,0,1))/Y.size\n"
   ]
  },
  {
   "cell_type": "code",
   "execution_count": 21,
   "metadata": {
    "collapsed": false
   },
   "outputs": [
    {
     "name": "stdout",
     "output_type": "stream",
     "text": [
      "train_fn compiled\n"
     ]
    }
   ],
   "source": [
    "train_fn = theano.function([data, label], [loss], allow_input_downcast=True, updates=updates)\n",
    "print 'train_fn compiled'"
   ]
  },
  {
   "cell_type": "code",
   "execution_count": 22,
   "metadata": {
    "collapsed": false
   },
   "outputs": [
    {
     "name": "stdout",
     "output_type": "stream",
     "text": [
      "test_fn compiled\n"
     ]
    }
   ],
   "source": [
    "test_fn = theano.function([data, label], [accuracy,prediction,X,prediction_component,cl_component], allow_input_downcast=True)\n",
    "print 'test_fn compiled'"
   ]
  },
  {
   "cell_type": "code",
   "execution_count": 25,
   "metadata": {
    "collapsed": false
   },
   "outputs": [
    {
     "name": "stdout",
     "output_type": "stream",
     "text": [
      "\n"
     ]
    }
   ],
   "source": [
    "G_lr.set_value(np.float32(0.03))"
   ]
  },
  {
   "cell_type": "code",
   "execution_count": 15,
   "metadata": {
    "collapsed": false
   },
   "outputs": [],
   "source": [
    "load_weights(net,'models/2gmm027_loss319.24')#models/gmm000_loss17428.31"
   ]
  },
  {
   "cell_type": "code",
   "execution_count": 16,
   "metadata": {
    "collapsed": false
   },
   "outputs": [],
   "source": [
    "hard = []\n",
    "cur = 0"
   ]
  },
  {
   "cell_type": "code",
   "execution_count": 17,
   "metadata": {
    "collapsed": false
   },
   "outputs": [
    {
     "name": "stdout",
     "output_type": "stream",
     "text": [
      "accuracy  0.5874\n"
     ]
    }
   ],
   "source": [
    "\n",
    "test_acc = 0\n",
    "for i,batch in enumerate(data_generator(gmm_loader,epoch_size=20)):\n",
    "    res = test_fn(*batch)\n",
    "    test_acc+=res[0]\n",
    "print 'accuracy ',test_acc/20."
   ]
  },
  {
   "cell_type": "code",
   "execution_count": 26,
   "metadata": {
    "collapsed": false
   },
   "outputs": [
    {
     "name": "stdout",
     "output_type": "stream",
     "text": [
      " epoch 0 batch 99 loss=0.03 0.03                                                               \n",
      "checkpoint models/2gmm000_loss00.03.npz\n",
      "\n",
      "accuracy  0.5898\n",
      " epoch 1 batch 99 loss=0.15 0.03                                                             \n",
      "checkpoint models/2gmm001_loss00.15.npz\n",
      "\n",
      "accuracy  0.5878\n",
      " epoch 2 batch 99 loss=168.50 0.36                                                               \n",
      "checkpoint models/2gmm002_loss168.50.npz\n",
      "\n",
      "accuracy  0.566\n",
      " epoch 3 batch 99 loss=7.57 0.42                                                                    \n",
      "checkpoint models/2gmm003_loss07.57.npz\n",
      "\n",
      "accuracy  0.5852\n",
      " epoch 4 batch 99 loss=4.11 0.42                                                               \n",
      "checkpoint models/2gmm004_loss04.11.npz\n",
      "\n",
      "accuracy  0.5824\n",
      " epoch 5 batch 68 loss=0.71 2.41                                            "
     ]
    },
    {
     "ename": "KeyboardInterrupt",
     "evalue": "",
     "output_type": "error",
     "traceback": [
      "\u001b[0;31m---------------------------------------------------------------------------\u001b[0m",
      "\u001b[0;31mKeyboardInterrupt\u001b[0m                         Traceback (most recent call last)",
      "\u001b[0;32m<ipython-input-26-13665911976f>\u001b[0m in \u001b[0;36m<module>\u001b[0;34m()\u001b[0m\n\u001b[1;32m      4\u001b[0m     \u001b[0mtrain_loss\u001b[0m\u001b[0;34m=\u001b[0m\u001b[0;36m0\u001b[0m\u001b[0;34m\u001b[0m\u001b[0m\n\u001b[1;32m      5\u001b[0m     \u001b[0;32mfor\u001b[0m \u001b[0mi\u001b[0m\u001b[0;34m,\u001b[0m\u001b[0mbatch\u001b[0m \u001b[0;32min\u001b[0m \u001b[0menumerate\u001b[0m\u001b[0;34m(\u001b[0m\u001b[0mdata_generator\u001b[0m\u001b[0;34m(\u001b[0m\u001b[0mgmm_loader\u001b[0m\u001b[0;34m,\u001b[0m\u001b[0mepoch_size\u001b[0m\u001b[0;34m=\u001b[0m\u001b[0;36m100\u001b[0m\u001b[0;34m)\u001b[0m\u001b[0;34m)\u001b[0m\u001b[0;34m:\u001b[0m\u001b[0;34m\u001b[0m\u001b[0m\n\u001b[0;32m----> 6\u001b[0;31m         \u001b[0mres\u001b[0m \u001b[0;34m=\u001b[0m \u001b[0mtrain_fn\u001b[0m\u001b[0;34m(\u001b[0m\u001b[0;34m*\u001b[0m\u001b[0mbatch\u001b[0m\u001b[0;34m)\u001b[0m\u001b[0;34m\u001b[0m\u001b[0m\n\u001b[0m\u001b[1;32m      7\u001b[0m         \u001b[0mtrain_loss\u001b[0m\u001b[0;34m+=\u001b[0m\u001b[0mres\u001b[0m\u001b[0;34m[\u001b[0m\u001b[0;36m0\u001b[0m\u001b[0;34m]\u001b[0m\u001b[0;34m\u001b[0m\u001b[0m\n\u001b[1;32m      8\u001b[0m \u001b[0;31m#         if(res[0] < 100):\u001b[0m\u001b[0;34m\u001b[0m\u001b[0;34m\u001b[0m\u001b[0m\n",
      "\u001b[0;32m/usr/local/lib/python2.7/dist-packages/theano/compile/function_module.pyc\u001b[0m in \u001b[0;36m__call__\u001b[0;34m(self, *args, **kwargs)\u001b[0m\n\u001b[1;32m    882\u001b[0m         \u001b[0;32mtry\u001b[0m\u001b[0;34m:\u001b[0m\u001b[0;34m\u001b[0m\u001b[0m\n\u001b[1;32m    883\u001b[0m             \u001b[0moutputs\u001b[0m \u001b[0;34m=\u001b[0m\u001b[0;31m\\\u001b[0m\u001b[0;34m\u001b[0m\u001b[0m\n\u001b[0;32m--> 884\u001b[0;31m                 \u001b[0mself\u001b[0m\u001b[0;34m.\u001b[0m\u001b[0mfn\u001b[0m\u001b[0;34m(\u001b[0m\u001b[0;34m)\u001b[0m \u001b[0;32mif\u001b[0m \u001b[0moutput_subset\u001b[0m \u001b[0;32mis\u001b[0m \u001b[0mNone\u001b[0m \u001b[0;32melse\u001b[0m\u001b[0;31m\\\u001b[0m\u001b[0;34m\u001b[0m\u001b[0m\n\u001b[0m\u001b[1;32m    885\u001b[0m                 \u001b[0mself\u001b[0m\u001b[0;34m.\u001b[0m\u001b[0mfn\u001b[0m\u001b[0;34m(\u001b[0m\u001b[0moutput_subset\u001b[0m\u001b[0;34m=\u001b[0m\u001b[0moutput_subset\u001b[0m\u001b[0;34m)\u001b[0m\u001b[0;34m\u001b[0m\u001b[0m\n\u001b[1;32m    886\u001b[0m         \u001b[0;32mexcept\u001b[0m \u001b[0mException\u001b[0m\u001b[0;34m:\u001b[0m\u001b[0;34m\u001b[0m\u001b[0m\n",
      "\u001b[0;32m/usr/local/lib/python2.7/dist-packages/theano/scan_module/scan_op.pyc\u001b[0m in \u001b[0;36mrval\u001b[0;34m(p, i, o, n, allow_gc)\u001b[0m\n\u001b[1;32m    987\u001b[0m         def rval(p=p, i=node_input_storage, o=node_output_storage, n=node,\n\u001b[1;32m    988\u001b[0m                  allow_gc=allow_gc):\n\u001b[0;32m--> 989\u001b[0;31m             \u001b[0mr\u001b[0m \u001b[0;34m=\u001b[0m \u001b[0mp\u001b[0m\u001b[0;34m(\u001b[0m\u001b[0mn\u001b[0m\u001b[0;34m,\u001b[0m \u001b[0;34m[\u001b[0m\u001b[0mx\u001b[0m\u001b[0;34m[\u001b[0m\u001b[0;36m0\u001b[0m\u001b[0;34m]\u001b[0m \u001b[0;32mfor\u001b[0m \u001b[0mx\u001b[0m \u001b[0;32min\u001b[0m \u001b[0mi\u001b[0m\u001b[0;34m]\u001b[0m\u001b[0;34m,\u001b[0m \u001b[0mo\u001b[0m\u001b[0;34m)\u001b[0m\u001b[0;34m\u001b[0m\u001b[0m\n\u001b[0m\u001b[1;32m    990\u001b[0m             \u001b[0;32mfor\u001b[0m \u001b[0mo\u001b[0m \u001b[0;32min\u001b[0m \u001b[0mnode\u001b[0m\u001b[0;34m.\u001b[0m\u001b[0moutputs\u001b[0m\u001b[0;34m:\u001b[0m\u001b[0;34m\u001b[0m\u001b[0m\n\u001b[1;32m    991\u001b[0m                 \u001b[0mcompute_map\u001b[0m\u001b[0;34m[\u001b[0m\u001b[0mo\u001b[0m\u001b[0;34m]\u001b[0m\u001b[0;34m[\u001b[0m\u001b[0;36m0\u001b[0m\u001b[0;34m]\u001b[0m \u001b[0;34m=\u001b[0m \u001b[0mTrue\u001b[0m\u001b[0;34m\u001b[0m\u001b[0m\n",
      "\u001b[0;32m/usr/local/lib/python2.7/dist-packages/theano/scan_module/scan_op.pyc\u001b[0m in \u001b[0;36mp\u001b[0;34m(node, args, outs)\u001b[0m\n\u001b[1;32m    976\u001b[0m                                                 \u001b[0margs\u001b[0m\u001b[0;34m,\u001b[0m\u001b[0;34m\u001b[0m\u001b[0m\n\u001b[1;32m    977\u001b[0m                                                 \u001b[0mouts\u001b[0m\u001b[0;34m,\u001b[0m\u001b[0;34m\u001b[0m\u001b[0m\n\u001b[0;32m--> 978\u001b[0;31m                                                 self, node)\n\u001b[0m\u001b[1;32m    979\u001b[0m         \u001b[0;32mexcept\u001b[0m \u001b[0;34m(\u001b[0m\u001b[0mImportError\u001b[0m\u001b[0;34m,\u001b[0m \u001b[0mtheano\u001b[0m\u001b[0;34m.\u001b[0m\u001b[0mgof\u001b[0m\u001b[0;34m.\u001b[0m\u001b[0mcmodule\u001b[0m\u001b[0;34m.\u001b[0m\u001b[0mMissingGXX\u001b[0m\u001b[0;34m)\u001b[0m\u001b[0;34m:\u001b[0m\u001b[0;34m\u001b[0m\u001b[0m\n\u001b[1;32m    980\u001b[0m             \u001b[0mp\u001b[0m \u001b[0;34m=\u001b[0m \u001b[0mself\u001b[0m\u001b[0;34m.\u001b[0m\u001b[0mexecute\u001b[0m\u001b[0;34m\u001b[0m\u001b[0m\n",
      "\u001b[0;31mKeyboardInterrupt\u001b[0m: "
     ]
    }
   ],
   "source": [
    "\n",
    "\n",
    "for j in range(0,100):\n",
    "    train_loss=0\n",
    "    for i,batch in enumerate(data_generator(gmm_loader,epoch_size=100)):\n",
    "        res = train_fn(*batch)\n",
    "        train_loss+=res[0]\n",
    "#         if(res[0] < 100):\n",
    "#             if( len(hard) < 1000):\n",
    "#                 hard.append(batch)\n",
    "#             else:\n",
    "#                 hard[cur] = batch\n",
    "#                 cur = (cur+1) % len(hard)\n",
    "#         for k in range(min(3,len(hard))):\n",
    "#             batch = hard[np.random.randint(0,len(hard))]\n",
    "#             res = train_fn(*batch)\n",
    "#             train_loss+=res[0]\n",
    "#             print '\\r epoch %i batch %i loss=%.2f %.2f '%(j,i,train_loss/float(i+1),res[0]),\n",
    "        print '\\r epoch %i batch %i loss=%.2f %.2f '%(j,i,train_loss/float(i+1),res[0]),\n",
    "    print ''\n",
    "    save_weights(net,'models/%s%03i_loss%05.2f'%\\\n",
    "                 (cfg.NAME,j,train_loss/float(i+1)))\n",
    "    if(j == 50):\n",
    "        G_lr.set_value(np.float32(0.0001))\n",
    "    print ''\n",
    "    \n",
    "    test_acc = 0\n",
    "    for i,batch in enumerate(data_generator(gmm_loader,epoch_size=20)):\n",
    "        res = test_fn(*batch)\n",
    "        test_acc+=res[0]\n",
    "    print 'accuracy ',test_acc/20."
   ]
  },
  {
   "cell_type": "markdown",
   "metadata": {},
   "source": [
    "# Draw Histogram"
   ]
  },
  {
   "cell_type": "code",
   "execution_count": 23,
   "metadata": {
    "collapsed": false
   },
   "outputs": [
    {
     "data": {
      "image/png": "[encoded data removed]",
      "text/plain": [
       "<matplotlib.figure.Figure at 0x7f736439c9d0>"
      ]
     },
     "metadata": {},
     "output_type": "display_data"
    },
    {
     "name": "stdout",
     "output_type": "stream",
     "text": [
      "143.053151846 64.0065259933\n"
     ]
    },
    {
     "data": {
      "image/png": "[encoded data removed]",
      "text/plain": [
       "<matplotlib.figure.Figure at 0x7f733139fa10>"
      ]
     },
     "metadata": {},
     "output_type": "display_data"
    }
   ],
   "source": [
    "for i,batch in enumerate(data_generator(gmm_loader,epoch_size=10)):\n",
    "    #batch = hagrd[10]\n",
    "    draw_sample(batch[0],batch[1],8,cfg.SEQ_LENGTH//8)\n",
    "    res = train_fn(*batch)\n",
    "    plt.hist(res[2],bins=40,label='positive')\n",
    "    plt.hist(res[3],bins=40,label='negative')\n",
    "    print res[2].min(),res[3].max()\n",
    "    plt.legend()\n",
    "    plt.show()\n",
    "    break"
   ]
  },
  {
   "cell_type": "code",
   "execution_count": 83,
   "metadata": {
    "collapsed": false
   },
   "outputs": [
    {
     "name": "stdout",
     "output_type": "stream",
     "text": [
      "0.995500610501                                                        \n"
     ]
    }
   ],
   "source": [
    "test_acc = 0\n",
    "for i,batch in enumerate(data_generator(gmm_loader,epoch_size=100)):\n",
    "    res = test_fn(*batch)\n",
    "    test_acc += accuracy(res[0],res[1],50)\n",
    "    print '\\r', (test_acc/(i+1)),"
   ]
  },
  {
   "cell_type": "code",
   "execution_count": null,
   "metadata": {
    "collapsed": true
   },
   "outputs": [],
   "source": []
  }
 ],
 "metadata": {
  "anaconda-cloud": {},
  "kernelspec": {
   "display_name": "Python 2",
   "language": "python",
   "name": "python2"
  },
  "language_info": {
   "codemirror_mode": {
    "name": "ipython",
    "version": 2
   },
   "file_extension": ".py",
   "mimetype": "text/x-python",
   "name": "python",
   "nbconvert_exporter": "python",
   "pygments_lexer": "ipython2",
   "version": "2.7.12"
  }
 },
 "nbformat": 4,
 "nbformat_minor": 2
}
