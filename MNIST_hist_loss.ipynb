{
 "cells": [
  {
   "cell_type": "code",
   "execution_count": 1,
   "metadata": {
    "collapsed": false
   },
   "outputs": [
    {
     "name": "stderr",
     "output_type": "stream",
     "text": [
      "Using cuDNN version 5105 on context None\n",
      "Mapped name None to device cuda: GeForce GT 740M (0000:01:00.0)\n"
     ]
    }
   ],
   "source": [
    "#coding=utf-8\n",
    "import matplotlib.pyplot as plt\n",
    "%matplotlib inline\n",
    "import matplotlib.cm as cm\n",
    "import matplotlib.patches as mpatches\n",
    "from matplotlib.offsetbox import AnnotationBbox, OffsetImage\n",
    "import numpy as np\n",
    "from lasagne import utils\n"
   ]
  },
  {
   "cell_type": "markdown",
   "metadata": {
    "collapsed": true
   },
   "source": [
    "# Prepare Data"
   ]
  },
  {
   "cell_type": "code",
   "execution_count": 2,
   "metadata": {
    "collapsed": false
   },
   "outputs": [
    {
     "data": {
      "image/png": "[encoded data removed]",
      "text/plain": [
       "<matplotlib.figure.Figure at 0x7efd62a20510>"
      ]
     },
     "metadata": {},
     "output_type": "display_data"
    },
    {
     "name": "stdout",
     "output_type": "stream",
     "text": [
      "(60000, 1, 28, 28)\n",
      "3.0\n"
     ]
    }
   ],
   "source": [
    "from sklearn.preprocessing import OneHotEncoder\n",
    "\n",
    "image_w = 18\n",
    "image_h = 18\n",
    "\n",
    "\n",
    "data = np.load(\"mnist.npz\")\n",
    "\n",
    "np.random.seed(1)\n",
    "\n",
    "X_val, y_val = data[\"test\"].reshape(28,28,-1), data[\"test_labels\"].flatten()\n",
    "X_train, y_train = data[\"train\"].reshape(28,28,-1), data[\"train_labels\"].flatten()\n",
    "X_test = X_val.copy()\n",
    "\n",
    "#prepare\n",
    "X_val = np.transpose(X_val,(2,0,1)).astype(np.float32)/255.\n",
    "X_train = np.transpose(X_train,(2,0,1)).astype(np.float32)/255.\n",
    "X_test = np.transpose(X_test,(2,0,1)).astype(np.float32)/255.\n",
    "\n",
    "\n",
    "X_train = X_train[:, np.newaxis,:,:]\n",
    "X_val = X_val[:, np.newaxis,:,:]\n",
    "X_test = X_test[:, np.newaxis,:,:]\n",
    "#show\n",
    "plt.gray()\n",
    "plt.imshow(X_train[20000,0,:,:])\n",
    "plt.show()\n",
    "print(X_train.shape)\n",
    "print(y_train[20000])"
   ]
  },
  {
   "cell_type": "code",
   "execution_count": 3,
   "metadata": {
    "collapsed": false
   },
   "outputs": [
    {
     "data": {
      "image/png": "[encoded data removed]",
      "text/plain": [
       "<matplotlib.figure.Figure at 0x7efd4c09cf50>"
      ]
     },
     "metadata": {},
     "output_type": "display_data"
    },
    {
     "data": {
      "image/png": "[encoded data removed]",
      "text/plain": [
       "<matplotlib.figure.Figure at 0x7efd0eef08d0>"
      ]
     },
     "metadata": {},
     "output_type": "display_data"
    },
    {
     "data": {
      "image/png": "[encoded data removed]",
      "text/plain": [
       "<matplotlib.figure.Figure at 0x7efd4ce4ce90>"
      ]
     },
     "metadata": {},
     "output_type": "display_data"
    }
   ],
   "source": [
    "import cv2\n",
    "from gauss_ll_hist import GaussLLHistModel\n",
    "import theano.tensor as T\n",
    "import theano\n",
    "\n",
    "one_affine = np.array([[1.0,0,0],[0,1,0]],dtype=np.float32)\n",
    "\n",
    "def affine_transform(im,noise_val=0.1):\n",
    "    affine = one_affine+(0.5-np.random.rand(2,3))*noise_val\n",
    "    affine[:,2] = np.random.rand(2)*noise_val*2\n",
    "    affine[:,:2] /= float(im.shape[0])/float(image_h)\n",
    "    res = cv2.warpAffine(im,affine,dsize=(image_w,image_h))\n",
    "    return res\n",
    "\n",
    "def preprocess(X,noise):\n",
    "    _X = np.zeros((len(X),1,image_w,image_h),dtype=np.float32)\n",
    "    for i in range(len(_X)):\n",
    "        _X[i,0,:,:] = affine_transform(X[i,0,:,:],noise)\n",
    "    return _X\n",
    "\n",
    "\n",
    "def data_generator(X, y, batch_size=500, noise=0.4):\n",
    "    inx = np.arange(0,len(X),dtype=np.int)\n",
    "    while True:\n",
    "        digit = np.random.randint(10)\n",
    "        p_inx = np.random.choice(inx[y == digit], size=batch_size*2)\n",
    "        n_inx = np.random.choice(inx[y != digit], size=batch_size)\n",
    "        batch_X = preprocess(X[p_inx[:batch_size]],noise)\n",
    "        batch_Yp = preprocess(X[p_inx[batch_size:]], noise) \n",
    "        batch_Yn = preprocess(X[n_inx], noise)         \n",
    "        yield batch_X,batch_Yp,batch_Yn\n",
    "\n",
    "for X,Yp,Yn in data_generator(X_train,y_train,1,0.4):\n",
    "    plt.gray()\n",
    "    plt.imshow(X[0,0,:,:])\n",
    "    plt.show()\n",
    "    plt.gray()\n",
    "    plt.imshow(Yp[0,0,:,:])\n",
    "    plt.show()\n",
    "    plt.gray()\n",
    "    plt.imshow(Yn[0,0,:,:])\n",
    "    plt.show()\n",
    "    break\n",
    "\n"
   ]
  },
  {
   "cell_type": "code",
   "execution_count": 4,
   "metadata": {
    "collapsed": false
   },
   "outputs": [],
   "source": [
    "gmm = GaussLLHistModel(100,2,150)"
   ]
  },
  {
   "cell_type": "code",
   "execution_count": 5,
   "metadata": {
    "collapsed": false
   },
   "outputs": [],
   "source": [
    "from sklearn import mixture\n",
    "\n",
    "class GMMGradOp(theano.Op):\n",
    "    def __init__(self, gaussLLHistModel):\n",
    "        super(GMMGradOp, self).__init__()\n",
    "        self.gaussLLHistModel = gaussLLHistModel\n",
    "        self.otypes = [T.fmatrix,T.fmatrix,T.fmatrix]\n",
    "        self.itypes = [T.fmatrix,T.fmatrix,T.fmatrix]\n",
    "\n",
    "    def perform(self, node, (x,yp,yn), output_storage):\n",
    "        dx,dyp,dyn = output_storage[0],output_storage[1],output_storage[2]\n",
    "        fdx,fdyp,fdyn = self.gaussLLHistModel.backward(x,yp,yn)\n",
    "        dx[0],dyp[0],dyn[0] = fdx.astype(np.float32),fdyp.astype(np.float32),fdyn.astype(np.float32)\n",
    "        \n",
    "        \n",
    "\n",
    "class GMMOp(theano.Op):\n",
    "    def __init__(self, gaussLLHistModel):\n",
    "        super(GMMOp, self).__init__()\n",
    "        self.gaussLLHistModel = gaussLLHistModel\n",
    "        self.otypes = [T.scalar]\n",
    "        self.itypes = [T.fmatrix,T.fmatrix,T.fmatrix]\n",
    "\n",
    "    def perform(self, node, (x,yp,yn), output_storage):\n",
    "        z = output_storage[0]\n",
    "        z[0] = self.gaussLLHistModel.forward(x,yp,yn)\n",
    "        \n",
    "    def grad(self, (X,Yp,Yn), output_grads):\n",
    "        return GMMGradOp(self.gaussLLHistModel)(X,Yp,Yn)\n",
    "    \n",
    "\n",
    "def gmm_prob(Y,means,covars,weights):\n",
    "    d = Y.shape[1]\n",
    "    prob = (-.5*d*np.log(2*np.pi)-.5*np.log(covars).sum(1))[None,:]\\\n",
    "            -0.5*((Y[:,None,:]-means[None,])**2/covars[None,:,:]).sum(2)\\\n",
    "            +np.log(weights)[None,:]\n",
    "    return np.exp(prob).sum(1)\n",
    "\n",
    "def build_gmm(X, gm_num):\n",
    "    gmm = mixture.GaussianMixture(covariance_type='diag',n_components=gm_num, max_iter=100)\n",
    "    gmm.fit(X)\n",
    "    return np.copy(gmm.means_), np.copy(gmm.covariances_), np.copy(gmm.weights_)\n",
    "\n",
    "def classify(X,Y,gm_num,rate):\n",
    "    Yll = gmm_prob(Y,*build_gmm(X,gm_num))\n",
    "    mask = np.zeros_like(Yll)\n",
    "    mask[Yll > rate] = 1.\n",
    "    return mask\n",
    "\n",
    "def accuracy(X,Yp,Yn,gm_num,rate):\n",
    "    cl = classify(X,np.concatenate((Yp,Yn)),gm_num,rate)\n",
    "    return (cl[:len(Yp)].sum()+len(Yn)-cl[len(Yp):].sum())/len(cl)\n"
   ]
  },
  {
   "cell_type": "markdown",
   "metadata": {},
   "source": [
    "# Build model"
   ]
  },
  {
   "cell_type": "code",
   "execution_count": 6,
   "metadata": {
    "collapsed": true
   },
   "outputs": [],
   "source": [
    "from lasagne import layers as L\n",
    "import theano.tensor as T\n",
    "import theano\n",
    "import lasagne\n",
    "from lasagne.nonlinearities import rectify,softmax"
   ]
  },
  {
   "cell_type": "code",
   "execution_count": 7,
   "metadata": {
    "collapsed": false
   },
   "outputs": [],
   "source": [
    "batch_size = 100\n",
    "\n",
    "def get_net(input_X,input_Yp,input_Yn):\n",
    "    def conv_unit(data,nf,nonl = rectify):\n",
    "        res =L.Conv2DLayer(data,nf,(3,3),nonlinearity=None)\n",
    "        res  =L.BatchNormLayer(res)\n",
    "        res = L.NonlinearityLayer(res,nonl)  \n",
    "        return res\n",
    "    X = L.InputLayer(shape=(batch_size,1, image_h,image_w), input_var=input_X)\n",
    "    Yp = L.InputLayer(shape=(batch_size,1, image_h,image_w), input_var=input_Yp)\n",
    "    Yn = L.InputLayer(shape=(batch_size,1, image_h,image_w), input_var=input_Yn)\n",
    "    res = L.ConcatLayer([X,Yp,Yn],axis=0)\n",
    "    res = conv_unit(res,6)\n",
    "    res = L.Pool2DLayer(res,(2,2))\n",
    "    res = conv_unit(res,12)\n",
    "    res = L.Pool2DLayer(res,(2,2))\n",
    "    res = conv_unit(res,24)\n",
    "    res = L.FlattenLayer(res)\n",
    "    res = L.DenseLayer(res,20)\n",
    "    fX = L.SliceLayer(res,slice(0,batch_size),axis=0)\n",
    "    fYp = L.SliceLayer(res,slice(batch_size,2*batch_size),axis=0)\n",
    "    fYn = L.SliceLayer(res,slice(batch_size*2,batch_size*3),axis=0)\n",
    "    return res,fX,fYp,fYn\n",
    "\n",
    "input_X = T.tensor4('X')\n",
    "input_Yp = T.tensor4('Yp')\n",
    "input_Yn = T.tensor4('Yn')\n",
    "net,fX,fYp,fYn = get_net(input_X,input_Yp,input_Yn)"
   ]
  },
  {
   "cell_type": "code",
   "execution_count": 8,
   "metadata": {
    "collapsed": false
   },
   "outputs": [],
   "source": [
    "from theano import tensor as T\n",
    "from theano.ifelse import ifelse\n",
    "\n",
    "def calc_log_prob_gauss_vector(Y,means,covars,weights = None):\n",
    "    n_samples, n_dim = Y.shape\n",
    "    if(weights is None):\n",
    "        lpr = (-0.5 * (n_dim * T.log(2 * np.pi) + T.sum(T.log(covars), 1)\n",
    "                      + T.sum((means ** 2) / covars, 1)\n",
    "                      - 2 * T.dot(Y, (means / covars).T)\n",
    "                      + T.dot(Y ** 2, T.transpose(1.0 / covars))))\n",
    "    else:\n",
    "        lpr = (-0.5 * (n_dim * T.log(2 * np.pi) + T.sum(T.log(covars), 1)\n",
    "                      + T.sum((means ** 2) / covars, 1)\n",
    "                      - 2 * T.dot(Y, (means / covars).T)\n",
    "                      + T.dot(Y ** 2, T.transpose(1.0 / covars))) + T.log(weights))\n",
    "    lpr = T.transpose(lpr, (1,0))\n",
    "    vmax = T.max(lpr,axis=0)\n",
    "    out = T.log(T.sum(T.exp(lpr- vmax), axis=0))\n",
    "    out += vmax\n",
    "    return out\n",
    "\n",
    "def histogram_loss(p_n, p_p,min_cov,bin_num): \n",
    "    '''\n",
    "    p_n -- negative values (theano vector)\n",
    "    p_p -- positive values (theano vector)\n",
    "    min_cov -- python float\n",
    "    bin_num -- python int\n",
    "    '''\n",
    "    def calc_hist_vals_vector_th(p, hmn, hmax):\n",
    "        sample_num = p.shape[0]\n",
    "        p_mat = T.tile(p.reshape((sample_num, 1)), (1, bin_num))\n",
    "        w = (hmax - hmn) / bin_num + min_cov\n",
    "        grid_vals = T.arange(0, bin_num)*(hmax-hmn)/bin_num+hmn+w/2.0\n",
    "        grid = T.tile(grid_vals, (sample_num, 1))\n",
    "        w_triang = 4 * w + min_cov\n",
    "        D = T._tensor_py_operators.__abs__(grid-p_mat)\n",
    "        mask = (D<=w_triang/2)\n",
    "        D_fin = w_triang * (D*(-2.0 / w_triang ** 2) + 1.0 / w_triang)*mask\n",
    "        hist_corr = T.sum(D_fin, 0)\n",
    "        return hist_corr\n",
    "    \n",
    "    def hist_loss(hn, hp):\n",
    "        scan_result, scan_updates = theano.scan(fn = lambda ind, A: T.sum(A[0:ind+1]),\n",
    "                    outputs_info=None,\n",
    "                    sequences=T.arange(bin_num),\n",
    "                    non_sequences=hp)\n",
    "        agg_p = scan_result\n",
    "        L = T.sum(T.dot(agg_p, hn))\n",
    "        return L\n",
    "    \n",
    "    def calc_min_max(p_n, p_p):\n",
    "        hminn = T.min(p_n)\n",
    "        hmaxn = T.max(p_n)\n",
    "        hminp = T.min(p_p)\n",
    "        hmaxp = T.max(p_p)\n",
    "        hmin = ifelse(T.lt(hminp,hminn), hminp, hminn)\n",
    "        hmax = ifelse(T.lt(hmaxp, hmaxn), hmaxn, hmaxp)\n",
    "        return hmax, hmin\n",
    "    \n",
    "    hmax, hmin = calc_min_max(p_n, p_p)\n",
    "    hmin -= min_cov\n",
    "    hmax += min_cov\n",
    "    hp = calc_hist_vals_vector_th(p_p, hmin, hmax)\n",
    "    hn = calc_hist_vals_vector_th(p_n, hmin, hmax)\n",
    "    L = hist_loss(hn, hp)\n",
    "    return L, hmax, hmin, hn, hp\n",
    "    "
   ]
  },
  {
   "cell_type": "markdown",
   "metadata": {},
   "source": [
    "# Load weights"
   ]
  },
  {
   "cell_type": "code",
   "execution_count": 9,
   "metadata": {
    "collapsed": false
   },
   "outputs": [],
   "source": [
    "\n",
    "def save_weights(network, name ):\n",
    "    np.savez(name+\".npz\", **{\"param%d\" % i: param for i, param in enumerate(L.get_all_param_values(network))})\n",
    "             \n",
    "def load_weights(network,name ):\n",
    "    f = np.load(name+\".npz\")\n",
    "    params = [f[\"param%d\" % i] for i in range(len(f.files))]\n",
    "    f.close()\n",
    "    L.set_all_param_values(network,params)\n",
    "    \n",
    "load_weights(net,'weights3')"
   ]
  },
  {
   "cell_type": "code",
   "execution_count": 10,
   "metadata": {
    "collapsed": false
   },
   "outputs": [],
   "source": [
    "\n",
    "params = lasagne.layers.get_all_params(net, trainable=True)\n",
    "\n",
    "outX = lasagne.layers.get_output(fX)\n",
    "outX = outX/T.sqrt(T.square(outX).sum(1)[:,None])\n",
    "\n",
    "outYp = lasagne.layers.get_output(fYp)\n",
    "outYp = outYp/T.sqrt(T.square(outYp).sum(1)[:,None])\n",
    "\n",
    "outYn = lasagne.layers.get_output(fYn)\n",
    "outYn = outYn/T.sqrt(T.square(outYn).sum(1)[:,None])\n",
    "\n",
    "mean = T.mean(outX,axis=0).reshape((1,-1))\n",
    "covars = (T.std(outX,axis=0)+0.0001).reshape((1,-1))\n",
    "\n",
    "p_p = calc_log_prob_gauss_vector(outYp,mean,covars)\n",
    "p_n = calc_log_prob_gauss_vector(outYn,mean,covars)\n",
    "\n",
    "loss = GMMOp(gmm)(outX,outYp,outYn)#histogram_loss(p_n,p_p,0.0001,200)[0]#\n",
    "\n",
    "G_lr = theano.shared(np.array(0.0001, dtype=theano.config.floatX))\n",
    "updates = lasagne.updates.adam(loss,params,G_lr)\n"
   ]
  },
  {
   "cell_type": "code",
   "execution_count": 11,
   "metadata": {
    "collapsed": false
   },
   "outputs": [
    {
     "name": "stdout",
     "output_type": "stream",
     "text": [
      "train_fn compiled\n",
      "test_fn compiled\n"
     ]
    }
   ],
   "source": [
    "train_fn = theano.function([input_X, input_Yp,input_Yn], [loss], allow_input_downcast=True, updates=updates)\n",
    "print 'train_fn compiled'\n",
    "test_fn  = theano.function([input_X, input_Yp,input_Yn],[outX,outYp,outYn], allow_input_downcast=True)\n",
    "print 'test_fn compiled'"
   ]
  },
  {
   "cell_type": "code",
   "execution_count": 12,
   "metadata": {
    "collapsed": false
   },
   "outputs": [],
   "source": [
    "G_lr.set_value(np.float32(0.00001))"
   ]
  },
  {
   "cell_type": "code",
   "execution_count": 13,
   "metadata": {
    "collapsed": false
   },
   "outputs": [],
   "source": [
    "import warnings\n",
    "warnings.filterwarnings('ignore')"
   ]
  },
  {
   "cell_type": "code",
   "execution_count": 23,
   "metadata": {
    "collapsed": false,
    "scrolled": true
   },
   "outputs": [
    {
     "name": "stdout",
     "output_type": "stream",
     "text": [
      " epoch 0 batch 100 loss=293.06                                                \n",
      " epoch 1 batch 100 loss=317.34                                                \n",
      " epoch 2 batch 100 loss=310.20                                                 \n",
      " epoch 3 batch 100 loss=311.31                                                \n",
      " epoch 4 batch 100 loss=309.68                                                 \n",
      " epoch 5 batch 100 loss=309.61                                                 \n",
      " epoch 6 batch 100 loss=272.03                                                \n",
      " epoch 7 batch 100 loss=325.20                                                \n",
      " epoch 8 batch 100 loss=344.24                                                \n",
      " epoch 9 batch 100 loss=316.05                                                 \n",
      " epoch 10 batch 100 loss=268.62                                                \n",
      " epoch 11 batch 100 loss=285.72                                                 \n",
      " epoch 12 batch 100 loss=316.80                                                 \n",
      " epoch 13 batch 12 loss=270.15      "
     ]
    },
    {
     "ename": "KeyboardInterrupt",
     "evalue": "",
     "output_type": "error",
     "traceback": [
      "\u001b[0;31m---------------------------------------------------------------------------\u001b[0m",
      "\u001b[0;31mKeyboardInterrupt\u001b[0m                         Traceback (most recent call last)",
      "\u001b[0;32m<ipython-input-23-acb93c014704>\u001b[0m in \u001b[0;36m<module>\u001b[0;34m()\u001b[0m\n\u001b[1;32m      1\u001b[0m \u001b[0;32mfor\u001b[0m \u001b[0mj\u001b[0m \u001b[0;32min\u001b[0m \u001b[0mrange\u001b[0m\u001b[0;34m(\u001b[0m\u001b[0;36m0\u001b[0m\u001b[0;34m,\u001b[0m\u001b[0;36m1000\u001b[0m\u001b[0;34m)\u001b[0m\u001b[0;34m:\u001b[0m\u001b[0;34m\u001b[0m\u001b[0m\n\u001b[1;32m      2\u001b[0m     \u001b[0mtrain_loss\u001b[0m\u001b[0;34m=\u001b[0m\u001b[0;36m0\u001b[0m\u001b[0;34m\u001b[0m\u001b[0m\n\u001b[0;32m----> 3\u001b[0;31m     \u001b[0;32mfor\u001b[0m \u001b[0mi\u001b[0m\u001b[0;34m,\u001b[0m\u001b[0mbatch\u001b[0m \u001b[0;32min\u001b[0m \u001b[0menumerate\u001b[0m\u001b[0;34m(\u001b[0m\u001b[0mdata_generator\u001b[0m\u001b[0;34m(\u001b[0m\u001b[0mX_train\u001b[0m\u001b[0;34m,\u001b[0m\u001b[0my_train\u001b[0m\u001b[0;34m,\u001b[0m\u001b[0mbatch_size\u001b[0m\u001b[0;34m)\u001b[0m\u001b[0;34m)\u001b[0m\u001b[0;34m:\u001b[0m\u001b[0;34m\u001b[0m\u001b[0m\n\u001b[0m\u001b[1;32m      4\u001b[0m         \u001b[0mres\u001b[0m \u001b[0;34m=\u001b[0m \u001b[0mtrain_fn\u001b[0m\u001b[0;34m(\u001b[0m\u001b[0;34m*\u001b[0m\u001b[0mbatch\u001b[0m\u001b[0;34m)\u001b[0m\u001b[0;34m\u001b[0m\u001b[0m\n\u001b[1;32m      5\u001b[0m         \u001b[0mtrain_loss\u001b[0m\u001b[0;34m+=\u001b[0m\u001b[0mres\u001b[0m\u001b[0;34m[\u001b[0m\u001b[0;36m0\u001b[0m\u001b[0;34m]\u001b[0m\u001b[0;34m\u001b[0m\u001b[0m\n",
      "\u001b[0;32m<ipython-input-3-8dd7affb437e>\u001b[0m in \u001b[0;36mdata_generator\u001b[0;34m(X, y, batch_size, noise)\u001b[0m\n\u001b[1;32m     28\u001b[0m         \u001b[0mbatch_X\u001b[0m \u001b[0;34m=\u001b[0m \u001b[0mpreprocess\u001b[0m\u001b[0;34m(\u001b[0m\u001b[0mX\u001b[0m\u001b[0;34m[\u001b[0m\u001b[0mp_inx\u001b[0m\u001b[0;34m[\u001b[0m\u001b[0;34m:\u001b[0m\u001b[0mbatch_size\u001b[0m\u001b[0;34m]\u001b[0m\u001b[0;34m]\u001b[0m\u001b[0;34m,\u001b[0m\u001b[0mnoise\u001b[0m\u001b[0;34m)\u001b[0m\u001b[0;34m\u001b[0m\u001b[0m\n\u001b[1;32m     29\u001b[0m         \u001b[0mbatch_Yp\u001b[0m \u001b[0;34m=\u001b[0m \u001b[0mpreprocess\u001b[0m\u001b[0;34m(\u001b[0m\u001b[0mX\u001b[0m\u001b[0;34m[\u001b[0m\u001b[0mp_inx\u001b[0m\u001b[0;34m[\u001b[0m\u001b[0mbatch_size\u001b[0m\u001b[0;34m:\u001b[0m\u001b[0;34m]\u001b[0m\u001b[0;34m]\u001b[0m\u001b[0;34m,\u001b[0m \u001b[0mnoise\u001b[0m\u001b[0;34m)\u001b[0m\u001b[0;34m\u001b[0m\u001b[0m\n\u001b[0;32m---> 30\u001b[0;31m         \u001b[0mbatch_Yn\u001b[0m \u001b[0;34m=\u001b[0m \u001b[0mpreprocess\u001b[0m\u001b[0;34m(\u001b[0m\u001b[0mX\u001b[0m\u001b[0;34m[\u001b[0m\u001b[0mn_inx\u001b[0m\u001b[0;34m]\u001b[0m\u001b[0;34m,\u001b[0m \u001b[0mnoise\u001b[0m\u001b[0;34m)\u001b[0m\u001b[0;34m\u001b[0m\u001b[0m\n\u001b[0m\u001b[1;32m     31\u001b[0m         \u001b[0;32myield\u001b[0m \u001b[0mbatch_X\u001b[0m\u001b[0;34m,\u001b[0m\u001b[0mbatch_Yp\u001b[0m\u001b[0;34m,\u001b[0m\u001b[0mbatch_Yn\u001b[0m\u001b[0;34m\u001b[0m\u001b[0m\n\u001b[1;32m     32\u001b[0m \u001b[0;34m\u001b[0m\u001b[0m\n",
      "\u001b[0;32m<ipython-input-3-8dd7affb437e>\u001b[0m in \u001b[0;36mpreprocess\u001b[0;34m(X, noise)\u001b[0m\n\u001b[1;32m     16\u001b[0m     \u001b[0m_X\u001b[0m \u001b[0;34m=\u001b[0m \u001b[0mnp\u001b[0m\u001b[0;34m.\u001b[0m\u001b[0mzeros\u001b[0m\u001b[0;34m(\u001b[0m\u001b[0;34m(\u001b[0m\u001b[0mlen\u001b[0m\u001b[0;34m(\u001b[0m\u001b[0mX\u001b[0m\u001b[0;34m)\u001b[0m\u001b[0;34m,\u001b[0m\u001b[0;36m1\u001b[0m\u001b[0;34m,\u001b[0m\u001b[0mimage_w\u001b[0m\u001b[0;34m,\u001b[0m\u001b[0mimage_h\u001b[0m\u001b[0;34m)\u001b[0m\u001b[0;34m,\u001b[0m\u001b[0mdtype\u001b[0m\u001b[0;34m=\u001b[0m\u001b[0mnp\u001b[0m\u001b[0;34m.\u001b[0m\u001b[0mfloat32\u001b[0m\u001b[0;34m)\u001b[0m\u001b[0;34m\u001b[0m\u001b[0m\n\u001b[1;32m     17\u001b[0m     \u001b[0;32mfor\u001b[0m \u001b[0mi\u001b[0m \u001b[0;32min\u001b[0m \u001b[0mrange\u001b[0m\u001b[0;34m(\u001b[0m\u001b[0mlen\u001b[0m\u001b[0;34m(\u001b[0m\u001b[0m_X\u001b[0m\u001b[0;34m)\u001b[0m\u001b[0;34m)\u001b[0m\u001b[0;34m:\u001b[0m\u001b[0;34m\u001b[0m\u001b[0m\n\u001b[0;32m---> 18\u001b[0;31m         \u001b[0m_X\u001b[0m\u001b[0;34m[\u001b[0m\u001b[0mi\u001b[0m\u001b[0;34m,\u001b[0m\u001b[0;36m0\u001b[0m\u001b[0;34m,\u001b[0m\u001b[0;34m:\u001b[0m\u001b[0;34m,\u001b[0m\u001b[0;34m:\u001b[0m\u001b[0;34m]\u001b[0m \u001b[0;34m=\u001b[0m \u001b[0maffine_transform\u001b[0m\u001b[0;34m(\u001b[0m\u001b[0mX\u001b[0m\u001b[0;34m[\u001b[0m\u001b[0mi\u001b[0m\u001b[0;34m,\u001b[0m\u001b[0;36m0\u001b[0m\u001b[0;34m,\u001b[0m\u001b[0;34m:\u001b[0m\u001b[0;34m,\u001b[0m\u001b[0;34m:\u001b[0m\u001b[0;34m]\u001b[0m\u001b[0;34m,\u001b[0m\u001b[0mnoise\u001b[0m\u001b[0;34m)\u001b[0m\u001b[0;34m\u001b[0m\u001b[0m\n\u001b[0m\u001b[1;32m     19\u001b[0m     \u001b[0;32mreturn\u001b[0m \u001b[0m_X\u001b[0m\u001b[0;34m\u001b[0m\u001b[0m\n\u001b[1;32m     20\u001b[0m \u001b[0;34m\u001b[0m\u001b[0m\n",
      "\u001b[0;32m<ipython-input-3-8dd7affb437e>\u001b[0m in \u001b[0;36maffine_transform\u001b[0;34m(im, noise_val)\u001b[0m\n\u001b[1;32m      7\u001b[0m \u001b[0;34m\u001b[0m\u001b[0m\n\u001b[1;32m      8\u001b[0m \u001b[0;32mdef\u001b[0m \u001b[0maffine_transform\u001b[0m\u001b[0;34m(\u001b[0m\u001b[0mim\u001b[0m\u001b[0;34m,\u001b[0m\u001b[0mnoise_val\u001b[0m\u001b[0;34m=\u001b[0m\u001b[0;36m0.1\u001b[0m\u001b[0;34m)\u001b[0m\u001b[0;34m:\u001b[0m\u001b[0;34m\u001b[0m\u001b[0m\n\u001b[0;32m----> 9\u001b[0;31m     \u001b[0maffine\u001b[0m \u001b[0;34m=\u001b[0m \u001b[0mone_affine\u001b[0m\u001b[0;34m+\u001b[0m\u001b[0;34m(\u001b[0m\u001b[0;36m0.5\u001b[0m\u001b[0;34m-\u001b[0m\u001b[0mnp\u001b[0m\u001b[0;34m.\u001b[0m\u001b[0mrandom\u001b[0m\u001b[0;34m.\u001b[0m\u001b[0mrand\u001b[0m\u001b[0;34m(\u001b[0m\u001b[0;36m2\u001b[0m\u001b[0;34m,\u001b[0m\u001b[0;36m3\u001b[0m\u001b[0;34m)\u001b[0m\u001b[0;34m)\u001b[0m\u001b[0;34m*\u001b[0m\u001b[0mnoise_val\u001b[0m\u001b[0;34m\u001b[0m\u001b[0m\n\u001b[0m\u001b[1;32m     10\u001b[0m     \u001b[0maffine\u001b[0m\u001b[0;34m[\u001b[0m\u001b[0;34m:\u001b[0m\u001b[0;34m,\u001b[0m\u001b[0;36m2\u001b[0m\u001b[0;34m]\u001b[0m \u001b[0;34m=\u001b[0m \u001b[0mnp\u001b[0m\u001b[0;34m.\u001b[0m\u001b[0mrandom\u001b[0m\u001b[0;34m.\u001b[0m\u001b[0mrand\u001b[0m\u001b[0;34m(\u001b[0m\u001b[0;36m2\u001b[0m\u001b[0;34m)\u001b[0m\u001b[0;34m*\u001b[0m\u001b[0mnoise_val\u001b[0m\u001b[0;34m*\u001b[0m\u001b[0;36m2\u001b[0m\u001b[0;34m\u001b[0m\u001b[0m\n\u001b[1;32m     11\u001b[0m     \u001b[0maffine\u001b[0m\u001b[0;34m[\u001b[0m\u001b[0;34m:\u001b[0m\u001b[0;34m,\u001b[0m\u001b[0;34m:\u001b[0m\u001b[0;36m2\u001b[0m\u001b[0;34m]\u001b[0m \u001b[0;34m/=\u001b[0m \u001b[0mfloat\u001b[0m\u001b[0;34m(\u001b[0m\u001b[0mim\u001b[0m\u001b[0;34m.\u001b[0m\u001b[0mshape\u001b[0m\u001b[0;34m[\u001b[0m\u001b[0;36m0\u001b[0m\u001b[0;34m]\u001b[0m\u001b[0;34m)\u001b[0m\u001b[0;34m/\u001b[0m\u001b[0mfloat\u001b[0m\u001b[0;34m(\u001b[0m\u001b[0mimage_h\u001b[0m\u001b[0;34m)\u001b[0m\u001b[0;34m\u001b[0m\u001b[0m\n",
      "\u001b[0;31mKeyboardInterrupt\u001b[0m: "
     ]
    }
   ],
   "source": [
    "for j in range(0,1000):\n",
    "    train_loss=0\n",
    "    for i,batch in enumerate(data_generator(X_train,y_train,batch_size)):\n",
    "        res = train_fn(*batch)\n",
    "        train_loss+=res[0]\n",
    "        print '\\r epoch %i batch %i loss=%.2f'%(j,i,train_loss/float(i+1)),\n",
    "        if(i == 100):\n",
    "            break\n",
    "    print ''"
   ]
  },
  {
   "cell_type": "code",
   "execution_count": 61,
   "metadata": {
    "collapsed": false
   },
   "outputs": [],
   "source": [
    "x,xp,xn = test_fn(*batch)\n",
    "means,covars,weights,_ = gmm.build_gmm(x,min_cov=0.0001)\n",
    "res = gmm.f(xp.flatten(),means.flatten(),covars.flatten(),weights.flatten())"
   ]
  },
  {
   "cell_type": "code",
   "execution_count": 62,
   "metadata": {
    "collapsed": false
   },
   "outputs": [
    {
     "name": "stdout",
     "output_type": "stream",
     "text": [
      "25.1155986807\n"
     ]
    }
   ],
   "source": [
    "print res.max()"
   ]
  },
  {
   "cell_type": "code",
   "execution_count": 24,
   "metadata": {
    "collapsed": false
   },
   "outputs": [
    {
     "name": "stdout",
     "output_type": "stream",
     "text": [
      " ebatch 30 loss=0.96   \n"
     ]
    }
   ],
   "source": [
    "test_loss=0\n",
    "for i,batch in enumerate(data_generator(X_train,y_train,batch_size)):\n",
    "    res = test_fn(*batch)\n",
    "    test_loss+=accuracy(*res,gm_num=2,rate=100000)\n",
    "    print '\\r ebatch %i loss=%.2f'%(i,test_loss/float(i+1)),\n",
    "    if(i == 30):\n",
    "        break\n",
    "print ''"
   ]
  },
  {
   "cell_type": "markdown",
   "metadata": {},
   "source": [
    "# Save model"
   ]
  },
  {
   "cell_type": "code",
   "execution_count": 29,
   "metadata": {
    "collapsed": false
   },
   "outputs": [],
   "source": [
    "save_weights(net,'weights3')"
   ]
  },
  {
   "cell_type": "code",
   "execution_count": null,
   "metadata": {
    "collapsed": true
   },
   "outputs": [],
   "source": []
  }
 ],
 "metadata": {
  "anaconda-cloud": {},
  "kernelspec": {
   "display_name": "Python 2",
   "language": "python",
   "name": "python2"
  },
  "language_info": {
   "codemirror_mode": {
    "name": "ipython",
    "version": 2
   },
   "file_extension": ".py",
   "mimetype": "text/x-python",
   "name": "python",
   "nbconvert_exporter": "python",
   "pygments_lexer": "ipython2",
   "version": "2.7.12"
  }
 },
 "nbformat": 4,
 "nbformat_minor": 2
}
