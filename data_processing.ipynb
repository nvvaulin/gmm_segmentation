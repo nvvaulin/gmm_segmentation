{
 "cells": [
  {
   "cell_type": "code",
   "execution_count": 1,
   "metadata": {
    "collapsed": false
   },
   "outputs": [],
   "source": [
    "import numpy as np"
   ]
  },
  {
   "cell_type": "code",
   "execution_count": 14,
   "metadata": {
    "collapsed": false
   },
   "outputs": [],
   "source": [
    "from dataset_tools import image_to_ties,ties_to_image\n",
    "def test_ties_to_image_and_image_to_ties(seed=None):\n",
    "    if not(seed is None):\n",
    "        np.random.seed(seed)\n",
    "    tie_w = np.random.randint(1,40)\n",
    "    tie_h = np.random.randint(1,40)\n",
    "    rows = np.random.randint(1,10)\n",
    "    cols = np.random.randint(1,10)\n",
    "    \n",
    "    img = np.random.rand(rows*tie_h,cols*tie_w,3)\n",
    "    ties = image_to_ties(img,tie_w,tie_h)\n",
    "    assert (ties_to_image(ties,cols,rows)-img).sum() < 1e-8,'image_to_ties->ties_to_image failed for 3 channel'\n",
    "    \n",
    "    ties = np.random.rand(rows*cols,tie_h,tie_w,3)\n",
    "    img = ties_to_image(ties,cols,rows)\n",
    "    assert (image_to_ties(img,tie_w,tie_h)-ties).sum()<1e-8,'ties_to_image->image_to_ties failed for 3 channel'\n",
    "    \n",
    "    ties = np.random.rand(rows*cols,tie_h,tie_w)\n",
    "    img = ties_to_image(ties,cols,rows)\n",
    "    assert (image_to_ties(img,tie_w,tie_h)-ties).sum()<1e-8,'ties_to_image->image_to_ties failed for 1 channel'\n",
    "    \n",
    "    ties = np.clip(np.random.rand(rows*cols,tie_w,tie_h,3)+100,1,10)\n",
    "    img = ties_to_image(ties)\n",
    "    _ties = image_to_ties(img,tie_h,tie_w)\n",
    "    assert (_ties[_ties.sum((1,2,3)) > 0.01]-ties).sum()<1e-8,'ties_to_image->image_to_ties failed for any cols,rows'\n",
    "    \n",
    "test_ties_to_image_and_image_to_ties(1)"
   ]
  }
 ],
 "metadata": {
  "kernelspec": {
   "display_name": "Python 2",
   "language": "python",
   "name": "python2"
  },
  "language_info": {
   "codemirror_mode": {
    "name": "ipython",
    "version": 2
   },
   "file_extension": ".py",
   "mimetype": "text/x-python",
   "name": "python",
   "nbconvert_exporter": "python",
   "pygments_lexer": "ipython2",
   "version": "2.7.6"
  }
 },
 "nbformat": 4,
 "nbformat_minor": 0
}
