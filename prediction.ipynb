{
 "cells": [
  {
   "cell_type": "code",
   "execution_count": 1,
   "metadata": {
    "collapsed": false
   },
   "outputs": [
    {
     "name": "stderr",
     "output_type": "stream",
     "text": [
      "Using cuDNN version 5105 on context None\n",
      "Mapped name None to device cuda: GeForce GT 740M (0000:01:00.0)\n"
     ]
    }
   ],
   "source": [
    "import theano\n",
    "import theano.tensor as T\n",
    "import cv2\n",
    "import numpy as np\n",
    "import matplotlib.pyplot as plt\n",
    "%matplotlib inline"
   ]
  },
  {
   "cell_type": "code",
   "execution_count": 2,
   "metadata": {
    "collapsed": true
   },
   "outputs": [],
   "source": []
  },
  {
   "cell_type": "code",
   "execution_count": 3,
   "metadata": {
    "collapsed": false
   },
   "outputs": [],
   "source": [
    "from utils import get_network_str,load_weights\n",
    "import lasagne\n",
    "from symbols import make_net\n",
    "import theano.tensor as T\n",
    "\n",
    "\n",
    "def make_feature_fn(model_path='models/gmm099_loss-234.46',ndim=24):\n",
    "    data = T.tensor4(name='data')\n",
    "    net = make_net(data,ndim,use_score=True)\n",
    "    load_weights(net,model_path)\n",
    "    net_output = lasagne.layers.get_output(net)\n",
    "    net_output = T.transpose(net_output,(0,2,3,1))\n",
    "    X = net_output[:,:,:,1:]\n",
    "    general_dist = net_output[:,:,:,:1]\n",
    "    X = X/(T.sqrt(T.square(X).sum(3)+np.float32(1e-8))[:,:,:,None])\n",
    "    net_output = T.concatenate([general_dist,X],axis=3)    \n",
    "    return  theano.function([data],net_output)\n",
    "\n",
    "features_fn = make_feature_fn()"
   ]
  },
  {
   "cell_type": "code",
   "execution_count": 4,
   "metadata": {
    "collapsed": false
   },
   "outputs": [],
   "source": [
    "from gmm_bg_substructor import BackgroundSubtraction\n",
    "\n",
    "classical_params =  { 'algorithm': 'grimson_gmm', \n",
    "                        'low': 3.0 * 3.0,\n",
    "                        'high': 3.0 * 3.0 * 2,\n",
    "                        'alpha': 0.01,\n",
    "                        'max_modes': 3,\n",
    "                        'channels': 2,\n",
    "                        'variance': 36.,\n",
    "                        'bg_threshold': 0.75,\n",
    "                        'min_variance': 4.,\n",
    "                        'variance_factor': 5.}\n",
    "\n",
    "deep_params =  { 'algorithm': 'grimson_gmm', \n",
    "                        'low': 20.,#*24*24,\n",
    "                        'high': 30,#.*24*24,\n",
    "                        'alpha': 0.01,\n",
    "                        'max_modes': 3,\n",
    "                        'channels': 2,\n",
    "                        'variance': 3.,\n",
    "                        'bg_threshold': 0.75,\n",
    "                        'min_variance': .5,\n",
    "                        'variance_factor': 3.}\n",
    "\n",
    "\n",
    "class ClassicBG:\n",
    "    def __init__(self,params):\n",
    "        self.bg_sub = BackgroundSubtraction()\n",
    "        self.init = False\n",
    "        self.params = params\n",
    "        self.i = 0 \n",
    "\n",
    "    def update(self,img):\n",
    "        img = img.astype(np.float32)\n",
    "        high_threshold_mask = np.zeros(shape=img.shape[0:2], dtype=np.uint8)\n",
    "        low_threshold_mask = np.zeros_like(high_threshold_mask)\n",
    "        self.params['channels'] = img.shape[-1]\n",
    "        if(not  self.init):\n",
    "            self.bg_sub.init_model(img, self.params)\n",
    "            self.init = True\n",
    "        self.bg_sub.subtract(self.i, img, low_threshold_mask, high_threshold_mask)\n",
    "        self.i = self.i+1\n",
    "        return low_threshold_mask"
   ]
  },
  {
   "cell_type": "code",
   "execution_count": 9,
   "metadata": {
    "collapsed": false
   },
   "outputs": [
    {
     "name": "stdout",
     "output_type": "stream",
     "text": [
      "500dWeather/blizzard  0\n",
      "500eline/highway  0\n",
      "325eraJitter/badminton  0\n",
      "500amicBackground/boats  0\n",
      "intermittentObjectMotion/abandonedBox  \n",
      "lowFramerate/port_0_17fps  \n",
      "nightVideos/bridgeEntry  \n",
      "34Z/continuousPan  0\n",
      "500dow/backdoor  0\n",
      "500rmal/corridor  0\n",
      "turbulence/turbulence0  \n"
     ]
    }
   ],
   "source": [
    "\n",
    "bg_sub = ClassicBG(classical_params)\n",
    "\n",
    "\n",
    "def make_test(out_dir,dataset='dataset',max_frames=500,im_size = (320,240)):\n",
    "    for d in os.listdir(dataset):\n",
    "        if not(os.path.isdir(dataset+'/'+d)):\n",
    "            continue\n",
    "        folder = d+'/'+os.listdir(dataset+'/'+d)[0]\n",
    "        out_folder = out_dir+'/'+folder\n",
    "        make_path(out_folder)\n",
    "        print folder+' ',\n",
    "        for i,(img,mask) in enumerate(iterate_video(dataset+'/'+folder)):\n",
    "            img,mask = resize(img,mask,im_size)\n",
    "            #data = np.transpose(img[np.newaxis,...],(0,3,1,2)).astype(np.float32)\n",
    "            #data = features_fn(data)[0]\n",
    "            #out = bg_sub.update(data)\n",
    "            out = bg_sub.update(img)\n",
    "            cv2.imwrite(out_folder+'/'+str(i)+'.jpg',out)\n",
    "            cv2.imwrite(out_folder+'/'+str(i)+'_true.jpg',mask)\n",
    "            print str(i)+'\\r',\n",
    "            if(i == max_frames):\n",
    "                break\n",
    "        print ''\n",
    "make_test('gmm')"
   ]
  },
  {
   "cell_type": "code",
   "execution_count": 11,
   "metadata": {
    "collapsed": false
   },
   "outputs": [
    {
     "name": "stdout",
     "output_type": "stream",
     "text": [
      "\n",
      "\n",
      "\n",
      "PTZ/continuousPan 34\n",
      "shadow/backdoor 500\n",
      "thermal/corridor 500\n",
      "\n"
     ]
    }
   ],
   "source": [
    "\n",
    "bg_sub = ClassicBG(deep_params)\n",
    "def make_test(out_dir,dataset='dataset',max_frames=500,im_size = (320,240)):\n",
    "    for d in os.listdir(dataset):\n",
    "        if not(os.path.isdir(dataset+'/'+d)):\n",
    "            continue\n",
    "        folder = d+'/'+os.listdir(dataset+'/'+d)[0]\n",
    "        out_folder = out_dir+'/'+folder\n",
    "        make_path(out_folder)\n",
    "        for i,(img,mask) in enumerate(iterate_video(dataset+'/'+folder)):\n",
    "            img,mask = resize(img,mask,im_size)\n",
    "            data = np.transpose(img[np.newaxis,...],(0,3,1,2)).astype(np.float32)\n",
    "            data = features_fn(data)[0]\n",
    "            out = bg_sub.update(data)\n",
    "            cv2.imwrite(out_folder+'/'+str(i)+'.jpg',out)\n",
    "            cv2.imwrite(out_folder+'/'+str(i)+'_true.jpg',mask)\n",
    "            print folder+' '+str(i)+'\\r',\n",
    "            if(i == max_frames):\n",
    "                break\n",
    "        print ''\n",
    "make_test('deep_gmm')"
   ]
  },
  {
   "cell_type": "code",
   "execution_count": 79,
   "metadata": {
    "collapsed": true
   },
   "outputs": [],
   "source": [
    "def calc_metrics_img(predict,label):\n",
    "    mask = (label>230)|(label < 50)\n",
    "    def prepare(x):\n",
    "        res = np.zeros_like(x,dtype=np.float32)\n",
    "        res[x > 240]  = 1\n",
    "        return res[mask].flatten()\n",
    "    p = prepare(predict)\n",
    "    y = prepare(label)\n",
    "    TP = (p*y).sum()\n",
    "    TN = ((1-p)*(1-y)).sum()\n",
    "    FP = (p*(1.0-y)).sum()\n",
    "    FN = ((1.0-p)*y).sum()\n",
    "    return np.array([TP,TN,FP,FN])\n",
    "\n",
    "    \n",
    "def list_all_jpg(d):\n",
    "    res = []\n",
    "    for i in os.listdir(d):\n",
    "        p = d+'/'+i\n",
    "        if(os.path.isdir(p)):\n",
    "            res = res+list_all_jpg(p)\n",
    "        else:\n",
    "            if(p[-3:] == 'jpg'):\n",
    "                if(p.find('true') < 0):\n",
    "                    res.append(p)\n",
    "    return res\n",
    "    \n",
    "    \n",
    "\n",
    "def calc_metrics_folder(data_dir):\n",
    "    res = []\n",
    "    for j in os.listdir(data_dir):\n",
    "        if(j.find('true')>=0):\n",
    "            continue\n",
    "        pred = cv2.imread(data_dir+'/'+j)\n",
    "        if(pred.mean() > 240):\n",
    "            continue\n",
    "        true = cv2.imread(data_dir+'/'+j[:-4]+'_true.jpg')\n",
    "        res.append(calc_metrics_img(pred,true))\n",
    "    return np.array(res).sum(0)\n",
    "\n",
    "def calc_metric_all_folders(data_dir):\n",
    "    res = []\n",
    "    for j in os.listdir(data_dir):\n",
    "        folder = data_dir+'/'+j+'/'+os.listdir(data_dir+'/'+j)[0]\n",
    "        res.append(calc_metrics_folder(folder))\n",
    "        print folder,res[-1]\n",
    "    return np.array(res).sum(0)\n",
    "    \n",
    "\n",
    "\n",
    "def print_total_metric(data_dir):\n",
    "    res = calc_metric_all_folders(data_dir)\n",
    "    print res\n",
    "    TP,TN,FP,FN = res[0],res[1],res[2],res[3]\n",
    "    results = dict( Recall = TP / (TP + FN),\\\n",
    "            Sp = TN / (TN + FP),\\\n",
    "            FPR = FP / (FP + TN),\\\n",
    "            FNR = FN / (TP + FN),\\\n",
    "            PWC =  100 * (FN + FP) / (TP + FN + FP + TN),\\\n",
    "            F_Measure  =  (2 * (TP / (TP + FP)) * (TP / (TP + FN))) / (TP / (TP + FP) +  TP / (TP + FN)),\\\n",
    "            Precision  = TP / (TP + FP))\n",
    "    print results"
   ]
  },
  {
   "cell_type": "code",
   "execution_count": 71,
   "metadata": {
    "collapsed": false
   },
   "outputs": [],
   "source": [
    "from sklearn import mixture\n",
    "from gmm_op import calc_log_prob_gmm,calc_log_prob_gmm_componetwise\n",
    "from numba import jit\n",
    "\n",
    "def make_predict_fn(ndim=24,param_value = 11.5):\n",
    "    means,covars,weights = T.matrix(),T.matrix(),T.vector()\n",
    "    net_output = T.matrix()\n",
    "    general_dist = net_output[:,:1]\n",
    "    X = net_output[:,1:]\n",
    "    p = calc_log_prob_gmm_componetwise(X,means,covars,weights)\n",
    "    p = T.nnet.softmax(T.concatenate([p,general_dist],axis=1))\n",
    "    rate = weights/(T.mean(covars,1)+np.float32(1e-8))\n",
    "    rate_param = theano.shared(np.float32(param_value),name='rate_param',allow_downcast=True)\n",
    "    soft_sign = T.concatenate([T.tanh(rate- rate_param),-T.ones((1,))])\n",
    "    \n",
    "    prediction = T.max((1.+T.sgn(p-T.max(p,1)[:,None]+np.float32(1e-10)))*T.sgn(soft_sign)[None,:],1)/2.\n",
    "    return theano.function([net_output,means,covars,weights],prediction,allow_input_downcast=True),rate_param\n",
    "\n",
    "def predict_pixel(pixel,predict_fn,gmm = mixture.GaussianMixture(covariance_type='diag',\n",
    "                                           n_components=4,\n",
    "                                           max_iter=2000,\n",
    "                                           warm_start=False)):\n",
    "    gmm.fit(pixel[:,1:])\n",
    "    return predict_fn(pixel,gmm.means_.astype(np.float32),gmm.covariances_.astype(np.float32),gmm.weights_.astype(np.float32))\n",
    "    \n",
    "\n",
    "def predict_pixelwise(features,gmms,predict_fn):\n",
    "    res = np.zeros_like(features[:,:,:,0])\n",
    "    for i in range(features.shape[1]):\n",
    "        for j in range(features.shape[2]):\n",
    "            res[:,i,j] = predict_pixel(features[:,i,j,:],predict_fn,gmms[i*features.shape[2]+j])\n",
    "    return res\n",
    "\n",
    "\n",
    "def predict_pixel(pixel,predict_fn,gmm = mixture.GaussianMixture(covariance_type='diag',\n",
    "                                           n_components=4,\n",
    "                                           max_iter=2000,\n",
    "                                           warm_start=False)):\n",
    "    gmm.fit(pixel[:,1:])\n",
    "    return predict_fn(pixel,gmm.means_.astype(np.float32),gmm.covariances_.astype(np.float32),gmm.weights_.astype(np.float32))\n",
    "    \n",
    "\n",
    "def fit_gmms(features,gmms):\n",
    "    for i in range(features.shape[1]):\n",
    "        for j in range(features.shape[2]):\n",
    "            gmms[i*features.shape[2]+j].fit(features[:,i,j,1:])\n",
    "\n",
    "@jit\n",
    "def predict_pixelwise_no_fit(features,gmms,predict_fn):\n",
    "    res = np.zeros_like(features[:,:,:,0])\n",
    "    for i in range(features.shape[1]):\n",
    "        for j in range(features.shape[2]):\n",
    "            gmm = gmms[i*features.shape[2]+j]\n",
    "            res[:,i,j] = predict_fn(features[:,i,j,:],gmm.means_,gmm.covariances_,gmm.weights_)\n",
    "    return res\n",
    "\n",
    "\n",
    "            \n",
    "def make_gmms(shape):\n",
    "    gmms = []\n",
    "    for i in range(shape[0]):\n",
    "        for j in range(shape[1]):\n",
    "            gmms.append(mixture.GaussianMixture(covariance_type='diag',\n",
    "                               n_components=4,\n",
    "                               max_iter=1000,\n",
    "                               warm_start=True))\n",
    "    return gmms\n",
    "    \n",
    "class deepBG:\n",
    "    def __init__(self,model_path='models/gmm099_loss-234.46',ndim=24,buf_size=200,param_value = 11.5):\n",
    "        self.gmms = None\n",
    "        self.predict_fn,self.param = make_predict_fn(ndim,param_value)\n",
    "        self.feature_fn = make_feature_fn(model_path,ndim)\n",
    "        self.buffer = None\n",
    "        self.cur = None\n",
    "        \n",
    "    def update(self,img):\n",
    "        if(self.buffer is None):\n",
    "            self.buffer = np.empty((self.buf_size,img.shape[0],img.shape[1],self.ndim+1),dtype=np.float32)\n",
    "        self.buffer[self.cur] = self.features_fn(np.transpose(img[np.newaxis],(0,3,1,2)))\n",
    "        self.cur = self.cur+1\n",
    "        if(self.cur == len(self.buffer)):\n",
    "            res = np.zeros_like(self.buffer[:,:,:,0],dtype=np.uint8)\n",
    "            self.cur = 0\n",
    "            if(self.gmms is None):\n",
    "                self.gmms = make_gmms(self.buffer.shape[1:-1])\n",
    "            for i in range(img.shape[0]):\n",
    "                for j in range(img.shape[1]):\n",
    "                    res[:,i,j] = predict_pixelwise(self.buffer,self.gmms,self.predict_fn).astype(np.uint8)\n",
    "            return res\n",
    "        return None"
   ]
  },
  {
   "cell_type": "code",
   "execution_count": 46,
   "metadata": {
    "collapsed": false
   },
   "outputs": [],
   "source": [
    "predict_fn,param = make_predict_fn()"
   ]
  },
  {
   "cell_type": "code",
   "execution_count": 61,
   "metadata": {
    "collapsed": false
   },
   "outputs": [
    {
     "name": "stdout",
     "output_type": "stream",
     "text": [
      "255\r"
     ]
    }
   ],
   "source": [
    "folder='/media/data/Programming/motion_segmentation/gmm_segmentation/dataset/badWeather/blizzard'\n",
    "features = np.empty((256,240//2,320//2,25))\n",
    "masks = np.empty((256,240//2,320//2),dtype=np.uint8)\n",
    "for i,(img,mask) in enumerate(iterate_video(folder)):\n",
    "    if(i == len(features)):\n",
    "        break\n",
    "    img,mask = resize(img,mask,(320//2,240//2))\n",
    "    masks[i] = mask\n",
    "    features[i] = features_fn(np.transpose(img,(2,0,1))[np.newaxis])[0]\n",
    "    print str(i)+'\\r',"
   ]
  },
  {
   "cell_type": "code",
   "execution_count": 63,
   "metadata": {
    "collapsed": false
   },
   "outputs": [],
   "source": [
    "gmms = make_gmms(features.shape[1:-1])\n",
    "fit_gmms(features,gmms)"
   ]
  },
  {
   "cell_type": "code",
   "execution_count": 75,
   "metadata": {
    "collapsed": false
   },
   "outputs": [
    {
     "name": "stdout",
     "output_type": "stream",
     "text": [
      "[(0.12582030504728339, 0.95059387207031254), (0.12584593232541399, 0.9505940755208333), (0.13561877667140826, 0.95054850260416668), (0.1944501946867761, 0.95012268066406247), (0.24572559334918007, 0.94912760416666664), (0.27474641778197834, 0.94754394531249997), (0.29643403518660166, 0.94311238606770831), (0.30170315178841323, 0.93843119303385414), (0.29835839881489118, 0.92907755533854164), (0.29591882508096856, 0.92016703287760415)]\n"
     ]
    }
   ],
   "source": [
    "from sklearn.metrics import f1_score,accuracy_score\n",
    "masks[masks < 240] = 0\n",
    "masks[masks >= 240] = 255\n",
    "values = [0.1,1,5,10,15,20,30,40,60,80]\n",
    "res = []\n",
    "for v in values:\n",
    "    param.set_value(v)\n",
    "    out = predict_pixelwise_no_fit(features,gmms,predict_fn)\n",
    "    out = (1.-out).astype(np.uint8)\n",
    "    res.append((f1_score((masks/255).flatten(),out.flatten()),accuracy_score((masks/255).flatten(),out.flatten())))\n",
    "print res"
   ]
  },
  {
   "cell_type": "code",
   "execution_count": 77,
   "metadata": {
    "collapsed": false
   },
   "outputs": [
    {
     "name": "stdout",
     "output_type": "stream",
     "text": [
      "[0.1, 1, 5, 10, 15, 20, 30, 40, 60, 80]\n",
      "[ 0.1258  0.1258  0.1356  0.1945  0.2457  0.2747  0.2964  0.3017  0.2984\n",
      "  0.2959]\n",
      "[ 0.9506  0.9506  0.9505  0.9501  0.9491  0.9475  0.9431  0.9384  0.9291\n",
      "  0.9202]\n"
     ]
    }
   ],
   "source": [
    "np.set_printoptions(4)\n",
    "print values\n",
    "print np.array([i[0] for i in res])\n",
    "print np.array([i[1] for i in res])"
   ]
  },
  {
   "cell_type": "code",
   "execution_count": 52,
   "metadata": {
    "collapsed": false
   },
   "outputs": [],
   "source": [
    "out_dir = 'out1'\n",
    "for i in range(len(out)):\n",
    "    cv2.imwrite(out_dir+'/'+str(i)+'.jpg',((1.-out[i])*255.).astype(np.float32))\n",
    "    "
   ]
  },
  {
   "cell_type": "code",
   "execution_count": 78,
   "metadata": {
    "collapsed": false
   },
   "outputs": [
    {
     "name": "stdout",
     "output_type": "stream",
     "text": [
      "badWeather/blizzard\n",
      "build gmmms 300\n",
      "badWeather/blizzard save\n",
      "\n",
      "baseline/highway\n",
      "build gmmms 300\n",
      "baseline/highway save\n",
      "\n",
      "cameraJitter/badminton\n",
      "build gmmms 300\n",
      "cameraJitter/badminton save\n",
      "\n",
      "dynamicBackground/boats\n",
      "build gmmms 300\n",
      "dynamicBackground/boats save\n",
      "\n",
      "intermittentObjectMotion/abandonedBox\n",
      "build gmmms 300\n",
      "intermittentObjectMotion/abandonedBox save\n",
      "\n",
      "lowFramerate/port_0_17fps\n",
      "build gmmms 300\n",
      "lowFramerate/port_0_17fps save\n",
      "\n",
      "nightVideos/bridgeEntry\n",
      "build gmmms 300\n",
      "nightVideos/bridgeEntry save\n",
      "\n",
      "PTZ/continuousPan\n",
      "build gmmms 34\n",
      "PTZ/continuousPan save\n",
      "\n",
      "shadow/backdoor\n",
      "build gmmms 300\n",
      "shadow/backdoor save\n",
      "\n",
      "thermal/corridor\n",
      "build gmmms 300\n",
      "thermal/corridor save\n",
      "\n",
      "turbulence/turbulence0\n",
      "build gmmms 300\n",
      "turbulence/turbulence0 save\n",
      "\n"
     ]
    }
   ],
   "source": [
    "\n",
    "\n",
    "def make_deep_test(out_dir,dataset='dataset',max_frames=500,im_size = (320//2,240//2)):\n",
    "    features = np.empty((max_frames,im_size[1],im_size[0],25))\n",
    "    masks = np.empty((max_frames,im_size[1],im_size[0]),dtype=np.uint8)\n",
    "    for d in os.listdir(dataset):\n",
    "        if not(os.path.isdir(dataset+'/'+d)):\n",
    "            continue\n",
    "        folder = d+'/'+os.listdir(dataset+'/'+d)[0]\n",
    "        out_folder = out_dir+'/'+folder\n",
    "        make_path(out_folder)\n",
    "        print folder\n",
    "        for i,(img,mask) in enumerate(iterate_video(dataset+'/'+folder)):\n",
    "            if(i == len(features)):\n",
    "                break\n",
    "            img,mask = resize(img,mask,im_size)\n",
    "            masks[i] = mask\n",
    "            features[i] = features_fn(np.transpose(img,(2,0,1))[np.newaxis])[0]\n",
    "            print str(i)+'\\r',\n",
    "        print 'build gmmms '+str(i)\n",
    "        gmms = make_gmms(features[:i].shape[1:-1])\n",
    "        out = ((1.-predict_pixelwise(features[:i],gmms,predict_fn))*255.).astype(np.uint8)\n",
    "        print folder,'save'\n",
    "        for j in range(len(out)):\n",
    "            cv2.imwrite(out_folder+'/'+str(j)+'.jpg',out[j])\n",
    "            cv2.imwrite(out_folder+'/'+str(j)+'_true.jpg',masks[j])\n",
    "        print ''\n",
    "\n",
    "param.set_value(30.)      \n",
    "make_deep_test('deep_test',max_frames=300)"
   ]
  },
  {
   "cell_type": "code",
   "execution_count": 82,
   "metadata": {
    "collapsed": false
   },
   "outputs": [
    {
     "name": "stdout",
     "output_type": "stream",
     "text": [
      "deep_test/badWeather/blizzard [   189942.  16001814.    733683.    185379.]\n",
      "deep_test/baseline/highway [   789063.  14771925.    565884.    395760.]\n",
      "deep_test/cameraJitter/badminton [   248097.  15457650.    880011.    369000.]\n",
      "deep_test/dynamicBackground/boats [  104499.  7868166.   559671.   251949.]\n",
      "deep_test/intermittentObjectMotion/abandonedBox [  105726.  7870710.   557127.   250722.]\n",
      "deep_test/lowFramerate/port_0_17fps [  104547.  7868382.   559455.   251901.]\n",
      "deep_test/nightVideos/bridgeEntry [  105081.  7872816.   555021.   251367.]\n",
      "deep_test/PTZ/continuousPan [   55116.  1612356.   114993.   135558.]\n",
      "deep_test/shadow/backdoor [   507093.  12584601.    742998.    169686.]\n",
      "deep_test/thermal/corridor [   769965.  13914078.    558678.   1478166.]\n",
      "deep_test/turbulence/turbulence0 [   770541.  13921050.    551706.   1477590.]\n",
      "[  3.7497e+06   1.1974e+08   6.3792e+06   5.2171e+06]\n",
      "{'FNR': 0.58182496, 'FPR': 0.050579499, 'Recall': 0.41817501, 'Sp': 0.94942051, 'Precision': 0.3701953, 'F_Measure': 0.39272514833570649, 'PWC': 8.5841633014907455}\n"
     ]
    }
   ],
   "source": [
    "print_total_metric('deep_test')"
   ]
  },
  {
   "cell_type": "code",
   "execution_count": 80,
   "metadata": {
    "collapsed": false,
    "scrolled": true
   },
   "outputs": [
    {
     "name": "stdout",
     "output_type": "stream",
     "text": [
      "gmm/badWeather/blizzard [  1.3721e+06   1.3023e+08   1.2685e+06   1.1405e+06]\n",
      "gmm/baseline/highway [  7418463.  95876976.   7768743.    386196.]\n",
      "gmm/cameraJitter/badminton [  1899516.  59517088.   8178042.    650127.]\n",
      "gmm/dynamicBackground/boats [  1371741.  46764768.  10378941.   1029987.]\n",
      "gmm/intermittentObjectMotion/abandonedBox 0.0\n",
      "gmm/lowFramerate/port_0_17fps 0.0\n",
      "gmm/nightVideos/bridgeEntry 0.0\n",
      "gmm/PTZ/continuousPan [  644841.  2094957.  5027727.   130305.]\n",
      "gmm/shadow/backdoor [  5485191.  84840384.   3148050.    393441.]\n",
      "gmm/thermal/corridor [  6507534.  95378664.   6923349.   4142880.]\n",
      "gmm/turbulence/turbulence0 0.0\n",
      "[  2.4699e+07   5.1470e+08   4.2693e+07   7.8734e+06]\n",
      "{'FNR': 0.24171783, 'FPR': 0.07659401, 'Recall': 0.75828218, 'Sp': 0.923406, 'Precision': 0.36649919, 'F_Measure': 0.49415790562429901, 'PWC': 8.5710637684844606}\n"
     ]
    }
   ],
   "source": [
    "print_total_metric('gmm')"
   ]
  },
  {
   "cell_type": "code",
   "execution_count": 81,
   "metadata": {
    "collapsed": false,
    "scrolled": true
   },
   "outputs": [
    {
     "name": "stdout",
     "output_type": "stream",
     "text": [
      "deep_gmm/badWeather/blizzard [  4.4181e+06   2.1229e+08   1.0831e+07   1.1833e+06]\n",
      "deep_gmm/baseline/highway [  9.9632e+06   1.9953e+08   9.3091e+06   4.5083e+06]\n",
      "deep_gmm/cameraJitter/badminton [  1845297.  61720504.   9353841.    758718.]\n",
      "deep_gmm/dynamicBackground/boats [  2.5426e+06   1.0572e+08   9.2348e+06   1.7921e+06]\n",
      "deep_gmm/intermittentObjectMotion/abandonedBox 0.0\n",
      "deep_gmm/lowFramerate/port_0_17fps 0.0\n",
      "deep_gmm/nightVideos/bridgeEntry 0.0\n",
      "deep_gmm/PTZ/continuousPan [  587382.  2722014.  4202232.   160560.]\n",
      "deep_gmm/shadow/backdoor [  4216443.  82753968.   5234562.   1662189.]\n",
      "deep_gmm/thermal/corridor [  6545613.  94683048.   7618995.   4104801.]\n",
      "deep_gmm/turbulence/turbulence0 0.0\n",
      "[  3.0119e+07   7.5941e+08   5.5785e+07   1.4170e+07]\n",
      "{'FNR': 0.31994408, 'FPR': 0.068431124, 'Recall': 0.68005592, 'Sp': 0.93156892, 'Precision': 0.35060957, 'F_Measure': 0.46267990730008174, 'PWC': 8.1391304674815697}\n"
     ]
    }
   ],
   "source": [
    "print_total_metric('deep_gmm')"
   ]
  }
 ],
 "metadata": {
  "kernelspec": {
   "display_name": "Python 2",
   "language": "python",
   "name": "python2"
  },
  "language_info": {
   "codemirror_mode": {
    "name": "ipython",
    "version": 2
   },
   "file_extension": ".py",
   "mimetype": "text/x-python",
   "name": "python",
   "nbconvert_exporter": "python",
   "pygments_lexer": "ipython2",
   "version": "2.7.12"
  }
 },
 "nbformat": 4,
 "nbformat_minor": 2
}
