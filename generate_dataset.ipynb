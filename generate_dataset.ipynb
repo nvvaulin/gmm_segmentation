{
 "cells": [
  {
   "cell_type": "code",
   "execution_count": 1,
   "metadata": {
    "collapsed": false
   },
   "outputs": [],
   "source": [
    "import os\n",
    "import pandas as pd\n",
    "import cv2\n",
    "import numpy as np\n",
    "import matplotlib.pyplot as plt\n",
    "%matplotlib inline"
   ]
  },
  {
   "cell_type": "code",
   "execution_count": 2,
   "metadata": {
    "collapsed": false
   },
   "outputs": [
    {
     "name": "stdout",
     "output_type": "stream",
     "text": [
      "processing data/train/turbulence/turbulence2\n",
      "processing data/train/turbulence/turbulence3\n",
      "processing data/train/turbulence/turbulence1\n",
      "processing data/train/thermal/lakeSide\n",
      "processing data/train/thermal/park\n",
      "processing data/train/thermal/diningRoom\n",
      "processing data/train/thermal/library\n",
      "processing data/train/PTZ/zoomInZoomOut\n",
      "processing data/train/PTZ/twoPositionPTZCam\n",
      "processing data/train/PTZ/intermittentPan\n",
      "processing data/train/dynamicBackground/overpass\n",
      "processing data/train/dynamicBackground/fall\n",
      "processing data/train/dynamicBackground/canoe\n",
      "processing data/train/dynamicBackground/fountain02\n",
      "processing data/train/dynamicBackground/fountain01\n",
      "processing data/train/shadow/peopleInShade\n",
      "processing data/train/shadow/cubicle\n",
      "processing data/train/shadow/copyMachine\n",
      "processing data/train/shadow/bungalows\n",
      "processing data/train/shadow/busStation\n",
      "processing data/train/nightVideos/streetCornerAtNight\n",
      "processing data/train/nightVideos/tramStation\n",
      "processing data/train/nightVideos/fluidHighway\n",
      "processing data/train/nightVideos/winterStreet\n",
      "processing data/train/nightVideos/busyBoulvard\n",
      "processing data/train/intermittentObjectMotion/streetLight\n",
      "processing data/train/intermittentObjectMotion/tramstop\n",
      "processing data/train/intermittentObjectMotion/parking\n",
      "processing data/train/intermittentObjectMotion/sofa\n",
      "processing data/train/intermittentObjectMotion/winterDriveway\n",
      "processing data/train/baseline/PETS2006\n",
      "processing data/train/baseline/pedestrians\n",
      "processing data/train/baseline/office\n",
      "processing data/train/cameraJitter/boulevard\n",
      "processing data/train/cameraJitter/sidewalk\n",
      "processing data/train/cameraJitter/traffic\n",
      "processing data/train/lowFramerate/turnpike_0_5fps\n",
      "processing data/train/lowFramerate/tramCrossroad_1fps\n",
      "processing data/train/lowFramerate/tunnelExit_0_35fps\n",
      "processing data/train/badWeather/skating\n",
      "processing data/train/badWeather/snowFall\n",
      "processing data/train/badWeather/wetSnow\n"
     ]
    }
   ],
   "source": [
    "from loader import generate_patches\n",
    "generate_patches('data/train','data/train_32',256,32,0.2,0.5)"
   ]
  },
  {
   "cell_type": "markdown",
   "metadata": {},
   "source": [
    "# Data generator tests"
   ]
  },
  {
   "cell_type": "code",
   "execution_count": 7,
   "metadata": {
    "collapsed": false
   },
   "outputs": [
    {
     "name": "stdout",
     "output_type": "stream",
     "text": [
      "0\n",
      "1674\n",
      "mask diff 0.000000,img diff 0.030000\n",
      "1\n",
      "1192\n",
      "mask diff 0.000000,img diff -0.006055\n",
      "2\n",
      "2651\n",
      "mask diff 0.000000,img diff 0.041460\n",
      "3\n",
      "1424\n",
      "mask diff 0.000000,img diff 0.017695\n",
      "4\n",
      "1332\n",
      "mask diff 0.000000,img diff -0.239918\n",
      "5\n",
      "2651\n",
      "mask diff 0.000000,img diff 0.011157\n",
      "6\n",
      "1821\n",
      "mask diff 0.000000,img diff -0.009671\n",
      "7\n",
      "2476\n",
      "mask diff 0.000000,img diff 0.005536\n",
      "8\n",
      "2583\n",
      "mask diff 0.000000,img diff 0.005771\n",
      "9\n",
      "2376\n",
      "mask diff 0.000000,img diff 0.027778\n"
     ]
    }
   ],
   "source": [
    "from loader import PatchLoader\n",
    "from dataset_tools import draw\n",
    "\n",
    "def test_patch_loader(pl,original_data, dir, patch_size,o_size,seq_l,min_m,max_m,p_inx,inx):\n",
    "    path = pl.patches[p_inx][inx]\n",
    "    for i in range(10):\n",
    "        im, mask, names, pos = pl.load_sample(p_inx, inx)\n",
    "        if not (im is None):\n",
    "            break\n",
    "    o_imgs = []\n",
    "    o_mask = []\n",
    "    path = original_data+'/'.join(path[len(dir)+1:].split('/')[:2])\n",
    "    for i in names:\n",
    "        o_imgs.append(cv2.imread(path+'/input/in%s.jpg'%(i))[pos[1]:pos[1]+o_size,pos[0]:pos[0]+o_size])\n",
    "        o_mask.append(cv2.imread(path+'/groundtruth/gt%s.png'%(i),0)[pos[1]:pos[1]+o_size,pos[0]:pos[0]+o_size])\n",
    "    o_mask =np.array(o_mask)\n",
    "    o_imgs = np.array(o_imgs)\n",
    "    mask_diff = abs(np.array(o_mask.astype(np.float32)-mask.astype(np.float32)).sum())\n",
    "    im_diff = abs(np.array(o_imgs[:20].astype(np.float32)-im[:20].astype(np.float32)).mean())\n",
    "    print 'mask diff %f,img diff %f'%(mask_diff,im_diff)\n",
    "    try:\n",
    "        if(mask_diff > 0.001 or im_diff > 0.1 ):\n",
    "            print mask_diff,im_diff\n",
    "            draw(o_imgs,o_mask)\n",
    "            raise ValueError('worng mask or img')\n",
    "        if (im is None):\n",
    "            raise ValueError('always None')\n",
    "        if (im.shape != (seq_l, o_size, o_size, 3) or mask.shape != (seq_l, o_size, o_size)):\n",
    "            print 'im_shape', im.shape, ',mask_shape', mask.shape\n",
    "            raise ValueError('wrong shape')\n",
    "        if not (min_m <= (mask[:, o_size // 2, o_size // 2] > 240).mean() <= max_m):\n",
    "            print 'balanse', (mask[:, o_size // 2, o_size // 2] > 240).mean(), np.ceil(min_m * seq_l)\n",
    "            raise ValueError('wrong balanse')\n",
    "    except Exception as e:\n",
    "        print 'max_m=%f,min_m=%f,seq_l=%d,o_size=%d,p_inx=%d,inx=%d,path=%s' % (\n",
    "        max_m, min_m, seq_l, o_size, p_inx, inx, path)\n",
    "        if not (im is None):\n",
    "            draw(im, mask)\n",
    "        raise e\n",
    "\n",
    "\n",
    "def test_patch_loader_random(original_data, dir, patch_size, max_seq_l):\n",
    "    o_size = int(np.random.randint(1, (patch_size - 1) // 2)) * 2 + 1\n",
    "    seq_l = int(np.random.randint(5, np.sqrt(max_seq_l))) ** 2\n",
    "    max_m = np.random.randint(1,seq_l)\n",
    "    min_m = np.random.randint(0,max_m)\n",
    "    min_m,max_m = min_m / float(seq_l), max_m / float(seq_l)\n",
    "    pl = PatchLoader(dir, patch_size, seq_l,min_m,max_m , o_size)\n",
    "    print(len(pl.patches))\n",
    "    if(len(pl.patches) == 0):\n",
    "        print 'no patches'\n",
    "        print 'max_m=%f,min_m=%f,seq_l=%d,o_size=%d'%(max_m, min_m, seq_l, o_size)\n",
    "    p_inx = np.random.randint(len(pl.patches))\n",
    "    inx = np.random.randint(len(pl.patches[p_inx]))\n",
    "    test_patch_loader(pl,original_data, dir, patch_size,o_size,seq_l,min_m,max_m,p_inx,inx)\n",
    "\n",
    "for i in range(10):\n",
    "    print i\n",
    "    test_patch_loader_random('data/train/', 'data/train_32', 32, 256)"
   ]
  },
  {
   "cell_type": "code",
   "execution_count": 6,
   "metadata": {
    "collapsed": false
   },
   "outputs": [
    {
     "name": "stdout",
     "output_type": "stream",
     "text": [
      "100 loops, best of 3: 6.8 ms per loop\n"
     ]
    }
   ],
   "source": [
    "pl = PatchLoader('out',32,256,0.2,0.4,23,True)\n",
    "%timeit pl.load_sample(0,0)"
   ]
  }
 ],
 "metadata": {
  "kernelspec": {
   "display_name": "Python 2",
   "language": "python",
   "name": "python2"
  },
  "language_info": {
   "codemirror_mode": {
    "name": "ipython",
    "version": 2
   },
   "file_extension": ".py",
   "mimetype": "text/x-python",
   "name": "python",
   "nbconvert_exporter": "python",
   "pygments_lexer": "ipython2",
   "version": "2.7.6"
  }
 },
 "nbformat": 4,
 "nbformat_minor": 2
}
