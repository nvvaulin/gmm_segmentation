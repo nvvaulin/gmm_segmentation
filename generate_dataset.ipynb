{
 "cells": [
  {
   "cell_type": "code",
   "execution_count": 35,
   "metadata": {
    "collapsed": false
   },
   "outputs": [],
   "source": [
    "import os\n",
    "import pandas as pd\n",
    "import cv2\n",
    "import numpy as np\n",
    "import matplotlib.pyplot as plt\n",
    "from dataset_tools import *\n",
    "%matplotlib inline"
   ]
  },
  {
   "cell_type": "code",
   "execution_count": 2,
   "metadata": {
    "collapsed": true
   },
   "outputs": [],
   "source": [
    "\n",
    "# l = [i for i in open('/media/hpc2_storage/nvaulin/test_ties32/list.txt') if i.find('PTZ') < 0]\n",
    "# f = open('/media/hpc2_storage/nvaulin/test_ties32/list.txt','w')\n",
    "# for i in l:\n",
    "#     f.write(i)\n",
    "    \n",
    "# f.close()"
   ]
  },
  {
   "cell_type": "code",
   "execution_count": 171,
   "metadata": {
    "collapsed": false
   },
   "outputs": [],
   "source": [
    "def images_to_patches(imgs,cols,rows,h,w):\n",
    "    assert len(imgs.shape) == 4\n",
    "    c = imgs.shape[-1]\n",
    "    return np.transpose(imgs.reshape((-1,rows,h,cols,w,c)),(1,3,0,2,4,5)).reshape(cols*rows,len(imgs),h,w,c)\n",
    "    \n",
    "\n",
    "def process_batch(imgs,masks,w,h,min_roi):\n",
    "    '''\n",
    "    return \n",
    "    ties - n_samples x length x h x w x 3\n",
    "    ties_mask - n_samples x length x h x w\n",
    "    positions - n_samples x [x,y]\n",
    "    '''\n",
    "    cols = imgs.shape[2]//w\n",
    "    rows = imgs.shape[1]//h\n",
    "    imgs = imgs[:,:h*rows,:w*cols,:]\n",
    "    masks = masks[:,:h*rows,:w*cols]\n",
    "    imgs = images_to_patches(imgs,cols,rows,h,w)\n",
    "    masks = images_to_patches(masks.reshape(masks.shape+(1,)),cols,rows,h,w)[...,0]\n",
    "    positions = np.zeros((1,rows*h,cols*w,2),dtype=np.int32)\n",
    "    positions[0,:,:,0] += np.arange(cols*w)[None,:]\n",
    "    positions[0,:,:,1] += np.arange(rows*h)[:,None]\n",
    "    positions = images_to_patches(positions,cols,rows,h,w)\n",
    "    positions = positions[:,0,0,0,:]\n",
    "    roi = np.zeros_like(masks)\n",
    "    roi[(masks > 240) | (masks < 10)] = 1\n",
    "    roi = roi.mean((1,2,3))\n",
    "    imgs,masks,positions = imgs[roi>=min_roi],masks[roi>=min_roi],positions[roi>=min_roi]\n",
    "    return imgs,masks,positions\n",
    "\n",
    "def get_motion(ties,masks,positions,min_motion,start_num):\n",
    "    '''\n",
    "    return n_samples list of\n",
    "    ties - n_motion_ties x h x w x 3\n",
    "    ties_mask - n_motion_ties x h x w\n",
    "    positions - n_motion_ties x [x,y] positions of ties\n",
    "    index - n_motion_ties index of ties\n",
    "    '''\n",
    "    motion_mask = np.zeros_like(masks)\n",
    "    motion_mask[(masks > 240)] = 1\n",
    "    motion_mask = motion_mask.mean((2,3))\n",
    "    inx = np.arange(len(masks[0])).astype(np.int32)\n",
    "    motion = []\n",
    "    for i in range(len(masks)):\n",
    "        m = motion_mask[i] >= min_motion\n",
    "        p = (positions[i][0],positions[i][1])\n",
    "        motion.append((p,ties[i][m],masks[i][m],inx[m]+start_num))\n",
    "    return motion\n",
    "\n",
    "def generate_ties(dataset,imdb,length,tie_size,min_motion,min_roi):\n",
    "    def save_motion_hist(key,hist):\n",
    "        key = imdb+key\n",
    "        make_path(key[:key.rfind('/')])\n",
    "        cv2.imwrite(key+'hist.png',hist)\n",
    "    def save(key,img,mask):\n",
    "        key = imdb+key\n",
    "        make_path(key[:key.rfind('/')])\n",
    "        img = ties_to_image(img)\n",
    "        cv2.imwrite(key+'.jpg',img)\n",
    "        if not(mask is None):\n",
    "            mask = ties_to_image(mask)\n",
    "            cv2.imwrite(key+'.png',mask)\n",
    "            \n",
    "    for path in iterate_folders(dataset):\n",
    "        all_motion = dict()\n",
    "        all_names = []\n",
    "        in_dir = path[len(dataset):]\n",
    "        for batch_num,(names,imgs,masks) in enumerate(iterate_bathced(path,length)):\n",
    "            ties, masks,positions = process_batch(imgs,masks,tie_size,tie_size,min_roi)\n",
    "            if(len(ties) == 0):\n",
    "                continue\n",
    "            for t,m,p in zip(ties,masks,positions):                    \n",
    "                key = '%s/%d_%d/%s_%s'%(in_dir,p[0],p[1],names[0],names[-1])\n",
    "                save(key,t, None if m[m>30].size == 0 else m)\n",
    "                \n",
    "            motion = get_motion(ties,masks,positions,min_motion,batch_num*length)\n",
    "            for position,patch,mask,inx in motion:\n",
    "                if not(position in all_motion):\n",
    "                    all_motion[position] = ([],[],[])\n",
    "                all_motion[position][0].append(patch)\n",
    "                all_motion[position][1].append(mask)\n",
    "                all_motion[position][2].append(inx)\n",
    "            all_names.append(names)\n",
    "            \n",
    "        all_names = np.array(sum(all_names,[]))\n",
    "        for position,(ties,mask,inx) in all_motion.iteritems():\n",
    "            ties = np.concatenate(tuple(ties))\n",
    "            mask = np.concatenate(tuple(mask))\n",
    "            inx  = np.concatenate(tuple( inx))\n",
    "            key = '%s/%d_%d/'%(in_dir,position[0],position[1])\n",
    "            if(len(ties) > 0):\n",
    "                motion_info = open(imdb+key+'motion_info.txt','w')\n",
    "                for n in all_names[inx]:\n",
    "                    motion_info.write(n+'\\n')\n",
    "                motion_info.close()\n",
    "                save(key+'motion',ties,mask)\n",
    "                motion_hist = np.zeros_like(mask,dtype=np.int32)\n",
    "                motion_hist[mask > 240] = 1\n",
    "                motion_hist = np.clip(motion_hist.sum(0),0,255).astype(np.uint8)\n",
    "                save_motion_hist(key,motion_hist)\n",
    "        break\n",
    "    return motion_info\n",
    "            \n",
    "class PatchLoader(object):\n",
    "    def __init__(self,root,t_size,seq_l,min_m,max_m,out_size):\n",
    "        assert (out_size//2)*2+1 == out_size,'out_size must be odd'\n",
    "        self.root,self.seq_l,self.out_size = root,seq_l,out_size\n",
    "        self.min_m,self.max_m = np.ceil(min_m*float(seq_l)),np.floor(max_m*float(seq_l))\n",
    "        self.t_size = t_size\n",
    "        self.patches = []\n",
    "        self.motions = []\n",
    "        self.hist = []\n",
    "        self.motion_names = []\n",
    "        pad = self.out_size//2\n",
    "        for video in iterate_folders(root):\n",
    "            for p in os.listdir(video):\n",
    "                prefix = video+'/'+p+'/'\n",
    "                hist = cv2.imread(prefix+'hist.png',0)\n",
    "                if(hist is None):\n",
    "                    continue                      \n",
    "                hist = hist[pad:hist.shape[0]-pad,pad:hist.shape[1]-pad]\n",
    "                if(hist.max() < self.min_m):\n",
    "                    continue\n",
    "                self.hist.append(hist)\n",
    "                all_jpg = [ prefix+i[:i.rfind('.')] for i in os.listdir(prefix) if i.find('jpg') > 0]\n",
    "                self.motions.append([ i for i in all_jpg if i.find('motion') > 0][0])\n",
    "                self.patches.append([ i for i in all_jpg if i.find('motion') < 0])\n",
    "                self.motion_names.append(np.array([i[:-1] for i in open(prefix+'motion_info.txt')]))\n",
    "                \n",
    "    def load(self,path):\n",
    "        patches = cv2.imread(path+'.jpg')\n",
    "        patches = image_to_ties(patches,self.t_size,self.t_size)\n",
    "        if(os.path.exists(path+'.png')):\n",
    "            mask = image_to_ties(cv2.imread(path+'.png',0),self.t_size,self.t_size)\n",
    "        else:\n",
    "            mask = np.zeros_like(patches[:,:,:,0])\n",
    "        return patches,mask\n",
    "\n",
    "    def load_patch(self,patch_inx,inx):\n",
    "        path = self.patches[patch_inx][inx]\n",
    "        names = [int(i) for i in path[path.rfind('/')+1:].split('_')]\n",
    "        names = np.array(['%06d'%i for i in range(names[0],names[1]+1)])\n",
    "        patches,mask = self.load(path)\n",
    "        return patches,mask,names\n",
    "\n",
    "    def load_motion(self,patch_inx):\n",
    "        patches,mask = self.load(self.motions[patch_inx])\n",
    "        patches = patches[patches.sum((1,2,3)) > 0]\n",
    "        mask = mask[:len(patches)]\n",
    "        return patches,mask,self.motion_names[patch_inx]\n",
    "        \n",
    "    def balance_tie(self,patch_inx,patches,mask,x,y,names):\n",
    "        means = np.zeros_like(mask)\n",
    "        means[mask > 240] = 1\n",
    "        print means.sum(0)\n",
    "        means = np.zeros(len(mask))\n",
    "        means[mask[:,y,x] > 240] = 1\n",
    "        \n",
    "        print(means.sum())\n",
    "        if(means.sum() > self.max_m):\n",
    "            return None,None,None\n",
    "        elif(means.sum() < self.min_m):\n",
    "            m_patch,m_mask,m_names = self.load_motion(patch_inx)\n",
    "            m_patch = m_patch[m_mask[:,x,y] > 240]\n",
    "            m_names = m_names[m_mask[:,x,y] > 240]\n",
    "            m_mask = m_mask[m_mask[:,x,y] > 240]\n",
    "            saples_to_add = int(self.min_m-means.sum())\n",
    "            inx = np.random.choice(np.arange(0,len(m_mask)).astype(np.int32),saples_to_add)\n",
    "            patches[means < 0.5][:saples_to_add] = m_patch[inx]\n",
    "            mask   [means < 0.5][:saples_to_add] = m_mask [inx]\n",
    "            names  [means < 0.5][:saples_to_add] = m_names[inx]\n",
    "            return patches,mask,names\n",
    "        else:\n",
    "            ties,mask,names\n",
    "    \n",
    "    def load_sample(self,patch_inx,inx=None):\n",
    "        pos = tuple([int(i) for i in self.patches[patch_inx][inx].split('/')[-2].split('_')])\n",
    "        hist = self.hist[patch_inx].copy()\n",
    "        p = np.zeros_like(hist,dtype=np.float32).flatten()\n",
    "        p[hist.flatten() > self.min_m] = 1.\n",
    "        y,x = np.unravel_index(int(np.random.choice(np.arange(hist.size),p=p/p.sum())),hist.shape)\n",
    "        print(hist[y,x])\n",
    "        patches,mask,names = self.load_patch(patch_inx,inx)\n",
    "        patches,mask,names = patches[:self.seq_l],mask[:self.seq_l] ,names[:self.seq_l]\n",
    "        patches,mask,names = self.balance_tie(patch_inx,patches,mask,x+self.out_size//2+1,y+self.out_size//2+1,names)\n",
    "        pos = (pos[0]+x,pos[1]+y)\n",
    "        return patches[:,y:y+self.out_size,y:y+self.out_size],mask[:,y:y+self.out_size,y:y+self.out_size],names,pos\n",
    "\n",
    "    def get_position(patch_inx):\n",
    "        path = self.motions[patch_inx]\n",
    "        \n",
    "    \n",
    "pl = PatchLoader('out',32,256,0.3,0.5,5)\n",
    "\n"
   ]
  },
  {
   "cell_type": "code",
   "execution_count": 172,
   "metadata": {
    "collapsed": false
   },
   "outputs": [
    {
     "name": "stdout",
     "output_type": "stream",
     "text": [
      "78\n",
      "[[ 0  0  0 ...  0  0  0]\n",
      " [ 0  0  0 ...  0  0  0]\n",
      " [ 0  0  0 ...  0  0  0]\n",
      " ...\n",
      " [24 25 25 ... 25 25 24]\n",
      " [24 25 25 ... 25 25 24]\n",
      " [24 25 25 ... 25 25 24]]\n",
      "25.0\n"
     ]
    },
    {
     "data": {
      "image/png": "[encoded data removed]",
      "text/plain": [
       "<Figure size 1000x1000 with 1 Axes>"
      ]
     },
     "metadata": {},
     "output_type": "display_data"
    }
   ],
   "source": [
    "im,m,n,pos = pl.load_sample(2,0)\n",
    "draw(im,m)"
   ]
  },
  {
   "cell_type": "code",
   "execution_count": 110,
   "metadata": {
    "collapsed": false
   },
   "outputs": [
    {
     "data": {
      "text/plain": [
       "(608, 352)"
      ]
     },
     "execution_count": 110,
     "metadata": {},
     "output_type": "execute_result"
    }
   ],
   "source": [
    "pos"
   ]
  },
  {
   "cell_type": "code",
   "execution_count": 51,
   "metadata": {
    "collapsed": false
   },
   "outputs": [
    {
     "data": {
      "text/plain": [
       "'004799'"
      ]
     },
     "execution_count": 51,
     "metadata": {},
     "output_type": "execute_result"
    }
   ],
   "source": [
    "pl.motion_names[0][12]"
   ]
  },
  {
   "cell_type": "code",
   "execution_count": null,
   "metadata": {
    "collapsed": true
   },
   "outputs": [],
   "source": [
    "def test_patch_loader(dir,patch_size,max_seq_l):\n",
    "    max_m = (0.01+np.random.rand())*0.9\n",
    "    min_m = np.random.rand()*max_m\n",
    "    o_size = int(np.random.randint(1,patch_size))\n",
    "    pl = PatchLoader(dir,patch_size,int(np.random.randint(10,max_seq_l+1)),min_m,max_m,24)\n",
    "    "
   ]
  },
  {
   "cell_type": "code",
   "execution_count": 49,
   "metadata": {
    "collapsed": false
   },
   "outputs": [
    {
     "data": {
      "text/plain": [
       "array(['002280', '002281', '002282', '002283', '002284', '002285',\n",
       "       '002286', '002287', '002288', '002289', '002290', '002291',\n",
       "       '002292', '002293', '002294', '002295', '002296', '002297',\n",
       "       '002298', '002299', '002300', '002301', '002302', '002303',\n",
       "       '002304', '002305', '002306', '002307', '002308', '002309',\n",
       "       '002310', '002311', '002312', '002313', '002314', '002315',\n",
       "       '002316', '002317', '002318', '002319', '002320', '002321',\n",
       "       '002322', '002323', '002324', '002325', '002326', '002327',\n",
       "       '002328', '002329', '002330', '002331', '002332', '002333',\n",
       "       '002334', '002335', '002336', '002337', '002338', '002339',\n",
       "       '002340', '002341', '002342', '002343', '002344', '002345',\n",
       "       '002346', '002347', '002348', '002349', '002350', '002351',\n",
       "       '002352', '002353', '002354', '002355', '002356', '002357',\n",
       "       '002358', '002359', '002360', '002361', '002362', '002363',\n",
       "       '002364', '002365', '002366', '002367', '002368', '002369',\n",
       "       '002370', '002371', '002372', '002373', '002374', '002375',\n",
       "       '002376', '002377', '002378', '002379', '002380', '002381',\n",
       "       '002382', '002383', '002384', '002385', '002386', '002387',\n",
       "       '002388', '002389', '002390', '002391', '002392', '002393',\n",
       "       '002394', '002395', '002396', '002397', '002398', '002399',\n",
       "       '002400', '002401', '002402', '002403', '002404', '002405',\n",
       "       '002406', '002407', '002408', '002409', '002410', '002411',\n",
       "       '002412', '002413', '002414', '002415', '002416', '002417',\n",
       "       '002418', '002419', '002420', '002421', '002422', '002423',\n",
       "       '002424', '002425', '002426', '002427', '002428', '002429',\n",
       "       '002430', '002431', '002432', '002433', '002434', '002435',\n",
       "       '002436', '002437', '002438', '002439', '002440', '002441',\n",
       "       '002442', '002443', '002444', '002445', '002446', '002447',\n",
       "       '002448', '002449', '002450', '002451', '002452', '002453',\n",
       "       '002454', '002455', '002456', '002457', '002458', '002459',\n",
       "       '002460', '002461', '002462', '002463', '002464', '002465',\n",
       "       '002466', '002467', '002468', '002469', '002470', '002471',\n",
       "       '002472', '002473', '002474', '002475', '002476', '002477',\n",
       "       '002478', '002479', '002480', '002481', '002482', '002483',\n",
       "       '002484', '002485', '002486', '002487', '002488', '002489',\n",
       "       '002490', '002491', '002492', '002493', '002494', '002495',\n",
       "       '002496', '002497', '002498', '002499', '002500', '002501',\n",
       "       '002502', '002503', '002504', '002505', '002506', '002507',\n",
       "       '002508', '002509', '002510', '002511', '002512', '002513',\n",
       "       '002514', '002515', '002516', '002517', '002518', '002519',\n",
       "       '002520', '002521', '002522', '002523', '002524', '002525',\n",
       "       '002526', '002527', '002528', '002529', '002530', '002531',\n",
       "       '002532', '002533', '002534', '002535'], dtype='|S6')"
      ]
     },
     "execution_count": 49,
     "metadata": {},
     "output_type": "execute_result"
    }
   ],
   "source": [
    "n"
   ]
  },
  {
   "cell_type": "code",
   "execution_count": 21,
   "metadata": {
    "collapsed": false
   },
   "outputs": [
    {
     "ename": "NameError",
     "evalue": "global name 'motion_infomotion_info' is not defined",
     "output_type": "error",
     "traceback": [
      "\u001b[0;31m\u001b[0m",
      "\u001b[0;31mNameError\u001b[0mTraceback (most recent call last)",
      "\u001b[0;32m<ipython-input-21-78e9c35aa8b3>\u001b[0m in \u001b[0;36m<module>\u001b[0;34m()\u001b[0m\n\u001b[0;32m----> 1\u001b[0;31m \u001b[0minfo\u001b[0m \u001b[0;34m=\u001b[0m \u001b[0mgenerate_ties\u001b[0m\u001b[0;34m(\u001b[0m\u001b[0;34m'data/test'\u001b[0m\u001b[0;34m,\u001b[0m\u001b[0;34m'out'\u001b[0m\u001b[0;34m,\u001b[0m\u001b[0;36m256\u001b[0m\u001b[0;34m,\u001b[0m\u001b[0;36m32\u001b[0m\u001b[0;34m,\u001b[0m\u001b[0;36m0.2\u001b[0m\u001b[0;34m,\u001b[0m\u001b[0;36m0.5\u001b[0m\u001b[0;34m)\u001b[0m\u001b[0;34m\u001b[0m\u001b[0m\n\u001b[0m",
      "\u001b[0;32m<ipython-input-20-b1adab6e62bf>\u001b[0m in \u001b[0;36mgenerate_ties\u001b[0;34m(dataset, imdb, length, tie_size, min_motion, min_roi)\u001b[0m\n\u001b[1;32m    100\u001b[0m                 \u001b[0msave_motion_hist\u001b[0m\u001b[0;34m(\u001b[0m\u001b[0mkey\u001b[0m\u001b[0;34m,\u001b[0m\u001b[0mmotion_hist\u001b[0m\u001b[0;34m)\u001b[0m\u001b[0;34m\u001b[0m\u001b[0m\n\u001b[1;32m    101\u001b[0m         \u001b[0;32mbreak\u001b[0m\u001b[0;34m\u001b[0m\u001b[0m\n\u001b[0;32m--> 102\u001b[0;31m     \u001b[0;32mreturn\u001b[0m \u001b[0mmotion_infomotion_info\u001b[0m\u001b[0;34m\u001b[0m\u001b[0m\n\u001b[0m\u001b[1;32m    103\u001b[0m \u001b[0;34m\u001b[0m\u001b[0m\n\u001b[1;32m    104\u001b[0m \u001b[0;32mclass\u001b[0m \u001b[0mPatchLoader\u001b[0m\u001b[0;34m(\u001b[0m\u001b[0mobject\u001b[0m\u001b[0;34m)\u001b[0m\u001b[0;34m:\u001b[0m\u001b[0;34m\u001b[0m\u001b[0m\n",
      "\u001b[0;31mNameError\u001b[0m: global name 'motion_infomotion_info' is not defined"
     ]
    }
   ],
   "source": [
    "info = generate_ties('data/test','out',256,32,0.2,0.5)"
   ]
  },
  {
   "cell_type": "code",
   "execution_count": 8,
   "metadata": {
    "collapsed": false,
    "scrolled": true
   },
   "outputs": [
    {
     "name": "stdout",
     "output_type": "stream",
     "text": [
      "['data/test/badWeather/blizzard/0_0/000900_001155.jpg', 'data/test/badWeather/blizzard/0_0/001156_001411.jpg', 'data/test/badWeather/blizzard/0_0/001412_001667.jpg', 'data/test/badWeather/blizzard/0_0/001668_001923.jpg', 'data/test/badWeather/blizzard/0_0/001924_002179.jpg', 'data/test/badWeather/blizzard/0_0/002180_002435.jpg', 'data/test/badWeather/blizzard/0_0/002436_002691.jpg', 'data/test/badWeather/blizzard/0_0/002692_002947.jpg', 'data/test/badWeather/blizzard/0_0/002948_003203.jpg', 'data/test/badWeather/blizzard/0_0/003204_003459.jpg', 'data/test/badWeather/blizzard/0_0/003460_003715.jpg', 'data/test/badWeather/blizzard/0_0/003716_003971.jpg']\n"
     ]
    }
   ],
   "source": [
    "print info['data/test/badWeather/blizzard']['positions'][(0,0)]['patches']"
   ]
  },
  {
   "cell_type": "code",
   "execution_count": 17,
   "metadata": {
    "collapsed": false,
    "scrolled": true
   },
   "outputs": [
    {
     "name": "stdout",
     "output_type": "stream",
     "text": [
      "data/test/badWeather/blizzard\n"
     ]
    },
    {
     "data": {
      "image/png": "[encoded data removed]",
      "text/plain": [
       "<matplotlib.figure.Figure at 0x7f6c25d29150>"
      ]
     },
     "metadata": {},
     "output_type": "display_data"
    },
    {
     "name": "stdout",
     "output_type": "stream",
     "text": [
      "name= 000923\n"
     ]
    }
   ],
   "source": [
    "dataset,length,tie_size,min_motion,min_roi = 'data/test',32,32,0.01,0.5\n",
    "for in_dir in iterate_folders(dataset):\n",
    "        print in_dir\n",
    "        all_motion = None\n",
    "        all_names = None\n",
    "        for batch_num,(names,imgs,masks) in enumerate(iterate_bathced(in_dir,length)):\n",
    "            plt.imshow(masks[23])\n",
    "            plt.show()\n",
    "            print 'name=',names[23]\n",
    "            ties, masks,positions = process_batch(imgs,masks,tie_size,tie_size,min_roi)\n",
    "            motion = get_motion(ties,masks,positions,min_motion,batch_num*length)\n",
    "            if(all_motion is None):\n",
    "                all_motion = motion\n",
    "                all_names = names\n",
    "            else:\n",
    "                all_motion = merge_motion_ties(all_motion,motion)\n",
    "                all_names = all_names+names\n",
    "            break\n",
    "        break"
   ]
  },
  {
   "cell_type": "code",
   "execution_count": 22,
   "metadata": {
    "collapsed": false
   },
   "outputs": [
    {
     "data": {
      "text/plain": [
       "(array([], shape=(0, 32, 32, 3), dtype=uint8),\n",
       " array([], shape=(0, 32, 32), dtype=uint8),\n",
       " array([0, 0], dtype=int32),\n",
       " array([], dtype=int32))"
      ]
     },
     "execution_count": 22,
     "metadata": {},
     "output_type": "execute_result"
    }
   ],
   "source": [
    "all_motion[0]"
   ]
  },
  {
   "cell_type": "code",
   "execution_count": 3,
   "metadata": {
    "collapsed": false
   },
   "outputs": [],
   "source": [
    "def get_motion_ties(img,_mask,t_size):\n",
    "    mask = np.zeros_like(_mask,dtype=np.float32)\n",
    "    mask[_mask > 240] = 1\n",
    "    c = np.cumsum(mask,0)\n",
    "    c = np.cumsum(c,1)\n",
    "    mask = (c[t_size:,t_size:] + c[:-t_size,:-t_size] - c[:-t_size,t_size:] - c[t_size:,:-t_size])/(t_size**2)\n",
    "    h = w = t_size//2\n",
    "    cols = mask.shape[1]//w\n",
    "    rows = mask.shape[0]//h\n",
    "    mask = mask[:h*rows,:w*cols]\n",
    "    x_inx = np.arange(mask.shape[1])[None,:]+mask*0\n",
    "    y_inx = np.arange(mask.shape[0])[:,None]+mask*0\n",
    "    mask = np.transpose(mask.reshape((rows,h,cols,w)),(0,2,1,3)).reshape(cols*rows,h*w)\n",
    "    y_inx = np.transpose(y_inx.reshape((rows,h,cols,w)),(0,2,1,3)).reshape(cols*rows,h*w).astype(np.int32)\n",
    "    x_inx = np.transpose(x_inx.reshape((rows,h,cols,w)),(0,2,1,3)).reshape(cols*rows,h*w).astype(np.int32)\n",
    "    res = []\n",
    "    for i in np.arange(len(mask))[mask.max(1) > 0.95]:\n",
    "        inx = mask[i].argmax()\n",
    "        x = x_inx[i][inx]\n",
    "        y = y_inx[i][inx]\n",
    "        res.append(img[y:y+t_size,x:x+t_size])\n",
    "    return np.array(res)\n",
    "\n",
    "def get_motion_batch(imgs,masks,t_size):\n",
    "    res = np.empty((0,t_size,t_size,3),dtype=np.uint8)\n",
    "    for i in range(len(imgs)):\n",
    "        tmp = get_motion_ties(imgs[i],masks[i],t_size)\n",
    "        if(len(tmp) > 0):\n",
    "            res = np.concatenate((res,tmp),axis=0)\n",
    "    return res\n",
    "\n",
    "def process_batch(out_dir,imgs,masks,w,h,min_r,min_roi):\n",
    "    cols = imgs.shape[2]//w\n",
    "    rows = imgs.shape[1]//h\n",
    "    imgs = imgs[:,:h*rows,:w*cols,:]\n",
    "    masks = masks[:,:h*rows,:w*cols]\n",
    "    imgs = np.transpose(imgs.reshape((-1,rows,h,cols,w,3)),(1,3,0,2,4,5)).reshape(cols*rows,len(imgs),h,w,3)\n",
    "    masks = np.transpose(masks.reshape((-1,rows,h,cols,w)),(1,3,0,2,4)).reshape(cols*rows,len(masks),h,w)\n",
    "    motion = np.zeros_like(masks)\n",
    "    motion[masks > 240] = 1\n",
    "    motion = motion.mean((2,3))\n",
    "\n",
    "    roi = np.zeros_like(masks)\n",
    "    roi[(masks > 240) | (masks < 10)] = 1\n",
    "    roi = roi.mean((2,3))\n",
    "    iter = 0\n",
    "    for i in range(len(masks)):\n",
    "        if(motion[i].mean() >= min_r and roi[i].mean() >= min_roi):\n",
    "            cv2.imwrite(out_dir+'/%d_input.jpg'%(iter),ties_to_image(imgs[i]))\n",
    "            cv2.imwrite(out_dir+'/%d_mask.png'%(iter),ties_to_image(masks[i]))\n",
    "            iter+=1\n",
    "    return imgs.reshape((-1,h,w,3))[motion.flatten()>=.97],iter\n",
    "\n",
    "def save_motion(out_dir,motion_ties):\n",
    "    if not (motion_ties is None):\n",
    "        for i in range(int(np.ceil(float(len(motion_ties))/50.))):\n",
    "            im = ties_to_image(motion_ties[i*50:min((i+1)*50,len(motion_ties))],5,10)\n",
    "            cv2.imwrite(out_dir+'/%d_motion.jpg'%(i),im)\n",
    "        return len(motion_ties)\n",
    "    else:\n",
    "        return 0"
   ]
  },
  {
   "cell_type": "code",
   "execution_count": 4,
   "metadata": {
    "collapsed": false
   },
   "outputs": [],
   "source": [
    "def generate_ties(dataset,out_dir,length,tie_size,min_r=0,min_roi = 0.5):\n",
    "    for video_num,(in_dir,out_dir) in enumerate(iterate_folders(dataset,out_dir)):\n",
    "        ties_num = 0\n",
    "        motion_ties = None\n",
    "        for batch_num,(imgs,masks) in enumerate(iterate_bathced(in_dir,length)):\n",
    "            _,i = process_batch(out_dir,imgs,masks,tie_size,tie_size,min_r,min_roi)\n",
    "            ties_num += i\n",
    "            m_ties = get_motion_batch(imgs,masks,tie_size)\n",
    "            if(len(m_ties) > 0):\n",
    "                if not(motion_ties is None):\n",
    "                    motion_ties = np.concatenate((motion_ties,m_ties))\n",
    "                else:\n",
    "                    motion_ties = m_ties\n",
    "        print out_dir+ ' %d ties=%d motion=%d'%(batch_num,ties_num,save_motion(out_dir,motion_ties))"
   ]
  },
  {
   "cell_type": "code",
   "execution_count": 5,
   "metadata": {
    "collapsed": false
   },
   "outputs": [
    {
     "name": "stdout",
     "output_type": "stream",
     "text": [
      "data/ties64/turbulence/turbulence2 61 ties=1240 motion=0\n",
      "data/ties64/turbulence/turbulence3 20 ties=847 motion=1268\n",
      "data/ties64/turbulence/turbulence1 42 ties=1694 motion=0\n",
      "data/ties64/thermal/lakeSide 84 ties=1275 motion=0\n",
      "data/ties64/thermal/park 4 ties=100 motion=0\n",
      "data/ties64/thermal/diningRoom 45 ties=690 motion=372\n",
      "data/ties64/thermal/library 66 ties=1005 motion=18914\n",
      "data/ties64/PTZ/zoomInZoomOut 8 ties=75 motion=0\n",
      "data/ties64/PTZ/twoPositionPTZCam 22 ties=240 motion=4\n",
      "data/ties64/PTZ/intermittentPan 34 ties=720 motion=6\n",
      "data/ties64/dynamicBackground/overpass 30 ties=434 motion=164\n",
      "data/ties64/dynamicBackground/fall 45 ties=3542 motion=8992\n",
      "data/ties64/dynamicBackground/canoe 5 ties=90 motion=0\n",
      "data/ties64/dynamicBackground/fountain02 14 ties=360 motion=0\n",
      "data/ties64/dynamicBackground/fountain01 11 ties=288 motion=0\n",
      "data/ties64/shadow/peopleInShade 13 ties=210 motion=578\n",
      "data/ties64/shadow/cubicle 97 ties=1470 motion=537\n",
      "data/ties64/shadow/copyMachine 44 ties=3465 motion=24725\n",
      "data/ties64/shadow/bungalows 20 ties=189 motion=1900\n",
      "data/ties64/shadow/busStation 13 ties=210 motion=0\n",
      "data/ties64/nightVideos/streetCornerAtNight 67 ties=918 motion=144\n",
      "data/ties64/nightVideos/tramStation 38 ties=254 motion=1\n",
      "data/ties64/nightVideos/fluidHighway 14 ties=395 motion=174\n",
      "data/ties64/nightVideos/winterStreet 12 ties=223 motion=137\n",
      "data/ties64/nightVideos/busyBoulvard 30 ties=64 motion=0\n",
      "data/ties64/intermittentObjectMotion/streetLight 46 ties=47 motion=0\n",
      "data/ties64/intermittentObjectMotion/tramstop 28 ties=0 motion=0\n",
      "data/ties64/intermittentObjectMotion/parking 20 ties=0 motion=0\n",
      "data/ties64/intermittentObjectMotion/sofa 34 ties=525 motion=0\n",
      "data/ties64/intermittentObjectMotion/winterDriveway 22 ties=276 motion=12\n",
      "data/ties64/baseline/PETS2006 13 ties=1386 motion=42\n",
      "data/ties64/baseline/pedestrians 11 ties=180 motion=0\n",
      "data/ties64/baseline/office 22 ties=345 motion=0\n",
      "data/ties64/cameraJitter/boulevard 25 ties=338 motion=1354\n",
      "data/ties64/cameraJitter/sidewalk 5 ties=36 motion=0\n",
      "data/ties64/cameraJitter/traffic 9 ties=150 motion=923\n",
      "data/ties64/lowFramerate/turnpike_0_5fps 9 ties=75 motion=4\n",
      "data/ties64/lowFramerate/tramCrossroad_1fps 6 ties=43 motion=0\n",
      "data/ties64/lowFramerate/tunnelExit_0_35fps 30 ties=563 motion=84\n",
      "data/ties64/badWeather/skating 47 ties=960 motion=3348\n",
      "data/ties64/badWeather/snowFall 88 ties=3465 motion=4114\n",
      "data/ties64/badWeather/wetSnow 45 ties=1656 motion=1439\n"
     ]
    }
   ],
   "source": [
    "TIE_SIZE = 64\n",
    "out_prefix = 'data/ties%d'%TIE_SIZE\n",
    "in_dir = 'data/dataset'\n",
    "SEQ_LENGTH = 64\n",
    "generate_ties(in_dir,out_prefix,SEQ_LENGTH,TIE_SIZE,-1.,0.5)"
   ]
  },
  {
   "cell_type": "code",
   "execution_count": 6,
   "metadata": {
    "collapsed": false
   },
   "outputs": [
    {
     "name": "stdout",
     "output_type": "stream",
     "text": [
      "data/test_ties64/turbulence/turbulence0 61 ties=2387 motion=0\n",
      "data/test_ties64/thermal/corridor 75 ties=1140 motion=1866\n",
      "data/test_ties64/PTZ/continuousPan 16 ties=693 motion=740\n",
      "data/test_ties64/dynamicBackground/boats 94 ties=475 motion=0\n",
      "data/test_ties64/shadow/backdoor 24 ties=296 motion=0\n",
      "data/test_ties64/nightVideos/bridgeEntry 22 ties=131 motion=0\n",
      "data/test_ties64/intermittentObjectMotion/abandonedBox 31 ties=63 motion=0\n",
      "data/test_ties64/baseline/highway 18 ties=285 motion=91\n",
      "data/test_ties64/cameraJitter/badminton 4 ties=385 motion=124\n",
      "data/test_ties64/lowFramerate/port_0_17fps 30 ties=624 motion=0\n",
      "data/test_ties64/badWeather/blizzard 94 ties=3696 motion=3184\n"
     ]
    }
   ],
   "source": [
    "TIE_SIZE = 64\n",
    "out_prefix = 'data/test_ties%d'%TIE_SIZE\n",
    "in_dir = 'data/test'\n",
    "SEQ_LENGTH = 64\n",
    "generate_ties(in_dir,out_prefix,SEQ_LENGTH,TIE_SIZE,-1.,0.5)"
   ]
  },
  {
   "cell_type": "code",
   "execution_count": 16,
   "metadata": {
    "collapsed": true
   },
   "outputs": [
    {
     "name": "stdout",
     "output_type": "stream",
     "text": [
      "('/media/hpc2_storage/nvaulin/ties32/turbulence/turbulence2', 'no motion ', 360)\n",
      "('/media/hpc2_storage/nvaulin/ties32/turbulence/turbulence3', 683)\n",
      "('/media/hpc2_storage/nvaulin/ties32/turbulence/turbulence1', 661)\n",
      "('/media/hpc2_storage/nvaulin/ties32/thermal/lakeSide', 139)\n",
      "('/media/hpc2_storage/nvaulin/ties32/thermal/park', 199)\n",
      "('/media/hpc2_storage/nvaulin/ties32/thermal/diningRoom', 225)\n",
      "('/media/hpc2_storage/nvaulin/ties32/thermal/library', 524)\n",
      "('/media/hpc2_storage/nvaulin/ties32/PTZ/zoomInZoomOut', 'no motion ', 136)\n",
      "('/media/hpc2_storage/nvaulin/ties32/PTZ/twoPositionPTZCam', 123)\n",
      "('/media/hpc2_storage/nvaulin/ties32/PTZ/intermittentPan', 384)\n",
      "('/media/hpc2_storage/nvaulin/ties32/dynamicBackground/overpass', 136)\n",
      "('/media/hpc2_storage/nvaulin/ties32/dynamicBackground/fall', 898)\n",
      "('/media/hpc2_storage/nvaulin/ties32/dynamicBackground/canoe', 'no motion ', 102)\n",
      "('/media/hpc2_storage/nvaulin/ties32/dynamicBackground/fountain02', 'no motion ', 234)\n",
      "('/media/hpc2_storage/nvaulin/ties32/dynamicBackground/fountain01', 'no motion ', 218)\n",
      "('/media/hpc2_storage/nvaulin/ties32/shadow/peopleInShade', 179)\n",
      "('/media/hpc2_storage/nvaulin/ties32/shadow/cubicle', 190)\n",
      "('/media/hpc2_storage/nvaulin/ties32/shadow/copyMachine', 1180)\n",
      "('/media/hpc2_storage/nvaulin/ties32/shadow/bungalows', 131)\n",
      "('/media/hpc2_storage/nvaulin/ties32/shadow/busStation', 129)\n",
      "('/media/hpc2_storage/nvaulin/ties32/nightVideos/streetCornerAtNight', 246)\n",
      "('/media/hpc2_storage/nvaulin/ties32/nightVideos/tramStation', 123)\n",
      "('/media/hpc2_storage/nvaulin/ties32/nightVideos/fluidHighway', 400)\n",
      "('/media/hpc2_storage/nvaulin/ties32/nightVideos/winterStreet', 268)\n",
      "('/media/hpc2_storage/nvaulin/ties32/nightVideos/busyBoulvard', 42)\n",
      "('/media/hpc2_storage/nvaulin/ties32/intermittentObjectMotion/streetLight', 'no motion ', 2)\n",
      "('/media/hpc2_storage/nvaulin/ties32/intermittentObjectMotion/tramstop', 'no motion ', 2)\n",
      "('/media/hpc2_storage/nvaulin/ties32/intermittentObjectMotion/parking', 'no motion ', 0)\n",
      "('/media/hpc2_storage/nvaulin/ties32/intermittentObjectMotion/sofa', 135)\n",
      "('/media/hpc2_storage/nvaulin/ties32/intermittentObjectMotion/winterDriveway', 101)\n",
      "('/media/hpc2_storage/nvaulin/ties32/baseline/PETS2006', 781)\n",
      "('/media/hpc2_storage/nvaulin/ties32/baseline/pedestrians', 'no motion ', 154)\n",
      "('/media/hpc2_storage/nvaulin/ties32/baseline/office', 133)\n",
      "('/media/hpc2_storage/nvaulin/ties32/cameraJitter/boulevard', 152)\n",
      "('/media/hpc2_storage/nvaulin/ties32/cameraJitter/sidewalk', 'no motion ', 34)\n",
      "('/media/hpc2_storage/nvaulin/ties32/cameraJitter/traffic', 137)\n",
      "('/media/hpc2_storage/nvaulin/ties32/lowFramerate/turnpike_0_5fps', 98)\n",
      "('/media/hpc2_storage/nvaulin/ties32/lowFramerate/tramCrossroad_1fps', 67)\n",
      "('/media/hpc2_storage/nvaulin/ties32/lowFramerate/tunnelExit_0_35fps', 323)\n",
      "('/media/hpc2_storage/nvaulin/ties32/badWeather/skating', 455)\n",
      "('/media/hpc2_storage/nvaulin/ties32/badWeather/snowFall', 745)\n",
      "('/media/hpc2_storage/nvaulin/ties32/badWeather/wetSnow', 573)\n",
      "('/media/hpc2_storage/nvaulin/test_ties32/turbulence/turbulence0', 'no motion ', 660)\n",
      "('/media/hpc2_storage/nvaulin/test_ties32/thermal/corridor', 203)\n",
      "('/media/hpc2_storage/nvaulin/test_ties32/PTZ/continuousPan', 676)\n",
      "('/media/hpc2_storage/nvaulin/test_ties32/dynamicBackground/boats', 'no motion ', 60)\n",
      "('/media/hpc2_storage/nvaulin/test_ties32/shadow/backdoor', 108)\n",
      "('/media/hpc2_storage/nvaulin/test_ties32/nightVideos/bridgeEntry', 'no motion ', 62)\n",
      "('/media/hpc2_storage/nvaulin/test_ties32/intermittentObjectMotion/abandonedBox', 'no motion ', 6)\n",
      "('/media/hpc2_storage/nvaulin/test_ties32/baseline/highway', 142)\n",
      "('/media/hpc2_storage/nvaulin/test_ties32/cameraJitter/badminton', 602)\n",
      "('/media/hpc2_storage/nvaulin/test_ties32/lowFramerate/port_0_17fps', 'no motion ', 242)\n",
      "('/media/hpc2_storage/nvaulin/test_ties32/badWeather/blizzard', 739)\n"
     ]
    }
   ],
   "source": [
    "import shutil\n",
    "def purge(dir):\n",
    "    for i in os.listdir(dir):\n",
    "        for j in os.listdir(dir+'/'+i):\n",
    "            p = dir+'/'+i+'/'+j\n",
    "            l = [k[:-4] for k in os.listdir(p)]\n",
    "            if( not('0_motion' in l)):\n",
    "                print(p,'no motion ',len(l))\n",
    "                shutil.rmtree(p)\n",
    "            else:\n",
    "                print(p,len(l))\n",
    "purge('/media/hpc2_storage/nvaulin/ties32')        \n",
    "purge('/media/hpc2_storage/nvaulin/test_ties32')           "
   ]
  },
  {
   "cell_type": "code",
   "execution_count": null,
   "metadata": {
    "collapsed": true
   },
   "outputs": [],
   "source": []
  }
 ],
 "metadata": {
  "kernelspec": {
   "display_name": "Python 2",
   "language": "python",
   "name": "python2"
  },
  "language_info": {
   "codemirror_mode": {
    "name": "ipython",
    "version": 2
   },
   "file_extension": ".py",
   "mimetype": "text/x-python",
   "name": "python",
   "nbconvert_exporter": "python",
   "pygments_lexer": "ipython2",
   "version": "2.7.6"
  }
 },
 "nbformat": 4,
 "nbformat_minor": 2
}
