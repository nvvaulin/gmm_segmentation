{
 "cells": [
  {
   "cell_type": "code",
   "execution_count": 11,
   "metadata": {
    "collapsed": false
   },
   "outputs": [],
   "source": [
    "import os\n",
    "import pandas as pd\n",
    "import cv2\n",
    "import numpy as np\n",
    "import matplotlib.pyplot as plt\n",
    "from dataset_tools import *"
   ]
  },
  {
   "cell_type": "code",
   "execution_count": 12,
   "metadata": {
    "collapsed": true
   },
   "outputs": [],
   "source": [
    "def process_batch(out_dir,imgs,masks,w,h,min_r,min_roi):\n",
    "    cols = imgs.shape[2]//w\n",
    "    rows = imgs.shape[1]//h\n",
    "    imgs = imgs[:,:h*rows,:w*cols,:]\n",
    "    masks = masks[:,:h*rows,:w*cols]\n",
    "    imgs = np.transpose(imgs.reshape((-1,rows,h,cols,w,3)),(1,3,0,2,4,5)).reshape(cols*rows,len(imgs),h,w,3)\n",
    "    masks = np.transpose(masks.reshape((-1,rows,h,cols,w)),(1,3,0,2,4)).reshape(cols*rows,len(masks),h,w)\n",
    "    motion = np.zeros_like(masks)\n",
    "    motion[masks > 240] = 1\n",
    "    motion = motion.mean((2,3))\n",
    "\n",
    "    roi = np.zeros_like(masks)\n",
    "    roi[(masks > 240) | (masks < 10)] = 1\n",
    "    roi = roi.mean((2,3))\n",
    "    iter = 0\n",
    "    for i in range(len(masks)):\n",
    "        if(motion[i].mean() >= min_r and roi[i].mean() >= min_roi):\n",
    "            cv2.imwrite(out_dir+'/%d_input.jpg'%(iter),ties_to_image(imgs[i]))\n",
    "            cv2.imwrite(out_dir+'/%d_mask.png'%(iter),ties_to_image(masks[i]))\n",
    "            iter+=1\n",
    "    return imgs.reshape((-1,h,w,3))[motion.flatten()>=.97],iter\n",
    "\n",
    "\n",
    "def save_motion(out_dir,motion_ties):\n",
    "    if not (motion_ties is None):\n",
    "        for i in range(int(np.ceil(float(len(motion_ties))/50.))):\n",
    "            im = ties_to_image(motion_ties[i*50:min((i+1)*50,len(motion_ties))],5,10)\n",
    "            cv2.imwrite(out_dir+'/%d_motion.jpg'%(i),im)\n",
    "        return len(motion_ties)\n",
    "    else:\n",
    "        return 0"
   ]
  },
  {
   "cell_type": "code",
   "execution_count": 13,
   "metadata": {
    "collapsed": false
   },
   "outputs": [],
   "source": [
    "def generate_ties(dataset,out_dir,length,tie_size,min_r=0,min_roi = 0.5):\n",
    "    for video_num,(in_dir,out_dir) in enumerate(iterate_folders(dataset,out_dir)):\n",
    "        ties_num = 0\n",
    "        motion_ties = None\n",
    "#         f = [int(ii) for ii in (open(in_dir+'/temporalROI.txt').read()).split(' ')]\n",
    "#         end = f[-1]\n",
    "#         for i in range(f[0],f[1]):\n",
    "#             m = cv2.imread(in_dir+'/groundtruth/gt%06d.png'%(i))\n",
    "#             if(m[((m > 10)&(m < 240))].size > 0.9*m.size):\n",
    "#                 end = i\n",
    "#                 break\n",
    "#         batches = (end-f[0]-1)//length\n",
    "#         print batches\n",
    "        for batch_num,(imgs,masks) in enumerate(iterate_bathced(in_dir,length)):\n",
    "                \n",
    "#             if(batch_num == batches/2):\n",
    "#                 m = save_motion(out_dir,motion_ties)\n",
    "#                 print out_dir+ ' %d ties=%d motion=%d'%(batch_num,ties_num,m)\n",
    "#                 if(m == 0):\n",
    "#                     break\n",
    "#                 out_dir = 'test/'+out_dir\n",
    "#                 make_path(out_dir)\n",
    "#                 motion_ties = None\n",
    "#                 ties_num = 0\n",
    "                \n",
    "#             if(batch_num >= batches):\n",
    "#                 break\n",
    "            m_ties,i = process_batch(out_dir,imgs,masks,tie_size,tie_size,min_r,min_roi)\n",
    "            ties_num += i\n",
    "            if(len(m_ties) > 0):\n",
    "                if not(motion_ties is None):\n",
    "                    motion_ties = np.concatenate((motion_ties,m_ties))\n",
    "                else:\n",
    "                    motion_ties = m_ties\n",
    "            \n",
    "                 \n",
    "        print out_dir+ ' %d ties=%d motion=%d'%(batch_num,ties_num,save_motion(out_dir,motion_ties))"
   ]
  },
  {
   "cell_type": "code",
   "execution_count": 14,
   "metadata": {
    "collapsed": false,
    "scrolled": false
   },
   "outputs": [
    {
     "name": "stdout",
     "output_type": "stream",
     "text": [
      "/media/hpc2_storage/nvaulin/ties32/turbulence/turbulence2 14 ties=1260 motion=0\n",
      "/media/hpc2_storage/nvaulin/ties32/turbulence/turbulence3 4 ties=652 motion=1524\n",
      "/media/hpc2_storage/nvaulin/ties32/turbulence/turbulence1 9 ties=1623 motion=4\n",
      "/media/hpc2_storage/nvaulin/ties32/thermal/lakeSide 20 ties=1309 motion=23\n",
      "/media/hpc2_storage/nvaulin/ties32/thermal/park 0 ties=99 motion=30\n",
      "/media/hpc2_storage/nvaulin/ties32/thermal/diningRoom 10 ties=675 motion=4509\n",
      "/media/hpc2_storage/nvaulin/ties32/thermal/library 15 ties=858 motion=19177\n",
      "/media/hpc2_storage/nvaulin/ties32/PTZ/zoomInZoomOut 1 ties=68 motion=0\n",
      "/media/hpc2_storage/nvaulin/ties32/PTZ/twoPositionPTZCam 4 ties=60 motion=125\n",
      "/media/hpc2_storage/nvaulin/ties32/PTZ/intermittentPan 7 ties=370 motion=454\n",
      "/media/hpc2_storage/nvaulin/ties32/dynamicBackground/overpass 6 ties=434 motion=294\n",
      "/media/hpc2_storage/nvaulin/ties32/dynamicBackground/fall 10 ties=3627 motion=11867\n",
      "/media/hpc2_storage/nvaulin/ties32/dynamicBackground/canoe 0 ties=51 motion=0\n",
      "/media/hpc2_storage/nvaulin/ties32/dynamicBackground/fountain02 2 ties=351 motion=0\n",
      "/media/hpc2_storage/nvaulin/ties32/dynamicBackground/fountain01 2 ties=326 motion=0\n",
      "/media/hpc2_storage/nvaulin/ties32/shadow/peopleInShade 2 ties=200 motion=1336\n",
      "/media/hpc2_storage/nvaulin/ties32/shadow/cubicle 23 ties=1742 motion=1777\n",
      "/media/hpc2_storage/nvaulin/ties32/shadow/copyMachine 10 ties=3441 motion=25989\n",
      "/media/hpc2_storage/nvaulin/ties32/shadow/bungalows 4 ties=186 motion=2322\n",
      "/media/hpc2_storage/nvaulin/ties32/shadow/busStation 2 ties=181 motion=20\n",
      "/media/hpc2_storage/nvaulin/ties32/nightVideos/streetCornerAtNight 16 ties=959 motion=263\n",
      "/media/hpc2_storage/nvaulin/ties32/nightVideos/tramStation 8 ties=235 motion=104\n",
      "/media/hpc2_storage/nvaulin/ties32/nightVideos/fluidHighway 2 ties=197 motion=294\n",
      "/media/hpc2_storage/nvaulin/ties32/nightVideos/winterStreet 2 ties=130 motion=393\n",
      "/media/hpc2_storage/nvaulin/ties32/nightVideos/busyBoulvard 6 ties=68 motion=75\n",
      "/media/hpc2_storage/nvaulin/ties32/intermittentObjectMotion/streetLight 10 ties=10 motion=0\n",
      "/media/hpc2_storage/nvaulin/ties32/intermittentObjectMotion/tramstop 6 ties=4 motion=0\n",
      "/media/hpc2_storage/nvaulin/ties32/intermittentObjectMotion/parking 4 ties=0 motion=0\n",
      "/media/hpc2_storage/nvaulin/ties32/intermittentObjectMotion/sofa 7 ties=482 motion=46\n",
      "/media/hpc2_storage/nvaulin/ties32/intermittentObjectMotion/winterDriveway 4 ties=223 motion=44\n",
      "/media/hpc2_storage/nvaulin/ties32/baseline/PETS2006 2 ties=1156 motion=432\n",
      "/media/hpc2_storage/nvaulin/ties32/baseline/pedestrians 2 ties=227 motion=0\n",
      "/media/hpc2_storage/nvaulin/ties32/baseline/office 4 ties=318 motion=115\n",
      "/media/hpc2_storage/nvaulin/ties32/cameraJitter/boulevard 5 ties=346 motion=1599\n",
      "/media/hpc2_storage/nvaulin/ties32/cameraJitter/sidewalk 0 ties=17 motion=0\n",
      "/media/hpc2_storage/nvaulin/ties32/cameraJitter/traffic 1 ties=118 motion=812\n",
      "/media/hpc2_storage/nvaulin/ties32/lowFramerate/turnpike_0_5fps 1 ties=48 motion=65\n",
      "/media/hpc2_storage/nvaulin/ties32/lowFramerate/tramCrossroad_1fps 0 ties=33 motion=18\n",
      "/media/hpc2_storage/nvaulin/ties32/lowFramerate/tunnelExit_0_35fps 6 ties=429 motion=1323\n",
      "/media/hpc2_storage/nvaulin/ties32/badWeather/skating 11 ties=1049 motion=5138\n",
      "/media/hpc2_storage/nvaulin/ties32/badWeather/snowFall 21 ties=3616 motion=4204\n",
      "/media/hpc2_storage/nvaulin/ties32/badWeather/wetSnow 10 ties=1334 motion=1727\n"
     ]
    }
   ],
   "source": [
    "generate_ties('/media/hpc2_storage/nvaulin/dataset','/media/hpc2_storage/nvaulin/ties32',256,32,-1.,0.95)"
   ]
  },
  {
   "cell_type": "code",
   "execution_count": 15,
   "metadata": {
    "collapsed": false
   },
   "outputs": [
    {
     "name": "stdout",
     "output_type": "stream",
     "text": [
      "/media/hpc2_storage/nvaulin/test_ties32/turbulence/turbulence0 14 ties=2309 motion=0\n",
      "/media/hpc2_storage/nvaulin/test_ties32/thermal/corridor 18 ties=1239 motion=3143\n",
      "/media/hpc2_storage/nvaulin/test_ties32/PTZ/continuousPan 3 ties=660 motion=759\n",
      "/media/hpc2_storage/nvaulin/test_ties32/dynamicBackground/boats 22 ties=676 motion=0\n",
      "/media/hpc2_storage/nvaulin/test_ties32/shadow/backdoor 5 ties=301 motion=62\n",
      "/media/hpc2_storage/nvaulin/test_ties32/nightVideos/bridgeEntry 4 ties=62 motion=0\n",
      "/media/hpc2_storage/nvaulin/test_ties32/intermittentObjectMotion/abandonedBox 7 ties=16 motion=0\n",
      "/media/hpc2_storage/nvaulin/test_ties32/baseline/highway 3 ties=219 motion=498\n",
      "/media/hpc2_storage/nvaulin/test_ties32/cameraJitter/badminton 0 ties=298 motion=296\n",
      "/media/hpc2_storage/nvaulin/test_ties32/lowFramerate/port_0_17fps 6 ties=363 motion=0\n",
      "/media/hpc2_storage/nvaulin/test_ties32/badWeather/blizzard 22 ties=3599 motion=3927\n"
     ]
    }
   ],
   "source": [
    "generate_ties('/media/hpc2_storage/nvaulin/test','/media/hpc2_storage/nvaulin/test_ties32',256,32,-1.,0.95)"
   ]
  },
  {
   "cell_type": "code",
   "execution_count": 16,
   "metadata": {
    "collapsed": false
   },
   "outputs": [
    {
     "name": "stdout",
     "output_type": "stream",
     "text": [
      "('/media/hpc2_storage/nvaulin/ties32/turbulence/turbulence2', 'no motion ', 360)\n",
      "('/media/hpc2_storage/nvaulin/ties32/turbulence/turbulence3', 683)\n",
      "('/media/hpc2_storage/nvaulin/ties32/turbulence/turbulence1', 661)\n",
      "('/media/hpc2_storage/nvaulin/ties32/thermal/lakeSide', 139)\n",
      "('/media/hpc2_storage/nvaulin/ties32/thermal/park', 199)\n",
      "('/media/hpc2_storage/nvaulin/ties32/thermal/diningRoom', 225)\n",
      "('/media/hpc2_storage/nvaulin/ties32/thermal/library', 524)\n",
      "('/media/hpc2_storage/nvaulin/ties32/PTZ/zoomInZoomOut', 'no motion ', 136)\n",
      "('/media/hpc2_storage/nvaulin/ties32/PTZ/twoPositionPTZCam', 123)\n",
      "('/media/hpc2_storage/nvaulin/ties32/PTZ/intermittentPan', 384)\n",
      "('/media/hpc2_storage/nvaulin/ties32/dynamicBackground/overpass', 136)\n",
      "('/media/hpc2_storage/nvaulin/ties32/dynamicBackground/fall', 898)\n",
      "('/media/hpc2_storage/nvaulin/ties32/dynamicBackground/canoe', 'no motion ', 102)\n",
      "('/media/hpc2_storage/nvaulin/ties32/dynamicBackground/fountain02', 'no motion ', 234)\n",
      "('/media/hpc2_storage/nvaulin/ties32/dynamicBackground/fountain01', 'no motion ', 218)\n",
      "('/media/hpc2_storage/nvaulin/ties32/shadow/peopleInShade', 179)\n",
      "('/media/hpc2_storage/nvaulin/ties32/shadow/cubicle', 190)\n",
      "('/media/hpc2_storage/nvaulin/ties32/shadow/copyMachine', 1180)\n",
      "('/media/hpc2_storage/nvaulin/ties32/shadow/bungalows', 131)\n",
      "('/media/hpc2_storage/nvaulin/ties32/shadow/busStation', 129)\n",
      "('/media/hpc2_storage/nvaulin/ties32/nightVideos/streetCornerAtNight', 246)\n",
      "('/media/hpc2_storage/nvaulin/ties32/nightVideos/tramStation', 123)\n",
      "('/media/hpc2_storage/nvaulin/ties32/nightVideos/fluidHighway', 400)\n",
      "('/media/hpc2_storage/nvaulin/ties32/nightVideos/winterStreet', 268)\n",
      "('/media/hpc2_storage/nvaulin/ties32/nightVideos/busyBoulvard', 42)\n",
      "('/media/hpc2_storage/nvaulin/ties32/intermittentObjectMotion/streetLight', 'no motion ', 2)\n",
      "('/media/hpc2_storage/nvaulin/ties32/intermittentObjectMotion/tramstop', 'no motion ', 2)\n",
      "('/media/hpc2_storage/nvaulin/ties32/intermittentObjectMotion/parking', 'no motion ', 0)\n",
      "('/media/hpc2_storage/nvaulin/ties32/intermittentObjectMotion/sofa', 135)\n",
      "('/media/hpc2_storage/nvaulin/ties32/intermittentObjectMotion/winterDriveway', 101)\n",
      "('/media/hpc2_storage/nvaulin/ties32/baseline/PETS2006', 781)\n",
      "('/media/hpc2_storage/nvaulin/ties32/baseline/pedestrians', 'no motion ', 154)\n",
      "('/media/hpc2_storage/nvaulin/ties32/baseline/office', 133)\n",
      "('/media/hpc2_storage/nvaulin/ties32/cameraJitter/boulevard', 152)\n",
      "('/media/hpc2_storage/nvaulin/ties32/cameraJitter/sidewalk', 'no motion ', 34)\n",
      "('/media/hpc2_storage/nvaulin/ties32/cameraJitter/traffic', 137)\n",
      "('/media/hpc2_storage/nvaulin/ties32/lowFramerate/turnpike_0_5fps', 98)\n",
      "('/media/hpc2_storage/nvaulin/ties32/lowFramerate/tramCrossroad_1fps', 67)\n",
      "('/media/hpc2_storage/nvaulin/ties32/lowFramerate/tunnelExit_0_35fps', 323)\n",
      "('/media/hpc2_storage/nvaulin/ties32/badWeather/skating', 455)\n",
      "('/media/hpc2_storage/nvaulin/ties32/badWeather/snowFall', 745)\n",
      "('/media/hpc2_storage/nvaulin/ties32/badWeather/wetSnow', 573)\n",
      "('/media/hpc2_storage/nvaulin/test_ties32/turbulence/turbulence0', 'no motion ', 660)\n",
      "('/media/hpc2_storage/nvaulin/test_ties32/thermal/corridor', 203)\n",
      "('/media/hpc2_storage/nvaulin/test_ties32/PTZ/continuousPan', 676)\n",
      "('/media/hpc2_storage/nvaulin/test_ties32/dynamicBackground/boats', 'no motion ', 60)\n",
      "('/media/hpc2_storage/nvaulin/test_ties32/shadow/backdoor', 108)\n",
      "('/media/hpc2_storage/nvaulin/test_ties32/nightVideos/bridgeEntry', 'no motion ', 62)\n",
      "('/media/hpc2_storage/nvaulin/test_ties32/intermittentObjectMotion/abandonedBox', 'no motion ', 6)\n",
      "('/media/hpc2_storage/nvaulin/test_ties32/baseline/highway', 142)\n",
      "('/media/hpc2_storage/nvaulin/test_ties32/cameraJitter/badminton', 602)\n",
      "('/media/hpc2_storage/nvaulin/test_ties32/lowFramerate/port_0_17fps', 'no motion ', 242)\n",
      "('/media/hpc2_storage/nvaulin/test_ties32/badWeather/blizzard', 739)\n"
     ]
    }
   ],
   "source": [
    "import shutil\n",
    "def purge(dir):\n",
    "    for i in os.listdir(dir):\n",
    "        for j in os.listdir(dir+'/'+i):\n",
    "            p = dir+'/'+i+'/'+j\n",
    "            l = [k[:-4] for k in os.listdir(p)]\n",
    "            if( not('0_motion' in l)):\n",
    "                print(p,'no motion ',len(l))\n",
    "                shutil.rmtree(p)\n",
    "            else:\n",
    "                print(p,len(l))\n",
    "purge('/media/hpc2_storage/nvaulin/ties32')        \n",
    "purge('/media/hpc2_storage/nvaulin/test_ties32')           "
   ]
  },
  {
   "cell_type": "code",
   "execution_count": null,
   "metadata": {
    "collapsed": true
   },
   "outputs": [],
   "source": []
  }
 ],
 "metadata": {
  "kernelspec": {
   "display_name": "Python 2",
   "language": "python",
   "name": "python2"
  },
  "language_info": {
   "codemirror_mode": {
    "name": "ipython",
    "version": 2
   },
   "file_extension": ".py",
   "mimetype": "text/x-python",
   "name": "python",
   "nbconvert_exporter": "python",
   "pygments_lexer": "ipython2",
   "version": "2.7.6"
  }
 },
 "nbformat": 4,
 "nbformat_minor": 2
}
