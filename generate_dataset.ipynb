{
 "cells": [
  {
   "cell_type": "code",
   "execution_count": 1,
   "metadata": {
    "collapsed": false
   },
   "outputs": [],
   "source": [
    "import os\n",
    "import pandas as pd\n",
    "import cv2\n",
    "import numpy as np\n",
    "import matplotlib.pyplot as plt\n",
    "from dataset_tools import *"
   ]
  },
  {
   "cell_type": "code",
   "execution_count": 2,
   "metadata": {
    "collapsed": true
   },
   "outputs": [],
   "source": [
    "\n",
    "# l = [i for i in open('/media/hpc2_storage/nvaulin/test_ties32/list.txt') if i.find('PTZ') < 0]\n",
    "# f = open('/media/hpc2_storage/nvaulin/test_ties32/list.txt','w')\n",
    "# for i in l:\n",
    "#     f.write(i)\n",
    "    \n",
    "# f.close()"
   ]
  },
  {
   "cell_type": "code",
   "execution_count": 3,
   "metadata": {
    "collapsed": false
   },
   "outputs": [],
   "source": [
    "def get_motion_ties(img,_mask,t_size):\n",
    "    mask = np.zeros_like(_mask,dtype=np.float32)\n",
    "    mask[_mask > 240] = 1\n",
    "    c = np.cumsum(mask,0)\n",
    "    c = np.cumsum(c,1)\n",
    "    mask = (c[t_size:,t_size:] + c[:-t_size,:-t_size] - c[:-t_size,t_size:] - c[t_size:,:-t_size])/(t_size**2)\n",
    "    h = w = t_size//2\n",
    "    cols = mask.shape[1]//w\n",
    "    rows = mask.shape[0]//h\n",
    "    mask = mask[:h*rows,:w*cols]\n",
    "    x_inx = np.arange(mask.shape[1])[None,:]+mask*0\n",
    "    y_inx = np.arange(mask.shape[0])[:,None]+mask*0\n",
    "    mask = np.transpose(mask.reshape((rows,h,cols,w)),(0,2,1,3)).reshape(cols*rows,h*w)\n",
    "    y_inx = np.transpose(y_inx.reshape((rows,h,cols,w)),(0,2,1,3)).reshape(cols*rows,h*w).astype(np.int32)\n",
    "    x_inx = np.transpose(x_inx.reshape((rows,h,cols,w)),(0,2,1,3)).reshape(cols*rows,h*w).astype(np.int32)\n",
    "    res = []\n",
    "    for i in np.arange(len(mask))[mask.max(1) > 0.95]:\n",
    "        inx = mask[i].argmax()\n",
    "        x = x_inx[i][inx]\n",
    "        y = y_inx[i][inx]\n",
    "        res.append(img[y:y+t_size,x:x+t_size])\n",
    "    return np.array(res)\n",
    "\n",
    "def get_motion_batch(imgs,masks,t_size):\n",
    "    res = np.empty((0,t_size,t_size,3),dtype=np.uint8)\n",
    "    for i in range(len(imgs)):\n",
    "        tmp = get_motion_ties(imgs[i],masks[i],t_size)\n",
    "        if(len(tmp) > 0):\n",
    "            res = np.concatenate((res,tmp),axis=0)\n",
    "    return res\n",
    "\n",
    "def process_batch(out_dir,imgs,masks,w,h,min_r,min_roi):\n",
    "    cols = imgs.shape[2]//w\n",
    "    rows = imgs.shape[1]//h\n",
    "    imgs = imgs[:,:h*rows,:w*cols,:]\n",
    "    masks = masks[:,:h*rows,:w*cols]\n",
    "    imgs = np.transpose(imgs.reshape((-1,rows,h,cols,w,3)),(1,3,0,2,4,5)).reshape(cols*rows,len(imgs),h,w,3)\n",
    "    masks = np.transpose(masks.reshape((-1,rows,h,cols,w)),(1,3,0,2,4)).reshape(cols*rows,len(masks),h,w)\n",
    "    motion = np.zeros_like(masks)\n",
    "    motion[masks > 240] = 1\n",
    "    motion = motion.mean((2,3))\n",
    "\n",
    "    roi = np.zeros_like(masks)\n",
    "    roi[(masks > 240) | (masks < 10)] = 1\n",
    "    roi = roi.mean((2,3))\n",
    "    iter = 0\n",
    "    for i in range(len(masks)):\n",
    "        if(motion[i].mean() >= min_r and roi[i].mean() >= min_roi):\n",
    "            cv2.imwrite(out_dir+'/%d_input.jpg'%(iter),ties_to_image(imgs[i]))\n",
    "            cv2.imwrite(out_dir+'/%d_mask.png'%(iter),ties_to_image(masks[i]))\n",
    "            iter+=1\n",
    "    return imgs.reshape((-1,h,w,3))[motion.flatten()>=.97],iter\n",
    "\n",
    "def save_motion(out_dir,motion_ties):\n",
    "    if not (motion_ties is None):\n",
    "        for i in range(int(np.ceil(float(len(motion_ties))/50.))):\n",
    "            im = ties_to_image(motion_ties[i*50:min((i+1)*50,len(motion_ties))],5,10)\n",
    "            cv2.imwrite(out_dir+'/%d_motion.jpg'%(i),im)\n",
    "        return len(motion_ties)\n",
    "    else:\n",
    "        return 0"
   ]
  },
  {
   "cell_type": "code",
   "execution_count": 4,
   "metadata": {
    "collapsed": false
   },
   "outputs": [],
   "source": [
    "def generate_ties(dataset,out_dir,length,tie_size,min_r=0,min_roi = 0.5):\n",
    "    for video_num,(in_dir,out_dir) in enumerate(iterate_folders(dataset,out_dir)):\n",
    "        ties_num = 0\n",
    "        motion_ties = None\n",
    "        for batch_num,(imgs,masks) in enumerate(iterate_bathced(in_dir,length)):\n",
    "            _,i = process_batch(out_dir,imgs,masks,tie_size,tie_size,min_r,min_roi)\n",
    "            ties_num += i\n",
    "            m_ties = get_motion_batch(imgs,masks,tie_size)\n",
    "            if(len(m_ties) > 0):\n",
    "                if not(motion_ties is None):\n",
    "                    motion_ties = np.concatenate((motion_ties,m_ties))\n",
    "                else:\n",
    "                    motion_ties = m_ties\n",
    "        print out_dir+ ' %d ties=%d motion=%d'%(batch_num,ties_num,save_motion(out_dir,motion_ties))"
   ]
  },
  {
   "cell_type": "code",
   "execution_count": 5,
   "metadata": {
    "collapsed": false
   },
   "outputs": [
    {
     "name": "stdout",
     "output_type": "stream",
     "text": [
      "data/ties64/turbulence/turbulence2 61 ties=1240 motion=0\n",
      "data/ties64/turbulence/turbulence3 20 ties=847 motion=1268\n",
      "data/ties64/turbulence/turbulence1 42 ties=1694 motion=0\n",
      "data/ties64/thermal/lakeSide 84 ties=1275 motion=0\n",
      "data/ties64/thermal/park 4 ties=100 motion=0\n",
      "data/ties64/thermal/diningRoom 45 ties=690 motion=372\n",
      "data/ties64/thermal/library 66 ties=1005 motion=18914\n",
      "data/ties64/PTZ/zoomInZoomOut 8 ties=75 motion=0\n",
      "data/ties64/PTZ/twoPositionPTZCam 22 ties=240 motion=4\n",
      "data/ties64/PTZ/intermittentPan 34 ties=720 motion=6\n",
      "data/ties64/dynamicBackground/overpass 30 ties=434 motion=164\n",
      "data/ties64/dynamicBackground/fall 45 ties=3542 motion=8992\n",
      "data/ties64/dynamicBackground/canoe 5 ties=90 motion=0\n",
      "data/ties64/dynamicBackground/fountain02 14 ties=360 motion=0\n",
      "data/ties64/dynamicBackground/fountain01 11 ties=288 motion=0\n",
      "data/ties64/shadow/peopleInShade 13 ties=210 motion=578\n",
      "data/ties64/shadow/cubicle 97 ties=1470 motion=537\n",
      "data/ties64/shadow/copyMachine 44 ties=3465 motion=24725\n",
      "data/ties64/shadow/bungalows 20 ties=189 motion=1900\n",
      "data/ties64/shadow/busStation 13 ties=210 motion=0\n",
      "data/ties64/nightVideos/streetCornerAtNight 67 ties=918 motion=144\n",
      "data/ties64/nightVideos/tramStation 38 ties=254 motion=1\n",
      "data/ties64/nightVideos/fluidHighway 14 ties=395 motion=174\n",
      "data/ties64/nightVideos/winterStreet 12 ties=223 motion=137\n",
      "data/ties64/nightVideos/busyBoulvard 30 ties=64 motion=0\n",
      "data/ties64/intermittentObjectMotion/streetLight 46 ties=47 motion=0\n",
      "data/ties64/intermittentObjectMotion/tramstop 28 ties=0 motion=0\n",
      "data/ties64/intermittentObjectMotion/parking 20 ties=0 motion=0\n",
      "data/ties64/intermittentObjectMotion/sofa 34 ties=525 motion=0\n",
      "data/ties64/intermittentObjectMotion/winterDriveway 22 ties=276 motion=12\n",
      "data/ties64/baseline/PETS2006 13 ties=1386 motion=42\n",
      "data/ties64/baseline/pedestrians 11 ties=180 motion=0\n",
      "data/ties64/baseline/office 22 ties=345 motion=0\n",
      "data/ties64/cameraJitter/boulevard 25 ties=338 motion=1354\n",
      "data/ties64/cameraJitter/sidewalk 5 ties=36 motion=0\n",
      "data/ties64/cameraJitter/traffic 9 ties=150 motion=923\n",
      "data/ties64/lowFramerate/turnpike_0_5fps 9 ties=75 motion=4\n",
      "data/ties64/lowFramerate/tramCrossroad_1fps 6 ties=43 motion=0\n",
      "data/ties64/lowFramerate/tunnelExit_0_35fps 30 ties=563 motion=84\n",
      "data/ties64/badWeather/skating 47 ties=960 motion=3348\n",
      "data/ties64/badWeather/snowFall 88 ties=3465 motion=4114\n",
      "data/ties64/badWeather/wetSnow 45 ties=1656 motion=1439\n"
     ]
    }
   ],
   "source": [
    "TIE_SIZE = 64\n",
    "out_prefix = 'data/ties%d'%TIE_SIZE\n",
    "in_dir = 'data/dataset'\n",
    "SEQ_LENGTH = 64\n",
    "generate_ties(in_dir,out_prefix,SEQ_LENGTH,TIE_SIZE,-1.,0.5)"
   ]
  },
  {
   "cell_type": "code",
   "execution_count": 6,
   "metadata": {
    "collapsed": false
   },
   "outputs": [
    {
     "name": "stdout",
     "output_type": "stream",
     "text": [
      "data/test_ties64/turbulence/turbulence0 61 ties=2387 motion=0\n",
      "data/test_ties64/thermal/corridor 75 ties=1140 motion=1866\n",
      "data/test_ties64/PTZ/continuousPan 16 ties=693 motion=740\n",
      "data/test_ties64/dynamicBackground/boats 94 ties=475 motion=0\n",
      "data/test_ties64/shadow/backdoor 24 ties=296 motion=0\n",
      "data/test_ties64/nightVideos/bridgeEntry 22 ties=131 motion=0\n",
      "data/test_ties64/intermittentObjectMotion/abandonedBox 31 ties=63 motion=0\n",
      "data/test_ties64/baseline/highway 18 ties=285 motion=91\n",
      "data/test_ties64/cameraJitter/badminton 4 ties=385 motion=124\n",
      "data/test_ties64/lowFramerate/port_0_17fps 30 ties=624 motion=0\n",
      "data/test_ties64/badWeather/blizzard 94 ties=3696 motion=3184\n"
     ]
    }
   ],
   "source": [
    "TIE_SIZE = 64\n",
    "out_prefix = 'data/test_ties%d'%TIE_SIZE\n",
    "in_dir = 'data/test'\n",
    "SEQ_LENGTH = 64\n",
    "generate_ties(in_dir,out_prefix,SEQ_LENGTH,TIE_SIZE,-1.,0.5)"
   ]
  },
  {
   "cell_type": "code",
   "execution_count": 16,
   "metadata": {
    "collapsed": true
   },
   "outputs": [
    {
     "name": "stdout",
     "output_type": "stream",
     "text": [
      "('/media/hpc2_storage/nvaulin/ties32/turbulence/turbulence2', 'no motion ', 360)\n",
      "('/media/hpc2_storage/nvaulin/ties32/turbulence/turbulence3', 683)\n",
      "('/media/hpc2_storage/nvaulin/ties32/turbulence/turbulence1', 661)\n",
      "('/media/hpc2_storage/nvaulin/ties32/thermal/lakeSide', 139)\n",
      "('/media/hpc2_storage/nvaulin/ties32/thermal/park', 199)\n",
      "('/media/hpc2_storage/nvaulin/ties32/thermal/diningRoom', 225)\n",
      "('/media/hpc2_storage/nvaulin/ties32/thermal/library', 524)\n",
      "('/media/hpc2_storage/nvaulin/ties32/PTZ/zoomInZoomOut', 'no motion ', 136)\n",
      "('/media/hpc2_storage/nvaulin/ties32/PTZ/twoPositionPTZCam', 123)\n",
      "('/media/hpc2_storage/nvaulin/ties32/PTZ/intermittentPan', 384)\n",
      "('/media/hpc2_storage/nvaulin/ties32/dynamicBackground/overpass', 136)\n",
      "('/media/hpc2_storage/nvaulin/ties32/dynamicBackground/fall', 898)\n",
      "('/media/hpc2_storage/nvaulin/ties32/dynamicBackground/canoe', 'no motion ', 102)\n",
      "('/media/hpc2_storage/nvaulin/ties32/dynamicBackground/fountain02', 'no motion ', 234)\n",
      "('/media/hpc2_storage/nvaulin/ties32/dynamicBackground/fountain01', 'no motion ', 218)\n",
      "('/media/hpc2_storage/nvaulin/ties32/shadow/peopleInShade', 179)\n",
      "('/media/hpc2_storage/nvaulin/ties32/shadow/cubicle', 190)\n",
      "('/media/hpc2_storage/nvaulin/ties32/shadow/copyMachine', 1180)\n",
      "('/media/hpc2_storage/nvaulin/ties32/shadow/bungalows', 131)\n",
      "('/media/hpc2_storage/nvaulin/ties32/shadow/busStation', 129)\n",
      "('/media/hpc2_storage/nvaulin/ties32/nightVideos/streetCornerAtNight', 246)\n",
      "('/media/hpc2_storage/nvaulin/ties32/nightVideos/tramStation', 123)\n",
      "('/media/hpc2_storage/nvaulin/ties32/nightVideos/fluidHighway', 400)\n",
      "('/media/hpc2_storage/nvaulin/ties32/nightVideos/winterStreet', 268)\n",
      "('/media/hpc2_storage/nvaulin/ties32/nightVideos/busyBoulvard', 42)\n",
      "('/media/hpc2_storage/nvaulin/ties32/intermittentObjectMotion/streetLight', 'no motion ', 2)\n",
      "('/media/hpc2_storage/nvaulin/ties32/intermittentObjectMotion/tramstop', 'no motion ', 2)\n",
      "('/media/hpc2_storage/nvaulin/ties32/intermittentObjectMotion/parking', 'no motion ', 0)\n",
      "('/media/hpc2_storage/nvaulin/ties32/intermittentObjectMotion/sofa', 135)\n",
      "('/media/hpc2_storage/nvaulin/ties32/intermittentObjectMotion/winterDriveway', 101)\n",
      "('/media/hpc2_storage/nvaulin/ties32/baseline/PETS2006', 781)\n",
      "('/media/hpc2_storage/nvaulin/ties32/baseline/pedestrians', 'no motion ', 154)\n",
      "('/media/hpc2_storage/nvaulin/ties32/baseline/office', 133)\n",
      "('/media/hpc2_storage/nvaulin/ties32/cameraJitter/boulevard', 152)\n",
      "('/media/hpc2_storage/nvaulin/ties32/cameraJitter/sidewalk', 'no motion ', 34)\n",
      "('/media/hpc2_storage/nvaulin/ties32/cameraJitter/traffic', 137)\n",
      "('/media/hpc2_storage/nvaulin/ties32/lowFramerate/turnpike_0_5fps', 98)\n",
      "('/media/hpc2_storage/nvaulin/ties32/lowFramerate/tramCrossroad_1fps', 67)\n",
      "('/media/hpc2_storage/nvaulin/ties32/lowFramerate/tunnelExit_0_35fps', 323)\n",
      "('/media/hpc2_storage/nvaulin/ties32/badWeather/skating', 455)\n",
      "('/media/hpc2_storage/nvaulin/ties32/badWeather/snowFall', 745)\n",
      "('/media/hpc2_storage/nvaulin/ties32/badWeather/wetSnow', 573)\n",
      "('/media/hpc2_storage/nvaulin/test_ties32/turbulence/turbulence0', 'no motion ', 660)\n",
      "('/media/hpc2_storage/nvaulin/test_ties32/thermal/corridor', 203)\n",
      "('/media/hpc2_storage/nvaulin/test_ties32/PTZ/continuousPan', 676)\n",
      "('/media/hpc2_storage/nvaulin/test_ties32/dynamicBackground/boats', 'no motion ', 60)\n",
      "('/media/hpc2_storage/nvaulin/test_ties32/shadow/backdoor', 108)\n",
      "('/media/hpc2_storage/nvaulin/test_ties32/nightVideos/bridgeEntry', 'no motion ', 62)\n",
      "('/media/hpc2_storage/nvaulin/test_ties32/intermittentObjectMotion/abandonedBox', 'no motion ', 6)\n",
      "('/media/hpc2_storage/nvaulin/test_ties32/baseline/highway', 142)\n",
      "('/media/hpc2_storage/nvaulin/test_ties32/cameraJitter/badminton', 602)\n",
      "('/media/hpc2_storage/nvaulin/test_ties32/lowFramerate/port_0_17fps', 'no motion ', 242)\n",
      "('/media/hpc2_storage/nvaulin/test_ties32/badWeather/blizzard', 739)\n"
     ]
    }
   ],
   "source": [
    "import shutil\n",
    "def purge(dir):\n",
    "    for i in os.listdir(dir):\n",
    "        for j in os.listdir(dir+'/'+i):\n",
    "            p = dir+'/'+i+'/'+j\n",
    "            l = [k[:-4] for k in os.listdir(p)]\n",
    "            if( not('0_motion' in l)):\n",
    "                print(p,'no motion ',len(l))\n",
    "                shutil.rmtree(p)\n",
    "            else:\n",
    "                print(p,len(l))\n",
    "purge('/media/hpc2_storage/nvaulin/ties32')        \n",
    "purge('/media/hpc2_storage/nvaulin/test_ties32')           "
   ]
  },
  {
   "cell_type": "code",
   "execution_count": null,
   "metadata": {
    "collapsed": true
   },
   "outputs": [],
   "source": []
  }
 ],
 "metadata": {
  "kernelspec": {
   "display_name": "Python 2",
   "language": "python",
   "name": "python2"
  },
  "language_info": {
   "codemirror_mode": {
    "name": "ipython",
    "version": 2
   },
   "file_extension": ".py",
   "mimetype": "text/x-python",
   "name": "python",
   "nbconvert_exporter": "python",
   "pygments_lexer": "ipython2",
   "version": "2.7.6"
  }
 },
 "nbformat": 4,
 "nbformat_minor": 2
}
