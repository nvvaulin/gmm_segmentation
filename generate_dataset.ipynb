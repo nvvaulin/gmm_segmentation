{
 "cells": [
  {
   "cell_type": "code",
   "execution_count": 1,
   "metadata": {
    "collapsed": false
   },
   "outputs": [
    {
     "ename": "KeyboardInterrupt",
     "evalue": "",
     "output_type": "error",
     "traceback": [
      "\u001b[0;31m---------------------------------------------------------------------------\u001b[0m",
      "\u001b[0;31mKeyboardInterrupt\u001b[0m                         Traceback (most recent call last)",
      "\u001b[0;32m<ipython-input-1-8ea3cb124b39>\u001b[0m in \u001b[0;36m<module>\u001b[0;34m()\u001b[0m\n\u001b[1;32m      1\u001b[0m \u001b[0;32mimport\u001b[0m \u001b[0mos\u001b[0m\u001b[0;34m\u001b[0m\u001b[0m\n\u001b[0;32m----> 2\u001b[0;31m \u001b[0;32mimport\u001b[0m \u001b[0mpandas\u001b[0m \u001b[0;32mas\u001b[0m \u001b[0mpd\u001b[0m\u001b[0;34m\u001b[0m\u001b[0m\n\u001b[0m\u001b[1;32m      3\u001b[0m \u001b[0;32mimport\u001b[0m \u001b[0mcv2\u001b[0m\u001b[0;34m\u001b[0m\u001b[0m\n\u001b[1;32m      4\u001b[0m \u001b[0;32mimport\u001b[0m \u001b[0mnumpy\u001b[0m \u001b[0;32mas\u001b[0m \u001b[0mnp\u001b[0m\u001b[0;34m\u001b[0m\u001b[0m\n\u001b[1;32m      5\u001b[0m \u001b[0;32mimport\u001b[0m \u001b[0mmatplotlib\u001b[0m\u001b[0;34m.\u001b[0m\u001b[0mpyplot\u001b[0m \u001b[0;32mas\u001b[0m \u001b[0mplt\u001b[0m\u001b[0;34m\u001b[0m\u001b[0m\n",
      "\u001b[0;32m/home/nvvaulin/.local/lib/python2.7/site-packages/pandas/__init__.pyc\u001b[0m in \u001b[0;36m<module>\u001b[0;34m()\u001b[0m\n\u001b[1;32m     41\u001b[0m \u001b[0;32mfrom\u001b[0m \u001b[0mpandas\u001b[0m\u001b[0;34m.\u001b[0m\u001b[0mstats\u001b[0m\u001b[0;34m.\u001b[0m\u001b[0mapi\u001b[0m \u001b[0;32mimport\u001b[0m \u001b[0;34m*\u001b[0m\u001b[0;34m\u001b[0m\u001b[0m\n\u001b[1;32m     42\u001b[0m \u001b[0;32mfrom\u001b[0m \u001b[0mpandas\u001b[0m\u001b[0;34m.\u001b[0m\u001b[0mtseries\u001b[0m\u001b[0;34m.\u001b[0m\u001b[0mapi\u001b[0m \u001b[0;32mimport\u001b[0m \u001b[0;34m*\u001b[0m\u001b[0;34m\u001b[0m\u001b[0m\n\u001b[0;32m---> 43\u001b[0;31m \u001b[0;32mfrom\u001b[0m \u001b[0mpandas\u001b[0m\u001b[0;34m.\u001b[0m\u001b[0mio\u001b[0m\u001b[0;34m.\u001b[0m\u001b[0mapi\u001b[0m \u001b[0;32mimport\u001b[0m \u001b[0;34m*\u001b[0m\u001b[0;34m\u001b[0m\u001b[0m\n\u001b[0m\u001b[1;32m     44\u001b[0m \u001b[0;32mfrom\u001b[0m \u001b[0mpandas\u001b[0m\u001b[0;34m.\u001b[0m\u001b[0mcomputation\u001b[0m\u001b[0;34m.\u001b[0m\u001b[0mapi\u001b[0m \u001b[0;32mimport\u001b[0m \u001b[0;34m*\u001b[0m\u001b[0;34m\u001b[0m\u001b[0m\n\u001b[1;32m     45\u001b[0m \u001b[0;34m\u001b[0m\u001b[0m\n",
      "\u001b[0;32m/home/nvvaulin/.local/lib/python2.7/site-packages/pandas/io/api.py\u001b[0m in \u001b[0;36m<module>\u001b[0;34m()\u001b[0m\n\u001b[1;32m     15\u001b[0m \u001b[0;32mfrom\u001b[0m \u001b[0mpandas\u001b[0m\u001b[0;34m.\u001b[0m\u001b[0mio\u001b[0m\u001b[0;34m.\u001b[0m\u001b[0mstata\u001b[0m \u001b[0;32mimport\u001b[0m \u001b[0mread_stata\u001b[0m\u001b[0;34m\u001b[0m\u001b[0m\n\u001b[1;32m     16\u001b[0m \u001b[0;32mfrom\u001b[0m \u001b[0mpandas\u001b[0m\u001b[0;34m.\u001b[0m\u001b[0mio\u001b[0m\u001b[0;34m.\u001b[0m\u001b[0mpickle\u001b[0m \u001b[0;32mimport\u001b[0m \u001b[0mread_pickle\u001b[0m\u001b[0;34m,\u001b[0m \u001b[0mto_pickle\u001b[0m\u001b[0;34m\u001b[0m\u001b[0m\n\u001b[0;32m---> 17\u001b[0;31m \u001b[0;32mfrom\u001b[0m \u001b[0mpandas\u001b[0m\u001b[0;34m.\u001b[0m\u001b[0mio\u001b[0m\u001b[0;34m.\u001b[0m\u001b[0mpackers\u001b[0m \u001b[0;32mimport\u001b[0m \u001b[0mread_msgpack\u001b[0m\u001b[0;34m,\u001b[0m \u001b[0mto_msgpack\u001b[0m\u001b[0;34m\u001b[0m\u001b[0m\n\u001b[0m\u001b[1;32m     18\u001b[0m \u001b[0;32mfrom\u001b[0m \u001b[0mpandas\u001b[0m\u001b[0;34m.\u001b[0m\u001b[0mio\u001b[0m\u001b[0;34m.\u001b[0m\u001b[0mgbq\u001b[0m \u001b[0;32mimport\u001b[0m \u001b[0mread_gbq\u001b[0m\u001b[0;34m\u001b[0m\u001b[0m\n",
      "\u001b[0;32m/home/nvvaulin/.local/lib/python2.7/site-packages/pandas/io/packers.py\u001b[0m in \u001b[0;36m<module>\u001b[0;34m()\u001b[0m\n\u001b[1;32m     93\u001b[0m \u001b[0;34m\u001b[0m\u001b[0m\n\u001b[1;32m     94\u001b[0m \u001b[0;32mtry\u001b[0m\u001b[0;34m:\u001b[0m\u001b[0;34m\u001b[0m\u001b[0m\n\u001b[0;32m---> 95\u001b[0;31m     \u001b[0;32mimport\u001b[0m \u001b[0mblosc\u001b[0m\u001b[0;34m\u001b[0m\u001b[0m\n\u001b[0m\u001b[1;32m     96\u001b[0m \u001b[0;34m\u001b[0m\u001b[0m\n\u001b[1;32m     97\u001b[0m     \u001b[0;32mdef\u001b[0m \u001b[0m_check_blosc\u001b[0m\u001b[0;34m(\u001b[0m\u001b[0;34m)\u001b[0m\u001b[0;34m:\u001b[0m\u001b[0;34m\u001b[0m\u001b[0m\n",
      "\u001b[0;31mKeyboardInterrupt\u001b[0m: "
     ]
    }
   ],
   "source": [
    "import os\n",
    "import pandas as pd\n",
    "import cv2\n",
    "import numpy as np\n",
    "import matplotlib.pyplot as plt\n",
    "from dataset_tools import *"
   ]
  },
  {
   "cell_type": "code",
   "execution_count": null,
   "metadata": {
    "collapsed": true
   },
   "outputs": [],
   "source": [
    "def process_batch(out_dir,imgs,masks,w,h,min_r,min_roi):\n",
    "    cols = imgs.shape[2]//w\n",
    "    rows = imgs.shape[1]//h\n",
    "    imgs = imgs[:,:h*rows,:w*cols,:]\n",
    "    masks = masks[:,:h*rows,:w*cols]\n",
    "    imgs = np.transpose(imgs.reshape((-1,rows,h,cols,w,3)),(1,3,0,2,4,5)).reshape(cols*rows,len(imgs),h,w,3)\n",
    "    masks = np.transpose(masks.reshape((-1,rows,h,cols,w)),(1,3,0,2,4)).reshape(cols*rows,len(masks),h,w)\n",
    "    motion = np.zeros_like(masks)\n",
    "    motion[masks > 240] = 1\n",
    "    motion = motion.mean((2,3))\n",
    "\n",
    "    roi = np.zeros_like(masks)\n",
    "    roi[(masks > 240) | (masks < 10)] = 1\n",
    "    roi = roi.mean((2,3))\n",
    "    iter = 0\n",
    "    for i in range(len(masks)):\n",
    "        if(motion[i].mean() >= min_r and roi[i].mean() >= min_roi):\n",
    "            cv2.imwrite(out_dir+'/%d_input.jpg'%(iter),ties_to_image(imgs[i]))\n",
    "            cv2.imwrite(out_dir+'/%d_mask.png'%(iter),ties_to_image(masks[i]))\n",
    "            iter+=1\n",
    "    return imgs.reshape((-1,h,w,3))[motion.flatten()>=.97],iter\n",
    "\n",
    "\n",
    "def save_motion(out_dir,motion_ties):\n",
    "    if not (motion_ties is None):\n",
    "        for i in range(int(np.ceil(float(len(motion_ties))/50.))):\n",
    "            im = ties_to_image(motion_ties[i*50:min((i+1)*50,len(motion_ties))],5,10)\n",
    "            cv2.imwrite(out_dir+'/%d_motion.jpg'%(i),im)\n",
    "        return len(motion_ties)\n",
    "    else:\n",
    "        return 0"
   ]
  },
  {
   "cell_type": "code",
   "execution_count": null,
   "metadata": {
    "collapsed": false
   },
   "outputs": [],
   "source": [
    "def generate_ties(dataset,out_dir,length,tie_size,min_r=0,min_roi = 0.5):\n",
    "    for video_num,(in_dir,out_dir) in enumerate(iterate_folders(dataset,out_dir)):\n",
    "        ties_num = 0\n",
    "        motion_ties = None\n",
    "#         f = [int(ii) for ii in (open(in_dir+'/temporalROI.txt').read()).split(' ')]\n",
    "#         end = f[-1]\n",
    "#         for i in range(f[0],f[1]):\n",
    "#             m = cv2.imread(in_dir+'/groundtruth/gt%06d.png'%(i))\n",
    "#             if(m[((m > 10)&(m < 240))].size > 0.9*m.size):\n",
    "#                 end = i\n",
    "#                 break\n",
    "#         batches = (end-f[0]-1)//length\n",
    "#         print batches\n",
    "        for batch_num,(imgs,masks) in enumerate(iterate_bathced(in_dir,length)):\n",
    "                \n",
    "#             if(batch_num == batches/2):\n",
    "#                 m = save_motion(out_dir,motion_ties)\n",
    "#                 print out_dir+ ' %d ties=%d motion=%d'%(batch_num,ties_num,m)\n",
    "#                 if(m == 0):\n",
    "#                     break\n",
    "#                 out_dir = 'test/'+out_dir\n",
    "#                 make_path(out_dir)\n",
    "#                 motion_ties = None\n",
    "#                 ties_num = 0\n",
    "                \n",
    "#             if(batch_num >= batches):\n",
    "#                 break\n",
    "            m_ties,i = process_batch(out_dir,imgs,masks,tie_size,tie_size,min_r,min_roi)\n",
    "            ties_num += i\n",
    "            if(len(m_ties) > 0):\n",
    "                if not(motion_ties is None):\n",
    "                    motion_ties = np.concatenate((motion_ties,m_ties))\n",
    "                else:\n",
    "                    motion_ties = m_ties\n",
    "            \n",
    "                 \n",
    "        print out_dir+ ' %d ties=%d motion=%d'%(batch_num,ties_num,save_motion(out_dir,motion_ties))"
   ]
  },
  {
   "cell_type": "code",
   "execution_count": null,
   "metadata": {
    "collapsed": false,
    "scrolled": false
   },
   "outputs": [],
   "source": [
    "generate_ties('../gmm_segmentation/dataset','half_ties',256,32,-1.,0.95)"
   ]
  },
  {
   "cell_type": "code",
   "execution_count": 14,
   "metadata": {
    "collapsed": true
   },
   "outputs": [
    {
     "name": "stdout",
     "output_type": "stream",
     "text": [
      "../gmm_segmentation/dataset/badWeather/skating 11 ties=0 motion=0\n",
      "../gmm_segmentation/dataset/badWeather/snowFall 21 ties=0 motion=0\n",
      "skip  ../gmm_segmentation/dataset/badWeather/wetSnow\n",
      "../gmm_segmentation/dataset/badWeather/wetSnow 21 ties=0 motion=0\n",
      "../gmm_segmentation/dataset/baseline/office 4 ties=0 motion=0\n",
      "skip  ../gmm_segmentation/dataset/baseline/pedestrians\n",
      "../gmm_segmentation/dataset/baseline/pedestrians 2 ties=0 motion=0\n",
      "../gmm_segmentation/dataset/baseline/PETS2006 2 ties=0 motion=0\n",
      "skip  ../gmm_segmentation/dataset/cameraJitter/boulevard\n",
      "../gmm_segmentation/dataset/cameraJitter/boulevard 2 ties=0 motion=0\n",
      "skip  ../gmm_segmentation/dataset/cameraJitter/sidewalk\n",
      "../gmm_segmentation/dataset/cameraJitter/sidewalk 2 ties=0 motion=0\n",
      "../gmm_segmentation/dataset/cameraJitter/traffic 1 ties=0 motion=0\n",
      "skip  ../gmm_segmentation/dataset/dynamicBackground/canoe\n",
      "../gmm_segmentation/dataset/dynamicBackground/canoe 0 ties=0 motion=0\n",
      "../gmm_segmentation/dataset/dynamicBackground/fall 10 ties=0 motion=0\n",
      "skip  ../gmm_segmentation/dataset/dynamicBackground/fountain01\n",
      "../gmm_segmentation/dataset/dynamicBackground/fountain01 2 ties=0 motion=0\n",
      "skip  ../gmm_segmentation/dataset/dynamicBackground/fountain02\n",
      "../gmm_segmentation/dataset/dynamicBackground/fountain02 2 ties=0 motion=0\n",
      "../gmm_segmentation/dataset/dynamicBackground/overpass 6 ties=0 motion=0\n",
      "skip  ../gmm_segmentation/dataset/intermittentObjectMotion/parking\n",
      "../gmm_segmentation/dataset/intermittentObjectMotion/parking 6 ties=0 motion=0\n",
      "../gmm_segmentation/dataset/intermittentObjectMotion/sofa 7 ties=0 motion=0\n",
      "skip  ../gmm_segmentation/dataset/intermittentObjectMotion/streetLight\n",
      "../gmm_segmentation/dataset/intermittentObjectMotion/streetLight 7 ties=0 motion=0\n",
      "skip  ../gmm_segmentation/dataset/intermittentObjectMotion/tramstop\n",
      "../gmm_segmentation/dataset/intermittentObjectMotion/tramstop 7 ties=0 motion=0\n",
      "skip  ../gmm_segmentation/dataset/intermittentObjectMotion/winterDriveway\n",
      "../gmm_segmentation/dataset/intermittentObjectMotion/winterDriveway 7 ties=0 motion=0\n",
      "skip  ../gmm_segmentation/dataset/lowFramerate/tramCrossroad_1fps\n",
      "../gmm_segmentation/dataset/lowFramerate/tramCrossroad_1fps 7 ties=0 motion=0\n",
      "skip  ../gmm_segmentation/dataset/lowFramerate/tunnelExit_0_35fps\n",
      "../gmm_segmentation/dataset/lowFramerate/tunnelExit_0_35fps 7 ties=0 motion=0\n",
      "../gmm_segmentation/dataset/lowFramerate/turnpike_0_5fps 1 ties=0 motion=0\n",
      "skip  ../gmm_segmentation/dataset/nightVideos/busyBoulvard\n",
      "../gmm_segmentation/dataset/nightVideos/busyBoulvard 1 ties=0 motion=0\n",
      "skip  ../gmm_segmentation/dataset/nightVideos/fluidHighway\n",
      "../gmm_segmentation/dataset/nightVideos/fluidHighway 1 ties=0 motion=0\n",
      "../gmm_segmentation/dataset/nightVideos/streetCornerAtNight 16 ties=0 motion=0\n",
      "skip  ../gmm_segmentation/dataset/nightVideos/tramStation\n",
      "../gmm_segmentation/dataset/nightVideos/tramStation 16 ties=0 motion=0\n",
      "skip  ../gmm_segmentation/dataset/nightVideos/winterStreet\n",
      "../gmm_segmentation/dataset/nightVideos/winterStreet 16 ties=0 motion=0\n",
      "../gmm_segmentation/dataset/PTZ/intermittentPan 7 ties=0 motion=0\n",
      "skip  ../gmm_segmentation/dataset/PTZ/twoPositionPTZCam\n",
      "../gmm_segmentation/dataset/PTZ/twoPositionPTZCam 7 ties=0 motion=0\n",
      "skip  ../gmm_segmentation/dataset/PTZ/zoomInZoomOut\n",
      "../gmm_segmentation/dataset/PTZ/zoomInZoomOut 1 ties=0 motion=0\n",
      "skip  ../gmm_segmentation/dataset/shadow/bungalows\n",
      "../gmm_segmentation/dataset/shadow/bungalows 1 ties=0 motion=0\n",
      "../gmm_segmentation/dataset/shadow/busStation 2 ties=0 motion=0\n",
      "../gmm_segmentation/dataset/shadow/copyMachine 10 ties=0 motion=0\n",
      "../gmm_segmentation/dataset/shadow/cubicle 4 0\r"
     ]
    },
    {
     "ename": "KeyboardInterrupt",
     "evalue": "",
     "output_type": "error",
     "traceback": [
      "\u001b[0;31m---------------------------------------------------------------------------\u001b[0m",
      "\u001b[0;31mKeyboardInterrupt\u001b[0m                         Traceback (most recent call last)",
      "\u001b[0;32m<ipython-input-14-f4f174abf5cb>\u001b[0m in \u001b[0;36m<module>\u001b[0;34m()\u001b[0m\n\u001b[0;32m----> 1\u001b[0;31m \u001b[0mgenerate_ties\u001b[0m\u001b[0;34m(\u001b[0m\u001b[0;34m'../gmm_segmentation/dataset'\u001b[0m\u001b[0;34m,\u001b[0m\u001b[0;34m'2_half_ties'\u001b[0m\u001b[0;34m,\u001b[0m\u001b[0;36m256\u001b[0m\u001b[0;34m,\u001b[0m\u001b[0;36m32\u001b[0m\u001b[0;34m,\u001b[0m\u001b[0;34m-\u001b[0m\u001b[0;36m1.\u001b[0m\u001b[0;34m,\u001b[0m\u001b[0;36m0.95\u001b[0m\u001b[0;34m)\u001b[0m\u001b[0;34m\u001b[0m\u001b[0m\n\u001b[0m",
      "\u001b[0;32m<ipython-input-13-f56e3adbb20a>\u001b[0m in \u001b[0;36mgenerate_ties\u001b[0;34m(dataset, out_dir, length, tie_size, min_r, min_roi)\u001b[0m\n\u001b[1;32m      6\u001b[0m         \u001b[0mmotion_ties\u001b[0m \u001b[0;34m=\u001b[0m \u001b[0mNone\u001b[0m\u001b[0;34m\u001b[0m\u001b[0m\n\u001b[1;32m      7\u001b[0m         \u001b[0mbatches\u001b[0m \u001b[0;34m=\u001b[0m \u001b[0mlen\u001b[0m\u001b[0;34m(\u001b[0m\u001b[0mos\u001b[0m\u001b[0;34m.\u001b[0m\u001b[0mlistdir\u001b[0m\u001b[0;34m(\u001b[0m\u001b[0min_dir\u001b[0m\u001b[0;34m+\u001b[0m\u001b[0;34m'/input'\u001b[0m\u001b[0;34m)\u001b[0m\u001b[0;34m)\u001b[0m\u001b[0;34m\u001b[0m\u001b[0m\n\u001b[0;32m----> 8\u001b[0;31m         \u001b[0;32mfor\u001b[0m \u001b[0mbatch_num\u001b[0m\u001b[0;34m,\u001b[0m\u001b[0;34m(\u001b[0m\u001b[0mimgs\u001b[0m\u001b[0;34m,\u001b[0m\u001b[0mmasks\u001b[0m\u001b[0;34m)\u001b[0m \u001b[0;32min\u001b[0m \u001b[0menumerate\u001b[0m\u001b[0;34m(\u001b[0m\u001b[0miterate_bathced\u001b[0m\u001b[0;34m(\u001b[0m\u001b[0min_dir\u001b[0m\u001b[0;34m,\u001b[0m\u001b[0mlength\u001b[0m\u001b[0;34m)\u001b[0m\u001b[0;34m)\u001b[0m\u001b[0;34m:\u001b[0m\u001b[0;34m\u001b[0m\u001b[0m\n\u001b[0m\u001b[1;32m      9\u001b[0m             \u001b[0;32mprint\u001b[0m \u001b[0min_dir\u001b[0m\u001b[0;34m+\u001b[0m\u001b[0;34m' %d %d\\r'\u001b[0m\u001b[0;34m%\u001b[0m\u001b[0;34m(\u001b[0m\u001b[0mbatch_num\u001b[0m\u001b[0;34m,\u001b[0m\u001b[0miter\u001b[0m\u001b[0;34m)\u001b[0m\u001b[0;34m,\u001b[0m\u001b[0;34m\u001b[0m\u001b[0m\n\u001b[1;32m     10\u001b[0m             \u001b[0;32mif\u001b[0m\u001b[0;34m(\u001b[0m\u001b[0mbatch_num\u001b[0m \u001b[0;34m<\u001b[0m \u001b[0mbatches\u001b[0m\u001b[0;34m/\u001b[0m\u001b[0;36m2\u001b[0m\u001b[0;34m)\u001b[0m\u001b[0;34m:\u001b[0m\u001b[0;34m\u001b[0m\u001b[0m\n",
      "\u001b[0;32m/media/data/Programming/motion_segmentation/gmm_segmentation2/dataset_tools.pyc\u001b[0m in \u001b[0;36miterate_bathced\u001b[0;34m(folder, num_frames, size)\u001b[0m\n\u001b[1;32m     93\u001b[0m     \u001b[0mimgs\u001b[0m \u001b[0;34m=\u001b[0m \u001b[0mNone\u001b[0m\u001b[0;34m\u001b[0m\u001b[0m\n\u001b[1;32m     94\u001b[0m     \u001b[0mmasks\u001b[0m \u001b[0;34m=\u001b[0m \u001b[0mNone\u001b[0m\u001b[0;34m\u001b[0m\u001b[0m\n\u001b[0;32m---> 95\u001b[0;31m     \u001b[0;32mfor\u001b[0m \u001b[0mi\u001b[0m\u001b[0;34m,\u001b[0m\u001b[0;34m(\u001b[0m\u001b[0mim\u001b[0m\u001b[0;34m,\u001b[0m\u001b[0mmask\u001b[0m\u001b[0;34m)\u001b[0m \u001b[0;32min\u001b[0m \u001b[0menumerate\u001b[0m\u001b[0;34m(\u001b[0m\u001b[0miterate_video\u001b[0m\u001b[0;34m(\u001b[0m\u001b[0mfolder\u001b[0m\u001b[0;34m)\u001b[0m\u001b[0;34m)\u001b[0m\u001b[0;34m:\u001b[0m\u001b[0;34m\u001b[0m\u001b[0m\n\u001b[0m\u001b[1;32m     96\u001b[0m         \u001b[0;32mif\u001b[0m\u001b[0;34m(\u001b[0m\u001b[0msize\u001b[0m \u001b[0;32mis\u001b[0m \u001b[0mNone\u001b[0m\u001b[0;34m)\u001b[0m\u001b[0;34m:\u001b[0m\u001b[0;34m\u001b[0m\u001b[0m\n\u001b[1;32m     97\u001b[0m             \u001b[0msize\u001b[0m \u001b[0;34m=\u001b[0m \u001b[0mim\u001b[0m\u001b[0;34m.\u001b[0m\u001b[0mshape\u001b[0m\u001b[0;34m[\u001b[0m\u001b[0;36m1\u001b[0m\u001b[0;34m]\u001b[0m\u001b[0;34m,\u001b[0m\u001b[0mim\u001b[0m\u001b[0;34m.\u001b[0m\u001b[0mshape\u001b[0m\u001b[0;34m[\u001b[0m\u001b[0;36m0\u001b[0m\u001b[0;34m]\u001b[0m\u001b[0;34m\u001b[0m\u001b[0m\n",
      "\u001b[0;32m/media/data/Programming/motion_segmentation/gmm_segmentation2/dataset_tools.pyc\u001b[0m in \u001b[0;36miterate_video\u001b[0;34m(folder, skip_first_unlabled)\u001b[0m\n\u001b[1;32m     86\u001b[0m     \u001b[0;32mfor\u001b[0m \u001b[0mi\u001b[0m \u001b[0;32min\u001b[0m \u001b[0mrange\u001b[0m\u001b[0;34m(\u001b[0m\u001b[0mf\u001b[0m\u001b[0;34m,\u001b[0m\u001b[0mall_img_num\u001b[0m\u001b[0;34m+\u001b[0m\u001b[0;36m1\u001b[0m\u001b[0;34m)\u001b[0m\u001b[0;34m:\u001b[0m\u001b[0;34m\u001b[0m\u001b[0m\n\u001b[1;32m     87\u001b[0m         \u001b[0mname\u001b[0m\u001b[0;34m=\u001b[0m\u001b[0;34m'%06d'\u001b[0m\u001b[0;34m%\u001b[0m\u001b[0;34m(\u001b[0m\u001b[0mi\u001b[0m\u001b[0;34m)\u001b[0m\u001b[0;34m\u001b[0m\u001b[0m\n\u001b[0;32m---> 88\u001b[0;31m         \u001b[0mmask\u001b[0m \u001b[0;34m=\u001b[0m \u001b[0mcv2\u001b[0m\u001b[0;34m.\u001b[0m\u001b[0mimread\u001b[0m\u001b[0;34m(\u001b[0m\u001b[0mfolder\u001b[0m\u001b[0;34m+\u001b[0m\u001b[0;34m'/groundtruth/gt'\u001b[0m\u001b[0;34m+\u001b[0m\u001b[0mname\u001b[0m\u001b[0;34m+\u001b[0m\u001b[0;34m'.png'\u001b[0m\u001b[0;34m,\u001b[0m\u001b[0;36m0\u001b[0m\u001b[0;34m)\u001b[0m\u001b[0;34m\u001b[0m\u001b[0m\n\u001b[0m\u001b[1;32m     89\u001b[0m         \u001b[0mim\u001b[0m \u001b[0;34m=\u001b[0m \u001b[0mcv2\u001b[0m\u001b[0;34m.\u001b[0m\u001b[0mimread\u001b[0m\u001b[0;34m(\u001b[0m\u001b[0mfolder\u001b[0m\u001b[0;34m+\u001b[0m\u001b[0;34m'/input/in'\u001b[0m\u001b[0;34m+\u001b[0m\u001b[0mname\u001b[0m\u001b[0;34m+\u001b[0m\u001b[0;34m'.jpg'\u001b[0m\u001b[0;34m)\u001b[0m\u001b[0;34m\u001b[0m\u001b[0m\n\u001b[1;32m     90\u001b[0m         \u001b[0;32myield\u001b[0m \u001b[0mim\u001b[0m\u001b[0;34m,\u001b[0m\u001b[0mmask\u001b[0m\u001b[0;34m\u001b[0m\u001b[0m\n",
      "\u001b[0;31mKeyboardInterrupt\u001b[0m: "
     ]
    }
   ],
   "source": [
    "generate_ties('../gmm_segmentation/dataset','2_half_ties',256,32,-1.,0.95)"
   ]
  },
  {
   "cell_type": "code",
   "execution_count": 8,
   "metadata": {
    "collapsed": false
   },
   "outputs": [
    {
     "name": "stdout",
     "output_type": "stream",
     "text": [
      "('half_ties/badWeather/skating', 394)\n",
      "('half_ties/badWeather/snowFall', 708)\n",
      "('half_ties/baseline/office', 130)\n",
      "('half_ties/baseline/PETS2006', 773)\n",
      "('half_ties/cameraJitter/traffic', 129)\n",
      "('half_ties/dynamicBackground/fall', 713)\n",
      "('half_ties/intermittentObjectMotion/sofa', 131)\n",
      "('half_ties/nightVideos/streetCornerAtNight', 245)\n",
      "('half_ties/shadow/busStation', 129)\n"
     ]
    }
   ],
   "source": [
    "import shutil\n",
    "def purge(dir):\n",
    "    for i in os.listdir(dir):\n",
    "        for j in os.listdir(dir+'/'+i):\n",
    "            p = dir+'/'+i+'/'+j\n",
    "            l = [k[:-4] for k in os.listdir(p)]\n",
    "            if( not('0_motion' in l)):\n",
    "                print(p,'no motion ',len(l))\n",
    "                shutil.rmtree(p)\n",
    "            else:\n",
    "                print(p,len(l))\n",
    "purge('1_half_ties')          "
   ]
  },
  {
   "cell_type": "markdown",
   "metadata": {
    "collapsed": true
   },
   "source": [
    "$C_D = "
   ]
  }
 ],
 "metadata": {
  "kernelspec": {
   "display_name": "Python 2",
   "language": "python",
   "name": "python2"
  }
 },
 "nbformat": 4,
 "nbformat_minor": 2
}
