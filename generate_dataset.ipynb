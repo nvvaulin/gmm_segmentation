{
 "cells": [
  {
   "cell_type": "code",
   "execution_count": 1,
   "metadata": {
    "collapsed": true
   },
   "outputs": [],
   "source": [
    "import os\n",
    "import pandas as pd\n",
    "import cv2\n",
    "import numpy as np\n",
    "import matplotlib.pyplot as plt\n",
    "from dataset_tools import *"
   ]
  },
  {
   "cell_type": "code",
   "execution_count": 2,
   "metadata": {
    "collapsed": false
   },
   "outputs": [],
   "source": [
    "def generate_ties(dataset,out_dir,length,tie_size,min_r=0,min_roi = 0.5):\n",
    "    for in_dir,out_dir in iterate_folders(dataset,out_dir):\n",
    "        iter = 0\n",
    "        motion_ties = None\n",
    "        for batch_num,(imgs,masks) in enumerate(iterate_bathced(in_dir,length)):\n",
    "            print in_dir+' %d %d\\r'%(batch_num,iter),\n",
    "            h,w = tie_size,tie_size\n",
    "            cols = imgs.shape[2]//w\n",
    "            rows = imgs.shape[1]//h\n",
    "            imgs = imgs[:,:h*rows,:w*cols,:]\n",
    "            masks = masks[:,:h*rows,:w*cols]\n",
    "            imgs = np.transpose(imgs.reshape((-1,rows,h,cols,w,3)),(1,3,0,2,4,5)).reshape(cols*rows,len(imgs),h,w,3)\n",
    "            masks = np.transpose(masks.reshape((-1,rows,h,cols,w)),(1,3,0,2,4)).reshape(cols*rows,len(masks),h,w)\n",
    "            \n",
    "            masks_mean_motion = np.zeros_like(masks)\n",
    "            masks_mean_motion[masks > 240] = 1\n",
    "            masks_mean_motion = masks_mean_motion.mean((2,3))\n",
    "            \n",
    "            \n",
    "            for i in range(len(masks)):\n",
    "                m_r = masks_mean_motion[i].mean() \n",
    "                m_roi = masks_mean_roi[i].mean()\n",
    "                if(m_r >= min_r and m_roi >= min_roi):\n",
    "                    im = ties_to_image(imgs[i])\n",
    "                    mask = ties_to_image(masks[i])\n",
    "                    cv2.imwrite(out_dir+'/%d_input.jpg'%(iter),im)\n",
    "                    cv2.imwrite(out_dir+'/%d_mask.png'%(iter),mask)\n",
    "                    iter=iter+1\n",
    "\n",
    "            m_ties = imgs.reshape((-1,h,w,3))[masks_mean_motion.flatten()>=.97]\n",
    "            if(len(m_ties) > 0):\n",
    "                if not(motion_ties is None):\n",
    "                    motion_ties = np.concatenate((motion_ties,m_ties))\n",
    "                else:\n",
    "                    motion_ties = m_ties\n",
    "        if not (motion_ties is None):\n",
    "            for i in range(int(np.ceil(float(len(motion_ties))/50.))):\n",
    "                im = ties_to_image(motion_ties[i*50:min((i+1)*50,len(motion_ties))],5,10)\n",
    "                cv2.imwrite(out_dir+'/%d_motion.jpg'%(i),im)\n",
    "            print in_dir+' %d ties=%d motion=%d'%(batch_num,iter,len(motion_ties))\n",
    "        else:\n",
    "            print in_dir+' %d ties=%d motion=%d'%(batch_num,iter,0)\n"
   ]
  },
  {
   "cell_type": "code",
   "execution_count": 3,
   "metadata": {
    "collapsed": false,
    "scrolled": true
   },
   "outputs": [
    {
     "name": "stdout",
     "output_type": "stream",
     "text": [
      "../gmm_segmentation/dataset/badWeather/skating 11 ties=1049 motion=5138\n",
      "../gmm_segmentation/dataset/badWeather/snowFall 21 ties=3616 motion=4204\n",
      "../gmm_segmentation/dataset/badWeather/wetSnow 21 ties=0 motion=0\n",
      "../gmm_segmentation/dataset/baseline/office 4 ties=318 motion=115\n",
      "../gmm_segmentation/dataset/baseline/pedestrians 2 ties=227 motion=0\n",
      "../gmm_segmentation/dataset/baseline/PETS2006 2 ties=1156 motion=432\n",
      "../gmm_segmentation/dataset/cameraJitter/boulevard 2 ties=0 motion=0\n",
      "../gmm_segmentation/dataset/cameraJitter/sidewalk 2 ties=0 motion=0\n",
      "../gmm_segmentation/dataset/cameraJitter/traffic 1 ties=118 motion=812\n",
      "../gmm_segmentation/dataset/dynamicBackground/canoe 0 ties=51 motion=0\n",
      "../gmm_segmentation/dataset/dynamicBackground/fall 10 ties=3627 motion=11867\n",
      "../gmm_segmentation/dataset/dynamicBackground/fountain01 2 ties=326 motion=0\n",
      "../gmm_segmentation/dataset/dynamicBackground/fountain02 2 ties=351 motion=0\n",
      "../gmm_segmentation/dataset/dynamicBackground/overpass 6 ties=434 motion=294\n",
      "../gmm_segmentation/dataset/intermittentObjectMotion/parking 6 ties=0 motion=0\n",
      "../gmm_segmentation/dataset/intermittentObjectMotion/sofa 7 ties=482 motion=46\n",
      "../gmm_segmentation/dataset/intermittentObjectMotion/streetLight 7 ties=0 motion=0\n",
      "../gmm_segmentation/dataset/intermittentObjectMotion/tramstop 7 ties=0 motion=0\n",
      "../gmm_segmentation/dataset/intermittentObjectMotion/winterDriveway 7 ties=0 motion=0\n",
      "../gmm_segmentation/dataset/lowFramerate/tramCrossroad_1fps 7 ties=0 motion=0\n",
      "../gmm_segmentation/dataset/lowFramerate/tunnelExit_0_35fps 7 ties=0 motion=0\n",
      "../gmm_segmentation/dataset/lowFramerate/turnpike_0_5fps 1 ties=48 motion=60\n",
      "../gmm_segmentation/dataset/nightVideos/busyBoulvard 1 ties=0 motion=0\n",
      "../gmm_segmentation/dataset/nightVideos/fluidHighway 1 ties=0 motion=0\n",
      "../gmm_segmentation/dataset/nightVideos/streetCornerAtNight 16 ties=959 motion=263\n",
      "../gmm_segmentation/dataset/nightVideos/tramStation 16 ties=0 motion=0\n",
      "../gmm_segmentation/dataset/nightVideos/winterStreet 16 ties=0 motion=0\n",
      "../gmm_segmentation/dataset/PTZ/intermittentPan 7 ties=370 motion=454\n",
      "../gmm_segmentation/dataset/PTZ/twoPositionPTZCam 7 ties=0 motion=0\n",
      "../gmm_segmentation/dataset/PTZ/zoomInZoomOut 1 ties=68 motion=0\n",
      "../gmm_segmentation/dataset/shadow/bungalows 1 ties=0 motion=0\n",
      "../gmm_segmentation/dataset/shadow/busStation 2 ties=181 motion=20\n",
      "../gmm_segmentation/dataset/shadow/copyMachine 10 ties=3441 motion=25989\n",
      "../gmm_segmentation/dataset/shadow/cubicle 23 ties=1742 motion=1777\n",
      "../gmm_segmentation/dataset/shadow/peopleInShade 2 ties=200 motion=1336\n",
      "../gmm_segmentation/dataset/thermal/diningRoom 10 ties=675 motion=4509\n",
      "../gmm_segmentation/dataset/thermal/lakeSide 20 ties=1309 motion=23\n",
      "../gmm_segmentation/dataset/thermal/library 15 ties=858 motion=19177\n",
      "../gmm_segmentation/dataset/thermal/park 0 ties=99 motion=30\n",
      "../gmm_segmentation/dataset/turbulence/turbulence1 9 ties=1623 motion=4\n",
      "../gmm_segmentation/dataset/turbulence/turbulence2 14 ties=1260 motion=0\n",
      "../gmm_segmentation/dataset/turbulence/turbulence3 1 326\r"
     ]
    },
    {
     "name": "stderr",
     "output_type": "stream",
     "text": [
      "ERROR:root:Internal Python error in the inspect module.\n",
      "Below is the traceback from this internal error.\n",
      "\n"
     ]
    },
    {
     "name": "stdout",
     "output_type": "stream",
     "text": [
      "Traceback (most recent call last):\n",
      "  File \"/home/nvvaulin/.local/lib/python2.7/site-packages/IPython/core/ultratb.py\", line 1132, in get_records\n",
      "    return _fixed_getinnerframes(etb, number_of_lines_of_context, tb_offset)\n",
      "  File \"/home/nvvaulin/.local/lib/python2.7/site-packages/IPython/core/ultratb.py\", line 313, in wrapped\n",
      "    return f(*args, **kwargs)\n",
      "  File \"/home/nvvaulin/.local/lib/python2.7/site-packages/IPython/core/ultratb.py\", line 358, in _fixed_getinnerframes\n",
      "    records = fix_frame_records_filenames(inspect.getinnerframes(etb, context))\n",
      "  File \"/usr/lib/python2.7/inspect.py\", line 1049, in getinnerframes\n",
      "    framelist.append((tb.tb_frame,) + getframeinfo(tb, context))\n",
      "  File \"/usr/lib/python2.7/inspect.py\", line 1009, in getframeinfo\n",
      "    filename = getsourcefile(frame) or getfile(frame)\n",
      "  File \"/usr/lib/python2.7/inspect.py\", line 454, in getsourcefile\n",
      "    if hasattr(getmodule(object, filename), '__loader__'):\n",
      "  File \"/usr/lib/python2.7/inspect.py\", line 500, in getmodule\n",
      "    os.path.realpath(f)] = module.__name__\n",
      "  File \"/usr/lib/python2.7/posixpath.py\", line 375, in realpath\n",
      "    path, ok = _joinrealpath('', filename, {})\n",
      "  File \"/usr/lib/python2.7/posixpath.py\", line 400, in _joinrealpath\n",
      "    if not islink(newpath):\n",
      "  File \"/usr/lib/python2.7/posixpath.py\", line 135, in islink\n",
      "    st = os.lstat(path)\n",
      "KeyboardInterrupt\n"
     ]
    },
    {
     "ename": "IndexError",
     "evalue": "string index out of range",
     "output_type": "error",
     "traceback": [
      "\u001b[0;31m---------------------------------------------------------------------------\u001b[0m",
      "\u001b[0;31mIndexError\u001b[0m                                Traceback (most recent call last)",
      "\u001b[0;32m/home/nvvaulin/.local/lib/python2.7/site-packages/IPython/core/interactiveshell.pyc\u001b[0m in \u001b[0;36mrun_code\u001b[0;34m(self, code_obj, result)\u001b[0m\n\u001b[1;32m   2896\u001b[0m             \u001b[0;32mif\u001b[0m \u001b[0mresult\u001b[0m \u001b[0;32mis\u001b[0m \u001b[0;32mnot\u001b[0m \u001b[0mNone\u001b[0m\u001b[0;34m:\u001b[0m\u001b[0;34m\u001b[0m\u001b[0m\n\u001b[1;32m   2897\u001b[0m                 \u001b[0mresult\u001b[0m\u001b[0;34m.\u001b[0m\u001b[0merror_in_exec\u001b[0m \u001b[0;34m=\u001b[0m \u001b[0msys\u001b[0m\u001b[0;34m.\u001b[0m\u001b[0mexc_info\u001b[0m\u001b[0;34m(\u001b[0m\u001b[0;34m)\u001b[0m\u001b[0;34m[\u001b[0m\u001b[0;36m1\u001b[0m\u001b[0;34m]\u001b[0m\u001b[0;34m\u001b[0m\u001b[0m\n\u001b[0;32m-> 2898\u001b[0;31m             \u001b[0mself\u001b[0m\u001b[0;34m.\u001b[0m\u001b[0mshowtraceback\u001b[0m\u001b[0;34m(\u001b[0m\u001b[0;34m)\u001b[0m\u001b[0;34m\u001b[0m\u001b[0m\n\u001b[0m\u001b[1;32m   2899\u001b[0m         \u001b[0;32melse\u001b[0m\u001b[0;34m:\u001b[0m\u001b[0;34m\u001b[0m\u001b[0m\n\u001b[1;32m   2900\u001b[0m             \u001b[0moutflag\u001b[0m \u001b[0;34m=\u001b[0m \u001b[0;36m0\u001b[0m\u001b[0;34m\u001b[0m\u001b[0m\n",
      "\u001b[0;32m/home/nvvaulin/.local/lib/python2.7/site-packages/IPython/core/interactiveshell.pyc\u001b[0m in \u001b[0;36mshowtraceback\u001b[0;34m(self, exc_tuple, filename, tb_offset, exception_only)\u001b[0m\n\u001b[1;32m   1822\u001b[0m                     \u001b[0;32mexcept\u001b[0m \u001b[0mException\u001b[0m\u001b[0;34m:\u001b[0m\u001b[0;34m\u001b[0m\u001b[0m\n\u001b[1;32m   1823\u001b[0m                         stb = self.InteractiveTB.structured_traceback(etype,\n\u001b[0;32m-> 1824\u001b[0;31m                                             value, tb, tb_offset=tb_offset)\n\u001b[0m\u001b[1;32m   1825\u001b[0m \u001b[0;34m\u001b[0m\u001b[0m\n\u001b[1;32m   1826\u001b[0m                     \u001b[0mself\u001b[0m\u001b[0;34m.\u001b[0m\u001b[0m_showtraceback\u001b[0m\u001b[0;34m(\u001b[0m\u001b[0metype\u001b[0m\u001b[0;34m,\u001b[0m \u001b[0mvalue\u001b[0m\u001b[0;34m,\u001b[0m \u001b[0mstb\u001b[0m\u001b[0;34m)\u001b[0m\u001b[0;34m\u001b[0m\u001b[0m\n",
      "\u001b[0;32m/home/nvvaulin/.local/lib/python2.7/site-packages/IPython/core/ultratb.pyc\u001b[0m in \u001b[0;36mstructured_traceback\u001b[0;34m(self, etype, value, tb, tb_offset, number_of_lines_of_context)\u001b[0m\n\u001b[1;32m   1404\u001b[0m         \u001b[0mself\u001b[0m\u001b[0;34m.\u001b[0m\u001b[0mtb\u001b[0m \u001b[0;34m=\u001b[0m \u001b[0mtb\u001b[0m\u001b[0;34m\u001b[0m\u001b[0m\n\u001b[1;32m   1405\u001b[0m         return FormattedTB.structured_traceback(\n\u001b[0;32m-> 1406\u001b[0;31m             self, etype, value, tb, tb_offset, number_of_lines_of_context)\n\u001b[0m\u001b[1;32m   1407\u001b[0m \u001b[0;34m\u001b[0m\u001b[0m\n\u001b[1;32m   1408\u001b[0m \u001b[0;34m\u001b[0m\u001b[0m\n",
      "\u001b[0;32m/home/nvvaulin/.local/lib/python2.7/site-packages/IPython/core/ultratb.pyc\u001b[0m in \u001b[0;36mstructured_traceback\u001b[0;34m(self, etype, value, tb, tb_offset, number_of_lines_of_context)\u001b[0m\n\u001b[1;32m   1312\u001b[0m             \u001b[0;31m# Verbose modes need a full traceback\u001b[0m\u001b[0;34m\u001b[0m\u001b[0;34m\u001b[0m\u001b[0m\n\u001b[1;32m   1313\u001b[0m             return VerboseTB.structured_traceback(\n\u001b[0;32m-> 1314\u001b[0;31m                 \u001b[0mself\u001b[0m\u001b[0;34m,\u001b[0m \u001b[0metype\u001b[0m\u001b[0;34m,\u001b[0m \u001b[0mvalue\u001b[0m\u001b[0;34m,\u001b[0m \u001b[0mtb\u001b[0m\u001b[0;34m,\u001b[0m \u001b[0mtb_offset\u001b[0m\u001b[0;34m,\u001b[0m \u001b[0mnumber_of_lines_of_context\u001b[0m\u001b[0;34m\u001b[0m\u001b[0m\n\u001b[0m\u001b[1;32m   1315\u001b[0m             )\n\u001b[1;32m   1316\u001b[0m         \u001b[0;32melse\u001b[0m\u001b[0;34m:\u001b[0m\u001b[0;34m\u001b[0m\u001b[0m\n",
      "\u001b[0;32m/home/nvvaulin/.local/lib/python2.7/site-packages/IPython/core/ultratb.pyc\u001b[0m in \u001b[0;36mstructured_traceback\u001b[0;34m(self, etype, evalue, etb, tb_offset, number_of_lines_of_context)\u001b[0m\n\u001b[1;32m   1196\u001b[0m                 \u001b[0mstructured_traceback_parts\u001b[0m \u001b[0;34m+=\u001b[0m \u001b[0mformatted_exception\u001b[0m\u001b[0;34m\u001b[0m\u001b[0m\n\u001b[1;32m   1197\u001b[0m         \u001b[0;32melse\u001b[0m\u001b[0;34m:\u001b[0m\u001b[0;34m\u001b[0m\u001b[0m\n\u001b[0;32m-> 1198\u001b[0;31m             \u001b[0mstructured_traceback_parts\u001b[0m \u001b[0;34m+=\u001b[0m \u001b[0mformatted_exception\u001b[0m\u001b[0;34m[\u001b[0m\u001b[0;36m0\u001b[0m\u001b[0;34m]\u001b[0m\u001b[0;34m\u001b[0m\u001b[0m\n\u001b[0m\u001b[1;32m   1199\u001b[0m \u001b[0;34m\u001b[0m\u001b[0m\n\u001b[1;32m   1200\u001b[0m         \u001b[0;32mreturn\u001b[0m \u001b[0mstructured_traceback_parts\u001b[0m\u001b[0;34m\u001b[0m\u001b[0m\n",
      "\u001b[0;31mIndexError\u001b[0m: string index out of range"
     ]
    }
   ],
   "source": [
    "generate_ties('../gmm_segmentation/dataset','train_ties1',256,32,-1.,0.95)"
   ]
  },
  {
   "cell_type": "code",
   "execution_count": 15,
   "metadata": {
    "collapsed": false
   },
   "outputs": [
    {
     "name": "stdout",
     "output_type": "stream",
     "text": [
      "../gmm_segmentation/test_dataset/badWeather/blizzard 26 ties=591 motion=3927\n",
      "../gmm_segmentation/test_dataset/baseline/highway 5 ties=64 motion=559\n",
      "../gmm_segmentation/test_dataset/cameraJitter/badminton 3 ties=0 motion=220\n",
      "../gmm_segmentation/test_dataset/dynamicBackground/boats 30 ties=6 motion=0\n",
      "../gmm_segmentation/test_dataset/intermittentObjectMotion/abandonedBox 16 ties=1 motion=0\n",
      "../gmm_segmentation/test_dataset/lowFramerate/port_0_17fps 10 ties=2 motion=0\n",
      "../gmm_segmentation/test_dataset/nightVideos/bridgeEntry 8 ties=11 motion=0\n",
      "../gmm_segmentation/test_dataset/PTZ/continuousPan 5 ties=171 motion=759\n",
      "../gmm_segmentation/test_dataset/shadow/backdoor 6 ties=78 motion=37\n",
      "../gmm_segmentation/test_dataset/thermal/corridor 20 ties=246 motion=3143\n",
      "../gmm_segmentation/test_dataset/turbulence/turbulence0 18 ties=103 motion=0\n"
     ]
    }
   ],
   "source": [
    "generate_ties('../gmm_segmentation/test_dataset','test_ties',256,32,0.01,0.95)"
   ]
  },
  {
   "cell_type": "code",
   "execution_count": 5,
   "metadata": {
    "collapsed": true
   },
   "outputs": [],
   "source": [
    "import shutil"
   ]
  },
  {
   "cell_type": "code",
   "execution_count": 7,
   "metadata": {
    "collapsed": false
   },
   "outputs": [
    {
     "name": "stdout",
     "output_type": "stream",
     "text": [
      "('train_ties1/badWeather/skating', 2201)\n",
      "('train_ties1/badWeather/snowFall', 7317)\n",
      "('train_ties1/baseline/office', 639)\n",
      "('train_ties1/baseline/PETS2006', 2321)\n",
      "('train_ties1/cameraJitter/traffic', 253)\n",
      "('train_ties1/dynamicBackground/fall', 7492)\n",
      "('train_ties1/dynamicBackground/overpass', 874)\n",
      "('train_ties1/intermittentObjectMotion/sofa', 965)\n",
      "('train_ties1/lowFramerate/turnpike_0_5fps', 98)\n",
      "('train_ties1/nightVideos/streetCornerAtNight', 1924)\n",
      "('train_ties1/PTZ/intermittentPan', 750)\n",
      "('train_ties1/shadow/busStation', 363)\n",
      "('train_ties1/shadow/copyMachine', 7402)\n",
      "('train_ties1/shadow/cubicle', 3520)\n",
      "('train_ties1/shadow/peopleInShade', 427)\n",
      "('train_ties1/thermal/diningRoom', 1441)\n",
      "('train_ties1/thermal/lakeSide', 2619)\n",
      "('train_ties1/thermal/library', 2100)\n",
      "('train_ties1/thermal/park', 199)\n",
      "('train_ties1/turbulence/turbulence1', 3247)\n"
     ]
    }
   ],
   "source": [
    "def purge(dir):\n",
    "    for i in os.listdir(dir):\n",
    "        for j in os.listdir(dir+'/'+i):\n",
    "            p = dir+'/'+i+'/'+j\n",
    "            l = [k[:-4] for k in os.listdir(p)]\n",
    "            if( not('0_motion' in l)):\n",
    "                print(p,'no motion ',len(l))\n",
    "                shutil.rmtree(p)\n",
    "            else:\n",
    "                print(p,len(l))\n",
    "purge('train_ties1')          "
   ]
  },
  {
   "cell_type": "code",
   "execution_count": null,
   "metadata": {
    "collapsed": true
   },
   "outputs": [],
   "source": []
  }
 ],
 "metadata": {
  "kernelspec": {
   "display_name": "Python 2",
   "language": "python",
   "name": "python2"
  },
  "language_info": {
   "codemirror_mode": {
    "name": "ipython",
    "version": 2
   },
   "file_extension": ".py",
   "mimetype": "text/x-python",
   "name": "python",
   "nbconvert_exporter": "python",
   "pygments_lexer": "ipython2",
   "version": "2.7.12"
  }
 },
 "nbformat": 4,
 "nbformat_minor": 2
}
