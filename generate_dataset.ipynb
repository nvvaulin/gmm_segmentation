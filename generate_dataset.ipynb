{
 "cells": [
  {
   "cell_type": "code",
   "execution_count": 1,
   "metadata": {
    "collapsed": true
   },
   "outputs": [],
   "source": [
    "import os\n",
    "import pandas as pd\n",
    "import cv2\n",
    "import numpy as np\n",
    "import matplotlib.pyplot as plt\n",
    "from dataset_tools import *"
   ]
  },
  {
   "cell_type": "code",
   "execution_count": 14,
   "metadata": {
    "collapsed": false
   },
   "outputs": [],
   "source": [
    "def generate_ties(dataset,out_dir,length,tie_size,min_r=0,min_roi = 0.5):\n",
    "    for in_dir,out_dir in iterate_folders(dataset,out_dir):\n",
    "        iter = 0\n",
    "        motion_ties = None\n",
    "        for batch_num,(imgs,masks) in enumerate(iterate_bathced(in_dir,length)):\n",
    "            print in_dir+' %d %d\\r'%(batch_num,iter),\n",
    "            h,w = tie_size,tie_size\n",
    "            cols = imgs.shape[2]//w\n",
    "            rows = imgs.shape[1]//h\n",
    "            imgs = imgs[:,:h*rows,:w*cols,:]\n",
    "            masks = masks[:,:h*rows,:w*cols]\n",
    "            imgs = np.transpose(imgs.reshape((-1,rows,h,cols,w,3)),(1,3,0,2,4,5)).reshape(cols*rows,len(imgs),h,w,3)\n",
    "            masks = np.transpose(masks.reshape((-1,rows,h,cols,w)),(1,3,0,2,4)).reshape(cols*rows,len(masks),h,w)\n",
    "            \n",
    "            masks_mean_motion = np.zeros_like(masks)\n",
    "            masks_mean_motion[masks > 240] = 1\n",
    "            masks_mean_motion = masks_mean_motion.mean((2,3))\n",
    "            \n",
    "            masks_mean_roi = np.zeros_like(masks)\n",
    "            masks_mean_roi[(masks > 240)|(masks < 30)] = 1\n",
    "            masks_mean_roi = masks_mean_roi.mean((2,3))\n",
    "            \n",
    "            for i in range(len(masks)):\n",
    "                m_r = masks_mean_motion[i].mean() \n",
    "                m_roi = masks_mean_roi[i].mean()\n",
    "                if(m_r >= min_r and m_roi >= min_roi):\n",
    "                    im = ties_to_image(imgs[i])\n",
    "                    mask = ties_to_image(masks[i])\n",
    "                    cv2.imwrite(out_dir+'/%d_input.jpg'%(iter),im)\n",
    "                    cv2.imwrite(out_dir+'/%d_mask.png'%(iter),mask)\n",
    "                    iter=iter+1\n",
    "\n",
    "            m_ties = imgs.reshape((-1,h,w,3))[masks_mean_motion.flatten()>=.97]\n",
    "            if(len(m_ties) > 0):\n",
    "                if not(motion_ties is None):\n",
    "                    motion_ties = np.concatenate((motion_ties,m_ties))\n",
    "                else:\n",
    "                    motion_ties = m_ties\n",
    "        if not (motion_ties is None):\n",
    "            for i in range(int(np.ceil(float(len(motion_ties))/50.))):\n",
    "                im = ties_to_image(motion_ties[i*50:min((i+1)*50,len(motion_ties))],5,10)\n",
    "                cv2.imwrite(out_dir+'/%d_motion.jpg'%(i),im)\n",
    "            print in_dir+' %d ties=%d motion=%d'%(batch_num,iter,len(motion_ties))\n",
    "        else:\n",
    "            print in_dir+' %d ties=%d motion=%d'%(batch_num,iter,0)\n"
   ]
  },
  {
   "cell_type": "code",
   "execution_count": 13,
   "metadata": {
    "collapsed": false
   },
   "outputs": [
    {
     "name": "stdout",
     "output_type": "stream",
     "text": [
      "../gmm_segmentation/dataset/baseline/pedestrians 3 ties=64 motion=0\n",
      "../gmm_segmentation/dataset/baseline/PETS2006 3 ties=238 motion=432\n",
      "../gmm_segmentation/dataset/cameraJitter/boulevard 8 ties=144 motion=1470\n",
      "../gmm_segmentation/dataset/cameraJitter/sidewalk 3 ties=0 motion=0\n",
      "../gmm_segmentation/dataset/cameraJitter/traffic 5 ties=76 motion=1260\n",
      "../gmm_segmentation/dataset/dynamicBackground/canoe 3 ties=0 motion=0\n",
      "../gmm_segmentation/dataset/dynamicBackground/fall 14 ties=690 motion=11867\n",
      "../gmm_segmentation/dataset/dynamicBackground/fountain01 3 ties=5 motion=0\n",
      "../gmm_segmentation/dataset/dynamicBackground/fountain02 4 ties=31 motion=0\n",
      "../gmm_segmentation/dataset/dynamicBackground/overpass 10 ties=28 motion=294\n",
      "../gmm_segmentation/dataset/intermittentObjectMotion/parking 8 ties=0 motion=0\n",
      "../gmm_segmentation/dataset/intermittentObjectMotion/sofa 9 ties=190 motion=46\n",
      "../gmm_segmentation/dataset/intermittentObjectMotion/streetLight 11 ties=0 motion=0\n",
      "../gmm_segmentation/dataset/intermittentObjectMotion/tramstop 11 ties=4 motion=0\n",
      "../gmm_segmentation/dataset/intermittentObjectMotion/winterDriveway 8 ties=6 motion=44\n",
      "../gmm_segmentation/dataset/lowFramerate/tramCrossroad_1fps 2 ties=0 motion=18\n",
      "../gmm_segmentation/dataset/lowFramerate/tunnelExit_0_35fps 14 ties=137 motion=1323\n",
      "../gmm_segmentation/dataset/lowFramerate/turnpike_0_5fps 4 ties=0 motion=65\n",
      "../gmm_segmentation/dataset/nightVideos/busyBoulvard 9 ties=34 motion=75\n",
      "../gmm_segmentation/dataset/nightVideos/fluidHighway 4 ties=29 motion=294\n",
      "../gmm_segmentation/dataset/nightVideos/streetCornerAtNight 19 ties=133 motion=263\n",
      "../gmm_segmentation/dataset/nightVideos/tramStation 10 ties=86 motion=104\n",
      "../gmm_segmentation/dataset/nightVideos/winterStreet 5 ties=73 motion=393\n",
      "../gmm_segmentation/dataset/PTZ/intermittentPan 12 ties=0 motion=454\n",
      "../gmm_segmentation/dataset/PTZ/twoPositionPTZCam 7 ties=0 motion=125\n",
      "../gmm_segmentation/dataset/PTZ/zoomInZoomOut 3 ties=2 motion=0\n",
      "../gmm_segmentation/dataset/shadow/bungalows 5 ties=120 motion=2287\n",
      "../gmm_segmentation/dataset/shadow/busStation 3 ties=9 motion=13\n",
      "../gmm_segmentation/dataset/shadow/copyMachine 12 ties=1201 motion=26060\n",
      "../gmm_segmentation/dataset/shadow/cubicle 27 ties=268 motion=1775\n",
      "../gmm_segmentation/dataset/shadow/peopleInShade 3 ties=103 motion=1336\n",
      "../gmm_segmentation/dataset/thermal/diningRoom 13 ties=131 motion=4509\n",
      "../gmm_segmentation/dataset/thermal/lakeSide 24 ties=52 motion=23\n",
      "../gmm_segmentation/dataset/thermal/library 18 ties=267 motion=19177\n",
      "../gmm_segmentation/dataset/thermal/park 1 ties=44 motion=30\n",
      "../gmm_segmentation/dataset/turbulence/turbulence1 14 ties=81 motion=4\n",
      "../gmm_segmentation/dataset/turbulence/turbulence2 16 ties=1 motion=0\n",
      "../gmm_segmentation/dataset/turbulence/turbulence3 7 ties=50 motion=1524\n"
     ]
    }
   ],
   "source": [
    "generate_ties('../gmm_segmentation/dataset','train_ties',256,32,0.01,0.95)"
   ]
  },
  {
   "cell_type": "code",
   "execution_count": 15,
   "metadata": {
    "collapsed": false
   },
   "outputs": [
    {
     "name": "stdout",
     "output_type": "stream",
     "text": [
      "../gmm_segmentation/test_dataset/badWeather/blizzard 26 ties=591 motion=3927\n",
      "../gmm_segmentation/test_dataset/baseline/highway 5 ties=64 motion=559\n",
      "../gmm_segmentation/test_dataset/cameraJitter/badminton 3 ties=0 motion=220\n",
      "../gmm_segmentation/test_dataset/dynamicBackground/boats 30 ties=6 motion=0\n",
      "../gmm_segmentation/test_dataset/intermittentObjectMotion/abandonedBox 16 ties=1 motion=0\n",
      "../gmm_segmentation/test_dataset/lowFramerate/port_0_17fps 10 ties=2 motion=0\n",
      "../gmm_segmentation/test_dataset/nightVideos/bridgeEntry 8 ties=11 motion=0\n",
      "../gmm_segmentation/test_dataset/PTZ/continuousPan 5 ties=171 motion=759\n",
      "../gmm_segmentation/test_dataset/shadow/backdoor 6 ties=78 motion=37\n",
      "../gmm_segmentation/test_dataset/thermal/corridor 20 ties=246 motion=3143\n",
      "../gmm_segmentation/test_dataset/turbulence/turbulence0 18 ties=103 motion=0\n"
     ]
    }
   ],
   "source": [
    "generate_ties('../gmm_segmentation/test_dataset','test_ties',256,32,0.01,0.95)"
   ]
  },
  {
   "cell_type": "code",
   "execution_count": null,
   "metadata": {
    "collapsed": true
   },
   "outputs": [],
   "source": []
  }
 ],
 "metadata": {
  "kernelspec": {
   "display_name": "Python 2",
   "language": "python",
   "name": "python2"
  },
  "language_info": {
   "codemirror_mode": {
    "name": "ipython",
    "version": 2
   },
   "file_extension": ".py",
   "mimetype": "text/x-python",
   "name": "python",
   "nbconvert_exporter": "python",
   "pygments_lexer": "ipython2",
   "version": "2.7.12"
  }
 },
 "nbformat": 4,
 "nbformat_minor": 2
}
